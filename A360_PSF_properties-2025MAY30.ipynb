{
 "cells": [
  {
   "cell_type": "markdown",
   "id": "a3cb3c0d-88be-4273-acd2-b97b2b0211fd",
   "metadata": {
    "execution": {
     "iopub.execute_input": "2025-03-27T08:46:58.391190Z",
     "iopub.status.busy": "2025-03-27T08:46:58.390706Z",
     "iopub.status.idle": "2025-03-27T08:46:58.396363Z",
     "shell.execute_reply": "2025-03-27T08:46:58.395897Z",
     "shell.execute_reply.started": "2025-03-27T08:46:58.391174Z"
    }
   },
   "source": [
    "# Check PSF correction in A360 field\n",
    "\n",
    "Contact author: Céline Combet; with inputs of many during March 26 telecon (Anthony, Ian, Miranda, Shenming,...)\\\n",
    "LSST Science Piplines version: Weekly 2025_09\\\n",
    "Container Size: large\n",
    "\n",
    "This notebook aims at check the PSF behaviour and correction in A360 field, that we use to perform the WL analysis. The main steps are\n",
    "\n",
    "- Loading the relevant stars from the object catalogs (all tracts and patches needed) using the butler\n",
    "- Checking out the size of the PSF accross the field\n",
    "- Computing the ellipticities of stars and corresponding PSF model and make the whisker plots to check out the residuals. \n",
    "\n",
    "NB: All is done in x-y coordinates. We were puzzled how the radec selection of the stars in the fields translated into x-y (see 'Check location of PSF stars section below')\n",
    "\n",
    "NB: Check out the [PSF DP0.2 tutorial](https://github.com/lsst/tutorial-notebooks/blob/main/DP0.2/12b_PSF_Science_Demo.ipynb) for more PSF diagnostics \n",
    "\n",
    "Rho statistics: Andrés A. Plazas Malagón, using `analysis_tools` and reserved stars [5/30/3035]."
   ]
  },
  {
   "cell_type": "code",
   "execution_count": null,
   "id": "36eebb98-64fd-4840-b439-7e601f0aa0ac",
   "metadata": {},
   "outputs": [],
   "source": [
    "# general python packages\n",
    "import numpy as np\n",
    "import matplotlib.pyplot as plt\n",
    "import pandas as pd"
   ]
  },
  {
   "cell_type": "code",
   "execution_count": null,
   "id": "7e89df4c-23d3-4866-bc9d-78aecbcce935",
   "metadata": {},
   "outputs": [],
   "source": [
    "from lsst.daf.butler import Butler\n",
    "import lsst.geom as geom\n",
    "import lsst.afw.geom as afwGeom"
   ]
  },
  {
   "cell_type": "code",
   "execution_count": null,
   "id": "96e65676-d2ff-4091-8401-9d34b3034513",
   "metadata": {},
   "outputs": [],
   "source": [
    "repo = '/repo/main'\n",
    "#collection = 'LSSTComCam/runs/DRP/DP1/w_2025_08/DM-49029'\n",
    "#collection = 'LSSTComCam/runs/DRP/DP1/w_2025_09/DM-49235'\n",
    "collection = 'LSSTComCam/runs/DRP/DP1/v29_0_0_rc5/DM-49865'\n",
    "butler = Butler(repo, collections=collection)\n",
    "skymap = butler.get('skyMap', skymap='lsst_cells_v1')"
   ]
  },
  {
   "cell_type": "code",
   "execution_count": null,
   "id": "e34062ec-e8e2-487f-9a52-0c9da6b509fe",
   "metadata": {},
   "outputs": [],
   "source": [
    "version_str = collection.split('/')\n",
    "version = version_str[-2:][0]+'_'+version_str[-2:][1]\n",
    "version"
   ]
  },
  {
   "cell_type": "markdown",
   "id": "63482375-69a6-4201-96da-9550357844ee",
   "metadata": {},
   "source": [
    "## Load the relevant catalogs\n",
    "For PSF studies, we need to look at stars\n",
    "### Find all tracts/patches to load"
   ]
  },
  {
   "cell_type": "code",
   "execution_count": null,
   "id": "0eb48cd7-9d90-4d8c-ba45-a058f5f1bc24",
   "metadata": {},
   "outputs": [],
   "source": [
    "# Position of the BCG for A360\n",
    "ra_bcg = 37.862\n",
    "dec_bcg = 6.98\n",
    "\n",
    "# Looking for all patches in delta deg region around it\n",
    "delta = 0.5\n",
    "center = geom.SpherePoint(ra_bcg, dec_bcg, geom.degrees)\n",
    "ra_min, ra_max = ra_bcg - delta, ra_bcg + delta\n",
    "dec_min, dec_max = dec_bcg - delta, dec_bcg + delta\n",
    "\n",
    "ra_range = (ra_min, ra_max)\n",
    "dec_range = (dec_min, dec_max)\n",
    "radec = [geom.SpherePoint(ra_range[0], dec_range[0], geom.degrees),\n",
    "         geom.SpherePoint(ra_range[0], dec_range[1], geom.degrees),\n",
    "         geom.SpherePoint(ra_range[1], dec_range[0], geom.degrees),\n",
    "         geom.SpherePoint(ra_range[1], dec_range[1], geom.degrees)]\n",
    "\n",
    "tracts_and_patches = skymap.findTractPatchList(radec)\n",
    "\n",
    "tp_dict = {}\n",
    "for tract_num in np.arange(len(tracts_and_patches)):\n",
    "    tract_info = tracts_and_patches[tract_num][0]\n",
    "    tract_idx = tract_info.getId()\n",
    "    # All the patches around the cluster\n",
    "    patches = []\n",
    "    for i,patch in enumerate(tracts_and_patches[tract_num][1]):\n",
    "        patch_info = tracts_and_patches[tract_num][1][i]\n",
    "        patch_idx = patch_info.sequential_index\n",
    "        patches.append(patch_idx)\n",
    "    tp_dict.update({tract_idx:patches})\n",
    "#tp_dict"
   ]
  },
  {
   "cell_type": "markdown",
   "id": "c52c6ddd-058d-42c9-8ef3-fe7934c1dc2c",
   "metadata": {
    "execution": {
     "iopub.execute_input": "2025-03-27T09:03:59.873500Z",
     "iopub.status.busy": "2025-03-27T09:03:59.873151Z",
     "iopub.status.idle": "2025-03-27T09:03:59.876023Z",
     "shell.execute_reply": "2025-03-27T09:03:59.875529Z",
     "shell.execute_reply.started": "2025-03-27T09:03:59.873483Z"
    }
   },
   "source": [
    "### Load quantities with the cuts needed to get PSF stars, etc. "
   ]
  },
  {
   "cell_type": "code",
   "execution_count": null,
   "id": "5e5073c6-c885-4687-9065-d598a86e5b7a",
   "metadata": {},
   "outputs": [],
   "source": [
    "# Get the object catlaog of these patches\n",
    "if 'v29' in version:\n",
    "    datasetType = 'object_patch'\n",
    "else:\n",
    "    datasetType = 'objectTable'\n",
    " \n",
    "#datasetType = 'deepCoadd_obj'\n",
    "merged_cat_reserved = pd.DataFrame()\n",
    "merged_cat_used = pd.DataFrame()\n",
    "merged_cat_all = pd.DataFrame()\n",
    "\n",
    "for tract in tp_dict.keys():\n",
    "    print(f'Loading objects from tract {tract}, patches:{tp_dict[tract]}')\n",
    "    for patch in tp_dict[tract]:\n",
    "#        print(patch)\n",
    "        dataId = {'tract': tract, 'patch' : patch ,'skymap':'lsst_cells_v1'}\n",
    "        obj_cat = butler.get(datasetType, dataId=dataId)\n",
    "        if datasetType == 'object_patch': # new naming convention in v29_0_0_rc5, and obj_cat is now an astropy table. \n",
    "            obj_cat = obj_cat.to_pandas() # convert to pandas to leave the rest of the code unchanged\n",
    "\n",
    "        # Stars used for the PSF modeling\n",
    "        filt = obj_cat['detect_isPrimary'] == True\n",
    "        filt &= obj_cat['refExtendedness'] == 0.0 # keep stars only\n",
    "        filt &= obj_cat['i_calib_psf_used'] == True # that were used to build the psf model\n",
    "        filt &= obj_cat['i_pixelFlags_inexact_psfCenter'] == False # To avoid objects with discontinuous PSF (due to edges)\n",
    "        filt &= obj_cat['i_calibFlux'] > 360 # nJy, be bright\n",
    "        merged_cat_used = pd.concat([merged_cat_used, obj_cat[filt]], ignore_index=True)\n",
    "\n",
    "        # Stars \"reserved\" to check the PSF modeling\n",
    "        filt = obj_cat['detect_isPrimary'] == True\n",
    "        filt &= obj_cat['refExtendedness'] == 0.0\n",
    "        filt &= obj_cat['i_calib_psf_reserved'] == True # not used for the psf model\n",
    "        filt &= obj_cat['i_pixelFlags_inexact_psfCenter']==False\n",
    "        merged_cat_reserved = pd.concat([merged_cat_reserved, obj_cat[filt]], ignore_index=True)\n",
    "\n",
    "        # All extended objects (to have more locations where to look at the PSF model)\n",
    "        filt = obj_cat['detect_isPrimary']==True\n",
    "        filt &= obj_cat['refExtendedness'] == 1.0\n",
    "        merged_cat_all = pd.concat([merged_cat_all, obj_cat[filt]], ignore_index=True)\n",
    "        "
   ]
  },
  {
   "cell_type": "markdown",
   "id": "c28ea1af-6e13-476d-87b6-2480ae4333df",
   "metadata": {
    "execution": {
     "iopub.execute_input": "2025-03-27T09:04:51.017874Z",
     "iopub.status.busy": "2025-03-27T09:04:51.017557Z",
     "iopub.status.idle": "2025-03-27T09:04:51.020519Z",
     "shell.execute_reply": "2025-03-27T09:04:51.020066Z",
     "shell.execute_reply.started": "2025-03-27T09:04:51.017859Z"
    }
   },
   "source": [
    "### Check out the location of the PSF stars, in (ra, dec) and (x,y) coordinates, colored by track number - Reason for the pattern/gap in (x,y)?\n",
    "\n",
    "The BCG and 0.5 deg field are highlighted in the (ra,dec) plot"
   ]
  },
  {
   "cell_type": "code",
   "execution_count": null,
   "id": "66f4cda2-057d-414c-9b81-38ee70a1bae9",
   "metadata": {},
   "outputs": [],
   "source": [
    "from matplotlib.patches import Circle\n",
    "\n",
    "circle1 = Circle((ra_bcg, dec_bcg), 0.5, color='black', fill=False, linewidth=0.5)\n",
    "\n",
    "color = ['red', 'blue','green','magenta']\n",
    "\n",
    "fig, ax = plt.subplots(nrows=1, ncols=2, figsize=(10,5))\n",
    "for i,tract in enumerate(list(tp_dict.keys())):\n",
    "    filt = merged_cat_used['tract'] == tract\n",
    "    ax[0].scatter(merged_cat_used[filt]['coord_ra'], merged_cat_used[filt]['coord_dec'], \n",
    "                  c=color[i],  marker='.', s=2, label=f'tract = {tract}')    \n",
    "    ax[0].set_xlabel('ra [deg]')\n",
    "    ax[0].set_ylabel('dec [deg]')\n",
    "    ax[0].add_patch(circle1)\n",
    "\n",
    "for i,tract in enumerate(list(tp_dict.keys())):\n",
    "    filt = merged_cat_used['tract'] == tract\n",
    "    ax[1].scatter(merged_cat_used[filt]['i_centroid_x'], merged_cat_used[filt]['i_centroid_y'],  marker='.', s=2, c=color[i])\n",
    "ax[1].set_xlabel('i_centroid_x')\n",
    "ax[1].set_ylabel('i_centroid_y')\n",
    "fig.tight_layout()\n",
    "\n",
    "ax[0].scatter([ra_bcg], [dec_bcg], marker='+', s=100, c='black')\n",
    "ax[0].invert_xaxis()\n",
    "\n",
    "fig.legend(loc=9, markerscale=10)"
   ]
  },
  {
   "cell_type": "markdown",
   "id": "10867c00-51c1-4e39-8db1-50e89b5eac94",
   "metadata": {},
   "source": [
    "In (ra,dec), the stars cover the field and we can see which tract contribute to which area. In (x,y), we see a clear gap between the tracts. We do not understand where this is coming from (need to ask DM folks), but we can nontheless move on with the PSF charracterisation in the field."
   ]
  },
  {
   "cell_type": "markdown",
   "id": "28626ad9-31f0-45c1-8f0b-e626c578dcf7",
   "metadata": {
    "execution": {
     "iopub.execute_input": "2025-03-27T09:28:51.705965Z",
     "iopub.status.busy": "2025-03-27T09:28:51.705267Z",
     "iopub.status.idle": "2025-03-27T09:28:51.708029Z",
     "shell.execute_reply": "2025-03-27T09:28:51.707679Z",
     "shell.execute_reply.started": "2025-03-27T09:28:51.705949Z"
    }
   },
   "source": [
    "## PSF size variation across the field"
   ]
  },
  {
   "cell_type": "markdown",
   "id": "6e8f7f93-45db-453e-b47a-d6aa3d2f53f0",
   "metadata": {},
   "source": [
    "The `i_i{xx,xy,yy}PSF` quantities are the second moment of the PSF model for each object location in the catalog. The trace radius (PSF size) of the PSF is defined as\n",
    "$r_t = \\sqrt{(I_{xx} + I_{yy}/2)}$\n",
    "\n",
    "We look at the size of the PSF:\n",
    "- at the location of `used` stars (`merged_cat_used` catalog)\n",
    "- at the location of all extended objects (`merged_cat_all` catalog), to have a better coverage of the field and visualize PSF discontinutities, etc.\n"
   ]
  },
  {
   "cell_type": "code",
   "execution_count": null,
   "id": "92aed2aa-980f-4a44-a7f8-cbab3ff0372a",
   "metadata": {},
   "outputs": [],
   "source": [
    "size = np.sqrt((merged_cat_used['i_ixxPSF'] + merged_cat_used['i_iyyPSF']) / 2)\n",
    "size_all = np.sqrt((merged_cat_all['i_ixxPSF'] + merged_cat_all['i_iyyPSF']) / 2) # at all extended objects locations"
   ]
  },
  {
   "cell_type": "code",
   "execution_count": null,
   "id": "3b046a41-2002-430a-98e4-588730b4e25a",
   "metadata": {},
   "outputs": [],
   "source": [
    "from matplotlib.patches import Circle\n",
    "\n",
    "ra, dec =  merged_cat_used['coord_ra'], merged_cat_used['coord_dec']\n",
    "\n",
    "fig, ax = plt.subplots(nrows=1, ncols=2, figsize=(15,5))\n",
    "\n",
    "scatter_plot1 = ax[0].scatter(ra, dec, c=size, s=4, cmap='viridis', marker='o')\n",
    "circle1 = Circle((ra_bcg, dec_bcg), 0.5, color='orange', fill=False, linewidth=1, \n",
    "                label='0.5 deg field around BCG')\n",
    "\n",
    "ax[0].scatter([ra_bcg], [dec_bcg], marker='+', s=100, c='orange')\n",
    "ax[0].invert_xaxis()\n",
    "ax[0].add_patch(circle1)\n",
    "#ax.add_patch(circle2)\n",
    "\n",
    "scatter_plot2 = ax[1].scatter(merged_cat_all['coord_ra'], merged_cat_all['coord_dec'], \n",
    "                              c=size_all, s=1, cmap='viridis', marker='o')\n",
    "ax[1].set_xlabel('ra')\n",
    "ax[1].set_ylabel('dec')\n",
    "ax[1].scatter([ra_bcg], [dec_bcg], marker='+', s=100, c='orange')\n",
    "circle2 = Circle((ra_bcg, dec_bcg), 0.5, color='orange', fill=False, linewidth=1, \n",
    "                label='0.5 deg field around BCG')\n",
    "ax[1].invert_xaxis()\n",
    "ax[1].add_patch(circle2)\n",
    "\n",
    "plt.colorbar(scatter_plot1, ax=ax[0], label='PSF size [pixels]')\n",
    "plt.colorbar(scatter_plot1, ax=ax[1], label='PSF size [pixels]')"
   ]
  },
  {
   "cell_type": "markdown",
   "id": "d00def48-38ab-4370-9a76-0781faee4a89",
   "metadata": {
    "execution": {
     "iopub.execute_input": "2025-03-27T09:52:22.493781Z",
     "iopub.status.busy": "2025-03-27T09:52:22.493460Z",
     "iopub.status.idle": "2025-03-27T09:52:22.509220Z",
     "shell.execute_reply": "2025-03-27T09:52:22.508753Z",
     "shell.execute_reply.started": "2025-03-27T09:52:22.493764Z"
    }
   },
   "source": [
    "The PSF size is varying by ~0.5 pixel across A360 field. The figure on the right, showing the PSF size at more \n",
    "locations that highlight the discontinuities in the PSF modeling when close to edges. Also allows us to see the various orientation of visits used to build the coadd."
   ]
  },
  {
   "cell_type": "markdown",
   "id": "3783a0d4-7f90-455d-9476-acaa610c6473",
   "metadata": {},
   "source": [
    "## Coverage Maps\n",
    "\n",
    "Using column '[band]_inputCount' which contains the number of sources that were included in the object coadd. \n",
    "\n",
    "The effective coverage map shows which regions / objects were observed more times, and which were covered less. "
   ]
  },
  {
   "cell_type": "code",
   "execution_count": null,
   "id": "22bb2ebe-7657-4d7b-99ab-0bef7b8c4b55",
   "metadata": {},
   "outputs": [],
   "source": [
    "fig, ax = plt.subplots(nrows=2, ncols=2, figsize=(12, 12))\n",
    "\n",
    "bands = [ 'g', 'r', 'i', 'z']\n",
    "positions = [(0, 0), (0, 1), (1, 0), (1, 1)]\n",
    "\n",
    "for band, (row, col) in zip(bands, positions):\n",
    "    for tract in tp_dict.keys():\n",
    "        filt = merged_cat_used['tract'] == tract\n",
    "        sc = ax[row, col].scatter(\n",
    "            merged_cat_used[filt]['coord_ra'],\n",
    "            merged_cat_used[filt]['coord_dec'],\n",
    "            cmap='viridis',\n",
    "            c=merged_cat_used[filt][f'{band}_inputCount'],\n",
    "            marker='s',\n",
    "            s=4\n",
    "        )\n",
    "    ax[row, col].set_xlabel('RA [deg]')\n",
    "    ax[row, col].set_ylabel('Dec [deg]')\n",
    "    ax[row, col].set_title(f'{band} band coverage')\n",
    "\n",
    "    # Add colorbar below the subplot\n",
    "    cb = fig.colorbar(sc, ax=ax[row, col], orientation='horizontal', pad=0.1, fraction=0.046)\n",
    "    cb.set_label(f'{band}-band inputCount')\n",
    "\n",
    "fig.tight_layout()\n",
    "fig.savefig('../plots/Coveragemaps.png', bbox_inches='tight')\n"
   ]
  },
  {
   "cell_type": "code",
   "execution_count": null,
   "id": "f07e3c19-7fb0-4dea-bb84-1eb873b09926",
   "metadata": {},
   "outputs": [],
   "source": []
  },
  {
   "cell_type": "code",
   "execution_count": null,
   "id": "eb17fde8-88c3-4124-8c71-dcfabb2855a9",
   "metadata": {},
   "outputs": [],
   "source": []
  },
  {
   "cell_type": "markdown",
   "id": "751900b6-b121-47eb-9d12-5027e5bfa1c8",
   "metadata": {},
   "source": [
    "## Whisker plots - PSF ellipticity and PSF correction.\n",
    "\n",
    "The ellipticity components $e_1$, $e_2$ are computed from moments as:\n",
    "\n",
    "$e_1 = (I_{xx} - I_{yy}) / (I_{xx} + I_{yy})$\n",
    "\n",
    "$e_2 = 2I_{xy} / (I_{xx} + I_{yy})$\n",
    "\n",
    "The from this, the amplitude and orientation of the ellipse (angle of the ellipse major axis with respect to the (x,y) coordinate frame) are given by\n",
    "\n",
    "$e = \\sqrt{e_1^2 + e_2^2}$\n",
    "\n",
    "$\\theta = 0.5 \\times \\arctan (e_2/e_1)$"
   ]
  },
  {
   "cell_type": "code",
   "execution_count": null,
   "id": "57e3d1ab-9fe7-4049-b550-9120e23b2974",
   "metadata": {},
   "outputs": [],
   "source": [
    "def get_psf_ellip(catalog):\n",
    "    psf_mxx = catalog['i_ixxPSF']\n",
    "    psf_myy = catalog['i_iyyPSF']\n",
    "    psf_mxy = catalog['i_ixyPSF']\n",
    "    return (psf_mxx - psf_myy) / (psf_mxx + psf_myy), 2.* psf_mxy / (psf_mxx + psf_myy)\n",
    "\n",
    "\n",
    "def get_star_ellip(catalog):\n",
    "    star_mxx = catalog['i_ixx']\n",
    "    star_myy = catalog['i_iyy']\n",
    "    star_mxy = catalog['i_ixy']\n",
    "    return (star_mxx - star_myy) / (star_mxx + star_myy), 2. * star_mxy / (star_mxx + star_myy)\n",
    "\n",
    "    "
   ]
  },
  {
   "cell_type": "markdown",
   "id": "f22856ed-3ee8-4cfa-9004-ce45cf03dad2",
   "metadata": {},
   "source": [
    "### Whisker plot and residuals at the locations of `used` stars"
   ]
  },
  {
   "cell_type": "code",
   "execution_count": null,
   "id": "7e9d9e9c-d878-4b1c-a7b2-5db54bfa21b9",
   "metadata": {},
   "outputs": [],
   "source": [
    "# For the PSF model, at the location of `used` stars\n",
    "e1_psf_used, e2_psf_used = get_psf_ellip(merged_cat_used)\n",
    "e_psf_used = np.sqrt(e1_psf_used*e1_psf_used + e2_psf_used*e2_psf_used) # module of ellipticity\n",
    "theta_psf_used = 0.5 * np.arctan(e2_psf_used/e1_psf_used) # orientation\n",
    "\n",
    "cx_psf_used = e_psf_used * np.cos(theta_psf_used) # x-component of the vector for the whisker plot\n",
    "cy_psf_used = e_psf_used * np.sin(theta_psf_used) # y-component of the vector for the whisker plot"
   ]
  },
  {
   "cell_type": "code",
   "execution_count": null,
   "id": "84168bc3-762f-4590-baa4-c6d80241ca7a",
   "metadata": {},
   "outputs": [],
   "source": [
    "# Repeat for the `used` stars\n",
    "e1_star_used, e2_star_used = get_star_ellip(merged_cat_used)\n",
    "e_star_used = np.sqrt(e1_star_used*e1_star_used+e2_star_used*e2_star_used)\n",
    "theta_star_used = 0.5 * np.arctan(e2_star_used/e1_star_used)\n",
    "\n",
    "cx_star_used = e_star_used * np.cos(theta_star_used)\n",
    "cy_star_used = e_star_used * np.sin(theta_star_used)"
   ]
  },
  {
   "cell_type": "code",
   "execution_count": null,
   "id": "d0d9444e-2e06-4439-ad09-6fef073e0cbc",
   "metadata": {},
   "outputs": [],
   "source": [
    "x_centroid, y_centroid =  merged_cat_used['i_centroid_x'], merged_cat_used['i_centroid_y']\n",
    "\n",
    "scale = 10000\n",
    "\n",
    "fig, ax = plt.subplots(nrows=1, ncols=3, figsize=(15,5))\n",
    "ax[0].quiver(x_centroid, y_centroid, scale*cx_star_used, scale*cy_star_used, angles='xy', color='black',\n",
    "           scale_units='xy', scale=1, headlength=0, headwidth=0, headaxislength=0,\n",
    "         label='Star ellipticity')\n",
    "ax[0].set_title('Star ellipticity (from i_ixx, i_ixy, i_iyy)')\n",
    "ax[0].set_xlabel('x_centroid')\n",
    "ax[0].set_ylabel('y_centroid')\n",
    "\n",
    "ax[1].quiver(x_centroid, y_centroid, scale*cx_psf_used, scale*cy_psf_used, angles='xy', color='black',\n",
    "           scale_units='xy', scale=1, headlength=0, headwidth=0, headaxislength=0,\n",
    "         label='PSF model ellipticity')\n",
    "ax[1].set_xlabel('x_centroid')\n",
    "ax[1].set_title('PSF model ellipticity (from i_ixxPSF, i_ixyPSF, i_iyyPSF)')\n",
    "\n",
    "ax[2].quiver(x_centroid, y_centroid, scale*(cx_star_used-cx_psf_used), scale*(cy_star_used-cy_psf_used), angles='xy', color='black',\n",
    "           scale_units='xy', scale=1, headlength=0, headwidth=0, headaxislength=0)\n",
    "\n",
    "ax[2].set_xlabel('x_centroid')\n",
    "ax[2].set_title('Star - PSF ellipticity residuals')\n",
    "\n",
    "ref_norm = scale*0.1  # Define reference vector norm\n",
    "ref_x, ref_y = 3000, 5000  # Position to place reference vector\n",
    "ax[0].quiver(ref_x, ref_y, ref_norm, 0, angles='xy', color='red',\n",
    "             scale_units='xy', scale=1, headlength=0, headwidth=0, headaxislength=0,\n",
    "             label=f'Ref: {ref_norm}')\n",
    "ax[1].quiver(ref_x, ref_y, ref_norm, 0, angles='xy', color='red',\n",
    "             scale_units='xy', scale=1, headlength=0, headwidth=0, headaxislength=0,\n",
    "             label=f'Ref: {ref_norm}')\n",
    "ax[2].quiver(ref_x, ref_y, ref_norm, 0, angles='xy', color='red',\n",
    "             scale_units='xy', scale=1, headlength=0, headwidth=0, headaxislength=0,\n",
    "             label=f'Ref: {ref_norm}')\n",
    "\n",
    "ax[0].text(ref_x + ref_norm / 2, ref_y + 500, f'e=0.1', color='red', ha='center')\n",
    "ax[1].text(ref_x + ref_norm / 2, ref_y + 500, f'e=0.1', color='red', ha='center')\n",
    "ax[2].text(ref_x + ref_norm / 2, ref_y + 500, f'e=0.1', color='red', ha='center')\n",
    "\n",
    "# \n",
    "fig.tight_layout()\n"
   ]
  },
  {
   "cell_type": "code",
   "execution_count": null,
   "id": "b4027bf6-4d9e-46ca-b569-a6989c46c048",
   "metadata": {},
   "outputs": [],
   "source": [
    "x_centroid, y_centroid =  merged_cat_used['coord_ra'], merged_cat_used['coord_dec']\n",
    "\n",
    "scale = 0.6\n",
    "\n",
    "\n",
    "circle0 = Circle((ra_bcg, dec_bcg), 0.5, color='darkviolet', fill=False, linewidth=1, \n",
    "                label='0.5 deg field around BCG')\n",
    "circle1 = Circle((ra_bcg, dec_bcg), 0.5, color='darkviolet', fill=False, linewidth=1, \n",
    "                label='0.5 deg field around BCG')\n",
    "circle2 = Circle((ra_bcg, dec_bcg), 0.5, color='darkviolet', fill=False, linewidth=1, \n",
    "                label='0.5 deg field around BCG')\n",
    "\n",
    "\n",
    "fig, ax = plt.subplots(nrows=1, ncols=3, figsize=(15,5))\n",
    "ax[0].quiver(x_centroid, y_centroid, scale*cx_star_used, scale*cy_star_used, angles='xy', color='black',\n",
    "           scale_units='xy', scale=1, headlength=0, headwidth=0, headaxislength=0,\n",
    "         label='Star ellipticity')\n",
    "ax[0].scatter([ra_bcg], [dec_bcg], marker='+', s=100, c='darkviolet')\n",
    "ax[0].add_patch(circle0)\n",
    "\n",
    "ax[0].invert_xaxis()\n",
    "ax[0].set_title('Star ellipticity (from i_ixx, i_ixy, i_iyy)')\n",
    "ax[0].set_xlabel('ra')\n",
    "ax[0].set_ylabel('dec')\n",
    "ax[0].set_xlim([38.7, 37.3])\n",
    "ax[0].set_ylim([6.25, 7.6])\n",
    "\n",
    "ax[1].quiver(x_centroid, y_centroid, scale*cx_psf_used, scale*cy_psf_used, angles='xy', color='black',\n",
    "           scale_units='xy', scale=1, headlength=0, headwidth=0, headaxislength=0,\n",
    "         label='PSF model ellipticity')\n",
    "ax[1].scatter([ra_bcg], [dec_bcg], marker='+', s=100, c='darkviolet')\n",
    "ax[1].add_patch(circle1)\n",
    "\n",
    "ax[1].invert_xaxis()\n",
    "ax[1].set_xlabel('ra')\n",
    "ax[1].set_title('PSF model ellipticity (from i_ixxPSF, i_ixyPSF, i_iyyPSF)')\n",
    "ax[1].set_xlim([38.7, 37.3])\n",
    "ax[1].set_ylim([6.25, 7.6])\n",
    "\n",
    "ax[2].quiver(x_centroid, y_centroid, scale*(cx_star_used-cx_psf_used), scale*(cy_star_used-cy_psf_used), angles='xy', color='black',\n",
    "           scale_units='xy', scale=1, headlength=0, headwidth=0, headaxislength=0)\n",
    "ax[2].scatter([ra_bcg], [dec_bcg], marker='+', s=100, c='darkviolet')\n",
    "ax[2].add_patch(circle2)\n",
    "\n",
    "ax[2].invert_xaxis()\n",
    "ax[2].set_xlabel('ra')\n",
    "ax[2].set_title('Star - PSF ellipticity residuals')\n",
    "ax[2].set_xlim([38.7, 37.3])\n",
    "ax[2].set_ylim([6.25, 7.6])\n",
    "\n",
    "ref_norm = scale*0.1  # Define reference vector norm\n",
    "ref_x, ref_y = 38.4, 6.27  # Position to place reference vector\n",
    "ax[0].quiver(ref_x, ref_y, ref_norm, 0, angles='xy', color='red',\n",
    "             scale_units='xy', scale=1, headlength=0, headwidth=0, headaxislength=0,\n",
    "             label=f'Ref: {ref_norm}')\n",
    "ax[1].quiver(ref_x, ref_y, ref_norm, 0, angles='xy', color='red',\n",
    "             scale_units='xy', scale=1, headlength=0, headwidth=0, headaxislength=0,\n",
    "             label=f'Ref: {ref_norm}')\n",
    "ax[2].quiver(ref_x, ref_y, ref_norm, 0, angles='xy', color='red',\n",
    "             scale_units='xy', scale=1, headlength=0, headwidth=0, headaxislength=0,\n",
    "             label=f'Ref: {ref_norm}')\n",
    "\n",
    "ax[0].text(ref_x + ref_norm / 2, ref_y + 0.02, f'e=0.1', color='red', ha='center')\n",
    "ax[1].text(ref_x + ref_norm / 2, ref_y + 0.02, f'e=0.1', color='red', ha='center')\n",
    "ax[2].text(ref_x + ref_norm / 2, ref_y + 0.02, f'e=0.1', color='red', ha='center')\n",
    "\n",
    "\n",
    "# ax[1].scatter([ra_bcg], [dec_bcg], marker='+', s=100, c='orange')\n",
    "# ax[1].add_patch(circle1)\n",
    "# ax[2].scatter([ra_bcg], [dec_bcg], marker='+', s=100, c='orange')\n",
    "# ax[2].add_patch(circle1)\n",
    "# \n",
    "fig.tight_layout()\n"
   ]
  },
  {
   "cell_type": "code",
   "execution_count": null,
   "id": "b0045ef8-4bb9-44d6-b0d6-c344f3edb3e3",
   "metadata": {},
   "outputs": [],
   "source": [
    "plt.hist(e_star_used, bins=30)"
   ]
  },
  {
   "cell_type": "markdown",
   "id": "d702c980-c838-4ff7-adda-815734c23719",
   "metadata": {},
   "source": [
    "### Whisker plot and residuals at the locations of `reserved` stars (that haven't been used by PIFF)\n",
    "\n",
    "Now we repeat the same thing with the `reserved` stars, that were not used to buid the PSF model. NB: there are far less reserved stars than PSF stars."
   ]
  },
  {
   "cell_type": "code",
   "execution_count": null,
   "id": "178b7d7e-594e-4cd5-822b-41fd790d3250",
   "metadata": {},
   "outputs": [],
   "source": [
    "e1_psf_reserved, e2_psf_reserved = get_psf_ellip(merged_cat_reserved)\n",
    "e_psf_reserved = np.sqrt(e1_psf_reserved*e1_psf_reserved+e2_psf_reserved*e2_psf_reserved)\n",
    "theta_psf_reserved = 0.5 * np.arctan(e2_psf_reserved/e1_psf_reserved)\n",
    "cx_psf_reserved = e_psf_reserved * np.cos(theta_psf_reserved) # x-component of the vector for the whisker plot\n",
    "cy_psf_reserved = e_psf_reserved * np.sin(theta_psf_reserved) # y-component of the vector for the whisker plot\n",
    "\n",
    "\n",
    "e1_star_reserved, e2_star_reserved = get_star_ellip(merged_cat_reserved)\n",
    "e_star_reserved = np.sqrt(e1_star_reserved*e1_star_reserved+e2_star_reserved*e2_star_reserved)\n",
    "theta_star_reserved = 0.5 * np.arctan(e2_star_reserved/e1_star_reserved)\n",
    "cx_star_reserved = e_star_reserved * np.cos(theta_star_reserved) # x-component of the vector for the whisker plot\n",
    "cy_star_reserved = e_star_reserved * np.sin(theta_star_reserved) # y-component of the vector for the whisker plot\n",
    "\n",
    "x_centroid, y_centroid =  merged_cat_reserved['i_centroid_x'], merged_cat_reserved['i_centroid_y']\n",
    "\n",
    "scale = 10000\n",
    "\n",
    "fig, ax = plt.subplots(nrows=1, ncols=3, figsize=(15,5))\n",
    "ax[0].quiver(x_centroid, y_centroid, scale*cx_star_reserved, scale*cy_star_reserved, angles='xy', color='black',\n",
    "           scale_units='xy', scale=1, headlength=0, headwidth=0, headaxislength=0,\n",
    "         label='PSF ellipticity')\n",
    "ax[0].set_title('Star ellipticity (from i_ixx, i_ixy, i_iyy)')\n",
    "\n",
    "ax[1].quiver(x_centroid, y_centroid, scale*cx_psf_reserved, scale*cy_psf_reserved, angles='xy', color='black',\n",
    "           scale_units='xy', scale=1, headlength=0, headwidth=0, headaxislength=0,\n",
    "         label='PSF ellipticity')\n",
    "ax[1].set_title('PSF model ellipticity (from i_ixxPSF, i_ixyPSF, i_iyyPSF)')\n",
    "\n",
    "ax[2].quiver(x_centroid, y_centroid, scale*(cx_star_reserved-cx_psf_reserved), scale*(cy_star_reserved-cy_psf_reserved), angles='xy', color='black',\n",
    "           scale_units='xy', scale=1, headlength=0, headwidth=0, headaxislength=0)\n",
    "\n",
    "ax[2].set_title('Star - PSF ellipticity residuals')\n",
    "\n",
    "ref_norm = scale*0.1  # Define reference vector norm\n",
    "ref_x, ref_y = 3000, 5000  # Position to place reference vector\n",
    "ax[0].quiver(ref_x, ref_y, ref_norm, 0, angles='xy', color='red',\n",
    "             scale_units='xy', scale=1, headlength=0, headwidth=0, headaxislength=0,\n",
    "             label=f'Ref: {ref_norm}')\n",
    "ax[1].quiver(ref_x, ref_y, ref_norm, 0, angles='xy', color='red',\n",
    "             scale_units='xy', scale=1, headlength=0, headwidth=0, headaxislength=0,\n",
    "             label=f'Ref: {ref_norm}')\n",
    "ax[2].quiver(ref_x, ref_y, ref_norm, 0, angles='xy', color='red',\n",
    "             scale_units='xy', scale=1, headlength=0, headwidth=0, headaxislength=0,\n",
    "             label=f'Ref: {ref_norm}')\n",
    "\n",
    "ax[0].text(ref_x + ref_norm / 2, ref_y + 500, f'e=0.1', color='red', ha='center')\n",
    "ax[1].text(ref_x + ref_norm / 2, ref_y + 500, f'e=0.1', color='red', ha='center')\n",
    "ax[2].text(ref_x + ref_norm / 2, ref_y + 500, f'e=0.1', color='red', ha='center')\n",
    "\n",
    "fig.tight_layout\n"
   ]
  },
  {
   "cell_type": "markdown",
   "id": "c677e21a-bb39-4d5d-b800-cc1a88eff36c",
   "metadata": {},
   "source": [
    "## Histogram of the e1, e2 residuals in A360 field, for `used` and `reserved` stars"
   ]
  },
  {
   "cell_type": "code",
   "execution_count": null,
   "id": "286d8079-6843-45c2-bee4-8ad77cbf8c4f",
   "metadata": {},
   "outputs": [],
   "source": [
    "fig, ax = plt.subplots(nrows=1, ncols=2, figsize=(10,5))\n",
    "\n",
    "ax[0].hist((e1_star_used-e1_psf_used), bins=30, range=[-0.04, 0.04], density=True, alpha=0.2, label='used');\n",
    "ax[0].hist((e1_star_reserved-e1_psf_reserved), bins=30, range=[-0.04, 0.04], density=True, alpha=0.2, label='reserved')\n",
    "ax[0].set_xlabel(r'$\\delta e_1 = $ Star e1 - PSF e1')\n",
    "ax[0].legend()\n",
    "\n",
    "ax[1].hist((e2_star_used-e2_psf_used), bins=30, range=[-0.04, 0.04], density=True, alpha=0.2, label='used');\n",
    "ax[1].hist((e2_star_reserved-e2_psf_reserved), bins=30, range=[-0.04, 0.04], density=True, alpha=0.2, label='reserved')\n",
    "ax[1].set_xlabel(r'$\\delta e_2 = $ Star e2 - PSF e2')\n",
    "ax[1].legend()"
   ]
  },
  {
   "cell_type": "code",
   "execution_count": null,
   "id": "6f7c3335-37d4-4e70-a458-238010a4e29d",
   "metadata": {},
   "outputs": [],
   "source": [
    "e1_hsm_star_used, e2_hsm_star_used = merged_cat_used['i_hsmShapeRegauss_e1'], merged_cat_used['i_hsmShapeRegauss_e2']\n",
    "e_hsm_star_used = np.sqrt(e1_hsm_star_used*e1_hsm_star_used + e2_hsm_star_used*e2_hsm_star_used)\n",
    "theta_hsm_star_used = 0.5 * np.arctan(e2_hsm_star_used/e1_hsm_star_used)\n",
    "\n",
    "cx_hsm_star_used = e_hsm_star_used * np.cos(theta_hsm_star_used)\n",
    "cy_hsm_star_used = e_hsm_star_used * np.sin(theta_hsm_star_used)"
   ]
  },
  {
   "cell_type": "code",
   "execution_count": null,
   "id": "52054e37-446a-42fb-aa0b-f791e8e57587",
   "metadata": {},
   "outputs": [],
   "source": [
    "x_centroid, y_centroid =  merged_cat_used['i_centroid_x'], merged_cat_used['i_centroid_y']\n",
    "\n",
    "plt.quiver(x_centroid, y_centroid, cx_hsm_star_used, cy_hsm_star_used , angles='xy', color='black',\n",
    "           scale_units='xy', scale=1, headlength=0, headwidth=0, headaxislength=0,\n",
    "         label='PSF ellipticity')"
   ]
  },
  {
   "cell_type": "code",
   "execution_count": null,
   "id": "f16d3fad-a9c9-4809-abd3-ce5054615393",
   "metadata": {},
   "outputs": [],
   "source": [
    "#filt = merged_cat_used['i_hsmShapeRegauss_flag'] == 0\n",
    "plt.hist(e1_hsm_star_used, bins=30, range=[-1,1])\n"
   ]
  },
  {
   "cell_type": "code",
   "execution_count": null,
   "id": "1f30a04b-f396-4e70-a4de-40de8327c7d1",
   "metadata": {},
   "outputs": [],
   "source": [
    "plt.hist(e1_star_used, bins=30, range=[-0.3,0.3], density = True)"
   ]
  },
  {
   "cell_type": "code",
   "execution_count": null,
   "id": "04bf834b-7bd3-4627-845e-8e407f665ce7",
   "metadata": {},
   "outputs": [],
   "source": [
    "from lsst.analysis.tools.atools import RhoStatistics"
   ]
  },
  {
   "cell_type": "markdown",
   "id": "eed37eeb-9730-43c9-8752-96b9596234c3",
   "metadata": {},
   "source": [
    "# Rho Statistics with analysis tools\n"
   ]
  },
  {
   "cell_type": "code",
   "execution_count": null,
   "id": "2b363609-dcb0-40d7-899d-316ef44b3533",
   "metadata": {},
   "outputs": [],
   "source": [
    "atool = RhoStatistics()"
   ]
  },
  {
   "cell_type": "code",
   "execution_count": null,
   "id": "bb484555-f6c1-4c7c-a8c5-1ad61e11a414",
   "metadata": {},
   "outputs": [],
   "source": [
    "atool.process.calculateActions.rho.treecorr.nbins = 21\n",
    "atool.process.calculateActions.rho.treecorr.min_sep = 0.1\n",
    "atool.process.calculateActions.rho.treecorr.max_sep = 100.0"
   ]
  },
  {
   "cell_type": "code",
   "execution_count": null,
   "id": "14392857-8c90-48a0-9c0d-2c263667ac3d",
   "metadata": {},
   "outputs": [],
   "source": [
    "atool.finalize()"
   ]
  },
  {
   "cell_type": "code",
   "execution_count": null,
   "id": "0b3d11dd-49bf-4c35-ba31-16ed4d4d60fe",
   "metadata": {},
   "outputs": [],
   "source": [
    "input_schema = atool.getInputSchema()\n",
    "needed_catalog_fields = [name[0] for name in list(atool.getInputSchema())]\n",
    "print(needed_catalog_fields)"
   ]
  },
  {
   "cell_type": "code",
   "execution_count": null,
   "id": "89781b78-5cb4-4cb4-ab52-e534c13d50fc",
   "metadata": {},
   "outputs": [],
   "source": [
    "my_band = \"i\""
   ]
  },
  {
   "cell_type": "code",
   "execution_count": null,
   "id": "cdbc7a20-5aef-47d0-adb7-1ad2ae432f0b",
   "metadata": {},
   "outputs": [],
   "source": [
    "len(merged_cat_reserved)"
   ]
  },
  {
   "cell_type": "code",
   "execution_count": null,
   "id": "23ea3077-4c85-41bd-b207-5a249ec059a0",
   "metadata": {},
   "outputs": [],
   "source": [
    "prepResults = atool.prep(merged_cat_reserved, band=f\"{my_band}\")"
   ]
  },
  {
   "cell_type": "code",
   "execution_count": null,
   "id": "5d927fd7-f633-4780-bc10-875cc5489c1a",
   "metadata": {},
   "outputs": [],
   "source": [
    "processResults = atool.process(prepResults, band=f\"{my_band}\")"
   ]
  },
  {
   "cell_type": "code",
   "execution_count": null,
   "id": "28b9962c-12be-4ffb-bdec-93bf9dfa52ec",
   "metadata": {},
   "outputs": [],
   "source": [
    "print(\"Mean angular separation:\\n\", processResults['rho1'].meanr, \"\\n\")\n",
    "print(\"Correlation function:\\n\", processResults['rho1'].xip, \"\\n\")\n",
    "print(\"Error in the correlation function:\\n\", processResults['rho1'].varxip)"
   ]
  },
  {
   "cell_type": "code",
   "execution_count": null,
   "id": "b2ed55f6-c012-4f29-8d4d-5b1183ed582d",
   "metadata": {},
   "outputs": [],
   "source": [
    "atool.produce.plot.rhoPlots[\"rho3\"].yLinThresh = 1e-8"
   ]
  },
  {
   "cell_type": "code",
   "execution_count": null,
   "id": "aef84f1a-82d2-482b-9d47-26453946378b",
   "metadata": {},
   "outputs": [],
   "source": [
    "plt.rcParams['figure.figsize'] = (2, 2)\n",
    "plt.rcParams['lines.markersize'] = 2\n",
    "plt.rcParams['xtick.labelsize']=5\n",
    "plt.rcParams['ytick.labelsize']=5\n",
    "plt.rcParams['font.size']=5"
   ]
  },
  {
   "cell_type": "code",
   "execution_count": null,
   "id": "7816dc9b-4e9d-47b6-83c9-70f952c12c08",
   "metadata": {},
   "outputs": [],
   "source": [
    "produceResults = atool.produce(processResults, band=f\"{my_band}\", skymap=skymap)"
   ]
  },
  {
   "cell_type": "code",
   "execution_count": null,
   "id": "f487a225-a373-45b4-890e-7cfc70f2e89e",
   "metadata": {},
   "outputs": [],
   "source": []
  },
  {
   "cell_type": "code",
   "execution_count": null,
   "id": "ea76f147-b318-4723-8f7b-8ae296ff7c90",
   "metadata": {},
   "outputs": [],
   "source": []
  },
  {
   "cell_type": "code",
   "execution_count": null,
   "id": "4e56a610-da70-4fd4-b9cf-a140fb81f5f8",
   "metadata": {},
   "outputs": [],
   "source": []
  },
  {
   "cell_type": "code",
   "execution_count": null,
   "id": "ec8f4df4-3d21-4889-b167-c500ed8d5563",
   "metadata": {},
   "outputs": [],
   "source": [
    "import clmm\n",
    "from clmm import GalaxyCluster, ClusterEnsemble, GCData, Cosmology\n",
    "from clmm import Cosmology, utils"
   ]
  },
  {
   "cell_type": "code",
   "execution_count": null,
   "id": "4c0882c6-ea97-4a3e-8111-f9b44b12a883",
   "metadata": {},
   "outputs": [],
   "source": [
    "cosmo = clmm.Cosmology(H0=70.0, Omega_dm0=0.3 - 0.045, Omega_b0=0.045, Omega_k0=0.0)"
   ]
  },
  {
   "cell_type": "code",
   "execution_count": null,
   "id": "5176ea29-534b-44c1-b737-14c2673971b7",
   "metadata": {},
   "outputs": [],
   "source": [
    "galcat = GCData()\n",
    "galcat['ra'] = merged_cat_used['coord_ra']\n",
    "galcat['dec'] = merged_cat_used['coord_dec']\n",
    "galcat['e1'] = e1_star_used - e1_psf_used\n",
    "galcat['e2'] = e2_star_used - e2_psf_used\n",
    "#galcat['e_err'] = e_err[to_use]/2.  # factor 2 to account for conversion between e and g\n",
    "\n",
    "galcat['z'] = np.zeros(len(galcat['ra'])) # CLMM needs a redshift column for the source, even if not used\n",
    "\n",
    "cluster_id = \"Abell 360\"\n",
    "gc_object1 = clmm.GalaxyCluster(cluster_id, ra_bcg, dec_bcg, 0.22, galcat, \n",
    "                                coordinate_system='euclidean')\n",
    "\n",
    "\n",
    "gc_object1.compute_tangential_and_cross_components(add=True);\n",
    "\n",
    "print(len(gc_object1.galcat))\n",
    "\n",
    "bins_mpc = clmm.make_bins(0.4,7,nbins=7, method='evenlog10width')\n",
    "gc_object1.make_radial_profile(bins=bins_mpc, bin_units='Mpc', add=True, cosmo=cosmo, overwrite=True, \n",
    "                               use_weights=False, error_model='ste');\n",
    "\n",
    "print(gc_object1.profile)\n",
    "\n",
    "galcat = GCData()\n",
    "galcat['ra'] = merged_cat_used['coord_ra']\n",
    "galcat['dec'] = merged_cat_used['coord_dec']\n",
    "galcat['e1'] = e1_star_used# - e1_psf_used\n",
    "galcat['e2'] = e2_star_used# - e2_psf_used\n",
    "#galcat['e_err'] = e_err[to_use]/2.  # factor 2 to account for conversion between e and g\n",
    "galcat['z'] = np.zeros(len(galcat['ra'])) # CLMM needs a redshift column for the source, even if not used\n",
    "\n",
    "gc_object2 = clmm.GalaxyCluster(cluster_id, ra_bcg, dec_bcg, 0.22, galcat, \n",
    "                                coordinate_system='euclidean')\n",
    "\n",
    "\n",
    "gc_object2.compute_tangential_and_cross_components(add=True);\n",
    "\n",
    "print(len(gc_object2.galcat))\n",
    "\n",
    "bins_mpc = clmm.make_bins(0.4,7,nbins=7, method='evenlog10width')\n",
    "gc_object2.make_radial_profile(bins=bins_mpc, bin_units='Mpc', add=True, cosmo=cosmo, overwrite=True, \n",
    "                               use_weights=False, error_model='ste');\n",
    "\n",
    "print(gc_object2.profile)\n",
    "\n",
    "\n",
    "plt.errorbar(gc_object2.profile['radius']*1.02, gc_object2.profile['gt'], gc_object2.profile['gt_err'], \n",
    "             ls='', marker='.', label=r\"'used' stars - $e_t$, no PSF correction\")\n",
    "plt.errorbar(gc_object1.profile['radius'], gc_object1.profile['gt'], gc_object1.profile['gt_err'], \n",
    "             ls='', marker='.', label=r'residuals, $\\delta e_t$')\n",
    "\n",
    "plt.xscale('log')\n",
    "plt.axhline(0.0, color='k', ls=':')\n",
    "#plt.ylim([-0.01,0.01])\n",
    "plt.ylim([-0.06,0.05])\n",
    "plt.xlim([0.3,7])\n",
    "#plt.yscale('log')\n",
    "plt.xlabel('R [Mpc]')\n",
    "plt.ylabel('tangential component')\n",
    "plt.legend(loc=1)\n",
    "plt.savefig(f\"profile_{version}.png\")"
   ]
  },
  {
   "cell_type": "code",
   "execution_count": null,
   "id": "5999be81-3f27-4bd5-96e2-e57309a05b44",
   "metadata": {},
   "outputs": [],
   "source": [
    "galcat = GCData()\n",
    "galcat['ra'] = merged_cat_reserved['coord_ra']\n",
    "galcat['dec'] = merged_cat_reserved['coord_dec']\n",
    "galcat['e1'] = e1_star_reserved - e1_psf_reserved\n",
    "galcat['e2'] = e2_star_reserved - e2_psf_reserved\n",
    "#galcat['e_err'] = e_err[to_use]/2.  # factor 2 to account for conversion between e and g\n",
    "\n",
    "galcat['z'] = np.zeros(len(galcat['ra'])) # CLMM needs a redshift column for the source, even if not used\n",
    "\n",
    "cluster_id = \"Abell 360\"\n",
    "gc_object1 = clmm.GalaxyCluster(cluster_id, ra_bcg, dec_bcg, 0.22, galcat, \n",
    "                                coordinate_system='euclidean')\n",
    "\n",
    "\n",
    "gc_object1.compute_tangential_and_cross_components(add=True);\n",
    "\n",
    "print(len(gc_object1.galcat))\n",
    "\n",
    "bins_mpc = clmm.make_bins(0.4,7,nbins=7, method='evenlog10width')\n",
    "gc_object1.make_radial_profile(bins=bins_mpc, bin_units='Mpc', add=True, cosmo=cosmo, overwrite=True, \n",
    "                               use_weights=False, error_model='ste');\n",
    "\n",
    "print(gc_object1.profile)\n",
    "\n",
    "galcat = GCData()\n",
    "galcat['ra'] = merged_cat_reserved['coord_ra']\n",
    "galcat['dec'] = merged_cat_reserved['coord_dec']\n",
    "galcat['e1'] = e1_star_reserved# - e1_psf_reserved\n",
    "galcat['e2'] = e2_star_reserved# - e2_psf_reserved\n",
    "#galcat['e_err'] = e_err[to_use]/2.  # factor 2 to account for conversion between e and g\n",
    "galcat['z'] = np.zeros(len(galcat['ra'])) # CLMM needs a redshift column for the source, even if not used\n",
    "\n",
    "gc_object2 = clmm.GalaxyCluster(cluster_id, ra_bcg, dec_bcg, 0.22, galcat, \n",
    "                                coordinate_system='euclidean')\n",
    "\n",
    "\n",
    "gc_object2.compute_tangential_and_cross_components(add=True);\n",
    "\n",
    "print(len(gc_object2.galcat))\n",
    "\n",
    "bins_mpc = clmm.make_bins(0.4,7,nbins=7, method='evenlog10width')\n",
    "gc_object2.make_radial_profile(bins=bins_mpc, bin_units='Mpc', add=True, cosmo=cosmo, overwrite=True, \n",
    "                               use_weights=False, error_model='ste');\n",
    "\n",
    "print(gc_object2.profile)\n",
    "\n",
    "\n",
    "plt.errorbar(gc_object2.profile['radius']*1.02, gc_object2.profile['gt'], gc_object2.profile['gt_err'], \n",
    "             ls='', marker='.', label=\"'reserved' stars - no PSF correction\")\n",
    "plt.errorbar(gc_object1.profile['radius'], gc_object1.profile['gt'], gc_object1.profile['gt_err'], \n",
    "             ls='', marker='.', label='residuals')\n",
    "\n",
    "plt.xscale('log')\n",
    "plt.axhline(0.0, color='k', ls=':')\n",
    "#plt.ylim([-0.01,0.01])\n",
    "plt.ylim([-0.06,0.05])\n",
    "plt.xlim([0.3,7])\n",
    "#plt.yscale('log')\n",
    "plt.xlabel('R [Mpc]')\n",
    "plt.ylabel('e_t')\n",
    "plt.legend(loc=1)\n",
    "plt.savefig(f\"profile_{version}.png\")"
   ]
  },
  {
   "cell_type": "code",
   "execution_count": null,
   "id": "b9e673b3-5ce1-4d94-93bb-c36c10fe12ee",
   "metadata": {},
   "outputs": [],
   "source": [
    "galcat = GCData()\n",
    "galcat['ra'] = merged_cat_reserved['coord_ra']\n",
    "galcat['dec'] = merged_cat_reserved['coord_dec']\n",
    "galcat['e1'] = e1_star_reserved - e1_psf_reserved\n",
    "galcat['e2'] = e2_star_reserved - e2_psf_reserved\n",
    "#galcat['e_err'] = e_err[to_use]/2.  # factor 2 to account for conversion between e and g\n",
    "\n",
    "galcat['z'] = np.zeros(len(galcat['ra'])) # CLMM needs a redshift column for the source, even if not used\n",
    "\n",
    "cluster_id = \"Abell 360\"\n",
    "gc_object1 = clmm.GalaxyCluster(cluster_id, ra_bcg, dec_bcg, 0.22, galcat, \n",
    "                                coordinate_system='euclidean')\n",
    "\n",
    "\n",
    "gc_object1.compute_tangential_and_cross_components(add=True);\n",
    "\n",
    "print(len(gc_object1.galcat))\n",
    "\n",
    "bins_mpc = clmm.make_bins(0.4,7,nbins=7, method='evenlog10width')\n",
    "gc_object1.make_radial_profile(bins=bins_mpc, bin_units='Mpc', add=True, cosmo=cosmo, overwrite=True, \n",
    "                               use_weights=False, error_model='ste');\n",
    "\n",
    "print(gc_object1.profile)\n",
    "\n",
    "\n",
    "\n",
    "galcat = GCData()\n",
    "galcat['ra'] = merged_cat_used['coord_ra']\n",
    "galcat['dec'] = merged_cat_used['coord_dec']\n",
    "galcat['e1'] = e1_star_used - e1_psf_used\n",
    "galcat['e2'] = e2_star_used - e2_psf_used\n",
    "#galcat['e_err'] = e_err[to_use]/2.  # factor 2 to account for conversion between e and g\n",
    "galcat['z'] = np.zeros(len(galcat['ra'])) # CLMM needs a redshift column for the source, even if not used\n",
    "\n",
    "gc_object2 = clmm.GalaxyCluster(cluster_id, ra_bcg, dec_bcg, 0.22, galcat, \n",
    "                                coordinate_system='euclidean')\n",
    "\n",
    "\n",
    "gc_object2.compute_tangential_and_cross_components(add=True);\n",
    "\n",
    "print(len(gc_object2.galcat))\n",
    "\n",
    "gc_object2.make_radial_profile(bins=bins_mpc, bin_units='Mpc', add=True, cosmo=cosmo, overwrite=True, \n",
    "                               use_weights=False, error_model='ste');\n",
    "\n",
    "print(gc_object2.profile)\n",
    "\n",
    "\n",
    "plt.errorbar(gc_object1.profile['radius'], gc_object1.profile['gt'], gc_object1.profile['gt_err'], \n",
    "             ls='', marker='.', label=\"'reserved' stars - residuals\")\n",
    "plt.errorbar(gc_object2.profile['radius'], gc_object2.profile['gt'], gc_object2.profile['gt_err'], \n",
    "             ls='', marker='.', label=\"'used' stars - residuals\")\n",
    "\n",
    "plt.xscale('log')\n",
    "plt.axhline(0.0, color='k', ls=':')\n",
    "plt.ylim([-0.007,0.007])\n",
    "#plt.ylim([-0.06,0.05])\n",
    "plt.xlim([0.3,7])\n",
    "#plt.yscale('log')\n",
    "plt.xlabel('R [Mpc]')\n",
    "plt.ylabel('e_t')\n",
    "plt.legend(loc=1)\n",
    "plt.savefig(f\"profile_{version}.png\")"
   ]
  },
  {
   "cell_type": "code",
   "execution_count": null,
   "id": "87e54816-3240-4bfe-968c-fe0243f58891",
   "metadata": {},
   "outputs": [],
   "source": [
    "e1_psf_all, e2_psf_all = get_psf_ellip(merged_cat_all)\n",
    "e_psf_all = np.sqrt(e1_psf_all*e1_psf_all + e2_psf_all*e2_psf_all) # module of ellipticity\n",
    "theta_psf_all = 0.5 * np.arctan(e2_psf_all/e1_psf_all) # orientation\n",
    "\n",
    "cx_psf_all = e_psf_all * np.cos(theta_psf_all) # x-component of the vector for the whisker plot\n",
    "cy_psf_all = e_psf_all * np.sin(theta_psf_all) # y-component of the vector for the whisker plot\n",
    "\n",
    "# `all` stars\n",
    "e1_star_all, e2_star_all = get_star_ellip(merged_cat_all)\n",
    "e_star_all = np.sqrt(e1_star_all*e1_star_all + e2_star_all*e2_star_all) # module of ellipticity\n",
    "theta_star_all = 0.5 * np.arctan(e2_star_all/e1_star_all) # orientation\n",
    "\n",
    "cx_star_all = e_star_all * np.cos(theta_star_all) # x-component of the vector for the whisker plot\n",
    "cy_star_all = e_star_all * np.sin(theta_star_all) # y-component of the vector for the whisker plot"
   ]
  },
  {
   "cell_type": "code",
   "execution_count": null,
   "id": "b7114b30-6ee6-4827-9352-c238d9632ac7",
   "metadata": {},
   "outputs": [],
   "source": []
  },
  {
   "cell_type": "code",
   "execution_count": null,
   "id": "f52facaa-55b7-4f02-98b9-2e319d4466a7",
   "metadata": {},
   "outputs": [],
   "source": [
    "galcat = GCData()\n",
    "galcat['ra'] = merged_cat_all['coord_ra']\n",
    "galcat['dec'] = merged_cat_all['coord_dec']\n",
    "galcat['e1'] = e1_star_all - e1_psf_all\n",
    "galcat['e2'] = e2_star_all - e2_psf_all\n",
    "#galcat['e_err'] = e_err[to_use]/2.  # factor 2 to account for conversion between e and g\n",
    "\n",
    "galcat['z'] = np.zeros(len(galcat['ra'])) # CLMM needs a redshift column for the source, even if not used\n",
    "\n",
    "cluster_id = \"Abell 360\"\n",
    "gc_object1 = clmm.GalaxyCluster(cluster_id, ra_bcg, dec_bcg, 0.22, galcat, \n",
    "                                coordinate_system='euclidean')\n",
    "\n",
    "gc_object1.compute_tangential_and_cross_components(add=True);\n",
    "gc_object1.make_radial_profile(bins=bins_mpc, bin_units='Mpc', add=True, cosmo=cosmo, overwrite=True, );\n",
    "\n",
    "\n",
    "galcat = GCData()\n",
    "galcat['ra'] = merged_cat_all['coord_ra']\n",
    "galcat['dec'] = merged_cat_all['coord_dec']\n",
    "galcat['e1'] = e1_star_all# - e1_psf_all\n",
    "galcat['e2'] = e2_star_all# - e2_psf_all\n",
    "#galcat['e_err'] = e_err[to_use]/2.  # factor 2 to account for conversion between e and g\n",
    "\n",
    "galcat['z'] = np.zeros(len(galcat['ra'])) # CLMM needs a redshift column for the source, even if not used\n",
    "cluster_id = \"Abell 360\"\n",
    "gc_object2 = clmm.GalaxyCluster(cluster_id, ra_bcg, dec_bcg, 0.22, galcat, \n",
    "                                coordinate_system='euclidean')\n",
    "\n",
    "gc_object2.compute_tangential_and_cross_components(add=True);\n",
    "gc_object2.make_radial_profile(bins=bins_mpc, bin_units='Mpc', add=True, cosmo=cosmo, overwrite=True, );\n",
    "\n",
    "print(gc_object2.profile)\n",
    "\n",
    "plt.errorbar(gc_object1.profile['radius'], gc_object1.profile['gt'], gc_object1.profile['gt_err'], \n",
    "             ls='', marker='.', label='galaxies - PSF corrected')\n",
    "plt.errorbar(gc_object2.profile['radius']*1.02, gc_object2.profile['gt'], gc_object2.profile['gt_err'], \n",
    "             ls='', marker='.', label='galaxies - before correction')\n",
    "\n",
    "plt.xscale('log')\n",
    "plt.axhline(0.0, color='k', ls=':')\n",
    "#plt.ylim([-0.01,0.01])\n",
    "plt.ylim([-0.07,0.07])\n",
    "plt.xlim([0.3,7])\n",
    "#plt.yscale('log')\n",
    "plt.xlabel('R [Mpc]')\n",
    "plt.ylabel('g_t')\n",
    "plt.legend(loc=1)\n",
    "plt.savefig(f\"profile_{version}.png\")"
   ]
  },
  {
   "cell_type": "code",
   "execution_count": null,
   "id": "2797e1f8-db02-4c01-a235-56c9f0786473",
   "metadata": {},
   "outputs": [],
   "source": []
  }
 ],
 "metadata": {
  "kernelspec": {
   "display_name": "LSST",
   "language": "python",
   "name": "lsst"
  },
  "language_info": {
   "codemirror_mode": {
    "name": "ipython",
    "version": 3
   },
   "file_extension": ".py",
   "mimetype": "text/x-python",
   "name": "python",
   "nbconvert_exporter": "python",
   "pygments_lexer": "ipython3",
   "version": "3.12.10"
  }
 },
 "nbformat": 4,
 "nbformat_minor": 5
}
