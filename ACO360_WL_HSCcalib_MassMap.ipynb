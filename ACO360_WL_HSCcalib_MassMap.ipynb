{
 "cells": [
  {
   "cell_type": "markdown",
   "id": "2f950321-79bb-4264-b2fd-9ef7595456a0",
   "metadata": {
    "execution": {
     "iopub.execute_input": "2025-02-27T16:54:09.363845Z",
     "iopub.status.busy": "2025-02-27T16:54:09.363572Z",
     "iopub.status.idle": "2025-02-27T16:54:09.366100Z",
     "shell.execute_reply": "2025-02-27T16:54:09.365703Z",
     "shell.execute_reply.started": "2025-02-27T16:54:09.363830Z"
    }
   },
   "source": [
    "# Mass Map around Abell 360\n",
    "\n",
    "Anthony Englert\\\n",
    "LSST Science Piplines version: Weekly 2025_09\\\n",
    "Container Size: large\n",
    "\n",
    "This notebook is a first attempt at building a mass map of Abell 360 cluster from ComCam data, with the following main steps:\n",
    "\n",
    "- Loading the relevant object catalogs (all tracts and patches needed) using the butler\n",
    "- Color cut source selection\n",
    "- HSC lensing quality cuts\n",
    "- HSC calibration step. You will need to run the `gen_hsc_calibration` script outside of this notebook. The script is publicly available at: [https://github.com/PrincetonUniversity/hsc-y1-shear-calib](https://github.com/PrincetonUniversity/hsc-y1-shear-calib)\n",
    "- Computing mass map from calibrated shapes\n",
    "\n",
    "The first portion of this borrows from Celine's script to select galaxies redder than the red-sequence, then uses code developed for the Local Volume Complete Cluster Survey to compute the mass map"
   ]
  },
  {
   "cell_type": "code",
   "execution_count": 1,
   "id": "34840e55-4119-4612-a769-a808b6e97d16",
   "metadata": {
    "execution": {
     "iopub.execute_input": "2025-07-04T03:41:49.450106Z",
     "iopub.status.busy": "2025-07-04T03:41:49.449778Z",
     "iopub.status.idle": "2025-07-04T03:41:50.138012Z",
     "shell.execute_reply": "2025-07-04T03:41:50.137492Z",
     "shell.execute_reply.started": "2025-07-04T03:41:49.450089Z"
    }
   },
   "outputs": [],
   "source": [
    "# general python packages\n",
    "import numpy as np\n",
    "import matplotlib.pyplot as plt\n",
    "import pandas as pd\n",
    "from astropy.table import Table"
   ]
  },
  {
   "cell_type": "code",
   "execution_count": 2,
   "id": "583b109a-0868-43f6-8abc-36a915f69c0c",
   "metadata": {
    "execution": {
     "iopub.execute_input": "2025-07-04T03:41:50.766166Z",
     "iopub.status.busy": "2025-07-04T03:41:50.765768Z",
     "iopub.status.idle": "2025-07-04T03:41:51.797472Z",
     "shell.execute_reply": "2025-07-04T03:41:51.796996Z",
     "shell.execute_reply.started": "2025-07-04T03:41:50.766150Z"
    }
   },
   "outputs": [],
   "source": [
    "from lsst.daf.butler import Butler\n",
    "import lsst.geom as geom\n",
    "import lsst.afw.geom as afwGeom"
   ]
  },
  {
   "cell_type": "code",
   "execution_count": 3,
   "id": "38325d14-740b-43ec-9b3c-79d820890543",
   "metadata": {
    "execution": {
     "iopub.execute_input": "2025-07-04T03:41:51.798668Z",
     "iopub.status.busy": "2025-07-04T03:41:51.798269Z",
     "iopub.status.idle": "2025-07-04T03:41:52.291946Z",
     "shell.execute_reply": "2025-07-04T03:41:52.291349Z",
     "shell.execute_reply.started": "2025-07-04T03:41:51.798652Z"
    }
   },
   "outputs": [],
   "source": [
    "repo = \"dp1\"\n",
    "collection = \"LSSTComCam/DP1\"\n",
    "#repo = '/repo/main'\n",
    "#collection = 'LSSTComCam/runs/DRP/DP1/w_2025_08/DM-49029'\n",
    "\n",
    "butler = Butler(repo, collections=collection)\n",
    "assert butler is not None"
   ]
  },
  {
   "cell_type": "code",
   "execution_count": 4,
   "id": "4d19d115-4e0a-460d-a2eb-74dbf31fc5c0",
   "metadata": {
    "execution": {
     "iopub.execute_input": "2025-07-04T03:41:52.292588Z",
     "iopub.status.busy": "2025-07-04T03:41:52.292445Z",
     "iopub.status.idle": "2025-07-04T03:41:52.385061Z",
     "shell.execute_reply": "2025-07-04T03:41:52.384566Z",
     "shell.execute_reply.started": "2025-07-04T03:41:52.292574Z"
    }
   },
   "outputs": [],
   "source": [
    "skymap = butler.get('skyMap', skymap='lsst_cells_v1')"
   ]
  },
  {
   "cell_type": "markdown",
   "id": "93de23f3-6156-4367-aa81-f024882dd2f3",
   "metadata": {},
   "source": [
    "## Find tracts and patches for Abell 360 and load the catalogs\n",
    "\n",
    "Find all the tracts/patches that falls in a given region around the A360 BCG, and store the results in a dictionary `tp_dict`"
   ]
  },
  {
   "cell_type": "code",
   "execution_count": 5,
   "id": "68864e5c-d7b7-40db-b564-8e189894346b",
   "metadata": {
    "execution": {
     "iopub.execute_input": "2025-07-04T03:41:53.803494Z",
     "iopub.status.busy": "2025-07-04T03:41:53.803277Z",
     "iopub.status.idle": "2025-07-04T03:41:53.830067Z",
     "shell.execute_reply": "2025-07-04T03:41:53.829604Z",
     "shell.execute_reply.started": "2025-07-04T03:41:53.803479Z"
    }
   },
   "outputs": [],
   "source": [
    "# Position of the BCG for A360\n",
    "ra_bcg = 37.862\n",
    "dec_bcg = 6.98\n",
    "\n",
    "# Looking for all patches in delta deg region around it\n",
    "delta = 0.5\n",
    "center = geom.SpherePoint(ra_bcg, dec_bcg, geom.degrees)\n",
    "ra_min, ra_max = ra_bcg - delta, ra_bcg + delta\n",
    "dec_min, dec_max = dec_bcg - delta, dec_bcg + delta\n",
    "\n",
    "ra_range = (ra_min, ra_max)\n",
    "dec_range = (dec_min, dec_max)\n",
    "radec = [geom.SpherePoint(ra_range[0], dec_range[0], geom.degrees),\n",
    "         geom.SpherePoint(ra_range[0], dec_range[1], geom.degrees),\n",
    "         geom.SpherePoint(ra_range[1], dec_range[0], geom.degrees),\n",
    "         geom.SpherePoint(ra_range[1], dec_range[1], geom.degrees)]\n",
    "\n",
    "tracts_and_patches = skymap.findTractPatchList(radec)\n",
    "\n",
    "tp_dict = {}\n",
    "for tract_num in np.arange(len(tracts_and_patches)):\n",
    "    tract_info = tracts_and_patches[tract_num][0]\n",
    "    tract_idx = tract_info.getId()\n",
    "    # All the patches around the cluster\n",
    "    patches = []\n",
    "    for i,patch in enumerate(tracts_and_patches[tract_num][1]):\n",
    "        patch_info = tracts_and_patches[tract_num][1][i]\n",
    "        patch_idx = patch_info.sequential_index\n",
    "        patches.append(patch_idx)\n",
    "    tp_dict.update({tract_idx:patches})\n",
    "#tp_dict"
   ]
  },
  {
   "cell_type": "markdown",
   "id": "9523bf59-d30d-49fb-bb1c-02ace8a32992",
   "metadata": {},
   "source": [
    "Load the object catalogs for all these tracts/patches, make basic cuts, and store in a single merged catalog `merged_cat`."
   ]
  },
  {
   "cell_type": "code",
   "execution_count": 6,
   "id": "141d1ef1-6b25-4e1a-9a27-0211cdc5a1a8",
   "metadata": {
    "execution": {
     "iopub.execute_input": "2025-07-04T03:42:08.677499Z",
     "iopub.status.busy": "2025-07-04T03:42:08.677167Z",
     "iopub.status.idle": "2025-07-04T03:48:06.467683Z",
     "shell.execute_reply": "2025-07-04T03:48:06.467177Z",
     "shell.execute_reply.started": "2025-07-04T03:42:08.677481Z"
    }
   },
   "outputs": [
    {
     "name": "stdout",
     "output_type": "stream",
     "text": [
      "Loading objects from tract 10463, patches:[30, 40, 50, 60, 70, 80, 90, 31, 41, 51, 61, 71, 81, 91, 32, 42, 52, 62, 72, 82, 92, 33, 43, 53, 63, 73, 83, 93, 34, 44, 54, 64, 74, 84, 94]\n",
      "Filtered patch 30 in tract 10463\n",
      "Filtered patch 40 in tract 10463\n",
      "Filtered patch 50 in tract 10463\n",
      "Filtered patch 60 in tract 10463\n",
      "Filtered patch 70 in tract 10463\n",
      "Filtered patch 80 in tract 10463\n",
      "Filtered patch 90 in tract 10463\n",
      "Filtered patch 31 in tract 10463\n",
      "Filtered patch 41 in tract 10463\n",
      "Filtered patch 51 in tract 10463\n",
      "Filtered patch 61 in tract 10463\n",
      "Filtered patch 71 in tract 10463\n",
      "Filtered patch 81 in tract 10463\n",
      "Filtered patch 91 in tract 10463\n",
      "Filtered patch 32 in tract 10463\n",
      "Filtered patch 42 in tract 10463\n",
      "Filtered patch 52 in tract 10463\n",
      "Filtered patch 62 in tract 10463\n",
      "Filtered patch 72 in tract 10463\n",
      "Filtered patch 82 in tract 10463\n",
      "Filtered patch 92 in tract 10463\n",
      "Filtered patch 33 in tract 10463\n",
      "Filtered patch 43 in tract 10463\n",
      "Filtered patch 53 in tract 10463\n",
      "Filtered patch 63 in tract 10463\n",
      "Filtered patch 73 in tract 10463\n",
      "Filtered patch 83 in tract 10463\n",
      "Filtered patch 93 in tract 10463\n",
      "Filtered patch 34 in tract 10463\n",
      "Filtered patch 44 in tract 10463\n",
      "Filtered patch 54 in tract 10463\n",
      "Filtered patch 64 in tract 10463\n",
      "Filtered patch 74 in tract 10463\n",
      "Filtered patch 84 in tract 10463\n",
      "Filtered patch 94 in tract 10463\n",
      "Loading objects from tract 10704, patches:[0, 1, 2, 3, 4, 5]\n",
      "Filtered patch 0 in tract 10704\n",
      "Filtered patch 1 in tract 10704\n",
      "Filtered patch 2 in tract 10704\n",
      "Filtered patch 3 in tract 10704\n",
      "Filtered patch 4 in tract 10704\n",
      "Filtered patch 5 in tract 10704\n",
      "Loading objects from tract 10464, patches:[37, 47, 57, 67, 77, 87, 97, 38, 48, 58, 68, 78, 88, 98, 39, 49, 59, 69, 79, 89, 99]\n",
      "Filtered patch 37 in tract 10464\n",
      "Filtered patch 47 in tract 10464\n",
      "Filtered patch 57 in tract 10464\n",
      "Filtered patch 67 in tract 10464\n",
      "Filtered patch 77 in tract 10464\n",
      "Filtered patch 87 in tract 10464\n",
      "Filtered patch 97 in tract 10464\n",
      "Filtered patch 38 in tract 10464\n",
      "Filtered patch 48 in tract 10464\n",
      "Filtered patch 58 in tract 10464\n",
      "Filtered patch 68 in tract 10464\n",
      "Filtered patch 78 in tract 10464\n",
      "Filtered patch 88 in tract 10464\n",
      "Filtered patch 98 in tract 10464\n",
      "Filtered patch 39 in tract 10464\n",
      "Filtered patch 49 in tract 10464\n",
      "Filtered patch 59 in tract 10464\n",
      "Filtered patch 69 in tract 10464\n",
      "Filtered patch 79 in tract 10464\n",
      "Filtered patch 89 in tract 10464\n",
      "Filtered patch 99 in tract 10464\n",
      "Loading objects from tract 10705, patches:[8, 9]\n",
      "Filtered patch 8 in tract 10705\n",
      "Filtered patch 9 in tract 10705\n"
     ]
    }
   ],
   "source": [
    "# Get the object catalog of these patches\n",
    "datasetType = 'object'  # for DP1 object catalogs\n",
    "#datasetType = 'objectTable'\n",
    "#datasetType = 'deepCoadd_obj'\n",
    "merged_cat = pd.DataFrame()\n",
    "\n",
    "for tract in tp_dict.keys():\n",
    "    print(f'Loading objects from tract {tract}, patches:{tp_dict[tract]}')\n",
    "    for patch in tp_dict[tract]:\n",
    "        dataId = {'tract': tract, 'patch' : patch ,'skymap':'lsst_cells_v1'}\n",
    "        print(f\"Filtered patch {patch} in tract {tract}\")\n",
    "        obj_cat = butler.get(datasetType, dataId=dataId)\n",
    "        # obj_cat is an astropy Table in DP1. Convert to DataFrame if needed for consistent processing\n",
    "        if isinstance(obj_cat, Table):\n",
    "            obj_cat = obj_cat.to_pandas()\n",
    "        elif not isinstance(obj_cat, pd.DataFrame):\n",
    "            raise TypeError(f\"Unexpected object type: {type(obj_cat)}\")\n",
    "\n",
    "        # 'detect_isPrimary' not in DP1; \n",
    "        # only 'detect_fromBlend', 'detect_isDeblendedModelSource', 'detect_isIsolated' exist\n",
    "        #filt = obj_cat['detect_isPrimary']==True \n",
    "\n",
    "        # try only loading he essential columns\n",
    "        column_list = [\n",
    "                       'objectId','tract','patch','coord_ra','coord_dec',\n",
    "                       'r_cModel_flag','i_cModel_flag','refExtendedness','i_iPSF_flag',\n",
    "                       'i_cModelFlux','i_cModelFluxErr',\n",
    "                       'g_cModelFlux','g_cModelFluxErr',\n",
    "                       'r_cModelFlux','r_cModelFluxErr',\n",
    "                       'z_cModelFlux','z_cModelFluxErr',\n",
    "                       'i_ixxPSF','i_iyyPSF','i_ixyPSF','i_ixx','i_iyy','i_ixy',\n",
    "                       'i_hsmShapeRegauss_e1','i_hsmShapeRegauss_e2','i_hsmShapeRegauss_sigma',\n",
    "                       'i_hsmShapeRegauss_flag','i_blendedness',\n",
    "                      ]\n",
    "        \n",
    "        obj_cat = obj_cat[column_list]\n",
    "        \n",
    "        filt = obj_cat['r_cModel_flag']== False\n",
    "        filt &= obj_cat['i_cModel_flag']== False\n",
    "        filt &= obj_cat['r_cModelFlux']>0\n",
    "        filt &= obj_cat['i_cModelFlux']>0\n",
    "        filt &= obj_cat['refExtendedness'] > 0.5\n",
    "        \n",
    "        merged_cat = pd.concat([merged_cat, obj_cat[filt]], ignore_index=True)"
   ]
  },
  {
   "cell_type": "code",
   "execution_count": 23,
   "id": "5c636a87-b1b2-41c1-8bfa-f3b9de976d56",
   "metadata": {
    "execution": {
     "iopub.execute_input": "2025-07-04T03:31:34.155523Z",
     "iopub.status.busy": "2025-07-04T03:31:34.154916Z",
     "iopub.status.idle": "2025-07-04T03:31:34.158580Z",
     "shell.execute_reply": "2025-07-04T03:31:34.158196Z",
     "shell.execute_reply.started": "2025-07-04T03:31:34.155504Z"
    }
   },
   "outputs": [
    {
     "data": {
      "text/plain": [
       "True"
      ]
     },
     "execution_count": 23,
     "metadata": {},
     "output_type": "execute_result"
    }
   ],
   "source": [
    "'objectId' in list(merged_cat.columns)"
   ]
  },
  {
   "cell_type": "markdown",
   "id": "b74c09d4-b618-4746-af0c-324e325471a0",
   "metadata": {},
   "source": [
    "## Red sequence identification"
   ]
  },
  {
   "cell_type": "markdown",
   "id": "73df7eeb-88b3-463c-ba8e-1eeff5a440a8",
   "metadata": {
    "execution": {
     "iopub.execute_input": "2025-03-11T08:09:33.227567Z",
     "iopub.status.busy": "2025-03-11T08:09:33.226937Z",
     "iopub.status.idle": "2025-03-11T08:09:33.229610Z",
     "shell.execute_reply": "2025-03-11T08:09:33.229178Z",
     "shell.execute_reply.started": "2025-03-11T08:09:33.227548Z"
    }
   },
   "source": [
    "### Select a circular field close (<0.1 deg) to the BCG in order to identify RS"
   ]
  },
  {
   "cell_type": "code",
   "execution_count": 7,
   "id": "ae72749b-f31b-4e4c-8037-4754f63277fb",
   "metadata": {
    "execution": {
     "iopub.execute_input": "2025-07-04T03:48:11.304973Z",
     "iopub.status.busy": "2025-07-04T03:48:11.304654Z",
     "iopub.status.idle": "2025-07-04T03:48:12.094555Z",
     "shell.execute_reply": "2025-07-04T03:48:12.093990Z",
     "shell.execute_reply.started": "2025-07-04T03:48:11.304958Z"
    }
   },
   "outputs": [],
   "source": [
    "import astropy.units as u\n",
    "from astropy.coordinates import SkyCoord\n",
    "\n",
    "c1 = SkyCoord(merged_cat['coord_ra'].values*u.deg, merged_cat['coord_dec'].values*u.deg)\n",
    "c2 = SkyCoord(ra_bcg*u.deg, dec_bcg*u.deg)\n",
    "sep = c1.separation(c2)\n",
    "\n",
    "sep.deg\n",
    "filt = sep.deg < 0.1 # stay close to cluster center for RS indentification\n",
    "merged_cat_rs = merged_cat[filt] # catalog for RS identification"
   ]
  },
  {
   "cell_type": "code",
   "execution_count": 8,
   "id": "704bddeb-a247-4164-bcdb-20850d761847",
   "metadata": {
    "execution": {
     "iopub.execute_input": "2025-07-04T03:48:13.889845Z",
     "iopub.status.busy": "2025-07-04T03:48:13.889441Z",
     "iopub.status.idle": "2025-07-04T03:48:13.895390Z",
     "shell.execute_reply": "2025-07-04T03:48:13.894775Z",
     "shell.execute_reply.started": "2025-07-04T03:48:13.889809Z"
    }
   },
   "outputs": [
    {
     "data": {
      "text/plain": [
       "(8114925, 152145)"
      ]
     },
     "execution_count": 8,
     "metadata": {},
     "output_type": "execute_result"
    }
   ],
   "source": [
    "len(merged_cat), len(merged_cat_rs)"
   ]
  },
  {
   "cell_type": "markdown",
   "id": "26d04d17-6909-42d6-8528-c16016c3487d",
   "metadata": {
    "execution": {
     "iopub.execute_input": "2024-12-10T10:09:09.316496Z",
     "iopub.status.busy": "2024-12-10T10:09:09.316212Z",
     "iopub.status.idle": "2024-12-10T10:09:09.321215Z",
     "shell.execute_reply": "2024-12-10T10:09:09.318432Z",
     "shell.execute_reply.started": "2024-12-10T10:09:09.316483Z"
    }
   },
   "source": [
    "### Convert fluxes to magnitudes and identify red sequence in r-i versus r\n",
    "\n",
    "Conversion from fluxes to mag using formula from DP0.2 tutorial."
   ]
  },
  {
   "cell_type": "code",
   "execution_count": 9,
   "id": "d210781e-d08f-489c-9876-81ca1aba6450",
   "metadata": {
    "execution": {
     "iopub.execute_input": "2025-07-04T03:48:15.432171Z",
     "iopub.status.busy": "2025-07-04T03:48:15.431707Z",
     "iopub.status.idle": "2025-07-04T03:48:15.880123Z",
     "shell.execute_reply": "2025-07-04T03:48:15.879703Z",
     "shell.execute_reply.started": "2025-07-04T03:48:15.432145Z"
    }
   },
   "outputs": [
    {
     "data": {
      "image/png": "[encoded data removed]",
      "text/plain": [
       "<Figure size 800x400 with 2 Axes>"
      ]
     },
     "metadata": {},
     "output_type": "display_data"
    }
   ],
   "source": [
    "mag_i = -2.50 * np.log10(merged_cat_rs['i_cModelFlux']) + 31.4\n",
    "mag_r = -2.50 * np.log10(merged_cat_rs['r_cModelFlux']) + 31.4\n",
    "\n",
    "fig, ax = plt.subplots(nrows=1, ncols=2, figsize=(8,4))\n",
    "ax[0].hist(mag_r, bins=50)\n",
    "ax[1].hist(mag_i, bins=50)\n",
    "ax[0].set_yscale('log')\n",
    "ax[1].set_yscale('log')"
   ]
  },
  {
   "cell_type": "markdown",
   "id": "4eda95fc-5e57-4d06-84d5-9c01b2a6a17d",
   "metadata": {},
   "source": [
    "### Color magnitude diagram and by eye indetification of the red sequence\n"
   ]
  },
  {
   "cell_type": "code",
   "execution_count": 10,
   "id": "e6ab9eff-f4ff-4aa5-89fb-014da9d5c310",
   "metadata": {
    "execution": {
     "iopub.execute_input": "2025-07-04T03:48:18.979727Z",
     "iopub.status.busy": "2025-07-04T03:48:18.979382Z",
     "iopub.status.idle": "2025-07-04T03:48:19.161588Z",
     "shell.execute_reply": "2025-07-04T03:48:19.161146Z",
     "shell.execute_reply.started": "2025-07-04T03:48:18.979709Z"
    }
   },
   "outputs": [
    {
     "data": {
      "text/plain": [
       "[<matplotlib.lines.Line2D at 0x7f7d397e08f0>]"
      ]
     },
     "execution_count": 10,
     "metadata": {},
     "output_type": "execute_result"
    },
    {
     "data": {
      "image/png": "[encoded data removed]",
      "text/plain": [
       "<Figure size 400x400 with 1 Axes>"
      ]
     },
     "metadata": {},
     "output_type": "display_data"
    }
   ],
   "source": [
    "fig, ax = plt.subplots(nrows=1, ncols=1, \n",
    "                         figsize=(4,4))\n",
    "ax.scatter(mag_r, mag_r-mag_i, marker='.', s=0.3)\n",
    "ax.set_ylim([-2,2])\n",
    "ax.set_xlim([19,25])\n",
    "ax.set_ylabel('r-i')\n",
    "ax.set_xlabel('r')\n",
    "ax.plot([19,24],[0.4,0.3], color='r', linewidth=0.7)\n",
    "ax.plot([19,24],[0.6,0.5], color='r', linewidth=0.7)"
   ]
  },
  {
   "cell_type": "markdown",
   "id": "b88a4db6-9b71-4c44-8bd9-3dc775a0875c",
   "metadata": {
    "execution": {
     "iopub.execute_input": "2025-03-11T08:13:37.716333Z",
     "iopub.status.busy": "2025-03-11T08:13:37.715720Z",
     "iopub.status.idle": "2025-03-11T08:13:37.718367Z",
     "shell.execute_reply": "2025-03-11T08:13:37.717968Z",
     "shell.execute_reply.started": "2025-03-11T08:13:37.716316Z"
    }
   },
   "source": [
    "### Filter to identify red sequence galaxies in the sample\n"
   ]
  },
  {
   "cell_type": "code",
   "execution_count": 11,
   "id": "dc5eeca9-03e8-484f-9aea-02b33ea1fd2c",
   "metadata": {
    "execution": {
     "iopub.execute_input": "2025-07-04T03:48:21.320762Z",
     "iopub.status.busy": "2025-07-04T03:48:21.320421Z",
     "iopub.status.idle": "2025-07-04T03:48:21.326189Z",
     "shell.execute_reply": "2025-07-04T03:48:21.325745Z",
     "shell.execute_reply.started": "2025-07-04T03:48:21.320724Z"
    }
   },
   "outputs": [],
   "source": [
    "rs_hi = 0.6 - (0.1/5.) * (mag_r-19)\n",
    "rs_low = 0.4 - (0.1/5.)* (mag_r-19)\n",
    "color = mag_r - mag_i\n",
    "\n",
    "idx = np.where(np.logical_and(color>rs_low, color<rs_hi))[0]\n",
    "idx2 = np.where(mag_r.iloc[idx] < 23)[0] # keep the brightest objects only"
   ]
  },
  {
   "cell_type": "code",
   "execution_count": 12,
   "id": "638867fe-f9d1-4426-828c-d6b7132c918a",
   "metadata": {
    "execution": {
     "iopub.execute_input": "2025-07-04T03:48:22.221413Z",
     "iopub.status.busy": "2025-07-04T03:48:22.221193Z",
     "iopub.status.idle": "2025-07-04T03:48:22.396493Z",
     "shell.execute_reply": "2025-07-04T03:48:22.396012Z",
     "shell.execute_reply.started": "2025-07-04T03:48:22.221397Z"
    }
   },
   "outputs": [
    {
     "data": {
      "text/plain": [
       "[<matplotlib.lines.Line2D at 0x7f7d397bbfe0>]"
      ]
     },
     "execution_count": 12,
     "metadata": {},
     "output_type": "execute_result"
    },
    {
     "data": {
      "image/png": "[encoded data removed]",
      "text/plain": [
       "<Figure size 400x400 with 1 Axes>"
      ]
     },
     "metadata": {},
     "output_type": "display_data"
    }
   ],
   "source": [
    "fig, ax = plt.subplots(nrows=1, ncols=1, \n",
    "                         figsize=(4,4))\n",
    "ax.scatter(mag_r, mag_r-mag_i, marker='.', s=0.3) # all galaxies  \n",
    "ax.scatter(mag_r.iloc[idx].iloc[idx2], \n",
    "           mag_r.iloc[idx].iloc[idx2]-mag_i.iloc[idx].iloc[idx2], \n",
    "           marker='.', s=0.3) #red sequence galaxies\n",
    "ax.set_ylim([-2,2])\n",
    "ax.set_xlim([19,27])\n",
    "ax.set_ylabel('r-i')\n",
    "ax.set_xlabel('r')\n",
    "ax.plot([19,24],[0.4,0.3], color='r', linewidth=0.7)\n",
    "ax.plot([19,24],[0.6,0.5], color='r', linewidth=0.7)"
   ]
  },
  {
   "cell_type": "markdown",
   "id": "154c23e9-caf3-42bd-ac24-374f6fbee153",
   "metadata": {},
   "source": [
    "## Remove red sequence galaxies in the full field\n",
    "\n",
    "For the analysis, we'll keep source galaxies within 0.5 deg from the BCG. Now we apply the RS cut defined on the small region above to the full field of the analysis. The RS-free catalog is stored as `merged_cat_wl`. The lensing quality cuts will be performed in a subsequent step. "
   ]
  },
  {
   "cell_type": "code",
   "execution_count": 13,
   "id": "150c83a6-a33f-412a-a34a-3e54fe9721b1",
   "metadata": {
    "execution": {
     "iopub.execute_input": "2025-07-04T03:48:24.368188Z",
     "iopub.status.busy": "2025-07-04T03:48:24.367872Z",
     "iopub.status.idle": "2025-07-04T03:48:24.590152Z",
     "shell.execute_reply": "2025-07-04T03:48:24.589586Z",
     "shell.execute_reply.started": "2025-07-04T03:48:24.368172Z"
    }
   },
   "outputs": [],
   "source": [
    "filt = sep.deg < 0.5 # larger field for analysis\n",
    "merged_cat_wl = merged_cat[filt]"
   ]
  },
  {
   "cell_type": "code",
   "execution_count": 14,
   "id": "2395f01c-04c5-4bbe-bdda-7bef379331ff",
   "metadata": {
    "execution": {
     "iopub.execute_input": "2025-07-04T03:48:25.648911Z",
     "iopub.status.busy": "2025-07-04T03:48:25.648613Z",
     "iopub.status.idle": "2025-07-04T03:48:25.760076Z",
     "shell.execute_reply": "2025-07-04T03:48:25.759494Z",
     "shell.execute_reply.started": "2025-07-04T03:48:25.648896Z"
    }
   },
   "outputs": [],
   "source": [
    "mag_i = -2.50 * np.log10(merged_cat_wl['i_cModelFlux']) + 31.4\n",
    "mag_r = -2.50 * np.log10(merged_cat_wl['r_cModelFlux']) + 31.4\n",
    "color = mag_r - mag_i\n",
    "\n",
    "# Filter defined above applied to the full sample\n",
    "rs_hi = 0.6 - (0.1/5.) * (mag_r-19)\n",
    "rs_low = 0.4 - (0.1/5.)* (mag_r-19)\n",
    "\n",
    "idx = np.where(np.logical_and(color>rs_low, color<rs_hi))[0]\n",
    "idx2 = np.where(mag_r.iloc[idx] < 23)[0] # keep the brightest objects only"
   ]
  },
  {
   "cell_type": "code",
   "execution_count": 15,
   "id": "9bdc7359-5f3d-4498-aefb-5a00cf34c0b9",
   "metadata": {
    "execution": {
     "iopub.execute_input": "2025-07-04T03:48:26.582135Z",
     "iopub.status.busy": "2025-07-04T03:48:26.581923Z",
     "iopub.status.idle": "2025-07-04T03:48:28.510483Z",
     "shell.execute_reply": "2025-07-04T03:48:28.509904Z",
     "shell.execute_reply.started": "2025-07-04T03:48:26.582120Z"
    }
   },
   "outputs": [
    {
     "data": {
      "text/plain": [
       "[<matplotlib.lines.Line2D at 0x7f7d3978a750>]"
      ]
     },
     "execution_count": 15,
     "metadata": {},
     "output_type": "execute_result"
    },
    {
     "data": {
      "image/png": "[encoded data removed]",
      "text/plain": [
       "<Figure size 400x400 with 1 Axes>"
      ]
     },
     "metadata": {},
     "output_type": "display_data"
    }
   ],
   "source": [
    "fig, ax = plt.subplots(nrows=1, ncols=1, \n",
    "                         figsize=(4,4))\n",
    "ax.scatter(mag_r, mag_r-mag_i, marker='.', s=0.3) # all galaxies  \n",
    "ax.scatter(mag_r.iloc[idx].iloc[idx2], \n",
    "           mag_r.iloc[idx].iloc[idx2]-mag_i.iloc[idx].iloc[idx2], \n",
    "           marker='.', s=0.3) #red sequence galaxies\n",
    "ax.set_ylim([-2,2])\n",
    "ax.set_xlim([19,27])\n",
    "ax.set_ylabel('r-i')\n",
    "ax.set_xlabel('r')\n",
    "ax.plot([19,24],[0.4,0.3], color='r', linewidth=0.7)\n",
    "ax.plot([19,24],[0.6,0.5], color='r', linewidth=0.7)"
   ]
  },
  {
   "cell_type": "code",
   "execution_count": 16,
   "id": "5a56544c-49a5-4f5f-a61e-ed8d1caf02eb",
   "metadata": {
    "execution": {
     "iopub.execute_input": "2025-07-04T03:48:30.180667Z",
     "iopub.status.busy": "2025-07-04T03:48:30.180448Z",
     "iopub.status.idle": "2025-07-04T03:48:30.191348Z",
     "shell.execute_reply": "2025-07-04T03:48:30.190876Z",
     "shell.execute_reply.started": "2025-07-04T03:48:30.180651Z"
    }
   },
   "outputs": [],
   "source": [
    "RS_id_list = merged_cat_wl['objectId'].iloc[idx].iloc[idx2]"
   ]
  },
  {
   "cell_type": "code",
   "execution_count": 17,
   "id": "e3e3236a-398e-47d5-9e7d-1e4bc4e38b11",
   "metadata": {
    "execution": {
     "iopub.execute_input": "2025-07-04T03:48:31.405882Z",
     "iopub.status.busy": "2025-07-04T03:48:31.405521Z",
     "iopub.status.idle": "2025-07-04T03:48:31.409977Z",
     "shell.execute_reply": "2025-07-04T03:48:31.409432Z",
     "shell.execute_reply.started": "2025-07-04T03:48:31.405864Z"
    }
   },
   "outputs": [
    {
     "data": {
      "text/plain": [
       "157700"
      ]
     },
     "execution_count": 17,
     "metadata": {},
     "output_type": "execute_result"
    }
   ],
   "source": [
    "len(RS_id_list)"
   ]
  },
  {
   "cell_type": "code",
   "execution_count": 18,
   "id": "33932b2e-f50f-4584-9247-758ab488d2df",
   "metadata": {
    "execution": {
     "iopub.execute_input": "2025-07-04T03:48:31.784875Z",
     "iopub.status.busy": "2025-07-04T03:48:31.784573Z",
     "iopub.status.idle": "2025-07-04T03:48:32.017270Z",
     "shell.execute_reply": "2025-07-04T03:48:32.016755Z",
     "shell.execute_reply.started": "2025-07-04T03:48:31.784860Z"
    }
   },
   "outputs": [],
   "source": [
    "# Filter out rows where the 'dataid' column matches any value in RS_id_list\n",
    "merged_cat_wl = merged_cat_wl[~merged_cat_wl['objectId'].isin(RS_id_list)]"
   ]
  },
  {
   "cell_type": "markdown",
   "id": "538590f5-86e8-408d-8086-907d16dbeba4",
   "metadata": {},
   "source": [
    "## Lensing cuts\n",
    "\n",
    "The RS sequence has been removed. Now apply a series of lensing cuts (mostly following Shenming's [CLMM HSC demo analysis](https://github.com/LSSTDESC/CLMM/blob/main/examples/mass_fitting/Example4_Fit_Halo_mass_to_HSC_data.ipynb), but missing some at the moment), to the `merged_cat_wl` catalog. There might be more cuts to implement to improve sample purity."
   ]
  },
  {
   "cell_type": "code",
   "execution_count": 19,
   "id": "67aee903-ea0f-4006-8986-300b280eb473",
   "metadata": {
    "execution": {
     "iopub.execute_input": "2025-07-04T03:48:33.250679Z",
     "iopub.status.busy": "2025-07-04T03:48:33.250342Z",
     "iopub.status.idle": "2025-07-04T03:48:33.254175Z",
     "shell.execute_reply": "2025-07-04T03:48:33.253716Z",
     "shell.execute_reply.started": "2025-07-04T03:48:33.250661Z"
    }
   },
   "outputs": [
    {
     "data": {
      "text/plain": [
       "3331093"
      ]
     },
     "execution_count": 19,
     "metadata": {},
     "output_type": "execute_result"
    }
   ],
   "source": [
    "len(merged_cat_wl)"
   ]
  },
  {
   "cell_type": "code",
   "execution_count": 20,
   "id": "aa55d85a-fd19-4fe6-b878-0daaeea4a3d8",
   "metadata": {
    "execution": {
     "iopub.execute_input": "2025-07-04T03:48:34.307162Z",
     "iopub.status.busy": "2025-07-04T03:48:34.306582Z",
     "iopub.status.idle": "2025-07-04T03:48:34.463801Z",
     "shell.execute_reply": "2025-07-04T03:48:34.463252Z",
     "shell.execute_reply.started": "2025-07-04T03:48:34.307143Z"
    }
   },
   "outputs": [
    {
     "name": "stdout",
     "output_type": "stream",
     "text": [
      "Source sample size: 764266\n"
     ]
    }
   ],
   "source": [
    "# Compute again magnitudes, but for the RS-free catalog\n",
    "mag_i = -2.50 * np.log10(merged_cat_wl['i_cModelFlux']) + 31.4\n",
    "mag_r = -2.50 * np.log10(merged_cat_wl['r_cModelFlux']) + 31.4\n",
    "\n",
    "# Filters to keep sources with good-quality measured shape in i band\n",
    "source_filt = np.isfinite(merged_cat_wl['i_hsmShapeRegauss_e1'])\n",
    "source_filt &= np.isfinite(merged_cat_wl['i_hsmShapeRegauss_e2'])\n",
    "source_filt &= np.sqrt(merged_cat_wl['i_hsmShapeRegauss_e1']**2 + merged_cat_wl['i_hsmShapeRegauss_e2']**2) < 4\n",
    "source_filt &= merged_cat_wl['i_hsmShapeRegauss_sigma']<= 0.4 \n",
    "source_filt &= merged_cat_wl['i_hsmShapeRegauss_flag'] == 0\n",
    "source_filt &= merged_cat_wl['i_blendedness'] < 0.42\n",
    "source_filt &= merged_cat_wl['i_iPSF_flag']==0\n",
    "\n",
    "# Resolution factor quality cut - according to Mandelbaum (2018) paper:\n",
    "# \"we use the resolution factor R2 which is defined using the trace of the moment matrix of the PSF TP and \n",
    "# of the observed (PSF-convolved) galaxy image TI as: R2 = 1- TP/TI\"\n",
    "# Best guess to translate that in terms of ComCam objectTable catalog output...\n",
    "\n",
    "res = 1 - (merged_cat_wl['i_ixxPSF']+ merged_cat_wl['i_iyyPSF']) / (merged_cat_wl['i_ixx']+ merged_cat_wl['i_iyy'])\n",
    "source_filt &= res >= 0.3\n",
    "\n",
    "# NB: Resolution needs to be double checked. As pointed out by Anthony, \n",
    "# the 'ext_shapeHSM_HsmShapeRegauss_resolution' column exists in \n",
    "# the deepCoadd_obj 'meas' table  but not in the objectTable table. Would need a match between the two to\n",
    "# pull the resolution directly from the meas table rather than recomputing it here (comparing the two \n",
    "# would be a good check of whether the formula below is the right one to use). To be done/investigated.\n",
    "\n",
    "source_filt &= mag_i <= 24.5\n",
    "#source_filt &= mag_i > 20. # to remove the brightest objects that are likely foreground objects\n",
    "\n",
    "print(f'Source sample size: {np.sum(source_filt)}')"
   ]
  },
  {
   "cell_type": "markdown",
   "id": "8b041b07-feb2-4f79-8c26-dd0ac50af6d0",
   "metadata": {},
   "source": [
    "### Final source sample CMD, (ra,dec) distribution, etc."
   ]
  },
  {
   "cell_type": "code",
   "execution_count": 21,
   "id": "9afff352-325d-4937-95f4-e7b67f769444",
   "metadata": {
    "execution": {
     "iopub.execute_input": "2025-07-04T03:48:40.773386Z",
     "iopub.status.busy": "2025-07-04T03:48:40.773049Z",
     "iopub.status.idle": "2025-07-04T03:48:41.275972Z",
     "shell.execute_reply": "2025-07-04T03:48:41.275540Z",
     "shell.execute_reply.started": "2025-07-04T03:48:40.773360Z"
    }
   },
   "outputs": [
    {
     "data": {
      "text/plain": [
       "Text(0.5, 0, 'r')"
      ]
     },
     "execution_count": 21,
     "metadata": {},
     "output_type": "execute_result"
    },
    {
     "data": {
      "image/png": "[encoded data removed]",
      "text/plain": [
       "<Figure size 400x400 with 1 Axes>"
      ]
     },
     "metadata": {},
     "output_type": "display_data"
    }
   ],
   "source": [
    "fig, ax = plt.subplots(nrows=1, ncols=1, \n",
    "                         figsize=(4,4))\n",
    "ax.scatter(mag_r[source_filt], mag_r[source_filt]-mag_i[source_filt], marker='.', s=0.3) # all galaxies  \n",
    "ax.set_ylim([-1,2])\n",
    "ax.set_xlim([18,27])\n",
    "ax.set_ylabel('r-i')\n",
    "ax.set_xlabel('r')"
   ]
  },
  {
   "cell_type": "code",
   "execution_count": 22,
   "id": "66c9a61a-9fe0-415d-9f5d-a479d68b8769",
   "metadata": {
    "execution": {
     "iopub.execute_input": "2025-07-04T03:48:43.762973Z",
     "iopub.status.busy": "2025-07-04T03:48:43.762448Z",
     "iopub.status.idle": "2025-07-04T03:48:43.875876Z",
     "shell.execute_reply": "2025-07-04T03:48:43.875310Z",
     "shell.execute_reply.started": "2025-07-04T03:48:43.762940Z"
    }
   },
   "outputs": [],
   "source": [
    "ra = merged_cat_wl['coord_ra'][source_filt]\n",
    "dec = merged_cat_wl['coord_dec'][source_filt]\n",
    "e1 = merged_cat_wl['i_hsmShapeRegauss_e1'][source_filt]\n",
    "e2 = merged_cat_wl['i_hsmShapeRegauss_e2'][source_filt]\n",
    "e_err = merged_cat_wl['i_hsmShapeRegauss_sigma'][source_filt]"
   ]
  },
  {
   "cell_type": "code",
   "execution_count": 23,
   "id": "9063095f-9f59-4af6-bd3e-90dd47f2959c",
   "metadata": {
    "execution": {
     "iopub.execute_input": "2025-07-04T03:48:44.377962Z",
     "iopub.status.busy": "2025-07-04T03:48:44.377165Z",
     "iopub.status.idle": "2025-07-04T03:48:44.862442Z",
     "shell.execute_reply": "2025-07-04T03:48:44.861978Z",
     "shell.execute_reply.started": "2025-07-04T03:48:44.377946Z"
    },
    "scrolled": true
   },
   "outputs": [
    {
     "data": {
      "text/plain": [
       "<matplotlib.collections.PathCollection at 0x7f7d6476df70>"
      ]
     },
     "execution_count": 23,
     "metadata": {},
     "output_type": "execute_result"
    },
    {
     "data": {
      "image/png": "[encoded data removed]",
      "text/plain": [
       "<Figure size 640x480 with 1 Axes>"
      ]
     },
     "metadata": {},
     "output_type": "display_data"
    }
   ],
   "source": [
    "plt.scatter(ra, dec, marker='.', s=0.2)\n",
    "plt.scatter([ra_bcg], [dec_bcg], marker='+', s=100, color='orange')"
   ]
  },
  {
   "cell_type": "markdown",
   "id": "2b93fb66-2d1b-49e4-8a61-d67942ef6b2d",
   "metadata": {
    "execution": {
     "iopub.execute_input": "2025-02-27T15:54:39.992227Z",
     "iopub.status.busy": "2025-02-27T15:54:39.991847Z",
     "iopub.status.idle": "2025-02-27T15:54:39.993946Z",
     "shell.execute_reply": "2025-02-27T15:54:39.993660Z",
     "shell.execute_reply.started": "2025-02-27T15:54:39.992214Z"
    }
   },
   "source": [
    "## Apply HSC shear calibration"
   ]
  },
  {
   "cell_type": "markdown",
   "id": "228c99a9-d60f-40c7-adbb-a2fdd0261f32",
   "metadata": {},
   "source": [
    "### Save source catalog `merged_cat_wl` as fits file to use as input for the HSC calibration script."
   ]
  },
  {
   "cell_type": "code",
   "execution_count": 24,
   "id": "61ee3b7a-16be-4ef1-be44-dd382ca44efa",
   "metadata": {
    "execution": {
     "iopub.execute_input": "2025-07-04T03:48:54.333851Z",
     "iopub.status.busy": "2025-07-04T03:48:54.333516Z",
     "iopub.status.idle": "2025-07-04T03:48:55.548618Z",
     "shell.execute_reply": "2025-07-04T03:48:55.547893Z",
     "shell.execute_reply.started": "2025-07-04T03:48:54.333833Z"
    }
   },
   "outputs": [],
   "source": [
    "from astropy.io import fits\n",
    "from astropy.table import Table, vstack\n",
    "import pandas as pd\n",
    "\n",
    "# Too many columns in the pandas dataframe. Remove some unecessary ones.\n",
    "import re\n",
    "# Define pattern (example: drop all columns starting with \"temp_\")\n",
    "pattern = r\"^g_|^z_\"  \n",
    "# Drop columns matching the pattern\n",
    "merged_cat_wl = merged_cat_wl.drop(columns=[col for col in merged_cat_wl.columns if re.match(pattern, col)])\n",
    "\n",
    "astropy_table = Table.from_pandas(merged_cat_wl[source_filt])\n",
    "astropy_table.write('source_sample.fits', format=\"fits\", overwrite=True)"
   ]
  },
  {
   "cell_type": "markdown",
   "id": "7678b645-c6a5-4bff-845b-8c87811d6a92",
   "metadata": {},
   "source": [
    "Now that the source_sample.fits file exists, need to use the HSC calibration in the command line. The `get_snr, get_res, get_psf_ellip` functions in the `utilities.py` file from the HSC calibration repo first need to be updated to use the column names of DP1. Then run:\n",
    "```\n",
    "python gen_hsc_calibrations.py source_sample.fits source_sample_calib.fits\n",
    "```\n",
    "which will create the `source_sample_calib.fits` file that is read below."
   ]
  },
  {
   "cell_type": "markdown",
   "id": "50b42c91-e617-459a-9fd2-9bcd873abe1f",
   "metadata": {
    "execution": {
     "iopub.execute_input": "2025-03-11T08:50:49.871749Z",
     "iopub.status.busy": "2025-03-11T08:50:49.871448Z",
     "iopub.status.idle": "2025-03-11T08:50:49.873940Z",
     "shell.execute_reply": "2025-03-11T08:50:49.873606Z",
     "shell.execute_reply.started": "2025-03-11T08:50:49.871734Z"
    }
   },
   "source": [
    "### Read in the calibration quantities and apply the calibration"
   ]
  },
  {
   "cell_type": "code",
   "execution_count": 25,
   "id": "5d8aeb9a-de58-4fca-88e0-dbf7486f3235",
   "metadata": {
    "execution": {
     "iopub.execute_input": "2025-07-04T03:50:55.063874Z",
     "iopub.status.busy": "2025-07-04T03:50:55.063536Z",
     "iopub.status.idle": "2025-07-04T03:50:55.103505Z",
     "shell.execute_reply": "2025-07-04T03:50:55.102981Z",
     "shell.execute_reply.started": "2025-07-04T03:50:55.063859Z"
    }
   },
   "outputs": [
    {
     "name": "stdout",
     "output_type": "stream",
     "text": [
      "Number of sources with calibration: 764266\n"
     ]
    }
   ],
   "source": [
    "from astropy.io import fits\n",
    "from astropy.table import Table, vstack\n",
    "import pandas as pd\n",
    "\n",
    "with fits.open('source_sample_calib.fits') as hdul:\n",
    "    # Assuming data is in the first HDU (if not, change the index as needed)\n",
    "    data = hdul[1].data\n",
    "\n",
    "    # Convert the FITS data to an Astropy Table\n",
    "    table = Table(data)\n",
    "\n",
    "e_rms = table[\"ishape_hsm_regauss_derived_rms_e\"]\n",
    "m = table[\"ishape_hsm_regauss_derived_shear_bias_m\"]\n",
    "c1 = table[\"ishape_hsm_regauss_derived_shear_bias_c1\"]\n",
    "c2 = table[\"ishape_hsm_regauss_derived_shear_bias_c2\"]\n",
    "weight = table[\"ishape_hsm_regauss_derived_shape_weight\"]\n",
    "\n",
    "to_use = np.isfinite(weight)*np.isfinite(e_rms)*np.isfinite(m)*np.isfinite(c1)*np.isfinite(c2)\n",
    "\n",
    "e1_0 = e1[to_use]\n",
    "e2_0 = e2[to_use]\n",
    "e_rms = e_rms[to_use]\n",
    "c1 = c1[to_use]\n",
    "c2 = c2[to_use]\n",
    "m = m[to_use]\n",
    "weight = weight[to_use]\n",
    "\n",
    "print(f'Number of sources with calibration: {np.sum(to_use)}')"
   ]
  },
  {
   "cell_type": "code",
   "execution_count": 26,
   "id": "521c3ff7-b4df-49ea-ba0b-f0adb93b564b",
   "metadata": {
    "execution": {
     "iopub.execute_input": "2025-07-04T03:50:58.425612Z",
     "iopub.status.busy": "2025-07-04T03:50:58.425263Z",
     "iopub.status.idle": "2025-07-04T03:50:58.429158Z",
     "shell.execute_reply": "2025-07-04T03:50:58.428754Z",
     "shell.execute_reply.started": "2025-07-04T03:50:58.425594Z"
    }
   },
   "outputs": [],
   "source": [
    "# From Shenming's CLMM demo on using HSC data\n",
    "def apply_shear_calibration(e1_0, e2_0, e_rms, m, c1, c2, weight):\n",
    "    R = 1.0 - np.sum(weight * e_rms**2.0) / np.sum(weight)\n",
    "    m_mean = np.sum(weight * m) / np.sum(weight)\n",
    "    c1_mean = np.sum(weight * c1) / np.sum(weight)\n",
    "    c2_mean = np.sum(weight * c2) / np.sum(weight)\n",
    "    print(\"R, m_mean, c1_mean, c2_mean: \", R, m_mean, c1_mean, c2_mean)\n",
    "\n",
    "    g1 = (e1_0 / (2.0 * R) - c1) / (1.0 + m_mean)\n",
    "    g2 = (e2_0 / (2.0 * R) - c2) / (1.0 + m_mean)\n",
    "\n",
    "    return g1, g2"
   ]
  },
  {
   "cell_type": "code",
   "execution_count": 27,
   "id": "0713af3e-07ce-4a4c-b758-059625117444",
   "metadata": {
    "execution": {
     "iopub.execute_input": "2025-07-04T03:50:58.986975Z",
     "iopub.status.busy": "2025-07-04T03:50:58.986730Z",
     "iopub.status.idle": "2025-07-04T03:50:59.008353Z",
     "shell.execute_reply": "2025-07-04T03:50:59.007828Z",
     "shell.execute_reply.started": "2025-07-04T03:50:58.986958Z"
    }
   },
   "outputs": [
    {
     "name": "stdout",
     "output_type": "stream",
     "text": [
      "R, m_mean, c1_mean, c2_mean:  0.840546104715675 -0.2667317649344134 -0.0007951414865831405 -7.599909516437531e-05\n"
     ]
    }
   ],
   "source": [
    "g1, g2 = apply_shear_calibration(e1_0, e2_0, e_rms, m, c1, c2, weight)"
   ]
  },
  {
   "cell_type": "code",
   "execution_count": 28,
   "id": "666f65e6-8be6-43af-b925-aa6fe7af5162",
   "metadata": {
    "execution": {
     "iopub.execute_input": "2025-07-04T03:50:59.378577Z",
     "iopub.status.busy": "2025-07-04T03:50:59.378131Z",
     "iopub.status.idle": "2025-07-04T03:50:59.701990Z",
     "shell.execute_reply": "2025-07-04T03:50:59.701578Z",
     "shell.execute_reply.started": "2025-07-04T03:50:59.378561Z"
    }
   },
   "outputs": [
    {
     "data": {
      "text/plain": [
       "<matplotlib.legend.Legend at 0x7f7d647bfb60>"
      ]
     },
     "execution_count": 28,
     "metadata": {},
     "output_type": "execute_result"
    },
    {
     "data": {
      "image/png": "[encoded data removed]",
      "text/plain": [
       "<Figure size 640x480 with 1 Axes>"
      ]
     },
     "metadata": {},
     "output_type": "display_data"
    }
   ],
   "source": [
    "plt.hist(e1[to_use], bins=100, alpha=0.2, range=[-2, 2], label='e1');\n",
    "plt.hist(g1, bins=100, alpha=0.2,range=[-2, 2], label='g1 - calibrated');\n",
    "plt.legend()"
   ]
  },
  {
   "cell_type": "markdown",
   "id": "d7f38364-786a-43a2-ae1c-2d21785ed55b",
   "metadata": {},
   "source": [
    "## Mass Aperture Statistics"
   ]
  },
  {
   "cell_type": "markdown",
   "id": "9894bd21-bfd7-497c-99ab-b8ec4f4011dd",
   "metadata": {},
   "source": [
    "Mass aperture statistics are one way of mapping the distribution of dark matter across a cluster, it's an integral statistic which convolves the observed shears with a filter optimized to match a given profile. For LoVoCCS (which I'll borrow here), we normally use a 'Schirmer filter' (Schirmer+04, Hetterscheidt+05, Schirmer+06, McCleary+18, Fu+22, Fu+24)"
   ]
  },
  {
   "cell_type": "code",
   "execution_count": 121,
   "id": "b637bfb6-799b-4e15-8a08-02801eba2993",
   "metadata": {
    "execution": {
     "iopub.execute_input": "2025-07-04T04:53:37.621808Z",
     "iopub.status.busy": "2025-07-04T04:53:37.621387Z",
     "iopub.status.idle": "2025-07-04T04:53:37.624507Z",
     "shell.execute_reply": "2025-07-04T04:53:37.624171Z",
     "shell.execute_reply.started": "2025-07-04T04:53:37.621790Z"
    }
   },
   "outputs": [],
   "source": [
    "def schirmer_filter(radius,aperture_size=8000,x_cut=0.15,a=6,b=150,c=47,d=50,*_):\n",
    "    '''\n",
    "    The Schirmer Filter, a filter which is optimized for detecting NFW-like structures in shear-fields.\n",
    "    \n",
    "    Args:\n",
    "        radius: Numpy array; an array of radii to evaluate the filter on\n",
    "        aperture_size: float-like; the 'schirmer-radius' of the filter\n",
    "        x_cut: float-like; specifies the filter-sloap and sets the characteristic-scale of the filter to x_cut*smoothing\n",
    "    \n",
    "    Returns:\n",
    "        Q; Numpy array; an array containing the filter evaluated at each radius\n",
    "    \n",
    "    '''\n",
    "    \n",
    "    x = radius/aperture_size\n",
    "    Q = ( 1/( 1 + np.exp(a - b*x) + np.exp(-c + d*x)) )*( np.tanh(x/x_cut)/(x/x_cut) )\n",
    "    return Q"
   ]
  },
  {
   "cell_type": "markdown",
   "id": "9924383f-07c0-4fad-9661-73ad4d41ec7a",
   "metadata": {},
   "source": [
    "For the time being, I'll write this to work on a flat-sky approximation since we're only dealing with a ~0.5deg cutout surrounding the cluster. This uses a direct estimator for the aperture mass statistic at each point and evaluates it on a series of \"grid-points\" specified by the user"
   ]
  },
  {
   "cell_type": "code",
   "execution_count": 122,
   "id": "5f84e717-295a-42fc-8e2f-4f62d4082f2b",
   "metadata": {
    "execution": {
     "iopub.execute_input": "2025-07-04T04:53:38.171278Z",
     "iopub.status.busy": "2025-07-04T04:53:38.170557Z",
     "iopub.status.idle": "2025-07-04T04:53:38.176463Z",
     "shell.execute_reply": "2025-07-04T04:53:38.175984Z",
     "shell.execute_reply.started": "2025-07-04T04:53:38.171249Z"
    }
   },
   "outputs": [],
   "source": [
    "def compute_mass_map(x_grid,y_grid,x,y,g1,g2,weights,q_filter,filter_kwargs={}):\n",
    "    '''\n",
    "    This function computes the mass aperture-statistics at each point on a specified grid. Run quality-cuts, NaN filtering, etc. before this step!\n",
    "    \n",
    "    Args:\n",
    "        x: Numpy array; an array of x-coordinates for each object\n",
    "        y: Numpy array; an array of y-coordinates for each object\n",
    "        x_grid: Numpy array; an NxM array of x-coordinates to sample the aperture-mass on\n",
    "        y_grid: Numpy array; an NxM array of y-coordinates to sample the aperture-mass on\n",
    "        g1; Numpy array; the shear g1 for each object\n",
    "        g2; Numpy array; the shear g2 for each object\n",
    "        weights: Numpy array; the weight for each object's shear\n",
    "        q_filter; function; the filter-function used to compute Map\n",
    "        kwargs; dict; kwargs passed to w_filter\n",
    "    \n",
    "    Returns:\n",
    "        Map_E: Numpy array; an NxM array containing the E-mode aperture mass evaluated at each grid-point\n",
    "        Map_B: Numpy array; an NxM array containing the B-mode aperture mass evaluated at each grid-point\n",
    "        Map_V: Numpy array; an NxM array containing the variance in the aperture mass evaluated at each grid-point\n",
    "\n",
    "    '''\n",
    "\n",
    "    y_shape = len(y_grid[:,0])\n",
    "    x_shape = len(x_grid[0,:])\n",
    "    \n",
    "    Map_E = np.zeros((y_shape,x_shape))\n",
    "    Map_B = np.zeros((y_shape,x_shape))\n",
    "    Map_V = np.zeros((y_shape,x_shape))\n",
    "    \n",
    "    if 'aperture_size' not in filter_kwargs:\n",
    "        filter_area = np.pi * (8000)**2\n",
    "    else:\n",
    "        filter_area = np.pi * filter_kwargs['aperture_size']**2\n",
    "    \n",
    "    # an extra catch for an objects assigned NaN g1/g2 just in case\n",
    "    nan_catch = np.isfinite(g1) & np.isfinite(g2)\n",
    "    x = x[nan_catch]\n",
    "    y = y[nan_catch]\n",
    "    g1 = g1[nan_catch]\n",
    "    g2 = g2[nan_catch]\n",
    "    weights = weights[nan_catch]\n",
    "    \n",
    "    for i in range(y_shape):\n",
    "        for j in range(x_shape):\n",
    "            delta_x = x_grid[j,i] - x\n",
    "            delta_y = y_grid[j,i] - y\n",
    "            radius = np.sqrt(delta_x**2 + delta_y**2)\n",
    "            theta = np.arctan2(delta_y,delta_x)\n",
    "            g_T = -g1*np.cos(2*theta) - g2*np.sin(2*theta)\n",
    "            g_X =  g1*np.sin(2*theta) - g2*np.cos(2*theta)\n",
    "            g_mag = g1**2 + g2**2\n",
    "            \n",
    "            filter_values = q_filter(radius,**filter_kwargs)\n",
    "\n",
    "            weight_sum = np.sum(weights)\n",
    "            \n",
    "            Map_E[i,j] = np.sum(filter_values*g_T*weights)*filter_area/weight_sum\n",
    "            Map_B[i,j] = np.sum(filter_values*g_X*weights)*filter_area/weight_sum\n",
    "            Map_V[i,j] = np.sum( (filter_values**2)*g_mag*(weights**2) )*(filter_area**2)/(2*(weight_sum**2))\n",
    "            \n",
    "    return Map_E, Map_B, Map_V"
   ]
  },
  {
   "cell_type": "markdown",
   "id": "cc6a3571-8a1b-4685-bb50-7798f1a5ac84",
   "metadata": {},
   "source": [
    "Let's define a grid of x and y coordinates from the catalog of selected galaxies"
   ]
  },
  {
   "cell_type": "code",
   "execution_count": 141,
   "id": "4415a52a-e0e0-4237-a6a7-9a4fc63c0d74",
   "metadata": {
    "execution": {
     "iopub.execute_input": "2025-07-04T05:00:40.379106Z",
     "iopub.status.busy": "2025-07-04T05:00:40.378532Z",
     "iopub.status.idle": "2025-07-04T05:00:40.541410Z",
     "shell.execute_reply": "2025-07-04T05:00:40.540908Z",
     "shell.execute_reply.started": "2025-07-04T05:00:40.379087Z"
    }
   },
   "outputs": [],
   "source": [
    "# first, setup a coordinates for a flat-sky in x and y\n",
    "# create a WCS and use the corresponding method to transform sky to px coords\n",
    "\n",
    "# load wcs from astropy\n",
    "from astropy.wcs import WCS\n",
    "from astropy.wcs.utils import skycoord_to_pixel\n",
    "\n",
    "# also load skycoord for the conversion\n",
    "from astropy.coordinates import SkyCoord\n",
    "\n",
    "# build wcs centered on BCG\n",
    "flat_wcs = WCS(naxis=2)\n",
    "crval_sky = [ra_bcg*u.deg,dec_bcg*u.deg]\n",
    "flat_wcs.wcs.crval = [ra_bcg,dec_bcg]\n",
    "flat_wcs.wcs.crpix = [0,0] # assign 0,0 to the center, shouldn't matter\n",
    "flat_wcs.wcs.cdelt = [-0.2/3600,0.2/3600] # match angular resolution of LSST, 0.2\"\n",
    "flat_wcs.wcs.ctype = [\"RA---TAN\", \"DEC--TAN\"]\n",
    "flat_wcs.wcs.radesys = 'ICRS'\n",
    "flat_wcs.wcs.equinox = 2000\n",
    "flat_wcs.wcs.cd = [[-0.2/3600,0],[0,0.2/3600]]\n",
    "\n",
    "# compute coords in the flat-sky\n",
    "coords = SkyCoord(ra=merged_cat_wl['coord_ra'][source_filt][to_use],dec=merged_cat_wl['coord_dec'][source_filt][to_use],unit='degree')\n",
    "x,y = skycoord_to_pixel(coords,wcs=flat_wcs)\n",
    "\n",
    "# scale these up to units of degrees to match mass_map spacing and make writing the aperture easier\n",
    "x = x * 0.2/3600\n",
    "y = y * 0.2/3600"
   ]
  },
  {
   "cell_type": "code",
   "execution_count": 153,
   "id": "ad5fbd91-499f-405f-9462-bdca1ddb9c19",
   "metadata": {
    "execution": {
     "iopub.execute_input": "2025-07-04T05:02:37.952625Z",
     "iopub.status.busy": "2025-07-04T05:02:37.952284Z",
     "iopub.status.idle": "2025-07-04T05:02:37.956108Z",
     "shell.execute_reply": "2025-07-04T05:02:37.955694Z",
     "shell.execute_reply.started": "2025-07-04T05:02:37.952606Z"
    }
   },
   "outputs": [],
   "source": [
    "# for now I'll weight everything uniformly\n",
    "weights = weight #np.ones(len(x))\n",
    "\n",
    "# Define an NxN grid centered on the cluster\n",
    "# Spans 1-deg centered at the BCG\n",
    "# scale so that its in pixel coordinates for computing\n",
    "N = 31\n",
    "\n",
    "mid_x = 0\n",
    "mid_y = 0\n",
    "x_grid_samples = np.linspace(mid_x-0.5,mid_x+0.5,N)\n",
    "y_grid_samples = np.linspace(mid_y-0.5,mid_y+0.5,N)\n",
    "y_grid,x_grid = np.meshgrid(y_grid_samples,x_grid_samples)"
   ]
  },
  {
   "cell_type": "markdown",
   "id": "ca8b860c-5d75-4cfb-96f9-261e175773a7",
   "metadata": {},
   "source": [
    "Define a WCS for this grid"
   ]
  },
  {
   "cell_type": "code",
   "execution_count": 154,
   "id": "b9be5387-35c2-464d-afdd-6786f5493a4c",
   "metadata": {
    "execution": {
     "iopub.execute_input": "2025-07-04T05:02:39.067324Z",
     "iopub.status.busy": "2025-07-04T05:02:39.067046Z",
     "iopub.status.idle": "2025-07-04T05:02:39.071240Z",
     "shell.execute_reply": "2025-07-04T05:02:39.070839Z",
     "shell.execute_reply.started": "2025-07-04T05:02:39.067309Z"
    }
   },
   "outputs": [],
   "source": [
    "# load wcs from astropy\n",
    "from astropy.wcs import WCS\n",
    "\n",
    "# build wcs centered on BCG\n",
    "Map_wcs = WCS(naxis=2)\n",
    "crval_sky = [ra_bcg*u.deg,dec_bcg*u.deg]\n",
    "Map_wcs.wcs.crval = [ra_bcg,dec_bcg]\n",
    "Map_wcs.wcs.crpix = [0,0]\n",
    "Map_wcs.wcs.cdelt = [-1/N,1/N]\n",
    "Map_wcs.wcs.ctype = [\"RA---TAN\", \"DEC--TAN\"]\n",
    "Map_wcs.wcs.radesys = 'ICRS'\n",
    "Map_wcs.wcs.equinox = 2000\n",
    "Map_wcs.wcs.cd = [[-1/N,0],[0,1/N]]"
   ]
  },
  {
   "cell_type": "code",
   "execution_count": 155,
   "id": "509af9eb-777b-4958-99f1-bebc9e1e7716",
   "metadata": {
    "execution": {
     "iopub.execute_input": "2025-07-04T05:02:39.529984Z",
     "iopub.status.busy": "2025-07-04T05:02:39.529654Z",
     "iopub.status.idle": "2025-07-04T05:04:25.568375Z",
     "shell.execute_reply": "2025-07-04T05:04:25.567838Z",
     "shell.execute_reply.started": "2025-07-04T05:02:39.529958Z"
    }
   },
   "outputs": [],
   "source": [
    "# this takes a minute to run\n",
    "e_ap,b_ap,v_ap = compute_mass_map(x_grid,y_grid,x,y,g1,g2,weights,schirmer_filter,filter_kwargs={'aperture_size':0.6})"
   ]
  },
  {
   "cell_type": "markdown",
   "id": "cf555c48-1ec4-42ed-a775-0734795331f2",
   "metadata": {},
   "source": [
    "Now we're all set to compute the MassMap"
   ]
  },
  {
   "cell_type": "code",
   "execution_count": 156,
   "id": "b747d5b5-0f59-447a-b5a7-0bd64e815577",
   "metadata": {
    "execution": {
     "iopub.execute_input": "2025-07-04T05:04:33.361948Z",
     "iopub.status.busy": "2025-07-04T05:04:33.361544Z",
     "iopub.status.idle": "2025-07-04T05:04:33.644655Z",
     "shell.execute_reply": "2025-07-04T05:04:33.643943Z",
     "shell.execute_reply.started": "2025-07-04T05:04:33.361916Z"
    }
   },
   "outputs": [
    {
     "data": {
      "image/png": "[encoded data removed]",
      "text/plain": [
       "<Figure size 1000x600 with 3 Axes>"
      ]
     },
     "metadata": {},
     "output_type": "display_data"
    }
   ],
   "source": [
    "fig, axs = plt.subplots(ncols=2,subplot_kw=dict(projection=Map_wcs),figsize=(10,6))\n",
    "\n",
    "ax = axs[0]\n",
    "ax.set_title('E-Mode SN')\n",
    "MapE = ax.imshow(e_ap/np.sqrt(v_ap),origin='lower',vmax=10,vmin=-2)\n",
    "\n",
    "lon = ax.coords[0]\n",
    "lat = ax.coords[1]\n",
    "\n",
    "lon.set_major_formatter('d.d')\n",
    "lat.set_major_formatter('d.d')\n",
    "lon.set_axislabel('RA')\n",
    "lat.set_axislabel('DEC')\n",
    "\n",
    "ax = axs[1]\n",
    "ax.set_title('B-Mode SN')\n",
    "MapB = ax.imshow(b_ap/np.sqrt(v_ap),origin='lower',vmax=100,vmin=-2)\n",
    "\n",
    "lon = ax.coords[0]\n",
    "lat = ax.coords[1]\n",
    "\n",
    "lon.set_major_formatter('d.d')\n",
    "lat.set_major_formatter('d.d')\n",
    "lon.set_axislabel('')\n",
    "lat.set_axislabel('')\n",
    "\n",
    "cbar = fig.colorbar(MapE, ax=axs,fraction=0.025)\n",
    "\n",
    "#fig.savefig('ACO360_mass_map.png',dpi=480)\n",
    "# woohoo, we have a signal!"
   ]
  },
  {
   "cell_type": "code",
   "execution_count": 137,
   "id": "99f922e0-f63a-4676-b50d-f469eaa127dd",
   "metadata": {
    "execution": {
     "iopub.execute_input": "2025-07-04T04:57:36.345871Z",
     "iopub.status.busy": "2025-07-04T04:57:36.345065Z",
     "iopub.status.idle": "2025-07-04T04:57:36.352017Z",
     "shell.execute_reply": "2025-07-04T04:57:36.351602Z",
     "shell.execute_reply.started": "2025-07-04T04:57:36.345850Z"
    }
   },
   "outputs": [
    {
     "data": {
      "text/plain": [
       "array([[1.12113347e-66, 1.51238335e-51, 4.62830068e-37, 1.66814392e-24,\n",
       "        3.11134813e-15, 2.42733759e-14, 8.06811433e-14, 1.73817746e-13,\n",
       "        3.03916952e-13, 3.67535756e-13, 2.81389766e-13, 3.20662989e-13,\n",
       "        3.41491826e-13, 2.09836696e-13, 9.56996795e-14, 2.74441854e-14,\n",
       "        2.55327367e-15, 5.06783943e-23, 3.89486328e-37, 1.22255597e-50,\n",
       "        5.26003641e-66],\n",
       "       [2.39390257e-52, 1.13425063e-35, 1.17508906e-20, 8.27516343e-15,\n",
       "        4.99280385e-14, 2.06579697e-13, 4.60885672e-13, 7.50069477e-13,\n",
       "        8.24628334e-13, 7.29775876e-13, 6.50637309e-13, 7.21950385e-13,\n",
       "        6.43744158e-13, 6.83200592e-13, 4.48140325e-13, 1.94207885e-13,\n",
       "        8.51392986e-14, 2.35977940e-14, 1.43609903e-19, 4.74763801e-35,\n",
       "        7.16076981e-51],\n",
       "       [5.72002411e-37, 1.69047623e-21, 1.36319523e-14, 6.36253975e-14,\n",
       "        2.11978274e-13, 5.31158793e-13, 9.72883756e-13, 8.35373564e-13,\n",
       "        9.13570055e-13, 9.38684561e-13, 7.36153675e-13, 6.46349450e-13,\n",
       "        7.33029280e-13, 7.02582671e-13, 6.77224569e-13, 6.31519103e-13,\n",
       "        4.98792393e-13, 1.60103435e-13, 3.30040469e-14, 5.92987805e-20,\n",
       "        5.92110472e-37],\n",
       "       [2.15764096e-23, 7.54699266e-15, 7.30606157e-14, 2.75296152e-13,\n",
       "        3.91277309e-13, 5.90203663e-13, 7.16868317e-13, 8.49904197e-13,\n",
       "        7.59118562e-13, 6.15531956e-13, 7.02850127e-13, 7.31375470e-13,\n",
       "        7.55180477e-13, 8.03749097e-13, 7.67981809e-13, 8.31708521e-13,\n",
       "        8.82769454e-13, 5.50424046e-13, 1.25197792e-13, 1.50402470e-14,\n",
       "        5.14130660e-24],\n",
       "       [3.01545650e-15, 4.84039362e-14, 2.29393288e-13, 5.08533160e-13,\n",
       "        4.91739461e-13, 4.93531426e-13, 4.83609931e-13, 6.53119550e-13,\n",
       "        6.30275774e-13, 7.61900424e-13, 6.08578818e-13, 6.19439938e-13,\n",
       "        6.62672294e-13, 7.03485131e-13, 7.38699479e-13, 8.03299941e-13,\n",
       "        8.75190469e-13, 6.34313858e-13, 3.52312298e-13, 5.90079151e-14,\n",
       "        2.17171975e-15],\n",
       "       [2.27598844e-14, 1.57835874e-13, 4.44606240e-13, 5.59496043e-13,\n",
       "        5.62519373e-13, 5.60764259e-13, 3.65043296e-13, 5.41292608e-13,\n",
       "        7.34112605e-13, 6.57020540e-13, 6.50370360e-13, 5.62319996e-13,\n",
       "        6.18406431e-13, 6.37336679e-13, 6.20290493e-13, 6.85124629e-13,\n",
       "        8.72088125e-13, 6.47037214e-13, 5.14211589e-13, 2.04856327e-13,\n",
       "        3.42253869e-14],\n",
       "       [5.26374728e-14, 3.18612430e-13, 4.92502944e-13, 5.82451606e-13,\n",
       "        5.09150471e-13, 6.63834096e-13, 5.76366632e-13, 6.92050445e-13,\n",
       "        7.33404725e-13, 7.29603487e-13, 5.41362846e-13, 5.69388112e-13,\n",
       "        5.75067777e-13, 5.43323965e-13, 6.12320671e-13, 5.55774465e-13,\n",
       "        6.93964694e-13, 6.63704480e-13, 6.98657039e-13, 5.93548795e-13,\n",
       "        8.24244977e-14],\n",
       "       [1.06768274e-13, 4.08513024e-13, 5.51628595e-13, 5.55126148e-13,\n",
       "        4.02582559e-13, 4.86581017e-13, 6.68509346e-13, 8.35200699e-13,\n",
       "        8.42466606e-13, 8.32389452e-13, 7.28545060e-13, 6.38817024e-13,\n",
       "        5.15873953e-13, 5.88186222e-13, 6.48538121e-13, 6.33576783e-13,\n",
       "        6.89360019e-13, 7.73590830e-13, 7.04702858e-13, 5.32447980e-13,\n",
       "        1.47994451e-13],\n",
       "       [1.84009683e-13, 4.43318935e-13, 5.27505600e-13, 5.98038100e-13,\n",
       "        5.16970208e-13, 5.25870407e-13, 6.83519288e-13, 8.97979899e-13,\n",
       "        8.82699067e-13, 9.08000875e-13, 7.98229723e-13, 7.56279985e-13,\n",
       "        6.71123214e-13, 7.81746575e-13, 6.87457075e-13, 6.24303250e-13,\n",
       "        7.46016888e-13, 6.37109582e-13, 6.41872505e-13, 6.25546144e-13,\n",
       "        2.56270389e-13],\n",
       "       [3.09152328e-13, 4.33328238e-13, 4.13696343e-13, 4.16759541e-13,\n",
       "        5.73977173e-13, 5.14384873e-13, 6.53534095e-13, 7.54219024e-13,\n",
       "        7.24082531e-13, 8.93646144e-13, 7.48760208e-13, 7.69455079e-13,\n",
       "        7.07619910e-13, 7.60822843e-13, 7.15473725e-13, 5.77314567e-13,\n",
       "        5.77399466e-13, 6.91467354e-13, 8.16633811e-13, 7.55523978e-13,\n",
       "        2.93732114e-13],\n",
       "       [2.83527044e-13, 5.44021643e-13, 3.89813347e-13, 4.48281190e-13,\n",
       "        4.88280129e-13, 4.70791928e-13, 7.04274207e-13, 6.36443103e-13,\n",
       "        6.72553982e-13, 6.62618109e-13, 6.28156109e-13, 8.34247885e-13,\n",
       "        8.31789054e-13, 8.53917897e-13, 7.85639553e-13, 6.70400684e-13,\n",
       "        6.74559005e-13, 7.69008559e-13, 7.44370045e-13, 6.95209890e-13,\n",
       "        3.47349677e-13],\n",
       "       [2.60549905e-13, 4.19629357e-13, 4.63125361e-13, 4.84060042e-13,\n",
       "        3.85242196e-13, 5.62103612e-13, 7.53076054e-13, 7.04317988e-13,\n",
       "        6.66630101e-13, 6.05608316e-13, 6.13307158e-13, 7.10375115e-13,\n",
       "        8.54238879e-13, 9.59616820e-13, 9.42390333e-13, 8.26535373e-13,\n",
       "        8.10540918e-13, 8.72853575e-13, 7.58639346e-13, 6.84700131e-13,\n",
       "        3.57518734e-13],\n",
       "       [1.95978223e-13, 4.86483288e-13, 4.12434429e-13, 3.43708590e-13,\n",
       "        3.86233573e-13, 5.49213502e-13, 8.69110794e-13, 8.02101114e-13,\n",
       "        6.96371623e-13, 5.86989630e-13, 5.83287508e-13, 6.28156573e-13,\n",
       "        8.47127428e-13, 1.11768793e-12, 8.91984781e-13, 9.02293787e-13,\n",
       "        9.27468247e-13, 9.43285768e-13, 8.02083152e-13, 7.17309349e-13,\n",
       "        2.89522022e-13],\n",
       "       [1.14609577e-13, 4.29157034e-13, 3.81822235e-13, 4.20090685e-13,\n",
       "        4.51728858e-13, 5.35939880e-13, 6.38237463e-13, 8.46971140e-13,\n",
       "        7.21234155e-13, 6.66450572e-13, 6.39385307e-13, 7.50137978e-13,\n",
       "        7.27000075e-13, 7.30417237e-13, 8.04630806e-13, 8.31043648e-13,\n",
       "        7.20883099e-13, 9.09483130e-13, 7.76966904e-13, 6.01352119e-13,\n",
       "        1.96466725e-13],\n",
       "       [4.55757144e-14, 2.22172085e-13, 3.67759910e-13, 4.42288117e-13,\n",
       "        5.15324107e-13, 5.32521555e-13, 7.42425514e-13, 7.51606530e-13,\n",
       "        8.85379928e-13, 7.44654459e-13, 8.46096010e-13, 6.90647091e-13,\n",
       "        7.17761404e-13, 7.27103316e-13, 6.61595281e-13, 7.15296599e-13,\n",
       "        5.78870085e-13, 7.28984578e-13, 5.48508907e-13, 3.73124792e-13,\n",
       "        8.62468488e-14],\n",
       "       [1.53693111e-14, 1.28855554e-13, 3.65657275e-13, 4.98406280e-13,\n",
       "        5.05835766e-13, 5.43492208e-13, 7.08331090e-13, 7.07236306e-13,\n",
       "        8.69710676e-13, 8.90504457e-13, 8.75501312e-13, 7.46391316e-13,\n",
       "        7.32771109e-13, 7.10758223e-13, 6.20619140e-13, 6.67647772e-13,\n",
       "        6.39192634e-13, 5.35524960e-13, 4.70010262e-13, 1.64020404e-13,\n",
       "        2.84127274e-14],\n",
       "       [2.09852704e-15, 4.35818013e-14, 2.30108792e-13, 4.89929860e-13,\n",
       "        5.47234517e-13, 5.05479396e-13, 8.28549137e-13, 1.04507102e-12,\n",
       "        9.25108852e-13, 1.09267242e-12, 9.93867267e-13, 8.09059603e-13,\n",
       "        7.03211859e-13, 7.58200636e-13, 5.93559520e-13, 7.78342723e-13,\n",
       "        8.13936918e-13, 5.45502217e-13, 2.56052129e-13, 5.50002517e-14,\n",
       "        2.33933531e-15],\n",
       "       [1.11618776e-24, 1.17265455e-14, 8.45748082e-14, 3.28172316e-13,\n",
       "        4.78234497e-13, 5.77243258e-13, 9.19077851e-13, 1.46963941e-12,\n",
       "        1.17502597e-12, 1.13014942e-12, 1.06556865e-12, 8.32540940e-13,\n",
       "        7.73834448e-13, 6.61534419e-13, 6.35509266e-13, 6.91817911e-13,\n",
       "        6.20133575e-13, 4.08529342e-13, 9.77727139e-14, 1.08981599e-14,\n",
       "        6.85536785e-24],\n",
       "       [9.84943227e-37, 4.20846874e-20, 1.82875402e-14, 8.77959366e-14,\n",
       "        3.51302362e-13, 5.84771566e-13, 1.09437902e-12, 1.63753484e-12,\n",
       "        1.37519995e-12, 9.67988769e-13, 9.81759616e-13, 7.24601614e-13,\n",
       "        6.83085350e-13, 6.47192653e-13, 5.86135803e-13, 4.92027515e-13,\n",
       "        2.76632632e-13, 1.03944555e-13, 2.09056758e-14, 1.12731231e-19,\n",
       "        5.12601876e-37],\n",
       "       [6.06115094e-51, 4.36350752e-35, 7.16680830e-20, 1.48324814e-14,\n",
       "        7.88435318e-14, 2.82737136e-13, 7.43164536e-13, 1.02145906e-12,\n",
       "        1.02176629e-12, 6.07142580e-13, 6.19858572e-13, 6.01791827e-13,\n",
       "        4.61538596e-13, 4.67619037e-13, 4.36731400e-13, 1.81888448e-13,\n",
       "        5.19691780e-14, 1.12688249e-14, 2.01871128e-20, 9.58181419e-35,\n",
       "        1.03268232e-50],\n",
       "       [5.04402316e-66, 7.29232395e-51, 3.50263764e-37, 1.59076937e-23,\n",
       "        3.76077912e-15, 4.55665316e-14, 1.15101874e-13, 1.86669790e-13,\n",
       "        1.97738596e-13, 1.59572155e-13, 1.59363150e-13, 1.36446398e-13,\n",
       "        9.97509775e-14, 8.55581458e-14, 6.42721798e-14, 2.68673037e-14,\n",
       "        2.15477749e-15, 2.35301714e-24, 2.88434819e-38, 3.36533022e-51,\n",
       "        9.08002944e-66]])"
      ]
     },
     "execution_count": 137,
     "metadata": {},
     "output_type": "execute_result"
    }
   ],
   "source": []
  },
  {
   "cell_type": "code",
   "execution_count": null,
   "id": "05f55477-56e5-48a4-a80f-98e0345e5cf1",
   "metadata": {},
   "outputs": [],
   "source": []
  }
 ],
 "metadata": {
  "kernelspec": {
   "display_name": "LSST",
   "language": "python",
   "name": "lsst"
  },
  "language_info": {
   "codemirror_mode": {
    "name": "ipython",
    "version": 3
   },
   "file_extension": ".py",
   "mimetype": "text/x-python",
   "name": "python",
   "nbconvert_exporter": "python",
   "pygments_lexer": "ipython3",
   "version": "3.12.11"
  }
 },
 "nbformat": 4,
 "nbformat_minor": 5
}
