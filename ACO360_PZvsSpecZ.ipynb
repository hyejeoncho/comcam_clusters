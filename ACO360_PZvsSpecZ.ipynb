{
 "cells": [
  {
   "cell_type": "markdown",
   "id": "8d62ddce-4b6e-4b1c-a8ee-69a91470a946",
   "metadata": {},
   "source": [
    "# A360 Red Sequence DESI Spec-z vs Photo-z \n",
    "\n",
    "Prakruth Adari, Tianqing Zhang, Anja von der Linden\\\n",
    "LSST Science Piplines version: Weekly 2025_20\\\n",
    "Container Size: large\n",
    "\n",
    "A quick look into the photo-z estimates and DESI spec-zs "
   ]
  },
  {
   "cell_type": "code",
   "execution_count": null,
   "id": "7f80d5fa-6da2-481d-86aa-c82b46b4464b",
   "metadata": {},
   "outputs": [],
   "source": [
    "!eups list -s | grep lsst_distrib"
   ]
  },
  {
   "cell_type": "code",
   "execution_count": null,
   "id": "b707f19c-5b9c-4bfc-bb77-a72925596695",
   "metadata": {},
   "outputs": [],
   "source": [
    "import numpy as np\n",
    "import astropy.units as u\n",
    "import matplotlib.pyplot as plt\n",
    "import matplotlib.patches as patches\n",
    "from scipy.spatial import KDTree\n",
    "import scipy.interpolate as interpolate\n",
    "from scipy.optimize import curve_fit\n",
    "import scipy.integrate as integrate\n",
    "import scipy.stats as stats\n",
    "import healpy as hp\n",
    "import pandas as pd\n",
    "from matplotlib import cm\n",
    "from astropy.visualization import make_lupton_rgb\n",
    "from matplotlib.legend_handler import HandlerLine2D\n",
    "from astropy.table import Table, join, vstack\n",
    "from astropy.io import fits\n",
    "from astropy.coordinates import SkyCoord\n",
    "# %matplotlib widget"
   ]
  },
  {
   "cell_type": "code",
   "execution_count": null,
   "id": "af8c4f31-b3c3-49da-9cc7-4e74f3fab1a9",
   "metadata": {},
   "outputs": [],
   "source": [
    "# Familiar stack packages\n",
    "from lsst.daf.butler import Butler\n",
    "from lsst.geom import Box2I, Box2D, Point2I, Point2D, Extent2I, Extent2D\n",
    "# from lsst.afw.image import Exposure, Image, PARENT\n",
    "import lsst.sphgeom\n",
    "\n",
    "# These may be less familiar objects dealing with multi-band data products\n",
    "from lsst.afw.image import MultibandExposure, MultibandImage"
   ]
  },
  {
   "cell_type": "code",
   "execution_count": null,
   "id": "1f193d6b-f666-4c9f-9dc5-628174f688d3",
   "metadata": {},
   "outputs": [],
   "source": [
    "# import lsst.afw.display as afwDisplay\n",
    "import os, sys"
   ]
  },
  {
   "cell_type": "code",
   "execution_count": null,
   "id": "48566091-264d-40f1-84ea-3b60493aca6a",
   "metadata": {},
   "outputs": [],
   "source": [
    "\n",
    "%matplotlib inline\n",
    "%config InlineBackend.figure_format='retina'\n"
   ]
  },
  {
   "cell_type": "code",
   "execution_count": null,
   "id": "4be5bc62-2285-422f-8c43-2c1190368df8",
   "metadata": {},
   "outputs": [],
   "source": [
    "hdir = os.getenv('HOME')\n",
    "ddir = '/home/a/adari/DATA'\n",
    "\n",
    "arcsec = 1/60**2\n",
    "\n",
    "rng = np.random.default_rng()"
   ]
  },
  {
   "cell_type": "code",
   "execution_count": null,
   "id": "af80672a-6a09-490d-85a9-7bdf650f6569",
   "metadata": {},
   "outputs": [],
   "source": [
    "cluster_coords = np.array([37.86501659859067, 6.982204815599694])"
   ]
  },
  {
   "cell_type": "markdown",
   "id": "c042cffb-34ca-4bb2-b5dd-359ad59f5226",
   "metadata": {},
   "source": [
    "### Loading in A360 Photo-z data \n",
    "\n",
    "Load in the photo-z table and label red sequence members"
   ]
  },
  {
   "cell_type": "code",
   "execution_count": null,
   "id": "63cc8bd7-5af1-45b1-832e-cfbc970e2612",
   "metadata": {},
   "outputs": [],
   "source": [
    "table = pd.read_parquet('/sdf/data/rubin/shared/cluster_commissioning/pz_fzb/a360_with_flexzboost_tpz_dp1_freeze.pq') \n",
    "table = Table.from_pandas(table)"
   ]
  },
  {
   "cell_type": "code",
   "execution_count": null,
   "id": "e7e6b1f5-90a5-42af-809b-496f83e9cc4f",
   "metadata": {},
   "outputs": [],
   "source": [
    "color_ri = table['r_mag'] - table['i_mag']\n",
    "color_gi = table['g_mag'] - table['i_mag']"
   ]
  },
  {
   "cell_type": "code",
   "execution_count": null,
   "id": "722af52c-0d35-4c3d-8c39-abfdfb71d2d0",
   "metadata": {},
   "outputs": [],
   "source": [
    "gi_rs = 1.6 - (0.07) * (table['i_mag']-21)\n",
    "gi_rs_hi = gi_rs + 0.22\n",
    "gi_rs_low = gi_rs - 0.12\n",
    "\n",
    "gi_rs_lbl = ((color_gi > gi_rs_low) * (color_gi < gi_rs_hi) * (table['i_mag'] < 24.5))\n",
    "\n",
    "ri_rs = 0.5 - (0.02) * (table['i_mag']-21)\n",
    "ri_rs_hi = ri_rs + 0.05\n",
    "ri_rs_low = ri_rs - 0.07\n",
    "\n",
    "ri_rs_lbl = ((color_ri > ri_rs_low) * (color_ri < ri_rs_hi) * (table['i_mag'] < 24.5))\n",
    "\n",
    "rigi_rs = ri_rs_lbl * gi_rs_lbl"
   ]
  },
  {
   "cell_type": "code",
   "execution_count": null,
   "id": "8ed73457-3cbf-4d91-ae2b-764b58ee6ff6",
   "metadata": {},
   "outputs": [],
   "source": [
    "color_ri = table['r_mag'] - table['i_mag']\n",
    "# c_rs_hi = 0.6 - (0.1/5.) * (table['r_mag']-19)\n",
    "# c_rs_low = 0.4 - (0.1/5.)* (table['r_mag']-19)\n",
    "\n",
    "c_rs_hi = 0.65 - (0.1/5.) * (table['r_mag']-19)\n",
    "c_rs_low = 0.42 - (0.1/5.)* (table['r_mag']-19)\n",
    "\n",
    "ri_rs = ((color_ri > c_rs_low) * (color_ri < c_rs_hi) * (table['r_mag'] < 23))"
   ]
  },
  {
   "cell_type": "code",
   "execution_count": null,
   "id": "8016e1a3-e27d-454c-a1ab-793328c510d5",
   "metadata": {},
   "outputs": [],
   "source": [
    "table['rigi_rs'] = rigi_rs\n",
    "table['ri_rs'] = ri_rs"
   ]
  },
  {
   "cell_type": "markdown",
   "id": "c24bf93d-df96-4f3e-ab71-532c6c269112",
   "metadata": {},
   "source": [
    "### Load DESI Spec-z Data\n",
    "\n",
    "The LRG and BGS redshift catalogs are stored in `/sdf/data/rubin/shared/cluster_commissioning/desi`"
   ]
  },
  {
   "cell_type": "code",
   "execution_count": null,
   "id": "ae72a939-e059-431d-bc63-0b70526fbeaa",
   "metadata": {},
   "outputs": [],
   "source": [
    "# os.listdir('/sdf/data/rubin/shared/cluster_commissioning/desi/')"
   ]
  },
  {
   "cell_type": "code",
   "execution_count": null,
   "id": "77a3d9f1-80a6-400f-b527-8afe626ea0ab",
   "metadata": {},
   "outputs": [],
   "source": [
    "with fits.open('/sdf/data/rubin/shared/cluster_commissioning/desi/LRG_SGC_clustering.dat.fits') as hdul:\n",
    "    data = hdul[1].data\n",
    "    LRG = Table(data)\n",
    "\n",
    "with fits.open('/sdf/data/rubin/shared/cluster_commissioning/desi/BGS_ANY_SGC_clustering.dat.fits') as hdul:\n",
    "    data = hdul[1].data\n",
    "    BGS = Table(data)"
   ]
  },
  {
   "cell_type": "code",
   "execution_count": null,
   "id": "af111b71-54ae-46c9-b676-8ba03ac187d1",
   "metadata": {},
   "outputs": [],
   "source": [
    "desi_data = vstack([LRG, BGS])"
   ]
  },
  {
   "cell_type": "code",
   "execution_count": null,
   "id": "3e7a69fe-5f79-4178-843f-b7c2abde3a5b",
   "metadata": {},
   "outputs": [],
   "source": [
    "# Restrict the DESI data to only those within 1 degree of the BCG\n",
    "\n",
    "c1 = SkyCoord(desi_data['RA']*u.deg, desi_data['DEC']*u.deg)\n",
    "c2 = SkyCoord(cluster_coords[0]*u.deg, cluster_coords[1]*u.deg)\n",
    "sep = c1.separation(c2)\n",
    "\n",
    "near_filt = (sep < 1*u.deg)\n",
    "near_desi = desi_data[near_filt]\n",
    "print(len(near_desi))"
   ]
  },
  {
   "cell_type": "code",
   "execution_count": null,
   "id": "e4a23405-75e2-4762-aa13-3e2f0a500363",
   "metadata": {},
   "outputs": [],
   "source": [
    "# Restricting each subsample for plotting\n",
    "lrgc = SkyCoord(LRG['RA']*u.deg, LRG['DEC']*u.deg)\n",
    "bgsc = SkyCoord(BGS['RA']*u.deg, BGS['DEC']*u.deg)\n",
    "c2 = SkyCoord(cluster_coords[0]*u.deg, cluster_coords[1]*u.deg)\n",
    "sep_lrg = lrgc.separation(c2)\n",
    "sep_bgs = bgsc.separation(c2)\n",
    "\n",
    "LRG_filt = sep_lrg < 1*u.deg\n",
    "BGS_filt = sep_bgs < 1*u.deg\n",
    "b1 = BGS[BGS_filt]\n",
    "l1 = LRG[LRG_filt]\n",
    "cmap = cm.coolwarm\n",
    "print(np.sum(LRG_filt), np.sum(BGS_filt))"
   ]
  },
  {
   "cell_type": "code",
   "execution_count": null,
   "id": "e10c3609-cce1-4375-b580-f52f1f7687c1",
   "metadata": {},
   "outputs": [],
   "source": [
    "plt.scatter(b1['RA'], b1['DEC'], 8, c=b1['Z'], cmap=cmap, label='BGS', marker='s', vmin=0.2, vmax=1.1)\n",
    "plt.scatter(l1['RA'], l1['DEC'], 8, c=l1['Z'], cmap=cmap, label='LRG', marker='x', vmin=0.2, vmax=1.1)\n",
    "plt.plot(cluster_coords[0], cluster_coords[1], 'k*')\n",
    "plt.plot(table['coord_ra'], table['coord_dec'], ',', alpha=0.05)\n",
    "plt.colorbar()\n",
    "plt.legend(frameon=False)"
   ]
  },
  {
   "cell_type": "markdown",
   "id": "7716ff91-7183-41a6-9ac8-2b75db56696a",
   "metadata": {},
   "source": [
    "### Match Catalogs\n",
    "\n",
    "We can use [`friendly`](https://github.com/LSSTDESC/friendly/tree/FoF-friendly) to perform the matching for us but for clarity we will use a simple KDTree matcher."
   ]
  },
  {
   "cell_type": "code",
   "execution_count": null,
   "id": "a99bce2e-a59e-4d53-ab7a-29906af6c286",
   "metadata": {},
   "outputs": [],
   "source": [
    "search_radius = 0.5 * arcsec"
   ]
  },
  {
   "cell_type": "code",
   "execution_count": null,
   "id": "b044cb93-5663-41ee-a7a0-98f4868242f2",
   "metadata": {},
   "outputs": [],
   "source": [
    "desi_coords = np.vstack((near_desi['RA'], near_desi['DEC'])).T\n",
    "desi_tree = KDTree(desi_coords)"
   ]
  },
  {
   "cell_type": "markdown",
   "id": "66a083f4-6c78-4e6c-9b31-67f5d06d6630",
   "metadata": {},
   "source": [
    "When referring to the photometry DP1 data, I will refer to it as \"CC\" which stands for \"Cluster Commissioning\"\n"
   ]
  },
  {
   "cell_type": "code",
   "execution_count": null,
   "id": "c1ec9119-3a0f-404b-b58d-fa72378c04a4",
   "metadata": {},
   "outputs": [],
   "source": [
    "cc_coords = np.vstack((table['coord_ra'], table['coord_dec'])).T\n",
    "cc_tree = KDTree(cc_coords)"
   ]
  },
  {
   "cell_type": "code",
   "execution_count": null,
   "id": "7f2aa8cd-7f0f-4420-9c67-917425e77b20",
   "metadata": {},
   "outputs": [],
   "source": [
    "# Distance of CC object to nearest 3 DESI matches\n",
    "# NDX of nearest 3 DESI matches\n",
    "# desi_dist, desi_ndx = desi_tree.query(cc_coords, k=3)"
   ]
  },
  {
   "cell_type": "code",
   "execution_count": null,
   "id": "2f3dd699-9b56-4dee-a782-7b60ca91fc26",
   "metadata": {},
   "outputs": [],
   "source": [
    "# Distance of DESI object to nearest 3 CC matches\n",
    "# NDX of nearest 3 CC matches\n",
    "cc_dists, cc_ndx = cc_tree.query(desi_coords, k=3)"
   ]
  },
  {
   "cell_type": "code",
   "execution_count": null,
   "id": "de89b87c-81ef-47ae-a84f-fdc59849f26d",
   "metadata": {},
   "outputs": [],
   "source": [
    "# Does any DESI object have 2 CC objects within the search radius?\n",
    "# If this is > 0 we have some bad matches!\n",
    "print(\"Possible bad matches? Should be 0:\", np.sum(cc_dist[:,1] < search_radius))\n",
    "print(\"Possible good mathces\", np.sum(cc_dist[:,0] < search_radius))"
   ]
  },
  {
   "cell_type": "code",
   "execution_count": null,
   "id": "40ed7d2b-fbd0-417f-a790-9fb0db63d890",
   "metadata": {},
   "outputs": [],
   "source": [
    "match_ndx = [] # CC index\n",
    "match_z = [] # DESI redshift\n",
    "desi_ndx = np.where(cc_dists[:,0] < search_radius)[0] # DESI ndx of matched\n",
    "\n",
    "# This could be done more elegantly but leaving it as the straightforward way for now\n",
    "\n",
    "for i in range(len(desi_coords)):\n",
    "    if not cc_dists[i, 0] < search_radius:\n",
    "        continue\n",
    "\n",
    "    match_ndx.append(cc_ndx[i,0])\n",
    "    match_z.append(near_desi['Z'][i])"
   ]
  },
  {
   "cell_type": "code",
   "execution_count": null,
   "id": "041ea16d-8f79-464d-909d-fa58a9f4b8d8",
   "metadata": {},
   "outputs": [],
   "source": [
    "# Add zs to table\n",
    "insert_zs = np.ones(len(table)) * -99\n",
    "insert_zs[match_ndx] = match_z\n",
    "\n",
    "table['desi_z'] = insert_zs"
   ]
  },
  {
   "cell_type": "markdown",
   "id": "8b2aeaa1-cd1e-4d29-bb50-bb6e419d4af3",
   "metadata": {},
   "source": [
    "### Matched Comparison"
   ]
  },
  {
   "cell_type": "code",
   "execution_count": null,
   "id": "52d783e5-4d97-4901-a81b-e1deb8d14fac",
   "metadata": {},
   "outputs": [],
   "source": [
    "matched = table[table['desi_z'] > 0]"
   ]
  },
  {
   "cell_type": "code",
   "execution_count": null,
   "id": "70bee223-7c37-4046-a7a8-9f1cea6f2a24",
   "metadata": {},
   "outputs": [],
   "source": [
    "# cluster_membs = np.sqrt((match_cc['desi_z'] - .22)**2) < .01\n",
    "rs_cc = matched[matched['rigi_rs']]"
   ]
  },
  {
   "cell_type": "code",
   "execution_count": null,
   "id": "40e6583c-c3cc-4f68-aa8c-8dbbf72a6feb",
   "metadata": {},
   "outputs": [],
   "source": [
    "fig, ax = plt.subplots(ncols=2, figsize=(12,6))\n",
    "\n",
    "ax[0].plot(matched['desi_z'], matched['fzb_z_median'], '.')\n",
    "ax[0].plot([0,10], [0,10], ls='--', color='k', alpha=.2)\n",
    "ax[0].plot(rs_cc['desi_z'], rs_cc['fzb_z_median'], '.', color='r', label='Red Sequence')\n",
    "ax[0].axvline(0.22, ls='--', color=cmap(0.95), alpha=0.3)\n",
    "# ax[0].set_xlabel(\"Spectroscopic Redshift\")\n",
    "ax[0].set_ylabel(\"FZB Median Redshift\")\n",
    "# ax[0].legend(loc='lower right')\n",
    "ax[0].set_xlim(0, 1.5)\n",
    "ax[0].set_ylim(0, 1.5)\n",
    "\n",
    "ax[1].plot(matched['desi_z'], matched['tpz_z_median'], '.')\n",
    "ax[1].plot([0,10], [0,10], ls='--', color='k', alpha=.2)\n",
    "ax[1].plot(rs_cc['desi_z'], rs_cc['tpz_z_median'], '.', color='r', label='Red Sequence')\n",
    "ax[1].axvline(0.22, ls='--', color=cmap(0.95), alpha=0.3)\n",
    "# ax[1].set_xlabel(\"Spectroscopic Redshift\")\n",
    "ax[1].set_ylabel(\"TPZ Median Redshift\")\n",
    "# ax[0].legend(loc='lower right')\n",
    "ax[1].set_xlim(0, 1.5)\n",
    "ax[1].set_ylim(0, 1.5)\n",
    "ax[1].legend()\n",
    "fig.supxlabel(\"Spectroscopic Redshift (MEDIAN)\")\n",
    "fig.suptitle(\"DESI Spec-Z PZ Comparison\", y=.95)"
   ]
  },
  {
   "cell_type": "code",
   "execution_count": null,
   "id": "210b101a-da22-4d6c-9845-c9527d15d926",
   "metadata": {},
   "outputs": [],
   "source": [
    "fig, ax = plt.subplots(ncols=2, figsize=(12,6))\n",
    "\n",
    "ax[0].plot(matched['desi_z'], matched['fzb_z_mean'], '.')\n",
    "ax[0].plot([0,10], [0,10], ls='--', color='k', alpha=.2)\n",
    "ax[0].plot(rs_cc['desi_z'], rs_cc['fzb_z_mean'], '.', color='r', label='Red Sequence')\n",
    "ax[0].axvline(0.22, ls='--', color=cmap(0.95), alpha=0.3)\n",
    "# ax[0].set_xlabel(\"Spectroscopic Redshift\")\n",
    "ax[0].set_ylabel(\"FZB Mean Redshift\")\n",
    "# ax[0].legend(loc='lower right')\n",
    "ax[0].set_xlim(0, 1.5)\n",
    "ax[0].set_ylim(0, 1.5)\n",
    "\n",
    "ax[1].plot(matched['desi_z'], matched['tpz_z_mean'], '.')\n",
    "ax[1].plot([0,10], [0,10], ls='--', color='k', alpha=.2)\n",
    "ax[1].plot(rs_cc['desi_z'], rs_cc['tpz_z_mean'], '.', color='r', label='Red Sequence')\n",
    "ax[1].axvline(0.22, ls='--', color=cmap(0.95), alpha=0.3)\n",
    "# ax[1].set_xlabel(\"Spectroscopic Redshift\")\n",
    "ax[1].set_ylabel(\"TPZ Mean Redshift\")\n",
    "# ax[0].legend(loc='lower right')\n",
    "ax[1].set_xlim(0, 1.5)\n",
    "ax[1].set_ylim(0, 1.5)\n",
    "ax[1].legend()\n",
    "fig.supxlabel(\"Spectroscopic Redshift (MEAN)\")\n",
    "fig.suptitle(\"DESI Spec-Z PZ Comparison\", y=.95)"
   ]
  },
  {
   "cell_type": "code",
   "execution_count": null,
   "id": "81f0e0a3-b50a-4524-a2f4-f2eda78356b0",
   "metadata": {},
   "outputs": [],
   "source": [
    "c1 = SkyCoord(table['coord_ra']*u.deg, table['coord_dec']*u.deg)\n",
    "c2 = SkyCoord(cluster_coords[0]*u.deg, cluster_coords[1]*u.deg)\n",
    "sep = c1.separation(c2)\n",
    "\n",
    "near_filt = (sep < .1*u.deg)\n",
    "near_bcg = table[near_filt]\n",
    "near_bright = near_bcg[near_bcg['i_mag'] <= 24.5]"
   ]
  },
  {
   "cell_type": "code",
   "execution_count": null,
   "id": "94c6fcfb-2f6d-45b8-942c-62ec92162f1a",
   "metadata": {},
   "outputs": [],
   "source": [
    "redshift_dist = np.sqrt((matched['desi_z'] - 0.22)**2)\n",
    "desi_cluster = matched[redshift_dist < 0.05]\n"
   ]
  },
  {
   "cell_type": "code",
   "execution_count": null,
   "id": "ed14c579-c468-4c94-842d-7384e1b9ba62",
   "metadata": {},
   "outputs": [],
   "source": [
    "fig, ax = plt.subplots(ncols=2, figsize=(10,5))\n",
    "\n",
    "cmap = cm.coolwarm\n",
    "# color_val = np.sqrt((match_cc['desi_z'] - 0.22)**2)\n",
    "\n",
    "xs = np.linspace(15, 28, num=1001)\n",
    "\n",
    "gi_rs_plot = 1.6 - (0.07) * (xs-21)\n",
    "ri_rs_plot = 0.5 - (0.02) * (xs-21)\n",
    "\n",
    "near_i = near_bcg['i_mag']\n",
    "near_gi = near_bcg['g_mag'] - near_bcg['i_mag']\n",
    "near_ri = near_bcg['r_mag'] - near_bcg['i_mag']\n",
    "\n",
    "ax[0].plot(near_i, near_gi, '.', color=cmap(0.5), alpha=.25, label='ComCam')\n",
    "ax[0].plot(matched['i_mag'], matched['g_mag'] - matched['i_mag'], '.', color=cmap(0.08), label='DESI Matches')\n",
    "ax[0].plot(desi_cluster['i_mag'], desi_cluster['g_mag'] - desi_cluster['i_mag'], '.', color=cmap(0.98), label='DESI z=0.22')\n",
    "ax[0].plot(xs, gi_rs_plot + 0.22, '--', color=cmap(0.22))\n",
    "ax[0].plot(xs, gi_rs_plot - 0.12, '--', color=cmap(0.22))\n",
    "\n",
    "ax[1].plot(near_i, near_ri, '.', color=cmap(0.5), alpha=.25, label='ComCam')\n",
    "ax[1].plot(matched['i_mag'], matched['r_mag'] - matched['i_mag'],'.', color=cmap(0.08), label='DESI Matches')\n",
    "ax[1].plot(desi_cluster['i_mag'], desi_cluster['r_mag'] - desi_cluster['i_mag'], '.', color=cmap(0.98), label='DESI z=0.22')\n",
    "ax[1].plot(xs, ri_rs_plot + 0.05, '--', color=cmap(0.22))\n",
    "ax[1].plot(xs, ri_rs_plot - 0.07, '--', color=cmap(0.22))\n",
    "\n",
    "\n",
    "\n",
    "fig.supxlabel(r\"$i$-mag\")\n",
    "ax[0].set_ylabel(r\"$gi$\")\n",
    "ax[1].set_ylabel(r\"$ri$\")\n",
    "\n",
    "for xx in ax:\n",
    "    xx.set_xlim(15, 27)\n",
    "    xx.axvline(24.5, ls='--', color='grey')\n",
    "  \n",
    "ax[0].set_ylim(-1, 4)\n",
    "ax[1].set_ylim(-1, 2)\n",
    "ax[1].legend(frameon=False, bbox_to_anchor=(1.1, .55))\n"
   ]
  },
  {
   "cell_type": "code",
   "execution_count": null,
   "id": "70d71271-c76a-458d-a187-2ad074c6912c",
   "metadata": {},
   "outputs": [],
   "source": [
    "fig, ax = plt.subplots(1, figsize=(8,4))\n",
    "\n",
    "ax.hist(matched['desi_z'][matched['rigi_rs']], range=(0, 3), bins=101, label='Matched Red Sequence', histtype='step')\n",
    "ax.axvline(0.22, ls='--', color='k', alpha=.15, label='Cluster')\n",
    "ax.set_xlabel('DESI spec-z')\n",
    "ax.set_title(r\"Near BCG + $i \\leq 24.5$\")\n",
    "ax.legend()\n"
   ]
  },
  {
   "cell_type": "code",
   "execution_count": null,
   "id": "8336ab34-d783-44bf-a5af-ede2be4f72e3",
   "metadata": {},
   "outputs": [],
   "source": [
    "matched.write('/sdf/data/rubin/shared/cluster_commissioning/desi/a360_flexzboost_tpz_desimatch_dp1_freeze.fits', format='fits')"
   ]
  },
  {
   "cell_type": "code",
   "execution_count": null,
   "id": "e32d5fd2-490c-4025-b153-efe6a9c4bc34",
   "metadata": {},
   "outputs": [],
   "source": []
  }
 ],
 "metadata": {
  "kernelspec": {
   "display_name": "LSST",
   "language": "python",
   "name": "lsst"
  },
  "language_info": {
   "codemirror_mode": {
    "name": "ipython",
    "version": 3
   },
   "file_extension": ".py",
   "mimetype": "text/x-python",
   "name": "python",
   "nbconvert_exporter": "python",
   "pygments_lexer": "ipython3",
   "version": "3.12.10"
  }
 },
 "nbformat": 4,
 "nbformat_minor": 5
}
