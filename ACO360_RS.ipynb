{
 "cells": [
  {
   "cell_type": "code",
   "execution_count": null,
   "id": "6871adb3-d075-494a-9cfb-246606294671",
   "metadata": {},
   "outputs": [],
   "source": []
  },
  {
   "cell_type": "markdown",
   "id": "c1bfc74e-08f2-4e7e-9497-74b1cfc00ecd",
   "metadata": {
    "execution": {
     "iopub.execute_input": "2025-04-08T22:18:07.321864Z",
     "iopub.status.busy": "2025-04-08T22:18:07.321563Z",
     "iopub.status.idle": "2025-04-08T22:18:07.324162Z",
     "shell.execute_reply": "2025-04-08T22:18:07.323811Z",
     "shell.execute_reply.started": "2025-04-08T22:18:07.321848Z"
    }
   },
   "source": [
    "# Abell 360 red sequence galaxies"
   ]
  },
  {
   "cell_type": "markdown",
   "id": "ebe3cdd0-d047-4dd1-8d3b-3ca81580a15f",
   "metadata": {
    "execution": {
     "iopub.execute_input": "2025-05-09T03:02:14.718359Z",
     "iopub.status.busy": "2025-05-09T03:02:14.718135Z",
     "iopub.status.idle": "2025-05-09T03:02:14.721068Z",
     "shell.execute_reply": "2025-05-09T03:02:14.720547Z",
     "shell.execute_reply.started": "2025-05-09T03:02:14.718344Z"
    }
   },
   "source": [
    "Contact: Shenming Fu\n",
    "\n",
    "Inspired by Céline Combet's Notebook\n",
    "\n",
    "LSST Science Piplines version: Weekly 2025_17\n",
    "\n",
    "Container Size: Medium\n",
    "\n",
    "This notebook studies Red Sequence (RS) galaxies in the galaxy cluster Abell 360 (A360) using the ComCam data (DP1). The main steps are \n",
    "\n",
    "- Loading galaxies from object catalogs via Butler\n",
    "- Making cuts on the galaxy sample\n",
    "- Plotting Color-Magnitude Diagrams (CMD)\n",
    "- Plotting Color-Color Plots (CC)\n",
    "- Selecting RS galaxies\n",
    "- Plotting the spatial distribution, radial profile, and magnitude distribution of RS galaxies "
   ]
  },
  {
   "cell_type": "code",
   "execution_count": null,
   "id": "5a83b0ea-165c-4103-a406-549ff5a1d923",
   "metadata": {},
   "outputs": [],
   "source": [
    "import numpy as np\n",
    "import matplotlib.pyplot as plt\n",
    "import pandas as pd\n",
    "\n",
    "import astropy.units as u\n",
    "from astropy.coordinates import SkyCoord\n",
    "\n",
    "from lsst.daf.butler import Butler\n",
    "import lsst.geom as geom\n"
   ]
  },
  {
   "cell_type": "markdown",
   "id": "a075f7ad-7de0-4c62-bc1b-7330794f4bf4",
   "metadata": {},
   "source": [
    "### Load data"
   ]
  },
  {
   "cell_type": "code",
   "execution_count": null,
   "id": "927b1af8-c4d2-4eb1-a8db-5ec5efd0786e",
   "metadata": {},
   "outputs": [],
   "source": [
    "repo = '/repo/main'\n",
    "collections = 'LSSTComCam/runs/DRP/DP1/w_2025_09/DM-49235'\n",
    "#collections = 'LSSTComCam/runs/DRP/DP1/w_2025_08/DM-49029'\n",
    "\n",
    "butler = Butler(repo, collections=collections)\n",
    "skymap = butler.get('skyMap', skymap='lsst_cells_v1')"
   ]
  },
  {
   "cell_type": "code",
   "execution_count": null,
   "id": "78695afb-f373-43f7-b5e9-51a491786f61",
   "metadata": {},
   "outputs": [],
   "source": [
    "# Abell 360 BCG center\n",
    "# https://www.legacysurvey.org/viewer?ra=37.8650&dec=6.9822&layer=ls-dr9&zoom=16\n",
    "# z~0.22\n",
    "ra_bcg = 37.865\n",
    "dec_bcg = 6.982\n",
    "\n",
    "# Given the center (ra,dec) and range, find covering tract+patch\n",
    "range_deg = 0.1 \n",
    "\n",
    "ra_min, ra_max = ra_bcg - range_deg, ra_bcg + range_deg\n",
    "dec_min, dec_max = dec_bcg - range_deg, dec_bcg + range_deg\n",
    "\n",
    "# Corners with units\n",
    "radec = [geom.SpherePoint(ra_min, dec_min, geom.degrees),\n",
    "         geom.SpherePoint(ra_min, dec_max, geom.degrees),\n",
    "         geom.SpherePoint(ra_max, dec_min, geom.degrees),\n",
    "         geom.SpherePoint(ra_max, dec_max, geom.degrees)]\n",
    "\n",
    "tract_patch_list = skymap.findTractPatchList(radec)\n",
    "\n"
   ]
  },
  {
   "cell_type": "code",
   "execution_count": null,
   "id": "17e3b083-bad8-450d-a34c-1c29bf2058d8",
   "metadata": {},
   "outputs": [],
   "source": []
  },
  {
   "cell_type": "code",
   "execution_count": null,
   "id": "ee4afaa9-a756-482b-afa3-344b024134e0",
   "metadata": {},
   "outputs": [],
   "source": [
    "# https://pipelines.lsst.io/modules/lsst.source.injection/faqs/index.html\n",
    "# The output tract_patch_dict will be a dictionary of overlapping tracts and patches. \n",
    "# Tract IDs are used as keys, with a list of patch IDs as values.\n",
    "\n",
    "tract_patch_dict = {}\n",
    "for tract_info, patch_info in tract_patch_list:\n",
    "    tract_id = tract_info.tract_id\n",
    "    patch_ids = [patch.sequential_index for patch in patch_info]\n",
    "    tract_patch_dict[tract_id] = sorted(patch_ids)\n",
    "\n",
    "print(tract_patch_dict)"
   ]
  },
  {
   "cell_type": "code",
   "execution_count": null,
   "id": "99193c86-57f3-41f6-83b6-cf93aeea0715",
   "metadata": {},
   "outputs": [],
   "source": []
  },
  {
   "cell_type": "code",
   "execution_count": null,
   "id": "2da10a67-849d-475f-9bd4-35b842324b6d",
   "metadata": {},
   "outputs": [],
   "source": []
  },
  {
   "cell_type": "markdown",
   "id": "3be929c1-d0b8-4e5f-a2c2-31e7aeb71f9d",
   "metadata": {
    "execution": {
     "iopub.execute_input": "2025-04-08T22:18:54.710118Z",
     "iopub.status.busy": "2025-04-08T22:18:54.709805Z",
     "iopub.status.idle": "2025-04-08T22:18:54.725120Z",
     "shell.execute_reply": "2025-04-08T22:18:54.724617Z",
     "shell.execute_reply.started": "2025-04-08T22:18:54.710103Z"
    }
   },
   "source": [
    "### Color magnitude diagram and Color-color plot"
   ]
  },
  {
   "cell_type": "code",
   "execution_count": null,
   "id": "3677ec30-ad1c-406d-9f82-f15d9e0c8af9",
   "metadata": {},
   "outputs": [],
   "source": [
    "band_list = ['r', 'i', 'z']\n",
    "merged_cat = pd.DataFrame()\n",
    "\n",
    "for tract in tract_patch_dict:\n",
    "    \n",
    "    for patch in tract_patch_dict[tract]:\n",
    "        \n",
    "        dataId = {'tract': tract, 'patch' : patch ,'skymap':'lsst_cells_v1'}\n",
    "        obj_cat = butler.get('objectTable', dataId=dataId)\n",
    "        \n",
    "        sel  = obj_cat['detect_isPrimary'] == True\n",
    "        \n",
    "        for band in band_list:\n",
    "            sel &= obj_cat[f'{band}_cModel_flag'] == False\n",
    "            sel &= obj_cat[f'{band}_cModelFlux'] > 0\n",
    "    \n",
    "        sel &= obj_cat['refExtendedness'] == 1\n",
    "\n",
    "        merged_cat = pd.concat([merged_cat, obj_cat[sel]], \n",
    "                               ignore_index=True)\n"
   ]
  },
  {
   "cell_type": "code",
   "execution_count": null,
   "id": "3efc3646-1435-4efd-88be-32369123b3ae",
   "metadata": {},
   "outputs": [],
   "source": [
    "c1 = SkyCoord(merged_cat['coord_ra'].values * u.deg, \n",
    "              merged_cat['coord_dec'].values * u.deg)\n",
    "c2 = SkyCoord(ra_bcg*u.deg, dec_bcg*u.deg)\n",
    "sep = c1.separation(c2)\n",
    "\n",
    "sel_dist = sep.deg < range_deg \n",
    "merged_cat_s = merged_cat[sel_dist] "
   ]
  },
  {
   "cell_type": "code",
   "execution_count": null,
   "id": "ed485f80-0f67-4eb6-8090-8ac5ebf39017",
   "metadata": {},
   "outputs": [],
   "source": [
    "mag_dict = {}\n",
    "\n",
    "for band in band_list:\n",
    "    \n",
    "    mag_dict[band] = -2.5 * np.log10(merged_cat_s[f'{band}_cModelFlux']) + 31.4\n",
    "    mag_dict[f'{band}_snr'] = merged_cat_s[f'{band}_cModelFlux'] / merged_cat_s[f'{band}_cModelFluxErr']\n"
   ]
  },
  {
   "cell_type": "code",
   "execution_count": null,
   "id": "bd243e3d-4955-461e-9f00-eaec576bbddd",
   "metadata": {},
   "outputs": [],
   "source": [
    "for band in band_list:\n",
    "\n",
    "    fig, ax = plt.subplots(figsize=(4,3), layout='constrained')\n",
    "\n",
    "    mag_lim_min, mag_lim_max = 15, 32\n",
    "    bins = np.linspace(mag_lim_min, mag_lim_max, 41)\n",
    "    mid = 0.5 * (bins[1:] + bins[:-1])\n",
    "    \n",
    "    count, _, _ = ax.hist(mag_dict[band], bins=bins, \n",
    "                          histtype='step')\n",
    "    mid_max = mid[np.argmax(count)]\n",
    "    ax.axvline(mid_max, c='r', ls='--', label='peak')\n",
    "    \n",
    "    ax.set_yscale('log')\n",
    "    ax.set_xlabel('mag')\n",
    "    ax.set_ylabel('count')\n",
    "    ax.set_xlim([mag_lim_min, mag_lim_max])\n",
    "\n",
    "    ax2 = ax.twinx()\n",
    "    ax2.scatter(mag_dict[band], mag_dict[f'{band}_snr'], \n",
    "                s=1, c='k')\n",
    "    ax2.axhline(5, c='g', ls=':', label='SNR=5')\n",
    "    \n",
    "    ax2.set_yscale('log')\n",
    "    ax2.set_ylabel('SNR')\n",
    "\n",
    "    plt.title(f'{band} band')\n",
    "\n",
    "    ax.legend(loc=\"lower left\")\n",
    "    ax2.legend(loc=\"upper right\")\n",
    "\n",
    "    plt.savefig(f'mag_{band}.png')"
   ]
  },
  {
   "cell_type": "code",
   "execution_count": null,
   "id": "2927e969-973f-454c-9b10-8c11ef32d5ca",
   "metadata": {},
   "outputs": [],
   "source": []
  },
  {
   "cell_type": "code",
   "execution_count": null,
   "id": "084ac58d-093f-4f9f-9fe5-0a181886cbec",
   "metadata": {},
   "outputs": [],
   "source": []
  },
  {
   "cell_type": "code",
   "execution_count": null,
   "id": "18072072-fa84-4c17-9ca9-760076d3009a",
   "metadata": {},
   "outputs": [],
   "source": []
  },
  {
   "cell_type": "code",
   "execution_count": null,
   "id": "a61168a9-62dd-4696-b0a8-1f0ad5a703e7",
   "metadata": {},
   "outputs": [],
   "source": [
    "color_dict = {\n",
    "    'ri': 0.5,\n",
    "    'iz': 0.25,\n",
    "}\n",
    "eps = 0.1 \n",
    "sel_rs = np.array([True] * len(merged_cat_s))\n",
    "mag_max = 23\n",
    "\n",
    "for ind in range(len(band_list)-1):\n",
    "\n",
    "    band1 = band_list[ind]\n",
    "    band2 = band_list[ind+1]\n",
    "\n",
    "    fig, ax = plt.subplots(figsize=(4,3), layout='constrained')\n",
    "\n",
    "    ax.scatter(mag_dict[band1], \n",
    "               mag_dict[band1] - mag_dict[band2], \n",
    "               marker='.', s=0.3)\n",
    "    \n",
    "    ax.set_xlim([18,25])\n",
    "    ax.set_ylim([-2,2])\n",
    "    \n",
    "    ax.set_xlabel(band1)\n",
    "    ax.set_ylabel(f'{band1}-{band2}')\n",
    "\n",
    "    color = color_dict[f'{band1}{band2}']\n",
    "    ax.axhline(color - eps, ls='--', c='k', alpha=0.3)\n",
    "    ax.axhline(color + eps, ls='--', c='k', alpha=0.3)\n",
    "\n",
    "    sel_rs &= np.abs(mag_dict[band1] - mag_dict[band2] - color) < eps\n",
    "    sel_rs &= mag_dict[band1] < mag_max\n",
    "    \n",
    "    plt.savefig(f'{band1}_{band1}-{band2}.png')"
   ]
  },
  {
   "cell_type": "code",
   "execution_count": null,
   "id": "85f3124b-f151-4ab6-a6c7-7f191041f208",
   "metadata": {},
   "outputs": [],
   "source": []
  },
  {
   "cell_type": "code",
   "execution_count": null,
   "id": "e668c630-3a47-4470-b43d-40ce142b2bcc",
   "metadata": {},
   "outputs": [],
   "source": []
  },
  {
   "cell_type": "code",
   "execution_count": null,
   "id": "a7ac336f-21ac-4516-9045-cebc8ce48524",
   "metadata": {},
   "outputs": [],
   "source": [
    "ind = 0\n",
    "band1 = band_list[ind]\n",
    "band2 = band_list[ind+1]\n",
    "band3 = band_list[ind+2]\n",
    "\n",
    "fig, ax = plt.subplots(figsize=(4,3), layout='constrained')\n",
    "\n",
    "ax.scatter(mag_dict[band1] - mag_dict[band2], \n",
    "           mag_dict[band2] - mag_dict[band3], \n",
    "           marker='.', s=0.3)\n",
    "\n",
    "ax.scatter(mag_dict[band1][sel_rs] - mag_dict[band2][sel_rs], \n",
    "           mag_dict[band2][sel_rs] - mag_dict[band3][sel_rs], \n",
    "           marker='.', s=1, label='RS')\n",
    "\n",
    "ax.axvline(color_dict[f'{band1}{band2}'], ls='--', c='k', alpha=0.3)\n",
    "ax.axhline(color_dict[f'{band2}{band3}'], ls='--', c='k', alpha=0.3)\n",
    "\n",
    "ax.legend()\n",
    "\n",
    "ax.set_xlim([-1,2])\n",
    "ax.set_ylim([-1,2])\n",
    "\n",
    "ax.set_xlabel(f'{band1}-{band2}')\n",
    "ax.set_ylabel(f'{band2}-{band3}')\n",
    "\n",
    "plt.savefig(f'{band1}-{band2}_{band2}-{band3}.png')"
   ]
  },
  {
   "cell_type": "code",
   "execution_count": null,
   "id": "6b3e9e16-f187-4408-adc4-c9afe7e20665",
   "metadata": {},
   "outputs": [],
   "source": []
  },
  {
   "cell_type": "markdown",
   "id": "0ed982cf-e3cd-4192-94bf-c0f9e9a05a6b",
   "metadata": {},
   "source": [
    "### Red sequence galaxies"
   ]
  },
  {
   "cell_type": "code",
   "execution_count": null,
   "id": "7387fd40-82f5-4838-a7ca-da2815c326ec",
   "metadata": {},
   "outputs": [],
   "source": [
    "fig, ax = plt.subplots(figsize=(4,3), layout='constrained')\n",
    "im = ax.scatter(merged_cat_s['coord_ra'][sel_rs], \n",
    "                merged_cat_s['coord_dec'][sel_rs], \n",
    "                s=2., \n",
    "                c=mag_dict['r'][sel_rs], \n",
    "                cmap='cool',\n",
    "          )\n",
    "ax.invert_xaxis()\n",
    "ax.set_xlabel('ra [deg]')\n",
    "ax.set_ylabel('dec [deg]')\n",
    "cbar = fig.colorbar(im, ax=ax)\n",
    "cbar.set_label('r')\n",
    "\n",
    "plt.savefig('rs_position.png')"
   ]
  },
  {
   "cell_type": "markdown",
   "id": "8b5700c7-10d2-4fe7-a25a-147528dc4bf4",
   "metadata": {},
   "source": [
    "#### Number density profile"
   ]
  },
  {
   "cell_type": "code",
   "execution_count": null,
   "id": "915ca0ea-34d7-4cd6-aebd-3d7bdcafc9a7",
   "metadata": {},
   "outputs": [],
   "source": [
    "radial_distance = sep.arcmin[sel_dist][sel_rs]\n",
    "\n",
    "bin_num = 6\n",
    "bins = np.linspace(0, range_deg*60, bin_num)\n",
    "mid = 0.5 * (bins[1:] + bins[:-1])\n",
    "bin_size = bins[1] - bins[0]\n",
    "\n",
    "count, _ = np.histogram(radial_distance, bins=bins)\n",
    "\n",
    "fig, ax = plt.subplots(figsize=(4,3), layout='constrained')\n",
    "ax.scatter(mid, count/(2*np.pi*mid*bin_size))\n",
    "ax.set_xlabel('radial distance [arcmin]')\n",
    "ax.set_ylabel('density [arcmin^-2]')\n",
    "ax.set_yscale('log')\n",
    "\n",
    "plt.savefig('rs_density_profile.png')"
   ]
  },
  {
   "cell_type": "markdown",
   "id": "801b9641-ea40-47b7-ab13-1405e9c4a228",
   "metadata": {
    "execution": {
     "iopub.execute_input": "2025-04-08T22:20:25.474023Z",
     "iopub.status.busy": "2025-04-08T22:20:25.473720Z",
     "iopub.status.idle": "2025-04-08T22:20:25.476170Z",
     "shell.execute_reply": "2025-04-08T22:20:25.475830Z",
     "shell.execute_reply.started": "2025-04-08T22:20:25.474008Z"
    }
   },
   "source": [
    "#### Magnitude histogram"
   ]
  },
  {
   "cell_type": "code",
   "execution_count": null,
   "id": "d67bc247-443d-4e85-9673-a15425e86263",
   "metadata": {},
   "outputs": [],
   "source": [
    "fig, ax = plt.subplots(figsize=(4,3), layout='constrained')\n",
    "\n",
    "bins = np.linspace(15, mag_max, 21)\n",
    "\n",
    "for band in band_list:\n",
    "    ax.hist(mag_dict[band][sel_rs], bins=bins, \n",
    "            histtype='step', label=band)\n",
    "\n",
    "ax.set_yscale('log')\n",
    "ax.set_xlabel('mag')\n",
    "ax.set_ylabel('count')\n",
    "ax.legend()\n",
    "\n",
    "plt.savefig('rs_mag_hist.png')"
   ]
  },
  {
   "cell_type": "markdown",
   "id": "2c782027-2f27-4526-96e7-bd142de9171d",
   "metadata": {},
   "source": [
    "### Exercises\n",
    "\n",
    "- Background galaxies (another NB):\n",
    "\n",
    "  - Shape distribution\n",
    "  - Mean shape profile\n",
    "\n",
    "- Multi-patch cutout"
   ]
  },
  {
   "cell_type": "code",
   "execution_count": null,
   "id": "cf7a4a32-4006-4f1a-9482-83fdf9b7be5c",
   "metadata": {},
   "outputs": [],
   "source": []
  },
  {
   "cell_type": "code",
   "execution_count": null,
   "id": "0fb8d800-4445-4dae-aaa1-f8c235abdd5b",
   "metadata": {},
   "outputs": [],
   "source": []
  },
  {
   "cell_type": "code",
   "execution_count": null,
   "id": "619c6f6a-2d8f-4818-92af-e2db2bfc89bd",
   "metadata": {},
   "outputs": [],
   "source": []
  }
 ],
 "metadata": {
  "kernelspec": {
   "display_name": "LSST",
   "language": "python",
   "name": "lsst"
  },
  "language_info": {
   "codemirror_mode": {
    "name": "ipython",
    "version": 3
   },
   "file_extension": ".py",
   "mimetype": "text/x-python",
   "name": "python",
   "nbconvert_exporter": "python",
   "pygments_lexer": "ipython3",
   "version": "3.12.10"
  }
 },
 "nbformat": 4,
 "nbformat_minor": 5
}
