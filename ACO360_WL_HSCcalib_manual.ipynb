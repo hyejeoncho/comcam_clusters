{
 "cells": [
  {
   "cell_type": "markdown",
   "id": "b6dcf4b1-acaf-4a64-92e2-3bad37e7085a",
   "metadata": {},
   "source": [
    "# Shear profile around A360 using ComCam HSM shapes - Manual\n",
    "\n",
    "Prakruth Adari, Céline Combet, Anja von der Linden\\\n",
    "LSST Science Piplines version: Weekly 2025_14\\\n",
    "Container Size: large\n",
    "\n",
    "This notebook is a condensed set of code to obtain a shear profile of Abell 360. The main steps are:\n",
    "\n",
    "- Loading the relevant object catalogs (all tracts and patches needed) using the butler\n",
    "- Applying cuts (color/photo-z + lensing quality)\n",
    "- Load in calibration (using the `gen_hsc_calibration` script)\n",
    "- Shear profile\n",
    "\n",
    "Most steps start with loading in data from the previous step so each step usually ends with writing data locally, this means we can quickly apply cuts to the same catalog and re-calibrate without having to re-query from the Butler. "
   ]
  },
  {
   "cell_type": "code",
   "execution_count": null,
   "id": "d046b420-7580-4803-8f7f-de5f411eb375",
   "metadata": {},
   "outputs": [],
   "source": [
    "!eups list -s | grep lsst_distrib"
   ]
  },
  {
   "cell_type": "code",
   "execution_count": null,
   "id": "7fff6a9a-4ef3-4613-a5f2-9ab4bae65048",
   "metadata": {},
   "outputs": [],
   "source": [
    "import numpy as np\n",
    "import astropy.units as u\n",
    "import matplotlib.pyplot as plt\n",
    "import matplotlib.patches as patches\n",
    "from scipy.spatial import KDTree\n",
    "import scipy.interpolate as interpolate\n",
    "from scipy.optimize import curve_fit\n",
    "import scipy.integrate as integrate\n",
    "import scipy.stats as stats\n",
    "import healpy as hp\n",
    "import pandas as pd\n",
    "from matplotlib import cm\n",
    "from astropy.visualization import make_lupton_rgb\n",
    "from matplotlib.legend_handler import HandlerLine2D\n",
    "from astropy.table import Table, join, vstack\n",
    "from astropy.io import fits\n",
    "# %matplotlib widget"
   ]
  },
  {
   "cell_type": "code",
   "execution_count": null,
   "id": "a483f350-72e7-40e5-82ea-ed5072298465",
   "metadata": {},
   "outputs": [],
   "source": [
    "# Familiar stack packages\n",
    "from lsst.daf.butler import Butler\n",
    "from lsst.geom import Box2I, Box2D, Point2I, Point2D, Extent2I, Extent2D\n",
    "# from lsst.afw.image import Exposure, Image, PARENT\n",
    "import lsst.sphgeom\n",
    "\n",
    "# These may be less familiar objects dealing with multi-band data products\n",
    "from lsst.afw.image import MultibandExposure, MultibandImage"
   ]
  },
  {
   "cell_type": "code",
   "execution_count": null,
   "id": "5e90f114-c76a-4d12-a60f-ca480e1701e9",
   "metadata": {},
   "outputs": [],
   "source": [
    "# import lsst.afw.display as afwDisplay\n",
    "import os, sys"
   ]
  },
  {
   "cell_type": "code",
   "execution_count": null,
   "id": "9f0e4363-1280-4422-959b-bbd90e8a2e94",
   "metadata": {},
   "outputs": [],
   "source": [
    "hdir = os.getenv('HOME')\n",
    "ddir = '/home/a/adari/DATA'"
   ]
  },
  {
   "cell_type": "code",
   "execution_count": null,
   "id": "1c7e3260-64da-4cf1-803c-8b9403d9a9f8",
   "metadata": {},
   "outputs": [],
   "source": [
    "%matplotlib inline\n",
    "%config InlineBackend.figure_format='retina'"
   ]
  },
  {
   "cell_type": "code",
   "execution_count": null,
   "id": "4c0ab6e5-cd1b-4aff-92d1-cfedd8171d0a",
   "metadata": {},
   "outputs": [],
   "source": [
    "arcsec = 1/60**2"
   ]
  },
  {
   "cell_type": "code",
   "execution_count": null,
   "id": "72ef7298-8be3-405c-be13-1d77f5207c20",
   "metadata": {},
   "outputs": [],
   "source": [
    "rng = np.random.default_rng()"
   ]
  },
  {
   "cell_type": "code",
   "execution_count": null,
   "id": "b94b59ff-bdec-4fd3-abc3-51026bd1cf2f",
   "metadata": {},
   "outputs": [],
   "source": [
    "def showRGB(image, bgr=\"gri\", ax=None, fp=None, figsize=(8,8), stretch=57, Q=10):\n",
    "    \"\"\"Display an RGB color composite image with matplotlib.\n",
    "    \n",
    "    Parameters\n",
    "    ----------\n",
    "    image : `MultibandImage`\n",
    "        `MultibandImage` to display.\n",
    "    bgr : sequence\n",
    "        A 3-element sequence of filter names (i.e. keys of the exps dict) indicating what band\n",
    "        to use for each channel. If `image` only has three filters then this parameter is ignored\n",
    "        and the filters in the image are used.\n",
    "    ax : `matplotlib.axes.Axes`\n",
    "        Axis in a `matplotlib.Figure` to display the image.\n",
    "        If `axis` is `None` then a new figure is created.\n",
    "    fp: `lsst.afw.detection.Footprint`\n",
    "        Footprint that contains the peak catalog for peaks in the image.\n",
    "        If `fp` is `None` then no peak positions are plotted.\n",
    "    figsize: tuple\n",
    "        Size of the `matplotlib.Figure` created.\n",
    "        If `ax` is not `None` then this parameter is ignored.\n",
    "    stretch: int\n",
    "        The linear stretch of the image.\n",
    "    Q: int\n",
    "        The Asinh softening parameter.\n",
    "    \"\"\"\n",
    "    # If the image only has 3 bands, reverse the order of the bands to produce the RGB image\n",
    "    if len(image) == 3:\n",
    "        bgr = image.filters\n",
    "    # Extract the primary image component of each Exposure with the .image property, and use .array to get a NumPy array view.\n",
    "    rgb = make_lupton_rgb(image_r=image[bgr[2]].array,  # numpy array for the r channel\n",
    "                          image_g=image[bgr[1]].array,  # numpy array for the g channel\n",
    "                          image_b=image[bgr[0]].array,  # numpy array for the b channel\n",
    "                          stretch=stretch, Q=Q)  # parameters used to stretch and scale the pixel values\n",
    "    if ax is None:\n",
    "        fig = plt.figure(figsize=figsize)\n",
    "        ax = fig.add_subplot(1,1,1)\n",
    "    \n",
    "    # Exposure.getBBox() returns a Box2I, a box with integer pixel coordinates that correspond to the centers of pixels.\n",
    "    # Matplotlib's `extent` argument expects to receive the coordinates of the edges of pixels, which is what\n",
    "    # this Box2D (a box with floating-point coordinates) represents.\n",
    "    integerPixelBBox = image[bgr[0]].getBBox()\n",
    "    bbox = Box2D(integerPixelBBox)\n",
    "    ax.imshow(rgb, interpolation='nearest', origin='lower', extent=(bbox.getMinX(), bbox.getMaxX(), bbox.getMinY(), bbox.getMaxY()))\n",
    "    if fp is not None:\n",
    "        for peak in fp.getPeaks():\n",
    "            ax.plot(peak.getIx(), peak.getIy(), \"bx\", mew=2)"
   ]
  },
  {
   "cell_type": "code",
   "execution_count": null,
   "id": "41a62740-be36-4b3b-a12a-002c03f10232",
   "metadata": {},
   "outputs": [],
   "source": [
    "omega_m = .31\n",
    "omega_de= .69\n",
    "omega_r = 0\n",
    "H0 = 70 # km/s/Mpc\n",
    "c = 3e5 # km/s"
   ]
  },
  {
   "cell_type": "code",
   "execution_count": null,
   "id": "8e13ac22-cbd2-4a0c-975f-520532ddd04a",
   "metadata": {},
   "outputs": [],
   "source": [
    "Hz = lambda z : c/(H0  * np.sqrt((omega_de + omega_m * (1+z)**3 + omega_r * (1+z)**4)))\n",
    "chi_dl = lambda z, z0=0 : integrate.quad(Hz, z0, z)[0]\n",
    "Da = lambda z : chi_dl(z)/(1+z)\n",
    "beta_r = lambda zl, zs : integrate.quad(Hz, zl, zs)[0]/integrate.quad(Hz, 0, zs)[0]"
   ]
  },
  {
   "cell_type": "code",
   "execution_count": null,
   "id": "528415b9-4a46-4561-b957-165103f1e7bb",
   "metadata": {},
   "outputs": [],
   "source": [
    "flux_suffix = '_cModelFlux'"
   ]
  },
  {
   "cell_type": "code",
   "execution_count": null,
   "id": "ccdf3a1a-1aa1-4f3a-8497-502331d4d2ab",
   "metadata": {},
   "outputs": [],
   "source": [
    "# Load operation rehearsal data\n",
    "# Can use obs_butler.registry.queryCollections to see available collections\n",
    "\n",
    "obs_repo = '/repo/main'\n",
    "# obs_repo = '/LSSTComCam/DP1/defaults'\n",
    "# obs_collection = 'LSSTComCamSim/runs/intermittentcumulativeDRP/20240402_03_04/d_2024_03_29/DM-43865'\n",
    "# obs_collection = 'LSSTComCam/runs/nightlyValidation/20241108/d_2024_11_05/DM-47059'\n",
    "# obs_collection = 'LSSTComCam/runs/DRP/20241101_20241211/w_2024_50/DM-48128'\n",
    "# obs_collection = 'LSSTComCam/runs/DRP/20241101_20241127/w_2024_48/DM-47841'\n",
    "# obs_collection = 'LSSTComCam/runs/DRP/DP1/w_2025_04/DM-48556'\n",
    "# obs_collection = 'LSSTComCam/runs/DRP/DP1/w_2025_06/DM-48810'\n",
    "# obs_collection = 'LSSTComCam/runs/DRP/DP1/w_2025_07/DM-48940'\n",
    "# obs_collection = 'LSSTComCam/runs/DRP/DP1/w_2025_08/DM-49029'\n",
    "# obs_collection = 'LSSTComCam/runs/DRP/DP1/w_2025_09/DM-49235' # DP1 version\n",
    "# obs_collection = 'LSSTComCam/runs/DRP/DP1/w_2025_10/DM-49359'\n",
    "# obs_collection = 'LSSTComCam/runs/DRP/DP1/w_2025_11/DM-49472'\n",
    "# obs_collection = 'LSSTComCam/runs/DRP/DP1/w_2025_13/DM-49751'\n",
    "# obs_collection = 'LSSTComCam/runs/DRP/DP1/v29_0_0_rc2/DM-49592'\n",
    "obs_collection = 'LSSTComCam/runs/DRP/DP1/v29_0_0_rc5/DM-49865'\n",
    "\n",
    "# obs_collection = 'LSSTComCam/runs/nightlyValidation/20241111/d_2024_11_05/DM-47059'\n",
    "\n",
    "obs_butler = Butler(obs_repo, collections=obs_collection)\n",
    "obs_registry = obs_butler.registry"
   ]
  },
  {
   "cell_type": "code",
   "execution_count": null,
   "id": "8384bc7e-cd34-42d2-ae24-3da0f2f2e128",
   "metadata": {},
   "outputs": [],
   "source": [
    "# cluster_coords = (59.48731586, -49.00034946)\n",
    "cluster_coords = (37.86501659859067, 6.982204815599694)\n"
   ]
  },
  {
   "cell_type": "markdown",
   "id": "928f4b03-792a-42c4-8bba-f89b5aa5bbf7",
   "metadata": {},
   "source": [
    "## Load Butler Data"
   ]
  },
  {
   "cell_type": "code",
   "execution_count": null,
   "id": "837456e7-7f6b-47ef-9bf9-aa0fd8695a59",
   "metadata": {},
   "outputs": [],
   "source": [
    "t_skymap = obs_butler.get('skyMap', skymap='lsst_cells_v1')"
   ]
  },
  {
   "cell_type": "code",
   "execution_count": null,
   "id": "90e2c371-1c94-48a8-b081-3245a9a2244f",
   "metadata": {},
   "outputs": [],
   "source": [
    "# Position of the BCG for A360\n",
    "ra_bcg = cluster_coords[0]\n",
    "dec_bcg = cluster_coords[1]\n",
    "\n",
    "# Looking for all patches in delta deg region around it\n",
    "delta = 0.5\n",
    "center = lsst.geom.SpherePoint(ra_bcg, dec_bcg, lsst.geom.degrees)\n",
    "ra_min, ra_max = ra_bcg - delta, ra_bcg + delta\n",
    "dec_min, dec_max = dec_bcg - delta, dec_bcg + delta\n",
    "\n",
    "ra_range = (ra_min, ra_max)\n",
    "dec_range = (dec_min, dec_max)\n",
    "radec = [lsst.geom.SpherePoint(ra_range[0], dec_range[0], lsst.geom.degrees),\n",
    "         lsst.geom.SpherePoint(ra_range[0], dec_range[1], lsst.geom.degrees),\n",
    "         lsst.geom.SpherePoint(ra_range[1], dec_range[0], lsst.geom.degrees),\n",
    "         lsst.geom.SpherePoint(ra_range[1], dec_range[1], lsst.geom.degrees)]\n",
    "\n",
    "tracts_and_patches = t_skymap.findTractPatchList(radec)\n",
    "\n",
    "tp_dict = {}\n",
    "for tract_num in np.arange(len(tracts_and_patches)):\n",
    "    tract_info = tracts_and_patches[tract_num][0]\n",
    "    tract_idx = tract_info.getId()\n",
    "    # All the patches around the cluster\n",
    "    patches = []\n",
    "    for i,patch in enumerate(tracts_and_patches[tract_num][1]):\n",
    "        patch_info = tracts_and_patches[tract_num][1][i]\n",
    "        patch_idx = patch_info.sequential_index\n",
    "        patches.append(patch_idx)\n",
    "    tp_dict.update({tract_idx:patches})\n",
    "print(tp_dict)"
   ]
  },
  {
   "cell_type": "code",
   "execution_count": null,
   "id": "ad96229d-42e7-419d-b1bd-b193de01998f",
   "metadata": {},
   "outputs": [],
   "source": [
    "tract = t_skymap.findTract(center)\n",
    "patch = tract.findPatch(center)\n",
    "tract_id = tract.tract_id\n",
    "patch_id = patch.getSequentialIndex()\n",
    "skymap_str = 'lsst_cells_v1'"
   ]
  },
  {
   "cell_type": "code",
   "execution_count": null,
   "id": "756ea93b-b34f-417a-a8e7-0323b74d8135",
   "metadata": {},
   "outputs": [],
   "source": [
    "# Get the data for the first tract listed\n",
    "\n",
    "deepCoaddTable = np.array(list(obs_registry.queryDatasets('deep_coadd', skymap='lsst_cells_v1', patch=patch_id, tract=tract_id)))\n",
    "\n",
    "# deepCoaddTable = np.array(list(obs_registry.queryDatasets('deepCoadd_calexp', patch=patch_id, tract=tract_id)))\n",
    "print(deepCoaddTable)"
   ]
  },
  {
   "cell_type": "code",
   "execution_count": null,
   "id": "a92713f8-3212-4ef8-821c-d2403e0e2a31",
   "metadata": {},
   "outputs": [],
   "source": [
    "new_deep_calexps = []\n",
    "for dct in deepCoaddTable:\n",
    "    new_deep_calexps.append(obs_butler.get(dct))\n",
    "\n",
    "bands = [ndc.filter.bandLabel for ndc in new_deep_calexps]\n",
    "coadds = MultibandExposure.fromExposures(bands, new_deep_calexps)\n",
    "new_wcs = new_deep_calexps[bands.index('i')].getWcs()"
   ]
  },
  {
   "cell_type": "code",
   "execution_count": null,
   "id": "baa4b6eb-9f02-48b3-87d5-024c1b205c58",
   "metadata": {},
   "outputs": [],
   "source": [
    "flux_bands = [b+suffix for b in bands for suffix in [flux_suffix, flux_suffix+'Err']]"
   ]
  },
  {
   "cell_type": "code",
   "execution_count": null,
   "id": "9cd3c461-798a-4f4e-b34e-9e53ec5923c1",
   "metadata": {},
   "outputs": [],
   "source": [
    "showRGB(coadds.image, bgr='gri', figsize=(6,6))"
   ]
  },
  {
   "cell_type": "code",
   "execution_count": null,
   "id": "83e67462-254f-43df-b67b-232710d673a4",
   "metadata": {},
   "outputs": [],
   "source": [
    "req_cols = ['coord_ra', 'coord_dec', 'refExtendedness', 'merge_peak_sky', 'detect_isTractInner', 'detect_isDeblendedSource', 'objectId', 'detect_isPrimary',\n",
    "            'parentObjectId', 'shape_xx', 'shape_xy', 'shape_yy', 'refBand', 'x', 'y', 'patch', 'i_ixxPSF', 'i_iyyPSF', 'i_ixyPSF', 'i_iPSF_flag',\n",
    "            'i_hsmShapeRegauss_e1', 'i_hsmShapeRegauss_e2', 'i_hsmShapeRegauss_flag', 'i_hsmShapeRegauss_sigma', 'i_blendedness' ] + flux_bands"
   ]
  },
  {
   "cell_type": "code",
   "execution_count": null,
   "id": "c157d025-be16-428a-8e05-0ed8c4636308",
   "metadata": {},
   "outputs": [],
   "source": [
    "cluster_tables = []\n",
    "\n",
    "tids = tp_dict.keys()\n",
    "# tids = [tract_id]\n",
    "for tid in tids:\n",
    "    for pi in tp_dict[tid]:\n",
    "        cluster_tables.append(obs_butler.get('object_patch', skymap='lsst_cells_v1', patch=pi, tract=tid, \n",
    "                                   parameters={\"columns\":req_cols}))"
   ]
  },
  {
   "cell_type": "code",
   "execution_count": null,
   "id": "f0f75b79-165f-428a-a085-82ae12146d95",
   "metadata": {},
   "outputs": [],
   "source": [
    "# cluster_table = pd.concat(cluster_tables)\n",
    "cluster_table = vstack(cluster_tables, metadata_conflicts='silent')\n",
    "primary_cluster = cluster_table[cluster_table['detect_isPrimary']]"
   ]
  },
  {
   "cell_type": "code",
   "execution_count": null,
   "id": "5045b4b7-c81f-42f6-a792-940084e5eb0d",
   "metadata": {},
   "outputs": [],
   "source": [
    "for b in bands:\n",
    "    primary_cluster[f'{b}_mag'] = u.nJy.to(u.ABmag, primary_cluster[f'{b}{flux_suffix}'])\n",
    "    primary_cluster[f'{b}_snr'] = primary_cluster[f'{b}{flux_suffix}']/primary_cluster[f'{b}{flux_suffix}Err']"
   ]
  },
  {
   "cell_type": "code",
   "execution_count": null,
   "id": "6a1c70d3-98be-4eaf-9371-257e92e69bdd",
   "metadata": {},
   "outputs": [],
   "source": [
    "R2 = 1 - (primary_cluster['i_ixxPSF']+primary_cluster['i_iyyPSF'])/(primary_cluster['shape_xx']+primary_cluster['shape_yy'])\n",
    "primary_cluster['res'] = R2"
   ]
  },
  {
   "cell_type": "code",
   "execution_count": null,
   "id": "21d60a09-dce7-4339-bc2c-8fdc77d8ca65",
   "metadata": {},
   "outputs": [],
   "source": [
    "primary_cluster.add_index('objectId')"
   ]
  },
  {
   "cell_type": "code",
   "execution_count": null,
   "id": "af0a31bf-0874-4e95-8f0d-490be29038ab",
   "metadata": {},
   "outputs": [],
   "source": [
    "primary_cluster.meta = {'LSST.BUTLER.RUN': 'v29_0_0_rc5/DM-49865'}"
   ]
  },
  {
   "cell_type": "code",
   "execution_count": null,
   "id": "3ddc4fe1-9999-46d2-a6c6-e24b3cbbc707",
   "metadata": {},
   "outputs": [],
   "source": [
    "primary_cluster.write('cluster_data/abell360_PRECUTS_rc5.fits', format=\"fits\", overwrite=True)"
   ]
  },
  {
   "cell_type": "markdown",
   "id": "64b7e595-61ac-48d3-be1c-54050da7922c",
   "metadata": {
    "jp-MarkdownHeadingCollapsed": true
   },
   "source": [
    "### Load Euclid Data"
   ]
  },
  {
   "cell_type": "code",
   "execution_count": null,
   "id": "e1c16ced-2470-4ac3-8a34-b1a4d2f16a0a",
   "metadata": {},
   "outputs": [],
   "source": [
    "with fits.open('cluster0.7_pz.fits') as hdul:\n",
    "    # Assuming data is in the first HDU (if not, change the index as needed)\n",
    "    data = hdul[1].data\n",
    "\n",
    "    # Convert the FITS data to an Astropy Table\n",
    "    euclid_pz = Table(data)\n"
   ]
  },
  {
   "cell_type": "code",
   "execution_count": null,
   "id": "66d7e483-6c17-430e-94fd-f5dae912d90f",
   "metadata": {},
   "outputs": [],
   "source": [
    "euclid_coords = np.vstack((euclid_pz['right_ascension'], euclid_pz['declination'])).T\n",
    "euclid_tree = KDTree(euclid_coords)"
   ]
  },
  {
   "cell_type": "code",
   "execution_count": null,
   "id": "69c4dc3e-5aa9-43bb-b4be-11bb4f043156",
   "metadata": {},
   "outputs": [],
   "source": [
    "primary_coords = np.vstack((primary_cluster['coord_ra'], primary_cluster['coord_dec'])).T\n",
    "primary_tree = KDTree(primary_coords)"
   ]
  },
  {
   "cell_type": "code",
   "execution_count": null,
   "id": "e0521767-3956-4e6d-965e-a2c13756a26b",
   "metadata": {},
   "outputs": [],
   "source": [
    "euclid_match = euclid_tree.query(primary_coords, k=1)"
   ]
  },
  {
   "cell_type": "code",
   "execution_count": null,
   "id": "6f301799-332d-4b5c-b449-aa4113e0d3f4",
   "metadata": {},
   "outputs": [],
   "source": [
    "pz_est = []\n",
    "\n",
    "for ed, em in zip(*euclid_match):\n",
    "    if ed < arcsec:\n",
    "        pz_est.append(euclid_pz[em]['phz_median'])\n",
    "    else:\n",
    "        pz_est.append(-99)\n",
    "        "
   ]
  },
  {
   "cell_type": "code",
   "execution_count": null,
   "id": "68793da1-40a9-4cde-ac36-679e018c4517",
   "metadata": {},
   "outputs": [],
   "source": [
    "primary_cluster['pz_euclid'] = pz_est"
   ]
  },
  {
   "cell_type": "code",
   "execution_count": null,
   "id": "2b0228c8-afcf-471e-88d2-4a2b642a7664",
   "metadata": {},
   "outputs": [],
   "source": [
    "plt.hist(primary_cluster['pz_euclid'], range=(0,4), bins=101);"
   ]
  },
  {
   "cell_type": "code",
   "execution_count": null,
   "id": "9f5c6c9a-2eca-4e10-87a1-dac5a73ffbc8",
   "metadata": {},
   "outputs": [],
   "source": [
    "# # butler_run = primary_cluster.meta['LSST.BUTLER.RUN']\n",
    "# primary_cluster.meta = {'LSST.BUTLER.RUN': 'v29_0_0_rc2/DM-49592'}\n",
    "\n",
    "# primary_cluster['i_snr'] = primary_cluster['i_cModelFlux']/primary_cluster['i_cModelFluxErr']\n",
    "\n",
    "# R2 = 1 - (primary_cluster['i_ixxPSF']+primary_cluster['i_iyyPSF'])/(primary_cluster['shape_xx']+primary_cluster['shape_yy'])\n",
    "# primary_cluster['res'] = R2"
   ]
  },
  {
   "cell_type": "code",
   "execution_count": null,
   "id": "209bcfed-0d4d-415e-a979-083edd33e250",
   "metadata": {},
   "outputs": [],
   "source": [
    "# Save matched catalog\n",
    "primary_cluster.write('cluster_data/edfs0.7_cluster_euclidpz_PRECUTS.fits', format=\"fits\", overwrite=True)"
   ]
  },
  {
   "cell_type": "markdown",
   "id": "a03ebf9a-5ac2-45ee-a6a4-1180c0567e6e",
   "metadata": {},
   "source": [
    "## Load-in PRECUTs"
   ]
  },
  {
   "cell_type": "code",
   "execution_count": null,
   "id": "5a470e81-d87a-4e05-9909-d3bfb4d915fa",
   "metadata": {},
   "outputs": [],
   "source": [
    "# Load in pre-cuts data\n",
    "with fits.open('cluster_data/abell360_PRECUTS_rc5.fits') as hdul:\n",
    "        data = hdul[1].data\n",
    "        table = Table(data)\n",
    "\n",
    "# # Load in pre-cuts data\n",
    "# with fits.open('cluster_data/edfs0.7_cluster_euclidpz_PRECUTS.fits') as hdul:\n",
    "#         data = hdul[1].data\n",
    "#         table = Table(data)"
   ]
  },
  {
   "cell_type": "code",
   "execution_count": null,
   "id": "7cbf8a89-1503-4420-84aa-51b34bb61074",
   "metadata": {},
   "outputs": [],
   "source": [
    "color_ri = table['r_mag'] - table['i_mag']\n",
    "color_gi = table['g_mag'] - table['i_mag']"
   ]
  },
  {
   "cell_type": "code",
   "execution_count": null,
   "id": "eee1d0ed-8f9b-4b25-85d1-fed19bf44dfe",
   "metadata": {},
   "outputs": [],
   "source": [
    "gi_rs = 1.6 - (0.07) * (table['i_mag']-21)\n",
    "gi_rs_hi = gi_rs + 0.22\n",
    "gi_rs_low = gi_rs - 0.12\n",
    "\n",
    "gi_rs_lbl = ((color_gi > gi_rs_low) * (color_gi < gi_rs_hi) * (table['i_mag'] < 23))\n",
    "\n",
    "ri_rs = 0.5 - (0.02) * (table['i_mag']-21)\n",
    "ri_rs_hi = ri_rs + 0.05\n",
    "ri_rs_low = ri_rs - 0.07\n",
    "\n",
    "ri_rs_lbl = ((color_ri > ri_rs_low) * (color_ri < ri_rs_hi) * (table['i_mag'] < 23))\n",
    "\n",
    "prak_rs = ri_rs_lbl * gi_rs_lbl"
   ]
  },
  {
   "cell_type": "code",
   "execution_count": null,
   "id": "ed9c8b88-e90d-41e9-996e-6c5ff91918e5",
   "metadata": {},
   "outputs": [],
   "source": [
    "color_ri = table['r_mag'] - table['i_mag']\n",
    "c_rs_hi = 0.6 - (0.1/5.) * (table['r_mag']-19)\n",
    "c_rs_low = 0.4 - (0.1/5.)* (table['r_mag']-19)\n",
    "\n",
    "celine_rs = ((color_ri > c_rs_low) * (color_ri < c_rs_hi) * (table['r_mag'] < 23))"
   ]
  },
  {
   "cell_type": "code",
   "execution_count": null,
   "id": "c469f2f2-5b1a-4ec9-a285-136f2266db42",
   "metadata": {},
   "outputs": [],
   "source": [
    "# Apply cuts\n",
    "filt = (table['refExtendedness'] >= 0.5)\n",
    "filt &= (table['i_mag'] <= 24.5)\n",
    "filt &= (table['i_snr'] >= 10)\n",
    "filt &= ~(table['i_hsmShapeRegauss_flag'])\n",
    "filt &= (table['i_hsmShapeRegauss_e1']**2 + table['i_hsmShapeRegauss_e2']**2) <= 16\n",
    "filt &= table['res'] >= 0.3\n",
    "filt &= table['i_blendedness'] <= 0.4\n",
    "filt &= (table['i_hsmShapeRegauss_sigma']<= 0.4) * (0 < table['i_hsmShapeRegauss_sigma'])\n",
    "filt &= table['i_iPSF_flag']==0\n",
    "# filt &= ~celine_rs\n",
    "filt &= ~prak_rs\n",
    "# filt &= table['pz_euclid'] > .75\n",
    "print(f\"After cuts: {np.sum(filt)}\")"
   ]
  },
  {
   "cell_type": "code",
   "execution_count": null,
   "id": "be60c97b-a84e-4f34-bf8e-57cd20e1be89",
   "metadata": {},
   "outputs": [],
   "source": [
    "cut_table = table[filt]"
   ]
  },
  {
   "cell_type": "code",
   "execution_count": null,
   "id": "bafa0755-7535-4a67-80ec-d0bd61ffda4b",
   "metadata": {},
   "outputs": [],
   "source": [
    "cut_table.write('cluster_data/abell360_POSTCUTS_colorcuts_all.fits', format=\"fits\", overwrite=True)"
   ]
  },
  {
   "cell_type": "markdown",
   "id": "cb198d3a-b060-4b1d-97cb-e58633b04f71",
   "metadata": {},
   "source": [
    "## Load in calibration"
   ]
  },
  {
   "cell_type": "code",
   "execution_count": null,
   "id": "5bf7510d-c530-4007-8448-42ae6725fc69",
   "metadata": {},
   "outputs": [],
   "source": [
    "# From Shenming's CLMM demo on using HSC data\n",
    "def apply_shear_calibration(e1_0, e2_0, e_rms, m, c1, c2, weight):\n",
    "    R = 1.0 - np.sum(weight * e_rms**2.0) / np.sum(weight)\n",
    "    m_mean = np.sum(weight * m) / np.sum(weight)\n",
    "    c1_mean = np.sum(weight * c1) / np.sum(weight)\n",
    "    c2_mean = np.sum(weight * c2) / np.sum(weight)\n",
    "    print(\"R, m_mean, c1_mean, c2_mean: \", R, m_mean, c1_mean, c2_mean)\n",
    "\n",
    "    g1 = (e1_0 / (2.0 * R) - c1) / (1.0 + m_mean)\n",
    "    g2 = (e2_0 / (2.0 * R) - c2) / (1.0 + m_mean)\n",
    "\n",
    "    return g1, g2"
   ]
  },
  {
   "cell_type": "code",
   "execution_count": null,
   "id": "73e3661a-8baa-4c0f-a087-47d69b8644b6",
   "metadata": {},
   "outputs": [],
   "source": [
    "# calib_filename = 'abell360_cc_all_calib.fits'\n",
    "# postcuts_filename = 'abell360_POSTCUTS_colorcuts_all.fits'\n",
    "\n",
    "calib_filename = 'source_sample_calib_v29_rc5.fits'\n",
    "postcuts_filename = 'source_sample_v29_rc5.fits'\n",
    "\n",
    "# calib_filename = 'edfs0.7_calibrate.fits'\n",
    "# postcuts_filename = 'edfs0.7_cluster_euclidpz_POSTCUTS.fits'"
   ]
  },
  {
   "cell_type": "code",
   "execution_count": null,
   "id": "ec217a2d-f998-4263-8f6b-e37e858a0d25",
   "metadata": {},
   "outputs": [],
   "source": [
    "# with fits.open('cluster_data/edfs0.7_calibrate.fits') as hdul:\n",
    "#     # Assuming data is in the first HDU (if not, change the index as needed)\n",
    "#     data = hdul[1].data\n",
    "\n",
    "#     # Convert the FITS data to an Astropy Table\n",
    "#     table = Table(data)\n",
    "\n",
    "# with fits.open('cluster_data/edfs0.7_cluster_euclidpz_POSTCUTS.fits') as hdul:\n",
    "#     # Assuming data is in the first HDU (if not, change the index as needed)\n",
    "#     data = hdul[1].data\n",
    "\n",
    "#     # Convert the FITS data to an Astropy Table\n",
    "#     wl_table = Table(data)"
   ]
  },
  {
   "cell_type": "code",
   "execution_count": null,
   "id": "8e5e844d-5565-4977-9c28-e9196c03ea25",
   "metadata": {},
   "outputs": [],
   "source": [
    "with fits.open(f'cluster_data/{calib_filename}') as hdul:\n",
    "    # Assuming data is in the first HDU (if not, change the index as needed)\n",
    "    data = hdul[1].data\n",
    "\n",
    "    # Convert the FITS data to an Astropy Table\n",
    "    table = Table(data)\n",
    "\n",
    "with fits.open(f'cluster_data/{postcuts_filename}') as hdul:\n",
    "    # Assuming data is in the first HDU (if not, change the index as needed)\n",
    "    data = hdul[1].data\n",
    "\n",
    "    # Convert the FITS data to an Astropy Table\n",
    "    wl_table = Table(data)"
   ]
  },
  {
   "cell_type": "code",
   "execution_count": null,
   "id": "9315fad7-49ed-44fc-bd86-852e2e2fea3a",
   "metadata": {},
   "outputs": [],
   "source": [
    "e_rms = table[\"ishape_hsm_regauss_derived_rms_e\"]\n",
    "m = table[\"ishape_hsm_regauss_derived_shear_bias_m\"]\n",
    "c1 = table[\"ishape_hsm_regauss_derived_shear_bias_c1\"]\n",
    "c2 = table[\"ishape_hsm_regauss_derived_shear_bias_c2\"]\n",
    "weight = table[\"ishape_hsm_regauss_derived_shape_weight\"]\n",
    "# weight = np.ones(len(c1))"
   ]
  },
  {
   "cell_type": "code",
   "execution_count": null,
   "id": "9b38e9bd-761b-4460-8706-800a5c961172",
   "metadata": {},
   "outputs": [],
   "source": [
    "g1, g2 = apply_shear_calibration(wl_table['i_hsmShapeRegauss_e1'], wl_table['i_hsmShapeRegauss_e2'], e_rms, m, c1, c2, weight)"
   ]
  },
  {
   "cell_type": "markdown",
   "id": "af1e7d53-8c4a-4853-8f29-41493fefd7ab",
   "metadata": {},
   "source": [
    "# Profile"
   ]
  },
  {
   "cell_type": "code",
   "execution_count": null,
   "id": "082506ed-c3c5-4235-863d-17e62a151f53",
   "metadata": {},
   "outputs": [],
   "source": [
    "def get_tang_cross(cluster, sky_dist, bins, sample_prefac=-1/2, astropy=True, ci_level=.95):\n",
    "    nb = len(bins) - 1\n",
    "    tang_avg = np.zeros(nb)\n",
    "    cross_avg = np.zeros_like(tang_avg)\n",
    "\n",
    "    tang_err = np.zeros((nb, 2))\n",
    "    cross_err = np.zeros_like(tang_err)\n",
    "\n",
    "    bin_rs = []\n",
    "    for i in range(nb):\n",
    "        bin_rs.append(bins[i])\n",
    "        ndx_filt = (sky_dist > bins[i]) * (sky_dist < bins[i+1])\n",
    "        if np.sum(ndx_filt) < 1:\n",
    "            continue\n",
    "        if astropy:\n",
    "            sample = cluster[ndx_filt].data.data\n",
    "        else:\n",
    "            sample = cluster[ndx_filt]\n",
    "        sample_t = sample_prefac*sample.real\n",
    "        sample_x = sample_prefac*sample.imag\n",
    "\n",
    "        # print(sample_t, sample_x)?\n",
    "\n",
    "        ta = np.mean(sample_t)\n",
    "        xa = np.mean(sample_x)\n",
    "\n",
    "        te = stats.bootstrap([sample_t], np.mean, confidence_level=ci_level).confidence_interval\n",
    "        xe = stats.bootstrap([sample_x], np.mean, confidence_level=ci_level).confidence_interval\n",
    "        \n",
    "        tang_avg[i] = ta\n",
    "        cross_avg[i] = xa\n",
    "        tang_err[i] = te\n",
    "        cross_err[i] = xe\n",
    "\n",
    "    return tang_avg, cross_avg, tang_err, cross_err, bin_rs"
   ]
  },
  {
   "cell_type": "code",
   "execution_count": null,
   "id": "2576f0b3-8e8d-4523-88a4-6397eeeec0d6",
   "metadata": {},
   "outputs": [],
   "source": [
    "# cluster_coords = (59.48731586, -49.00034946)\n",
    "# cluster_coords = (37.86501659859067, 6.982204815599694)\n"
   ]
  },
  {
   "cell_type": "code",
   "execution_count": null,
   "id": "dbc9c93c-df1b-4d5d-b0bb-7d074cb0cbb1",
   "metadata": {},
   "outputs": [],
   "source": [
    "source_phi = np.arctan2(wl_table['coord_dec'] - cluster_coords[1], (cluster_coords[0] - wl_table['coord_ra'])*np.cos(np.deg2rad(cluster_coords[1])))\n",
    "ang_dist = np.sqrt(((wl_table['coord_ra'] - cluster_coords[0]) * np.cos(np.deg2rad(cluster_coords[1])))**2 + (wl_table['coord_dec'] - cluster_coords[1])**2)\n",
    "sky_distance = Da(.22) * ang_dist * (np.pi/180)"
   ]
  },
  {
   "cell_type": "code",
   "execution_count": null,
   "id": "b5dabf3c-0117-4c76-b2cf-a684dbbcc709",
   "metadata": {},
   "outputs": [],
   "source": [
    "trial_shear = g1+1j*g2\n",
    "cl_shear = trial_shear * -1*np.exp(-2j*source_phi)"
   ]
  },
  {
   "cell_type": "code",
   "execution_count": null,
   "id": "39ab31f2-3fd4-4a54-9d9b-1df6f673d518",
   "metadata": {},
   "outputs": [],
   "source": [
    "bins_mpc = np.array([.25, .5, 1, 1.5, 2.27, 3.3, 5, 7])\n",
    "bin_mids = 1/2 * (bins_mpc[1:] + bins_mpc[:-1])"
   ]
  },
  {
   "cell_type": "code",
   "execution_count": null,
   "id": "d314b3b4-7b36-41f2-940b-3637c28cfc4c",
   "metadata": {},
   "outputs": [],
   "source": [
    "shear_cl = get_tang_cross(cl_shear, sky_distance, bins_mpc,sample_prefac=1, astropy=False, ci_level=.68)"
   ]
  },
  {
   "cell_type": "code",
   "execution_count": null,
   "id": "4be33f3e-9569-4fd5-80d3-c9808a2fb2ed",
   "metadata": {},
   "outputs": [],
   "source": [
    "cmap = cm.coolwarm\n",
    "\n",
    "# plt.plot(sky_distance, reduced_shear, '.')\n",
    "plt.plot(bin_mids, shear_cl[0], '.', label='t', color=cmap(.05))\n",
    "plt.vlines(bin_mids, shear_cl[2][:,0], shear_cl[2][:,1], color=cmap(0.05))\n",
    "\n",
    "plt.plot(1.1*bin_mids, shear_cl[1], '.', label='x', color=cmap(.95))\n",
    "plt.vlines(1.1*bin_mids, shear_cl[3][:,0], shear_cl[3][:,1], color=cmap(0.95))\n",
    "\n",
    "# plt.plot(rbin_mids+.05*rbin_mids, crs_pshear[0], '.-', label='Céline - t', color=cmap(.15), alpha=.2)\n",
    "# plt.vlines(rbin_mids+.05*rbin_mids, crs_pshear[2][:,0], crs_pshear[2][:,1], color=cmap(0.15), alpha=.2)\n",
    "\n",
    "plt.semilogx()\n",
    "\n",
    "plt.axhline(0, ls='--', color='k', alpha=.5)\n",
    "\n",
    "# plt.errorbar(bin_mids*1.05, cl_plot['gt'], cl_plot['gt_err'], \n",
    "#              ls='', marker='.', label='Celine - t', color=cmap(0.15), alpha=.5)\n",
    "# plt.errorbar(bin_mids*1.15, cl_plot['gx'], cl_plot['gx_err'], \n",
    "#              ls='', marker='.', label='Celine - x', color=cmap(0.95), alpha=.5)\n",
    "\n",
    "# plt.plot(rbin_mids+.15*rbin_mids, crs_pshear[1], '.-', label='Céline - x', color=cmap(.95), alpha=.2)\n",
    "# plt.vlines(rbin_mids+.15*rbin_mids, crs_pshear[3][:,0], crs_pshear[3][:,1], color=cmap(0.95), alpha=.2)\n",
    "# plt.title(\"EDFS Cluster Profile at $z\\\\approx 0.7$\")\n",
    "plt.title(\"Abell 360\")\n",
    "# plt.xlim(0.2, 10)\n",
    "plt.ylim([-0.03,0.08])\n",
    "plt.xlim([0.3,7])\n",
    "# plt.ylim(-0.05, 0.15)\n",
    "plt.ylabel(\"Reduced shear\")\n",
    "plt.xlabel(\"R (Mpc)\")\n",
    "plt.legend(frameon=False)"
   ]
  },
  {
   "cell_type": "markdown",
   "id": "0f76dab8-d37f-4b06-811d-829dbca8bfaa",
   "metadata": {},
   "source": [
    "#### CLMM Modeling"
   ]
  },
  {
   "cell_type": "code",
   "execution_count": null,
   "id": "c1706a94-2e19-4b62-84d5-e752c289b6c4",
   "metadata": {},
   "outputs": [],
   "source": [
    "import clmm\n",
    "from clmm import GalaxyCluster, ClusterEnsemble, GCData, Cosmology\n",
    "from clmm import Cosmology, utils"
   ]
  },
  {
   "cell_type": "code",
   "execution_count": null,
   "id": "25788f90-c22c-4f5c-9414-348d107ff2fb",
   "metadata": {},
   "outputs": [],
   "source": [
    "cosmo = clmm.Cosmology(H0=70.0, Omega_dm0=0.3 - 0.045, Omega_b0=0.045, Omega_k0=0.0)"
   ]
  },
  {
   "cell_type": "code",
   "execution_count": null,
   "id": "aef10213-069e-45e9-94b8-3bbf9f47ff1e",
   "metadata": {},
   "outputs": [],
   "source": [
    "moo = clmm.Modeling(massdef=\"mean\", delta_mdef=200, halo_profile_model=\"nfw\")\n",
    "\n",
    "moo.set_cosmo(cosmo)\n",
    "moo.set_concentration(4)\n",
    "moo.set_mass(1.0e15)\n",
    "\n",
    "z_cl = gc_object1.z\n",
    "\n",
    "# source properties\n",
    "# assume sources redshift following a the DESC SRD distribution. This will need updating.\n",
    "\n",
    "z_distrib_func = utils.redshift_distributions.desc_srd  \n",
    "\n",
    "# Compute first beta (e.g. eq(6) of WtGIII paper)\n",
    "beta_kwargs = {\n",
    "    \"z_cl\": z_cl,\n",
    "    \"z_inf\": 10.0,\n",
    "    \"cosmo\": cosmo,\n",
    "    \"z_distrib_func\": z_distrib_func,\n",
    "}\n",
    "beta_s_mean = utils.compute_beta_s_mean_from_distribution(**beta_kwargs)\n",
    "beta_s_square_mean = utils.compute_beta_s_square_mean_from_distribution(**beta_kwargs)\n",
    "\n",
    "rproj = np.logspace(np.log10(0.3),np.log10(7.), 100)\n",
    "\n",
    "gt_z = moo.eval_reduced_tangential_shear(\n",
    "    rproj, z_cl, [beta_s_mean, beta_s_square_mean], z_src_info=\"beta\", approx=\"order2\"\n",
    ")"
   ]
  },
  {
   "cell_type": "code",
   "execution_count": null,
   "id": "ec169fe1-2322-47c7-bf36-462397d8dbfc",
   "metadata": {},
   "outputs": [],
   "source": [
    "with fits.open('CLMM_profile.fits') as hdul:\n",
    "    data = hdul[1].data\n",
    "    cl_plot = Table(data)"
   ]
  },
  {
   "cell_type": "code",
   "execution_count": null,
   "id": "51a96a70-0f3c-4a0b-a340-ec8d9247a02d",
   "metadata": {},
   "outputs": [],
   "source": [
    "cmap = cm.coolwarm\n",
    "cmap2 = cm.tab10\n",
    "\n",
    "plt.plot(bin_mids, shear_cl[0], '.', label='Manual - t', color=cmap(.05))\n",
    "plt.vlines(bin_mids, shear_cl[2][:,0], shear_cl[2][:,1], color=cmap(0.05))\n",
    "\n",
    "plt.plot(1.1*bin_mids, shear_cl[1], '.', label='Manual - x', color=cmap(.95))\n",
    "plt.vlines(1.1*bin_mids, shear_cl[3][:,0], shear_cl[3][:,1], color=cmap(0.95))\n",
    "\n",
    "plt.errorbar(bin_mids*1.05, cl_plot['gt'], cl_plot['gt_err'], \n",
    "             ls='', marker='.', label='CLMM - t', color=cmap(0.15), alpha=.5)\n",
    "plt.errorbar(bin_mids*1.15, cl_plot['gx'], cl_plot['gx_err'], \n",
    "             ls='', marker='.', label='CLMM - x', color=cmap(0.95), alpha=.5)\n",
    "\n",
    "plt.plot(rproj, gt_z, label='NFW (model, not fit), M200m=1e15 Msun, c=4, n(z)=SRD', ls=':')\n",
    "\n",
    "\n",
    "plt.semilogx()\n",
    "plt.axhline(0, ls='--', color='k', alpha=.5)\n",
    "plt.title(\"Abell 360 - Same Data\")\n",
    "# plt.xlim(0.2, 10)\n",
    "plt.ylim([-0.03,0.08])\n",
    "plt.xlim([0.3,7.5])\n",
    "# plt.ylim(-0.05, 0.15)\n",
    "plt.ylabel(\"Reduced shear\")\n",
    "plt.xlabel(\"R (Mpc)\")\n",
    "plt.legend(frameon=False, bbox_to_anchor=(1.05, .6))"
   ]
  },
  {
   "cell_type": "markdown",
   "id": "24c2d236-f14f-48c1-8cda-761f972f84c5",
   "metadata": {
    "jp-MarkdownHeadingCollapsed": true
   },
   "source": [
    "### CLMM Profile"
   ]
  },
  {
   "cell_type": "code",
   "execution_count": null,
   "id": "22b172a3-eada-4ee9-9fb7-fb6682937810",
   "metadata": {},
   "outputs": [],
   "source": [
    "import clmm\n",
    "from clmm import GalaxyCluster, ClusterEnsemble, GCData, Cosmology\n",
    "from clmm import Cosmology, utils"
   ]
  },
  {
   "cell_type": "code",
   "execution_count": null,
   "id": "9b7d68fe-392d-402b-b787-4e0f9f02a660",
   "metadata": {},
   "outputs": [],
   "source": [
    "cosmo = clmm.Cosmology(H0=70.0, Omega_dm0=0.3 - 0.045, Omega_b0=0.045, Omega_k0=0.0)"
   ]
  },
  {
   "cell_type": "markdown",
   "id": "99711aaa-1ba0-49d8-9829-d7f5b0176c82",
   "metadata": {
    "execution": {
     "iopub.execute_input": "2025-03-11T13:31:57.616919Z",
     "iopub.status.busy": "2025-03-11T13:31:57.616413Z",
     "iopub.status.idle": "2025-03-11T13:31:57.619841Z",
     "shell.execute_reply": "2025-03-11T13:31:57.619438Z",
     "shell.execute_reply.started": "2025-03-11T13:31:57.616902Z"
    }
   },
   "source": [
    "Prepare a CLMM GCData table using the catalog"
   ]
  },
  {
   "cell_type": "code",
   "execution_count": null,
   "id": "c53dc44c-079e-44a5-817c-dc16ae2b30f2",
   "metadata": {},
   "outputs": [],
   "source": [
    "galcat = GCData()\n",
    "galcat['ra'] = wl_table['coord_ra']\n",
    "galcat['dec'] = wl_table['coord_dec']\n",
    "# galcat['e1'] = e1[to_use]\n",
    "# galcat['e2'] = e2[to_use]\n",
    "galcat['e1'] = g1\n",
    "galcat['e2'] = g2\n",
    "# galcat['e_err'] = e_err[to_use]/2.  # factor 2 to account for conversion between e and g\n",
    "galcat['z'] = np.zeros(len(g1)) # CLMM needs a redshift column for the source, even if not used"
   ]
  },
  {
   "cell_type": "code",
   "execution_count": null,
   "id": "7f16b52d-ed0c-419f-9263-f1ab520fec4c",
   "metadata": {},
   "outputs": [],
   "source": [
    "ra_bcg = 37.86501659859067\n",
    "dec_bcg = 6.982204815599694\n"
   ]
  },
  {
   "cell_type": "code",
   "execution_count": null,
   "id": "72bc022e-a949-48d5-9ea9-be551b9e76a1",
   "metadata": {},
   "outputs": [],
   "source": [
    "cluster_id = \"Abell 360\"\n",
    "gc_object1 = clmm.GalaxyCluster(cluster_id, ra_bcg, dec_bcg, 0.22, galcat, coordinate_system='euclidean')"
   ]
  },
  {
   "cell_type": "code",
   "execution_count": null,
   "id": "437b1548-f534-40f9-a19a-529e609be8e7",
   "metadata": {},
   "outputs": [],
   "source": [
    "gc_object1.compute_tangential_and_cross_components(add=True);"
   ]
  },
  {
   "cell_type": "code",
   "execution_count": null,
   "id": "dddb055b-9175-445c-be8d-8ccb55dab168",
   "metadata": {},
   "outputs": [],
   "source": [
    "gc_object1.make_radial_profile(bins=bins_mpc, bin_units='Mpc', add=True, cosmo=cosmo, overwrite=True, use_weights=False, gal_ids_in_bins=False);\n",
    "\n",
    "## Alternatively, angular radial binning (no need for a cosmology then)\n",
    "# gc_object1.make_radial_profile(bins=bins_deg, bin_units='degrees', add=True, overwrite=True, use_weights=True);\n"
   ]
  },
  {
   "cell_type": "code",
   "execution_count": null,
   "id": "12be2c87-2fb8-4f59-9e45-bd2dc989dfdc",
   "metadata": {},
   "outputs": [],
   "source": [
    "# Check the profile table\n",
    "gc_object1.profile"
   ]
  },
  {
   "cell_type": "markdown",
   "id": "510370b0-f0cb-42ad-b8b5-ba63c3702502",
   "metadata": {},
   "source": [
    "Also use CLMM to get a typical model for a cluster at that redshift, assuming the DESC SRD n(z)"
   ]
  },
  {
   "cell_type": "code",
   "execution_count": null,
   "id": "4a615ed7-d87a-4ac4-a036-51557165b788",
   "metadata": {},
   "outputs": [],
   "source": [
    "moo = clmm.Modeling(massdef=\"mean\", delta_mdef=200, halo_profile_model=\"nfw\")\n",
    "\n",
    "moo.set_cosmo(cosmo)\n",
    "moo.set_concentration(4)\n",
    "moo.set_mass(1.0e15)\n",
    "\n",
    "z_cl = gc_object1.z\n",
    "\n",
    "# source properties\n",
    "# assume sources redshift following a the DESC SRD distribution. This will need updating.\n",
    "\n",
    "z_distrib_func = utils.redshift_distributions.desc_srd  \n",
    "\n",
    "# Compute first beta (e.g. eq(6) of WtGIII paper)\n",
    "beta_kwargs = {\n",
    "    \"z_cl\": z_cl,\n",
    "    \"z_inf\": 10.0,\n",
    "    \"cosmo\": cosmo,\n",
    "    \"z_distrib_func\": z_distrib_func,\n",
    "}\n",
    "beta_s_mean = utils.compute_beta_s_mean_from_distribution(**beta_kwargs)\n",
    "beta_s_square_mean = utils.compute_beta_s_square_mean_from_distribution(**beta_kwargs)\n",
    "\n",
    "rproj = np.logspace(np.log10(0.3),np.log10(7.), 100)\n",
    "\n",
    "gt_z = moo.eval_reduced_tangential_shear(\n",
    "    rproj, z_cl, [beta_s_mean, beta_s_square_mean], z_src_info=\"beta\", approx=\"order2\"\n",
    ")"
   ]
  },
  {
   "cell_type": "code",
   "execution_count": null,
   "id": "26d4c220-f25f-4769-9c02-d0dd6461c5d7",
   "metadata": {},
   "outputs": [],
   "source": [
    "plt.errorbar(gc_object1.profile['radius'], gc_object1.profile['gt'], gc_object1.profile['gt_err'], \n",
    "             ls='', marker='.', label='tangential')\n",
    "plt.errorbar(gc_object1.profile['radius']*1.02, gc_object1.profile['gx'], gc_object1.profile['gx_err'], \n",
    "             ls='', marker='.', label='cross')\n",
    "plt.plot(rproj, gt_z, label='NFW (model, not fit), M200m=1e15 Msun, c=4, n(z)=SRD', ls=':')\n",
    "\n",
    "plt.xscale('log')\n",
    "plt.axhline(0.0, color='k', ls=':')\n",
    "plt.ylim([-0.03,0.08])\n",
    "plt.xlim([0,7])\n",
    "#plt.yscale('log')\n",
    "plt.xlabel('R [Mpc]')\n",
    "plt.ylabel('reduced shear')\n",
    "plt.legend(loc=1)\n",
    "plt.title(\"CLMM Profile\")"
   ]
  },
  {
   "cell_type": "markdown",
   "id": "eeae735b-eaa9-4f34-af6e-a84a16549007",
   "metadata": {},
   "source": [
    "# Playground"
   ]
  },
  {
   "cell_type": "markdown",
   "id": "fd8ba541-c0a6-4719-8553-ead5be23b3fd",
   "metadata": {},
   "source": [
    "#### Red Sequence Snippet"
   ]
  },
  {
   "cell_type": "code",
   "execution_count": null,
   "id": "6f34a518-d0bb-4533-b55c-9415a0bfd362",
   "metadata": {},
   "outputs": [],
   "source": [
    "ang_dist = np.sqrt(((table['coord_ra'] - cluster_coords[0]) * np.cos(np.deg2rad(cluster_coords[1])))**2 + (table['coord_dec'] - cluster_coords[1])**2)\n",
    "sub_table = table[(ang_dist < 10*60*arcsec)]"
   ]
  },
  {
   "cell_type": "code",
   "execution_count": null,
   "id": "45b37ccf-4255-4579-987a-40886acb6307",
   "metadata": {},
   "outputs": [],
   "source": [
    "# ang_dist = np.sqrt(((table['coord_ra'] - cluster_coords[0]) * np.cos(np.deg2rad(cluster_coords[1])))**2 + (table['coord_dec'] - cluster_coords[1])**2)\n",
    "# sub_table = table[(ang_dist < 10*60*arcsec)]\n",
    "\n",
    "xs = np.linspace(15, 28, num=1001)\n",
    "\n",
    "gi_rs_plot = 1.6 - (0.07) * (xs-21)\n",
    "gi_rs_hi_plot = gi_rs_plot + 0.22\n",
    "gi_rs_low_plot = gi_rs_plot - 0.12\n",
    "\n",
    "ri_rs_plot = 0.5 - (0.02) * (xs-21)\n",
    "ri_rs_hi_plot = ri_rs_plot + 0.05\n",
    "ri_rs_low_plot = ri_rs_plot - 0.07\n",
    "\n",
    "zi_rs_plot = -.25 + (0.001) * (xs-21)\n",
    "zi_rs_hi_plot = zi_rs_plot + 0.06\n",
    "zi_rs_low_plot = zi_rs_plot - 0.08\n",
    "\n",
    "fig, ax = plt.subplots(ncols=3, figsize=(12, 4))\n",
    "\n",
    "\n",
    "ax[0].plot(sub_table['i_mag'], sub_table['r_mag'] - sub_table['i_mag'], '.', markersize=1)\n",
    "ax[0].plot(xs, ri_rs_hi_plot, '--', color='grey')\n",
    "ax[0].plot(xs, ri_rs_low_plot, '--', color='grey')\n",
    "\n",
    "ax[1].plot(sub_table['i_mag'], sub_table['g_mag'] - sub_table['i_mag'], '.', markersize=1)\n",
    "ax[1].plot(xs, gi_rs_hi_plot, '--', color='grey')\n",
    "ax[1].plot(xs, gi_rs_low_plot, '--', color='grey')\n",
    "\n",
    "ax[2].plot(sub_table['i_mag'], sub_table['z_mag'] - sub_table['i_mag'], '.', markersize=1)\n",
    "ax[2].plot(xs, zi_rs_hi_plot, '--', color='grey')\n",
    "ax[2].plot(xs, zi_rs_low_plot, '--', color='grey')\n",
    "\n",
    "fig.suptitle(\"Abell 360 Red Sequence\")\n",
    "fig.supxlabel(\"i\")\n",
    "ax[0].set_ylabel(\"r-i\")\n",
    "ax[1].set_ylabel(\"g-i\")\n",
    "ax[2].set_ylabel(\"z-i\")\n",
    "\n",
    "for xx in ax:\n",
    "    xx.axvline(24.5, ls='--', color='k', alpha=0.25)\n",
    "    xx.set_xlim(15, 27)\n",
    "    \n",
    "ax[0].set_ylim(-1, 2)\n",
    "ax[1].set_ylim(-1, 4)\n",
    "ax[2].set_ylim(-1, 1)\n",
    "plt.tight_layout()"
   ]
  },
  {
   "cell_type": "code",
   "execution_count": null,
   "id": "d9b36679-70f6-424e-b758-18871c4ee146",
   "metadata": {},
   "outputs": [],
   "source": []
  }
 ],
 "metadata": {
  "kernelspec": {
   "display_name": "LSST",
   "language": "python",
   "name": "lsst"
  },
  "language_info": {
   "codemirror_mode": {
    "name": "ipython",
    "version": 3
   },
   "file_extension": ".py",
   "mimetype": "text/x-python",
   "name": "python",
   "nbconvert_exporter": "python",
   "pygments_lexer": "ipython3",
   "version": "3.12.9"
  }
 },
 "nbformat": 4,
 "nbformat_minor": 5
}
