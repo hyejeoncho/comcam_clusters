{
 "cells": [
  {
   "cell_type": "markdown",
   "id": "2f950321-79bb-4264-b2fd-9ef7595456a0",
   "metadata": {
    "execution": {
     "iopub.execute_input": "2025-02-27T16:54:09.363845Z",
     "iopub.status.busy": "2025-02-27T16:54:09.363572Z",
     "iopub.status.idle": "2025-02-27T16:54:09.366100Z",
     "shell.execute_reply": "2025-02-27T16:54:09.365703Z",
     "shell.execute_reply.started": "2025-02-27T16:54:09.363830Z"
    }
   },
   "source": [
    "# Applying the A360 Photometry Mask\n",
    "\n",
    "Ben Levine\\\n",
    "LSST Science Piplines version: Weekly 2025_28\\\n",
    "Container Size: large\n",
    "\n",
    "This notebook demonstrates how to apply the current version of the A360 photometry mask to a galaxy catalog.\n",
    "\n",
    "Contributors to the hand mask were Ben Levine, Anja von der Linden, Rance Solomon, and Yuanyuan Zhang.\n",
    "\n",
    "Contributors to the bright star mask were Nathan Amouroux and Rance Solomon.\n",
    "\n",
    "Code for loading the data provided by \"Shear profile around A360 using ComCam HSM shapes\" by Combet, Englert, Fu, dell'Antonio, Adari."
   ]
  },
  {
   "cell_type": "code",
   "execution_count": null,
   "id": "34840e55-4119-4612-a769-a808b6e97d16",
   "metadata": {},
   "outputs": [],
   "source": [
    "# general python packages\n",
    "import numpy as np\n",
    "import matplotlib.pyplot as plt\n",
    "import pandas as pd\n",
    "import re\n",
    "from lsst.daf.butler import Butler\n",
    "import lsst.geom as geom\n",
    "import lsst.afw.geom as afwGeom\n",
    "from lsst.rsp import get_tap_service, retrieve_query"
   ]
  },
  {
   "cell_type": "code",
   "execution_count": null,
   "id": "38325d14-740b-43ec-9b3c-79d820890543",
   "metadata": {},
   "outputs": [],
   "source": [
    "repo = '/repo/dp1'\n",
    "collections = ['LSSTComCam/DP1']\n",
    "butler = Butler(repo, collections=collections)\n",
    "skymap = butler.get('skyMap', skymap='lsst_cells_v1')\n",
    "service = get_tap_service(\"tap\")\n",
    "assert service is not None"
   ]
  },
  {
   "cell_type": "markdown",
   "id": "93de23f3-6156-4367-aa81-f024882dd2f3",
   "metadata": {},
   "source": [
    "Load the data within 0.7 degree from the BCG of Abell 360"
   ]
  },
  {
   "cell_type": "code",
   "execution_count": null,
   "id": "68864e5c-d7b7-40db-b564-8e189894346b",
   "metadata": {},
   "outputs": [],
   "source": [
    "# Position of the BCG for A360\n",
    "ra_bcg = 37.862\n",
    "dec_bcg = 6.98\n",
    "range_deg = 0.7\n",
    "\n",
    "query = \"SELECT objectId, coord_ra, coord_dec, refExtendedness \" \\\n",
    "        \"FROM dp1.Object \" \\\n",
    "        \"WHERE CONTAINS(POINT('ICRS', coord_ra, coord_dec), \" \\\n",
    "        \"CIRCLE('ICRS', %f, %f, %f)) = 1 \"%(ra_bcg, dec_bcg, range_deg)\n",
    "\n",
    "job = service.submit_job(query)\n",
    "job.run()\n",
    "job.wait(phases=['COMPLETED', 'ERROR'])\n",
    "print('Job phase is', job.phase)\n",
    "if job.phase == 'ERROR':\n",
    "    job.raise_if_error()"
   ]
  },
  {
   "cell_type": "code",
   "execution_count": null,
   "id": "141d1ef1-6b25-4e1a-9a27-0211cdc5a1a8",
   "metadata": {},
   "outputs": [],
   "source": [
    "assert job.phase == 'COMPLETED'\n",
    "merged_cat = job.fetch_result().to_table()\n",
    "print(len(merged_cat))"
   ]
  },
  {
   "cell_type": "code",
   "execution_count": null,
   "id": "b8050adb-9d5c-4134-8de3-4aadd500c6d5",
   "metadata": {},
   "outputs": [],
   "source": [
    "filt = merged_cat['refExtendedness'] > 0.5\n",
    "merged_cat = merged_cat[filt]"
   ]
  },
  {
   "cell_type": "code",
   "execution_count": null,
   "id": "a642a94e-a21d-426a-9011-fd9a13611ae3",
   "metadata": {},
   "outputs": [],
   "source": [
    "print(len(merged_cat))"
   ]
  },
  {
   "cell_type": "markdown",
   "id": "50ccc0f4-51f9-45fd-83f3-0610b5519499",
   "metadata": {},
   "source": [
    "# Apply healpix map"
   ]
  },
  {
   "cell_type": "code",
   "execution_count": null,
   "id": "95994605-0d9c-4f0a-ac54-1a069f791795",
   "metadata": {},
   "outputs": [],
   "source": [
    "import healsparse as hsp\n",
    "bo_hsp = hsp.HealSparseMap.read('/home/b/bclevine/A360/masks_Rubin_SV_38_7.hs')\n",
    "hand_hsp = hsp.HealSparseMap.read('/home/b/bclevine/A360/A360_maskmap_hsp_1024_16384.fits')"
   ]
  },
  {
   "cell_type": "code",
   "execution_count": null,
   "id": "f35b970a-664c-49c6-b881-bfb96b196d67",
   "metadata": {},
   "outputs": [],
   "source": [
    "star_mask = ~bo_hsp.get_values_pos(merged_cat['coord_ra'], merged_cat['coord_dec'], lonlat=True)\n",
    "hand_mask = ~hand_hsp.get_values_pos(merged_cat['coord_ra'], merged_cat['coord_dec'], lonlat=True)\n",
    "mask = star_mask & hand_mask"
   ]
  },
  {
   "cell_type": "code",
   "execution_count": null,
   "id": "5abaf216-ee50-4712-b90d-8fa4ae3bca94",
   "metadata": {},
   "outputs": [],
   "source": [
    "ra_bcg = 37.862\n",
    "dec_bcg = 6.98\n",
    "plt.scatter(merged_cat['coord_ra'], merged_cat['coord_dec'], marker='.', s=0.2)\n",
    "plt.scatter(merged_cat['coord_ra'][mask], merged_cat['coord_dec'][mask], marker='.', s=0.2)\n",
    "plt.scatter(ra_bcg, dec_bcg, marker='x', s=50, color='lime', label='BCG')\n",
    "plt.legend()\n",
    "plt.xlabel('RA')\n",
    "plt.ylabel('Dec')"
   ]
  },
  {
   "cell_type": "code",
   "execution_count": null,
   "id": "d68de188-7b21-493d-b29d-5314b8d9a9c3",
   "metadata": {},
   "outputs": [],
   "source": [
    "print(f'Objects kept: {np.count_nonzero(mask)}')\n",
    "print(f'Proportion: {np.count_nonzero(mask)/len(merged_cat):.4f}')"
   ]
  },
  {
   "cell_type": "code",
   "execution_count": null,
   "id": "a55310f3-114d-409b-9b65-c30650aa3762",
   "metadata": {},
   "outputs": [],
   "source": []
  }
 ],
 "metadata": {
  "kernelspec": {
   "display_name": "LSST",
   "language": "python",
   "name": "lsst"
  },
  "language_info": {
   "codemirror_mode": {
    "name": "ipython",
    "version": 3
   },
   "file_extension": ".py",
   "mimetype": "text/x-python",
   "name": "python",
   "nbconvert_exporter": "python",
   "pygments_lexer": "ipython3",
   "version": "3.12.11"
  }
 },
 "nbformat": 4,
 "nbformat_minor": 5
}
