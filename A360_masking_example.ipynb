{
 "cells": [
  {
   "cell_type": "markdown",
   "id": "2f950321-79bb-4264-b2fd-9ef7595456a0",
   "metadata": {
    "execution": {
     "iopub.execute_input": "2025-02-27T16:54:09.363845Z",
     "iopub.status.busy": "2025-02-27T16:54:09.363572Z",
     "iopub.status.idle": "2025-02-27T16:54:09.366100Z",
     "shell.execute_reply": "2025-02-27T16:54:09.365703Z",
     "shell.execute_reply.started": "2025-02-27T16:54:09.363830Z"
    }
   },
   "source": [
    "# Applying the A360 Photometry Mask\n",
    "\n",
    "Ben Levine\\\n",
    "LSST Science Piplines version: Weekly 2025_28\\\n",
    "Container Size: large\n",
    "\n",
    "This notebook demonstrates how to apply the current version of the A360 photometry mask to a galaxy catalog.\n",
    "\n",
    "Contributors to the mask were Ben Levine, Anja von der Linden, Rance Solomon, and Yuanyuan Zhang.\n",
    "\n",
    "Code for loading the data provided by \"Shear profile around A360 using ComCam HSM shapes\" by Combet, Englert, Fu, dell'Antonio, Adari."
   ]
  },
  {
   "cell_type": "code",
   "execution_count": null,
   "id": "34840e55-4119-4612-a769-a808b6e97d16",
   "metadata": {},
   "outputs": [],
   "source": [
    "# general python packages\n",
    "import numpy as np\n",
    "import matplotlib.pyplot as plt\n",
    "import pandas as pd\n",
    "import re\n",
    "from lsst.daf.butler import Butler\n",
    "import lsst.geom as geom\n",
    "import lsst.afw.geom as afwGeom"
   ]
  },
  {
   "cell_type": "code",
   "execution_count": null,
   "id": "38325d14-740b-43ec-9b3c-79d820890543",
   "metadata": {},
   "outputs": [],
   "source": [
    "repo = '/repo/dp1'\n",
    "collection = 'LSSTComCam/runs/DRP/DP1/v29_0_0/DM-50260'\n",
    "\n",
    "butler = Butler(repo, collections=collection)\n",
    "version_str = collection.split('/')\n",
    "version = version_str[-2:][0]+'_'+version_str[-2:][1]\n",
    "print(version)\n",
    "\n",
    "skymap = butler.get('skyMap', skymap='lsst_cells_v1')"
   ]
  },
  {
   "cell_type": "markdown",
   "id": "93de23f3-6156-4367-aa81-f024882dd2f3",
   "metadata": {},
   "source": [
    "## Find tracts and patches for Abell 360 and load the catalogs\n",
    "\n",
    "Find all the tracts/patches that falls in a given region around the A360 BCG, and store the results in a dictionary `tp_dict`"
   ]
  },
  {
   "cell_type": "code",
   "execution_count": null,
   "id": "68864e5c-d7b7-40db-b564-8e189894346b",
   "metadata": {},
   "outputs": [],
   "source": [
    "# Position of the BCG for A360\n",
    "ra_bcg = 37.862\n",
    "dec_bcg = 6.98\n",
    "\n",
    "# Looking for all patches in delta deg region around it\n",
    "delta = 0.5\n",
    "center = geom.SpherePoint(ra_bcg, dec_bcg, geom.degrees)\n",
    "ra_min, ra_max = ra_bcg - delta, ra_bcg + delta\n",
    "dec_min, dec_max = dec_bcg - delta, dec_bcg + delta\n",
    "\n",
    "ra_range = (ra_min, ra_max)\n",
    "dec_range = (dec_min, dec_max)\n",
    "radec = [geom.SpherePoint(ra_range[0], dec_range[0], geom.degrees),\n",
    "         geom.SpherePoint(ra_range[0], dec_range[1], geom.degrees),\n",
    "         geom.SpherePoint(ra_range[1], dec_range[0], geom.degrees),\n",
    "         geom.SpherePoint(ra_range[1], dec_range[1], geom.degrees)]\n",
    "\n",
    "tracts_and_patches = skymap.findTractPatchList(radec)\n",
    "\n",
    "tp_dict = {}\n",
    "for tract_num in np.arange(len(tracts_and_patches)):\n",
    "    tract_info = tracts_and_patches[tract_num][0]\n",
    "    tract_idx = tract_info.getId()\n",
    "    # All the patches around the cluster\n",
    "    patches = []\n",
    "    for i,patch in enumerate(tracts_and_patches[tract_num][1]):\n",
    "        patch_info = tracts_and_patches[tract_num][1][i]\n",
    "        patch_idx = patch_info.sequential_index\n",
    "        patches.append(patch_idx)\n",
    "    tp_dict.update({tract_idx:patches})\n",
    "#tp_dict\n",
    "#print(tracts_and_patches)"
   ]
  },
  {
   "cell_type": "markdown",
   "id": "9523bf59-d30d-49fb-bb1c-02ace8a32992",
   "metadata": {},
   "source": [
    "Load the object catalogs for all these tracts/patches, make basic cuts, and store in a single merged catalog `merged_cat`."
   ]
  },
  {
   "cell_type": "code",
   "execution_count": null,
   "id": "141d1ef1-6b25-4e1a-9a27-0211cdc5a1a8",
   "metadata": {},
   "outputs": [],
   "source": [
    "# Get the object catlaog of these patches\n",
    "if 'v29' in version:\n",
    "    datasetType = 'object_patch'\n",
    "else:\n",
    "    datasetType = 'objectTable'\n",
    " \n",
    "#datasetType = 'deepCoadd_obj'\n",
    "merged_cat = pd.DataFrame()\n",
    "\n",
    "for tract in tp_dict.keys():\n",
    "    print(f'Loading objects from tract {tract}, patches:{tp_dict[tract]}')\n",
    "    for patch in tp_dict[tract]:\n",
    "#        print(patch)\n",
    "        dataId = {'tract': tract, 'patch' : patch ,'skymap':'lsst_cells_v1'}\n",
    "        obj_cat = butler.get(datasetType, dataId=dataId)\n",
    "        if datasetType == 'object_patch': # new naming convention, and obj_cat is now an astropy table. \n",
    "            obj_cat = obj_cat.to_pandas() # convert to pandas to leave the rest of the code unchanged\n",
    "        pattern = r\"^g_|^z_\"  \n",
    "        # Drop columns matching the pattern\n",
    "        obj_cat = obj_cat.drop(columns=[col for col in obj_cat.columns if re.match(pattern, col)])\n",
    "\n",
    "        filt = obj_cat['detect_isPrimary']==True\n",
    "        filt &= obj_cat['r_cModel_flag']== False\n",
    "        filt &= obj_cat['i_cModel_flag']== False\n",
    "        filt &= obj_cat['r_cModelFlux']>0\n",
    "        filt &= obj_cat['i_cModelFlux']>0\n",
    "        filt &= obj_cat['refExtendedness'] > 0.5\n",
    "\n",
    "\n",
    "        merged_cat = pd.concat([merged_cat, obj_cat[filt]], ignore_index=True)\n",
    "        "
   ]
  },
  {
   "cell_type": "markdown",
   "id": "50ccc0f4-51f9-45fd-83f3-0610b5519499",
   "metadata": {},
   "source": [
    "# Apply healpix map"
   ]
  },
  {
   "cell_type": "code",
   "execution_count": null,
   "id": "95994605-0d9c-4f0a-ac54-1a069f791795",
   "metadata": {},
   "outputs": [],
   "source": [
    "import healpy as hp\n",
    "mask_map = np.load('/home/b/bclevine/A360/A360_maskmap_4096_v1.hp')\n",
    "nside = hp.npix2nside(len(mask_map))"
   ]
  },
  {
   "cell_type": "code",
   "execution_count": null,
   "id": "f35b970a-664c-49c6-b881-bfb96b196d67",
   "metadata": {},
   "outputs": [],
   "source": [
    "px_obs = hp.ang2pix(nside, merged_cat['i_ra'], merged_cat['i_dec'], lonlat=True, nest=False)\n",
    "idx_keep = np.isin(px_obs, np.where(mask_map==0)[0])"
   ]
  },
  {
   "cell_type": "code",
   "execution_count": null,
   "id": "5abaf216-ee50-4712-b90d-8fa4ae3bca94",
   "metadata": {},
   "outputs": [],
   "source": [
    "plt.scatter(merged_cat['i_ra'], merged_cat['i_dec'], marker='.', s=0.2)\n",
    "plt.scatter(merged_cat['i_ra'][idx_keep], merged_cat['i_dec'][idx_keep], marker='.', s=0.2)\n",
    "plt.xlabel('RA')\n",
    "plt.ylabel('Dec')"
   ]
  },
  {
   "cell_type": "code",
   "execution_count": null,
   "id": "d68de188-7b21-493d-b29d-5314b8d9a9c3",
   "metadata": {},
   "outputs": [],
   "source": [
    "print(f'Objects kept: {np.count_nonzero(idx_keep)}')\n",
    "print(f'Proportion: {np.count_nonzero(idx_keep)/len(merged_cat):.4f}')"
   ]
  },
  {
   "cell_type": "code",
   "execution_count": null,
   "id": "acba11d3-fe58-4fe8-93b2-3b477401e85e",
   "metadata": {},
   "outputs": [],
   "source": []
  }
 ],
 "metadata": {
  "kernelspec": {
   "display_name": "LSST",
   "language": "python",
   "name": "lsst"
  },
  "language_info": {
   "codemirror_mode": {
    "name": "ipython",
    "version": 3
   },
   "file_extension": ".py",
   "mimetype": "text/x-python",
   "name": "python",
   "nbconvert_exporter": "python",
   "pygments_lexer": "ipython3",
   "version": "3.12.11"
  }
 },
 "nbformat": 4,
 "nbformat_minor": 5
}
