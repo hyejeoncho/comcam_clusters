{
 "cells": [
  {
   "cell_type": "markdown",
   "id": "395275ca-ca04-40a8-9529-81a813c885f9",
   "metadata": {},
   "source": [
    "## First Attempt of Shear Profile of A360 with metadetection"
   ]
  },
  {
   "cell_type": "markdown",
   "id": "99756233-b748-4c6c-aa98-9428b51f3625",
   "metadata": {},
   "source": [
    "Contact author: Miranda Gorsuch\n",
    "\n",
    "First attempt at creating a shear profile for A360 using cell-based coadds and `metadetection`. Many parts are from the [Shear profile around A360 using ComCam HSM shapes](https://github.com/lsst-sitcom/comcam_clusters/blob/main/ACO360_WL_HSCcalib_CLMM.ipynb) notebook, especially the identification of red sequence galaxies and use of CLMM to create the tangential shear plot.\n",
    "\n",
    "Last working weekly: `w_2025_24`\n",
    "\n",
    "Container Size: small (4 GB)"
   ]
  },
  {
   "cell_type": "markdown",
   "id": "dffd3214-df48-4a8e-87ac-d9a456596095",
   "metadata": {},
   "source": [
    "This is not a finished notebook and requires a lot of work yet. This is to show that the end-to-end for the generation of cell-based coadds, running `metadetection`, calibrating shears, and calculating tangential shears is almost in place.\n",
    "\n",
    "Things to check / improve / fix\n",
    "- [X] ~~Generate cell-based coadds in *g* band~~\n",
    "- [X] ~~Better identification and removal of RS galaxies with *g*-band~~\n",
    "- [ ] Incorporate basic photo-z information\n",
    "- [X] ~~Removal of duplicate objects from tract / patch overlap~~\n",
    "- [ ] Compute shape errors from `metadetect`\n",
    "- [ ] Null tests\n",
    "- [X] ~~Check where factor of 2 is needed for e to g conversion (shapes should already be in g)~~"
   ]
  },
  {
   "cell_type": "markdown",
   "id": "2dac9c82-024c-494a-8992-93a7d29b3405",
   "metadata": {},
   "source": [
    "# Preparing data"
   ]
  },
  {
   "cell_type": "markdown",
   "id": "5ebd1cd1-47e9-4a4e-b955-251ca3be31c6",
   "metadata": {},
   "source": [
    "## Imports & Definitions"
   ]
  },
  {
   "cell_type": "code",
   "execution_count": null,
   "id": "52bd3f92-fe30-4adf-861f-77cce5691712",
   "metadata": {},
   "outputs": [],
   "source": [
    "# locally install modeling packages (only do once, if not already installed)\n",
    "# pip install pyccl\n",
    "# pip install clmm"
   ]
  },
  {
   "cell_type": "code",
   "execution_count": null,
   "id": "e0261814-f200-4828-a7a7-683c066cdb8f",
   "metadata": {},
   "outputs": [],
   "source": [
    "from lsst.daf.butler import Butler\n",
    "\n",
    "import numpy as np\n",
    "import pandas as pd\n",
    "from matplotlib import pyplot as plt\n",
    "import matplotlib\n",
    "\n",
    "import astropy.units as u\n",
    "from astropy.table import Table\n",
    "from astropy.coordinates import SkyCoord\n",
    "\n",
    "import gc\n",
    "\n",
    "from lsst.skymap import Index2D\n",
    "import lsst.afw.geom as afwGeom\n",
    "import lsst.afw.math as afwMath\n",
    "import lsst.geom as geom\n",
    "\n",
    "from numpy.linalg import inv\n",
    "import scipy.stats as stats\n",
    "\n",
    "import clmm\n",
    "from clmm import GalaxyCluster, ClusterEnsemble, GCData, Cosmology\n",
    "from clmm import Cosmology, utils\n",
    "\n",
    "cosmo = clmm.Cosmology(H0=70.0, Omega_dm0=0.3 - 0.045, Omega_b0=0.045, Omega_k0=0.0)\n",
    "\n",
    "%matplotlib inline"
   ]
  },
  {
   "cell_type": "code",
   "execution_count": null,
   "id": "fa9a5696-707d-40ff-9cf6-7a571cdb1b9c",
   "metadata": {},
   "outputs": [],
   "source": [
    "REPO = '/sdf/data/rubin/repo/main/'\n",
    "butler = Butler(REPO)\n",
    "registry = butler.registry\n",
    "\n",
    "# collection = 'u/mgorsuch/metadetect/a360/20250513T210342Z' # metadetect run on two bands\n",
    "collection = 'u/mgorsuch/metadetect/a360_3_band/20250612T151357Z' # metadetect run on g, r, i\n",
    "cell_collection = 'u/mgorsuch/a360_cell_coadd/20250513T044026Z' # cells used as input for r and i\n",
    "cell_collection_g = 'u/mgorsuch/a360_cell_coadd_g/20250611T144112Z' # cells used as input for g"
   ]
  },
  {
   "cell_type": "markdown",
   "id": "e99afac3-ef0c-4182-a354-ac0831da584e",
   "metadata": {},
   "source": [
    "## Read in data"
   ]
  },
  {
   "cell_type": "markdown",
   "id": "747b0aa2-5d36-4a1e-b809-390b1f449386",
   "metadata": {},
   "source": [
    "Metadetect outputs tables for each patch. Read in each table and compile them together."
   ]
  },
  {
   "cell_type": "code",
   "execution_count": null,
   "id": "67db6b7b-1959-4353-a1eb-0cf5f92f041e",
   "metadata": {},
   "outputs": [],
   "source": [
    "# Position of the BCG for A360\n",
    "ra_bcg = 37.862\n",
    "dec_bcg = 6.98"
   ]
  },
  {
   "cell_type": "markdown",
   "id": "e4944f60-b0db-4c0c-be53-0ef8b8eb4945",
   "metadata": {},
   "source": [
    "The cell below is for finding the tracts/patches that are within the specified radius of the BCG. This is already incorporated in the butler collection used for the `metadetect` output."
   ]
  },
  {
   "cell_type": "code",
   "execution_count": null,
   "id": "878c1736-7941-471c-a134-d899f17855be",
   "metadata": {},
   "outputs": [],
   "source": [
    "# skymap = butler.get('skyMap', skymap='lsst_cells_v1', collections='LSSTComCam/runs/DRP/DP1/w_2025_06/DM-48810')\n",
    "\n",
    "# # Looking for all patches in delta deg region around it\n",
    "# delta = 0.5\n",
    "# center = geom.SpherePoint(ra_bcg, dec_bcg, geom.degrees)\n",
    "# ra_min, ra_max = ra_bcg - delta, ra_bcg + delta\n",
    "# dec_min, dec_max = dec_bcg - delta, dec_bcg + delta\n",
    "\n",
    "# ra_range = (ra_min, ra_max)\n",
    "# dec_range = (dec_min, dec_max)\n",
    "# radec = [geom.SpherePoint(ra_range[0], dec_range[0], geom.degrees),\n",
    "#          geom.SpherePoint(ra_range[0], dec_range[1], geom.degrees),\n",
    "#          geom.SpherePoint(ra_range[1], dec_range[0], geom.degrees),\n",
    "#          geom.SpherePoint(ra_range[1], dec_range[1], geom.degrees)]\n",
    "\n",
    "# tractPatchList = skymap.findTractPatchList(radec)\n",
    "\n",
    "# find dataset refs that are within the tract/patch list above\n",
    "# datasetRefs_shear = []\n",
    "# datasetRefs_catalog = []\n",
    "\n",
    "# for tractPatch in tractPatchList:\n",
    "#     tract = tractPatch[0]\n",
    "#     patchInfo = tractPatch[1]\n",
    "#     for patch in patchInfo:\n",
    "#         datasetRefs_shear.append(butler.query_datasets('ShearObject', \n",
    "#                                                  collections=collection,\n",
    "#                                                  tract=tract.tract_id,\n",
    "#                                                  patch=patch.sequential_index))\n",
    "#         datasetRefs_catalog.append(butler.query_datasets('objectTable', \n",
    "#                                                  collections=default_collection,\n",
    "#                                                  tract=tract.tract_id,\n",
    "#                                                  patch=patch.sequential_index))"
   ]
  },
  {
   "cell_type": "code",
   "execution_count": null,
   "id": "ef70703c-9206-4e9e-8824-be60be1e71a3",
   "metadata": {},
   "outputs": [],
   "source": [
    "datasetRefs_shear = []\n",
    "overlap_patches_10463 = [0, 10, 20, 30, 40, 50, 60, 70, 80, 90, 100]\n",
    "tract_patch_list = [] # only used for plotting distribution of input images\n",
    "\n",
    "for ref in butler.registry.queryDatasets('ShearObject', collections=collection):\n",
    "\n",
    "    if ref.dataId['tract'] == 10704 or ref.dataId['tract'] == 10705:\n",
    "        continue\n",
    "\n",
    "    if ref.dataId['tract'] == 10463 and ref.dataId['patch'] in overlap_patches_10463:\n",
    "        continue\n",
    "    \n",
    "    datasetRefs_shear.append(butler.query_datasets('ShearObject', \n",
    "                                                     collections=collection,\n",
    "                                                     skymap = 'lsst_cells_v1',\n",
    "                                                     tract=ref.dataId['tract'],\n",
    "                                                     patch=ref.dataId['patch']))\n",
    "\n",
    "    tract_patch_list.append([ref.dataId['tract'], ref.dataId['patch']])"
   ]
  },
  {
   "cell_type": "code",
   "execution_count": null,
   "id": "c33151fd-dfd0-4b35-a572-2cb9bf86d8b1",
   "metadata": {},
   "outputs": [],
   "source": [
    "shear_table_list = []\n",
    "\n",
    "for i, ref in enumerate(datasetRefs_shear):\n",
    "    shear_data_patch = butler.get(ref[0])\n",
    "    shear_table_patch = shear_data_patch.to_pandas()\n",
    "    shear_table_list.append(shear_table_patch)\n",
    "\n",
    "shear_table = pd.concat(shear_table_list)\n",
    "\n",
    "# remove unused tables to clear up memory\n",
    "del shear_table_list\n",
    "gc.collect()"
   ]
  },
  {
   "cell_type": "code",
   "execution_count": null,
   "id": "3c5fd607-de84-4490-b029-9d7cee04b360",
   "metadata": {},
   "outputs": [],
   "source": [
    "# remove objects in outer ring of cells in each patch since patch overlap is two cells\n",
    "shear_table = shear_table[shear_table['cell_x']!=0]\n",
    "shear_table = shear_table[shear_table['cell_x']!=21]\n",
    "shear_table = shear_table[shear_table['cell_y']!=0]\n",
    "shear_table = shear_table[shear_table['cell_y']!=21]\n",
    "print(\"Number of rows after removing most duplicate cells: \", len(shear_table))\n",
    "\n",
    "filt1 = shear_table['tract'] == 10463\n",
    "filt1 &= shear_table['patch_x'] == 0\n",
    "filt1 &= shear_table['cell_x'] == 1\n",
    "shear_table = shear_table[np.invert(filt1)]\n",
    "\n",
    "filt2 = shear_table['tract'] == 10463\n",
    "filt2 &= shear_table['patch_x'] == 0\n",
    "filt2 &= shear_table['cell_x'] == 2\n",
    "shear_table = shear_table[np.invert(filt2)]\n",
    "print(\"Number of rows after removing patch overlap in 10463: \", len(shear_table))\n",
    "\n",
    "# some patch overlap appears to have a 6(?) cell overlap\n",
    "filt3 = shear_table['tract'] == 10464\n",
    "filt3 &= shear_table['patch_x'] == 9\n",
    "filt3 &= shear_table['cell_x'] == 20\n",
    "shear_table = shear_table[np.invert(filt3)]\n",
    "\n",
    "# some patch overlap appears to have a 4 cell overlap\n",
    "filt4 = shear_table['tract'] == 10464\n",
    "filt4 &= shear_table['patch_x'] == 9\n",
    "filt4 &= shear_table['cell_x'] == 19\n",
    "shear_table = shear_table[np.invert(filt4)]\n",
    "print(\"Number of rows after removing patch overlap in 10464: \", len(shear_table))"
   ]
  },
  {
   "cell_type": "code",
   "execution_count": null,
   "id": "dd524182-3fa7-4b8d-ba3a-5cd3c0075347",
   "metadata": {},
   "outputs": [],
   "source": [
    "# remove exact duplicates   \n",
    "print(\"Number of rows prior to removing duplicates: \", len(shear_table))\n",
    "shear_table= shear_table.drop_duplicates(subset=['shear_type', 'ra', 'dec']) # each object will potentially have several sheared images\n",
    "print(\"Number of rows after removing duplicates: \", len(shear_table))"
   ]
  },
  {
   "cell_type": "markdown",
   "id": "604265dc-5f5e-403d-a6df-c9b86bc61033",
   "metadata": {},
   "source": [
    "### Add useful columns"
   ]
  },
  {
   "cell_type": "code",
   "execution_count": null,
   "id": "d96645bd-f664-4201-bea4-657e79f4f0d1",
   "metadata": {},
   "outputs": [],
   "source": [
    "# make new columns to convert nJy fluxes to AB magnitudes\n",
    "t1 = Table.from_pandas(shear_table)\n",
    "\n",
    "t1['wmom_band_mag_g'] = (t1['wmom_band_flux_g']*u.nJy).to(u.ABmag)\n",
    "t1['wmom_band_mag_r'] = (t1['wmom_band_flux_r']*u.nJy).to(u.ABmag)\n",
    "t1['wmom_band_mag_i'] = (t1['wmom_band_flux_i']*u.nJy).to(u.ABmag)\n",
    "t1['wmom_color_mag_g-r'] = t1['wmom_band_mag_g']-t1['wmom_band_mag_r']\n",
    "t1['wmom_color_mag_g-i'] = t1['wmom_band_mag_g']-t1['wmom_band_mag_i']\n",
    "t1['wmom_color_mag_r-i'] = t1['wmom_band_mag_r']-t1['wmom_band_mag_i']\n",
    "\n",
    "shear_table = t1.to_pandas()"
   ]
  },
  {
   "cell_type": "code",
   "execution_count": null,
   "id": "1f494e3c-4992-43f9-9135-e06097094f73",
   "metadata": {},
   "outputs": [],
   "source": [
    "# Add columns for distance from BCG\n",
    "c1 = SkyCoord(shear_table['ra'].values*u.deg, shear_table['dec'].values*u.deg)\n",
    "c2 = SkyCoord(ra_bcg*u.deg, dec_bcg*u.deg)\n",
    "sep = c1.separation(c2)\n",
    "\n",
    "shear_table['deg_sep'] = sep.value\n",
    "\n",
    "shear_table['mpc_sep'] = cosmo.eval_da(0.22) * shear_table['deg_sep'] * np.pi/180"
   ]
  },
  {
   "cell_type": "code",
   "execution_count": null,
   "id": "2c6cd050-c7a9-4dcd-8f42-1aacc6c883d1",
   "metadata": {},
   "outputs": [],
   "source": [
    "# polar angle of source galaxy relative to BCG, from -pi to pi\n",
    "shear_table['phi'] = np.arctan2(shear_table['dec'] - dec_bcg, (ra_bcg - shear_table['ra'])*np.cos(np.deg2rad(dec_bcg)))"
   ]
  },
  {
   "cell_type": "code",
   "execution_count": null,
   "id": "328d7097-14e8-4714-be6f-6341eae1d965",
   "metadata": {},
   "outputs": [],
   "source": [
    "# calculate tangential / cross shear components for each galaxy\n",
    "# note that these shears need to be selected for ONLY the 'ns' (no artificial shear type)\n",
    "shear_table['shear_t'] = -shear_table['wmom_g_1'] * np.cos(2*shear_table['phi']) \\\n",
    "                                - shear_table['wmom_g_2'] * np.sin(2*shear_table['phi'])\n",
    "shear_table['shear_x'] = shear_table['wmom_g_1'] * np.sin(2*shear_table['phi']) \\\n",
    "                                - shear_table['wmom_g_2'] * np.cos(2*shear_table['phi'])"
   ]
  },
  {
   "cell_type": "markdown",
   "id": "a42de0d2-c3e7-4d01-beda-40b328329929",
   "metadata": {},
   "source": [
    "### Plot distribution of input images per cell in A360 region\n",
    "\n",
    "Each run of the `get_cell_inputs` function should only take 2-3 minutes. If it's longer, try again later.\n",
    "\n",
    "Note that there is a warning for each coadd patch read in: `lsst.cell_coadds._fits WARNING: Unable to read aperture correction map from the file.` This is OK to ignore, it's just stating that these coadds don't have aperture correction information."
   ]
  },
  {
   "cell_type": "code",
   "execution_count": null,
   "id": "4c4effb5-2e93-4fa0-8084-84fd3fe268e5",
   "metadata": {},
   "outputs": [],
   "source": [
    "from lsst.sphgeom import Box, HealpixPixelization\n",
    "import healsparse as hsp\n",
    "import healpy as hp\n",
    "from hpgeom import hpgeom\n",
    "import skyproj"
   ]
  },
  {
   "cell_type": "code",
   "execution_count": null,
   "id": "06e55bef-ca59-4f6f-bbf9-471951281f5e",
   "metadata": {},
   "outputs": [],
   "source": [
    "# define healpix parameters\n",
    "nside_coverage = 2**8\n",
    "nside_sparse = 2**14\n",
    "\n",
    "pixelization = HealpixPixelization(hp.nside2order(nside_sparse))"
   ]
  },
  {
   "cell_type": "code",
   "execution_count": null,
   "id": "54379ba1-0110-4087-b891-302d1f75d788",
   "metadata": {},
   "outputs": [],
   "source": [
    "# method find the pixel indices that overlap the sky projection of the cell area\n",
    "def get_cell_pixels(cell, wcs):\n",
    "    cell_bbox = cell.inner.bbox\n",
    "    begin_coord = wcs.pixelToSky(cell_bbox.beginX, cell_bbox.beginY)\n",
    "    end_coord = wcs.pixelToSky(cell_bbox.endX, cell_bbox.endY)\n",
    "    \n",
    "    if begin_coord.getRa() < end_coord.getRa():\n",
    "        ra1 = begin_coord.getRa().asDegrees()\n",
    "        ra2 = end_coord.getRa().asDegrees()\n",
    "    else:\n",
    "        ra1 = end_coord.getRa().asDegrees()\n",
    "        ra2 = begin_coord.getRa().asDegrees()\n",
    "    \n",
    "    if begin_coord.getDec() < end_coord.getDec():\n",
    "        dec1 = begin_coord.getDec().asDegrees()\n",
    "        dec2 = end_coord.getDec().asDegrees()\n",
    "    else:\n",
    "        dec1 = end_coord.getDec().asDegrees()\n",
    "        dec2 = begin_coord.getDec().asDegrees()\n",
    "\n",
    "    indices = hpgeom.query_box(nside=nside_sparse, a0=ra1, a1=ra2, b0=dec1, b1=dec2)\n",
    "    \n",
    "    return indices"
   ]
  },
  {
   "cell_type": "code",
   "execution_count": null,
   "id": "e74190c2-2222-4529-9c86-7cd77d6995bc",
   "metadata": {},
   "outputs": [],
   "source": [
    "def get_cell_inputs(cell_collection, tract_patch_list, band):\n",
    "\n",
    "    cell_df = pd.DataFrame()\n",
    "    cell_ra = []\n",
    "    cell_dec = []\n",
    "    pixel_indices = []\n",
    "    inputs_list = []\n",
    "\n",
    "    segs = [] # collection of lines to plot patch outlines\n",
    "\n",
    "    for tract, patch in tract_patch_list:\n",
    "    \n",
    "        coadd = butler.get('deepCoaddCell', \n",
    "                         collections = cell_collection, \n",
    "                         instrument = 'LSSTComCam', \n",
    "                         skymap = 'lsst_cells_v1', \n",
    "                         tract = tract, \n",
    "                         patch = patch,\n",
    "                         band = band,)\n",
    "        # define a wcs from the given coadd\n",
    "        wcs = coadd.wcs\n",
    "\n",
    "        # get coadd outline\n",
    "        coadd_corners = coadd.inner_bbox.getCorners()\n",
    "    \n",
    "        for index, corner in enumerate(coadd_corners):\n",
    "            corner_coord_start = wcs.pixelToSky(corner.getX(), corner.getY())\n",
    "            if index < 3:\n",
    "                corner_coord_end = wcs.pixelToSky(coadd_corners[index+1].getX(), coadd_corners[index+1].getY())\n",
    "            else:\n",
    "                corner_coord_end = wcs.pixelToSky(coadd_corners[0].getX(), coadd_corners[0].getY())\n",
    "    \n",
    "            start_ra = corner_coord_start[0].asDegrees()\n",
    "            start_dec = corner_coord_start[1].asDegrees()\n",
    "    \n",
    "            end_ra = corner_coord_end[0].asDegrees()\n",
    "            end_dec = corner_coord_end[1].asDegrees()\n",
    "    \n",
    "            segs.append(((start_ra, start_dec), (end_ra, end_dec)))\n",
    "        \n",
    "        cell_list = list(coadd.cells.keys()) # skips indices that are empty\n",
    "\n",
    "        # for each cell in cell_list:\n",
    "        for index, cell_index in enumerate(cell_list):\n",
    "    \n",
    "            cell = coadd.cells[cell_index]\n",
    "    \n",
    "            # get cell coordinates for removing duplicates\n",
    "            cell_center = cell.inner.bbox.getCenter()\n",
    "            cell_center_coord = wcs.pixelToSky(cell_center)\n",
    "            cell_ra.append(cell_center_coord.getRa().asDegrees())\n",
    "            cell_dec.append(cell_center_coord.getDec().asDegrees())\n",
    "        \n",
    "            pixel_indices.append(get_cell_pixels(cell, wcs))\n",
    "    \n",
    "            inputs_list.append(cell.visit_count)\n",
    "    \n",
    "        del coadd\n",
    "        gc.collect()\n",
    "    \n",
    "    cell_df[\"ra\"] = cell_ra\n",
    "    cell_df[\"dec\"] = cell_dec\n",
    "    cell_df[\"pixels\"] = pixel_indices\n",
    "    cell_df[\"inputs\"] = inputs_list\n",
    "\n",
    "    return cell_df, segs"
   ]
  },
  {
   "cell_type": "markdown",
   "id": "5ee70d98-2376-41da-85d2-fd73fd7aa287",
   "metadata": {},
   "source": [
    "#### g-band"
   ]
  },
  {
   "cell_type": "code",
   "execution_count": null,
   "id": "9fedfa63-ce47-4986-9d9d-ff7f016bfe6c",
   "metadata": {},
   "outputs": [],
   "source": [
    "cell_df_g, segs_g = get_cell_inputs(cell_collection_g, tract_patch_list, 'g')"
   ]
  },
  {
   "cell_type": "code",
   "execution_count": null,
   "id": "d93ef3c0-db1d-47e7-b180-a34931e3a2ad",
   "metadata": {},
   "outputs": [],
   "source": [
    "# remove duplicate cells from overlapping patches\n",
    "cell_df_g = cell_df_g.drop_duplicates(subset=['ra', 'dec'])"
   ]
  },
  {
   "cell_type": "code",
   "execution_count": null,
   "id": "c4ec8dbd-c1c3-404c-a698-f343f0ed995e",
   "metadata": {},
   "outputs": [],
   "source": [
    "pixel_df_g = cell_df_g.explode('pixels').reset_index(drop=True)\n",
    "pixel_df_g = pixel_df_g.drop_duplicates(subset=[\"pixels\"]) \n",
    "pixel_df_g = pixel_df_g.dropna(subset=['pixels'])\n",
    "\n",
    "pixels_g = pixel_df_g[\"pixels\"].to_numpy()\n",
    "pixel_input_g = pixel_df_g[\"inputs\"].to_numpy()"
   ]
  },
  {
   "cell_type": "code",
   "execution_count": null,
   "id": "2749a7ea-2b09-4c90-bf64-168193246727",
   "metadata": {},
   "outputs": [],
   "source": [
    "hsp_map_input_g = hsp.HealSparseMap.make_empty(nside_coverage, nside_sparse, np.int64)\n",
    "hsp_map_input_g.update_values_pix(np.array(pixels_g, dtype=np.int64), np.array(pixel_input_g))"
   ]
  },
  {
   "cell_type": "markdown",
   "id": "cf40aa12-b61d-474c-953a-86eebab0e3f6",
   "metadata": {},
   "source": [
    "#### i-band"
   ]
  },
  {
   "cell_type": "code",
   "execution_count": null,
   "id": "f65d29b8-a2e0-41d0-aba3-c8fd388ee96e",
   "metadata": {},
   "outputs": [],
   "source": [
    "cell_df_i, segs_i = get_cell_inputs(cell_collection, tract_patch_list, 'i')"
   ]
  },
  {
   "cell_type": "code",
   "execution_count": null,
   "id": "1b1bab16-6d7b-45f4-b50a-2090ad05a1e2",
   "metadata": {},
   "outputs": [],
   "source": [
    "# remove duplicate cells from overlapping patches\n",
    "cell_df_i = cell_df_i.drop_duplicates(subset=['ra', 'dec'])"
   ]
  },
  {
   "cell_type": "code",
   "execution_count": null,
   "id": "1cf61826-58f8-46bc-bdae-ae2047806002",
   "metadata": {},
   "outputs": [],
   "source": [
    "pixel_df_i = cell_df_i.explode('pixels').reset_index(drop=True)\n",
    "pixel_df_i = pixel_df_i.drop_duplicates(subset=[\"pixels\"]) \n",
    "pixel_df_i = pixel_df_i.dropna(subset=['pixels'])\n",
    "\n",
    "pixels_i = pixel_df_i[\"pixels\"].to_numpy()\n",
    "pixel_input_i = pixel_df_i[\"inputs\"].to_numpy()"
   ]
  },
  {
   "cell_type": "code",
   "execution_count": null,
   "id": "597d423a-841f-4717-bd4b-17af6af2bf6f",
   "metadata": {},
   "outputs": [],
   "source": [
    "hsp_map_input_i = hsp.HealSparseMap.make_empty(nside_coverage, nside_sparse, np.int64)\n",
    "hsp_map_input_i.update_values_pix(np.array(pixels_i, dtype=np.int64), np.array(pixel_input_i))"
   ]
  },
  {
   "cell_type": "markdown",
   "id": "30721c19-2598-4a51-8e03-438d90b051b6",
   "metadata": {},
   "source": [
    "#### r-band"
   ]
  },
  {
   "cell_type": "code",
   "execution_count": null,
   "id": "fa189b46-29c2-4d13-b244-18825aaa424c",
   "metadata": {},
   "outputs": [],
   "source": [
    "cell_df_r, segs_r = get_cell_inputs(cell_collection, tract_patch_list, 'r')"
   ]
  },
  {
   "cell_type": "code",
   "execution_count": null,
   "id": "093e3e06-1b38-4e1a-a3d7-8026625b14be",
   "metadata": {},
   "outputs": [],
   "source": [
    "# remove duplicate cells from overlapping patches\n",
    "cell_df_r = cell_df_r.drop_duplicates(subset=['ra', 'dec'])"
   ]
  },
  {
   "cell_type": "code",
   "execution_count": null,
   "id": "091ea8a1-2719-4c2e-9707-5012abd63ad7",
   "metadata": {},
   "outputs": [],
   "source": [
    "pixel_df_r = cell_df_r.explode('pixels').reset_index(drop=True)\n",
    "pixel_df_r = pixel_df_r.drop_duplicates(subset=[\"pixels\"]) \n",
    "pixel_df_r = pixel_df_r.dropna(subset=['pixels'])\n",
    "\n",
    "pixels_r = pixel_df_r[\"pixels\"].to_numpy()\n",
    "pixel_input_r = pixel_df_r[\"inputs\"].to_numpy()"
   ]
  },
  {
   "cell_type": "code",
   "execution_count": null,
   "id": "0d27d57b-f8a4-41a5-884b-8ab10a8c5a48",
   "metadata": {},
   "outputs": [],
   "source": [
    "hsp_map_input_r = hsp.HealSparseMap.make_empty(nside_coverage, nside_sparse, np.int64)\n",
    "hsp_map_input_r.update_values_pix(np.array(pixels_r, dtype=np.int64), np.array(pixel_input_r))"
   ]
  },
  {
   "cell_type": "markdown",
   "id": "4150428e-4594-4095-8a31-e9888041676c",
   "metadata": {},
   "source": [
    "#### Input Distribution Plot"
   ]
  },
  {
   "cell_type": "code",
   "execution_count": null,
   "id": "d6c53161-4ebb-4876-8e2e-2321ecaaccd9",
   "metadata": {},
   "outputs": [],
   "source": [
    "fig, ax = plt.subplots(1, 3, figsize=(18, 5.3))\n",
    "sp_g = skyproj.GnomonicSkyproj(ax=ax[0], lon_0=37.862, lat_0=6.98, min_lon_ticklabel_delta=0.2)\n",
    "sp_g.draw_hspmap(hsp_map_input_g)\n",
    "sp_g.ax.set_xlabel(\"RA\", fontsize=10,)\n",
    "sp_g.ax.set_ylabel(\"DEC\", fontsize=10,)\n",
    "sp_g.draw_colorbar(shrink=0.8, label='Number of input warps per cell')\n",
    "sp_g.ax.set_title(\"g-band\", pad=25)\n",
    "for seg in segs_g:\n",
    "    sp_g.ax.plot([seg[0][0], seg[1][0]], [seg[0][1], seg[1][1]], 'r-', alpha=0.6)\n",
    "    \n",
    "sp_i = skyproj.GnomonicSkyproj(ax=ax[1], lon_0=37.862, lat_0=6.98, min_lon_ticklabel_delta=0.2)\n",
    "sp_i.draw_hspmap(hsp_map_input_i)\n",
    "sp_i.ax.set_xlabel(\"RA\", fontsize=10,)\n",
    "sp_i.ax.set_ylabel(\"DEC\", fontsize=10,)\n",
    "sp_i.draw_colorbar(shrink=0.8, label='Number of input warps per cell')\n",
    "sp_i.ax.set_title(\"i-band\", pad=25)\n",
    "for seg in segs_i:\n",
    "    sp_i.ax.plot([seg[0][0], seg[1][0]], [seg[0][1], seg[1][1]], 'r-', alpha=0.6)\n",
    "\n",
    "sp_r = skyproj.GnomonicSkyproj(ax=ax[2], lon_0=37.862, lat_0=6.98, min_lon_ticklabel_delta=0.2)\n",
    "sp_r.draw_hspmap(hsp_map_input_r)\n",
    "sp_r.ax.set_xlabel(\"RA\", fontsize=10,)\n",
    "sp_r.ax.set_ylabel(\"DEC\", fontsize=10,)\n",
    "sp_r.draw_colorbar(shrink=0.8, label='Number of input warps per cell')\n",
    "sp_r.ax.set_title(\"r-band\", pad=25)\n",
    "for seg in segs_r:\n",
    "    sp_r.ax.plot([seg[0][0], seg[1][0]], [seg[0][1], seg[1][1]], 'r-', alpha=0.6)\n",
    "\n",
    "plt.suptitle(\"Cell Input Distribution of the A360 Region\")\n",
    "plt.show()"
   ]
  },
  {
   "cell_type": "markdown",
   "id": "79af4c24-b5fc-44e9-b835-d5a840afeebb",
   "metadata": {},
   "source": [
    "The three missing patches were due to pipeline failures, though are not included within the 0.5 degree radius of the BCG"
   ]
  },
  {
   "cell_type": "markdown",
   "id": "c6e6eab9-7f52-4e09-8dc6-a1cab8218d57",
   "metadata": {},
   "source": [
    "## Apply `metadetect` flags\n",
    "\n",
    "Anything that is flagged should be removed."
   ]
  },
  {
   "cell_type": "code",
   "execution_count": null,
   "id": "505b4403-86a9-4be7-b357-77adb62b879b",
   "metadata": {},
   "outputs": [],
   "source": [
    "print(shear_table['wmom_flags'].unique())\n",
    "print(shear_table['psfrec_flags'].unique())\n",
    "print(shear_table['wmom_psf_flags'].unique())\n",
    "print(shear_table['wmom_obj_flags'].unique())\n",
    "print(shear_table['wmom_T_flags'].unique())\n",
    "print(shear_table['wmom_band_flux_flags_r'].unique())\n",
    "print(shear_table['wmom_band_flux_flags_i'].unique())"
   ]
  },
  {
   "cell_type": "code",
   "execution_count": null,
   "id": "20cc4309-3993-4e6b-a421-08fa9bd458e2",
   "metadata": {},
   "outputs": [],
   "source": [
    "meta_filter = shear_table['wmom_flags']==False\n",
    "meta_filter &= shear_table['psfrec_flags']==False\n",
    "meta_filter &= shear_table['wmom_psf_flags']==False\n",
    "meta_filter &= shear_table['wmom_obj_flags']==False\n",
    "meta_filter &= shear_table['wmom_T_flags']==False\n",
    "meta_filter &= shear_table['wmom_band_flux_flags_r']==False\n",
    "meta_filter &= shear_table['wmom_band_flux_flags_i']==False\n",
    "\n",
    "shear_table = shear_table[meta_filter]\n",
    "\n",
    "print(\"Number of rows after removing metadetect flags: \", len(shear_table))"
   ]
  },
  {
   "cell_type": "markdown",
   "id": "36d5b9ba-d3c1-4fcc-a417-1510272fd483",
   "metadata": {},
   "source": [
    "## Identify and remove cluster member galaxies"
   ]
  },
  {
   "cell_type": "code",
   "execution_count": null,
   "id": "ce57da4b-a14a-435e-aa31-4c812277598a",
   "metadata": {},
   "outputs": [],
   "source": [
    "# isolate no shear catalog\n",
    "shear_table_ns = shear_table[shear_table['shear_type']=='ns']"
   ]
  },
  {
   "cell_type": "markdown",
   "id": "12cafa21-56be-4846-b62e-0f6dda34be5f",
   "metadata": {},
   "source": [
    "### Color-magnitude diagrams\n",
    "\n",
    "Identify red sequence by eye for now."
   ]
  },
  {
   "cell_type": "code",
   "execution_count": null,
   "id": "4d91c81c-c433-468f-be7e-3b97d15585b5",
   "metadata": {},
   "outputs": [],
   "source": [
    "fig, ax = plt.subplots(nrows=1, ncols=3, figsize=(8,4))\n",
    "ax[0].hist(shear_table_ns['wmom_band_mag_g'], bins=75)\n",
    "ax[1].hist(shear_table_ns['wmom_band_mag_r'], bins=75)\n",
    "ax[2].hist(shear_table_ns['wmom_band_mag_i'], bins=75)\n",
    "ax[0].set_yscale('log')\n",
    "ax[1].set_yscale('log')\n",
    "ax[2].set_yscale('log')"
   ]
  },
  {
   "cell_type": "markdown",
   "id": "963a6564-1bbc-4cca-a411-d2c1ee7e4cb2",
   "metadata": {},
   "source": [
    "### Visual Inspections\n",
    "\n",
    "Cuts are applied to all shear type catalogs, though only non-sheared are shown"
   ]
  },
  {
   "cell_type": "code",
   "execution_count": null,
   "id": "3b1bb867-3bcd-4868-a03a-1711ad9a9bb8",
   "metadata": {},
   "outputs": [],
   "source": [
    "# Filter objects to within < 0.1 deg of cluster center\n",
    "filt = shear_table['deg_sep'] < 0.1 # stay close to cluster center for RS indentification\n",
    "shear_table_rs = shear_table[shear_table['deg_sep'] < 0.1] # catalog for RS identification\n",
    "print(\"Number of rows in after applying < 0.1 deg from center for all shear types: \", len(shear_table_rs))"
   ]
  },
  {
   "cell_type": "code",
   "execution_count": null,
   "id": "7d3d4245-25a5-4ada-83dd-94425b8fffbc",
   "metadata": {},
   "outputs": [],
   "source": [
    "# plotting parameters\n",
    "point_size = 0.8\n",
    "point_alpha = 0.7\n",
    "\n",
    "r_left = 19\n",
    "r_right = 23\n",
    "r_down_left = 0.4\n",
    "r_up_left = 0.6\n",
    "r_down_right = 0.3\n",
    "r_up_right = 0.5\n",
    "r_slope = (r_down_right - r_down_left) / (r_right - r_left)\n",
    "\n",
    "g_left = 21.5\n",
    "g_right = 23\n",
    "g_down_left = 1.7\n",
    "g_up_left = 2\n",
    "g_down_right = 1.4\n",
    "g_up_right = 1.7\n",
    "g_slope = (g_down_right - g_down_left) / (g_right - g_left)"
   ]
  },
  {
   "cell_type": "code",
   "execution_count": null,
   "id": "0a6e1614-e271-470a-901d-a63bdb345bd5",
   "metadata": {},
   "outputs": [],
   "source": [
    "shear_table_rs_ns = shear_table_rs[shear_table_rs['shear_type']=='ns']"
   ]
  },
  {
   "cell_type": "code",
   "execution_count": null,
   "id": "dcfcb23f-ec68-4f72-9c54-c56be418968a",
   "metadata": {},
   "outputs": [],
   "source": [
    "fig, axes = plt.subplots(1,2, figsize=(12,5))\n",
    "\n",
    "axes[0].scatter(shear_table_rs_ns['wmom_band_mag_r'], shear_table_rs_ns['wmom_color_mag_r-i'], \n",
    "           marker='.', s=point_size, alpha=point_alpha)\n",
    "axes[0].set_ylabel('r-i')\n",
    "axes[0].set_xlabel('r')\n",
    "\n",
    "axes[0].plot([r_left,r_right],[r_down_left,r_down_right], color='r', linewidth=0.7)\n",
    "axes[0].plot([r_left,r_right],[r_up_left,r_up_right], color='r', linewidth=0.7)\n",
    "axes[0].set_ylim([-1.5,2.5])\n",
    "axes[0].set_xlim([17,24.5])\n",
    "\n",
    "axes[1].scatter(shear_table_rs_ns['wmom_band_mag_g'], shear_table_rs_ns['wmom_color_mag_g-i'], \n",
    "           marker='.', s=point_size, alpha=point_alpha)\n",
    "axes[1].set_ylabel('g-i')\n",
    "axes[1].set_xlabel('g')\n",
    "\n",
    "axes[1].plot([g_left,g_right],[g_down_left,g_down_right], color='r', linewidth=0.7)\n",
    "axes[1].plot([g_left,g_right],[g_up_left,g_up_right], color='r', linewidth=0.7)\n",
    "axes[1].set_ylim([-0.5,3])\n",
    "axes[1].set_xlim([20,25])\n",
    "\n",
    "plt.show()"
   ]
  },
  {
   "cell_type": "markdown",
   "id": "72f25ba7-0e65-4534-976a-50b1f493d35a",
   "metadata": {},
   "source": [
    "Note that combining all catalogs causes a \"smeary\" look is due to the 5 sheared/unsheared images of the same object that are detected & measured in slightly different ways."
   ]
  },
  {
   "cell_type": "markdown",
   "id": "86ffbdd0-7e8f-4d4d-95cf-bb945ef92887",
   "metadata": {},
   "source": [
    "### Filter RS galaxies"
   ]
  },
  {
   "cell_type": "code",
   "execution_count": null,
   "id": "46ab7782-b135-4f06-b790-3c154ebd143b",
   "metadata": {},
   "outputs": [],
   "source": [
    "rs_hi_ri = r_up_left + r_slope * (shear_table_rs['wmom_band_mag_r']-r_left)\n",
    "rs_low_ri = r_down_left + r_slope * (shear_table_rs['wmom_band_mag_r']-r_left)\n",
    "ri_filt = shear_table_rs['wmom_color_mag_r-i'] > rs_low_ri\n",
    "ri_filt &= shear_table_rs['wmom_color_mag_r-i'] < rs_hi_ri\n",
    "ri_filt &= shear_table_rs['wmom_band_mag_r'] < 23\n",
    "\n",
    "rs_hi_gi = g_up_left + g_slope * (shear_table_rs['wmom_band_mag_g']-g_left)\n",
    "rs_low_gi = g_down_left + g_slope * (shear_table_rs['wmom_band_mag_g']-g_left)\n",
    "gi_filt = shear_table_rs['wmom_color_mag_g-i'] > rs_low_gi\n",
    "gi_filt &= shear_table_rs['wmom_color_mag_g-i'] < rs_hi_gi\n",
    "gi_filt &= shear_table_rs['wmom_band_mag_g'] < 23\n",
    "\n",
    "# ns only, for plotting\n",
    "ri_filt_ns = np.logical_and(ri_filt, shear_table_rs['shear_type'] == 'ns')\n",
    "gi_filt_ns = np.logical_and(gi_filt, shear_table_rs['shear_type'] == 'ns')"
   ]
  },
  {
   "cell_type": "code",
   "execution_count": null,
   "id": "528fd158-3987-4663-bbf2-ad8aa5cb3fe8",
   "metadata": {},
   "outputs": [],
   "source": [
    "fig, axes = plt.subplots(1,2, figsize=(12,5))\n",
    "\n",
    "axes[0].scatter(shear_table_rs_ns['wmom_band_mag_r'], shear_table_rs_ns['wmom_color_mag_r-i'], \n",
    "           marker='.', s=point_size) # all galaxies  \n",
    "axes[0].scatter(shear_table_rs['wmom_band_mag_r'][ri_filt_ns], \n",
    "           shear_table_rs['wmom_color_mag_r-i'][ri_filt_ns], \n",
    "           marker='.', s=point_size) #red sequence galaxies\n",
    "axes[0].set_ylabel('r-i')\n",
    "axes[0].set_xlabel('r')\n",
    "\n",
    "axes[0].plot([r_left,r_right],[r_down_left,r_down_right], color='r', linewidth=0.7)\n",
    "axes[0].plot([r_left,r_right],[r_up_left,r_up_right], color='r', linewidth=0.7)\n",
    "axes[0].set_ylim([-1.5,2.5])\n",
    "axes[0].set_xlim([17,24.5])\n",
    "\n",
    "axes[1].scatter(shear_table_rs_ns['wmom_band_mag_g'], shear_table_rs_ns['wmom_color_mag_g-i'], \n",
    "           marker='.', s=point_size) # all galaxies  \n",
    "axes[1].scatter(shear_table_rs['wmom_band_mag_g'][gi_filt_ns], \n",
    "           shear_table_rs['wmom_color_mag_g-i'][gi_filt_ns], \n",
    "           marker='.', s=point_size)\n",
    "axes[1].set_ylabel('g-i')\n",
    "axes[1].set_xlabel('g')\n",
    "\n",
    "axes[1].plot([g_left,g_right],[g_down_left,g_down_right], color='r', linewidth=0.7)\n",
    "axes[1].plot([g_left,g_right],[g_up_left,g_up_right], color='r', linewidth=0.7)\n",
    "axes[1].set_ylim([-0.5,3])\n",
    "axes[1].set_xlim([19,24])\n",
    "\n",
    "plt.show()"
   ]
  },
  {
   "cell_type": "markdown",
   "id": "c96cdd57-9fae-4a73-b091-bc785e9f0fbd",
   "metadata": {},
   "source": [
    "Cut out the RS galaxies identified above."
   ]
  },
  {
   "cell_type": "code",
   "execution_count": null,
   "id": "6a15b1e1-8c8a-4cd1-bd03-c571142d2090",
   "metadata": {},
   "outputs": [],
   "source": [
    "shear_table_wl = shear_table[shear_table['deg_sep'] < 0.5] # catalog for WL measurements\n",
    "print(\"Number of rows in ns after applying < 0.5 deg from center: \", len(shear_table_wl))"
   ]
  },
  {
   "cell_type": "code",
   "execution_count": null,
   "id": "5e7a4c93-db21-4364-82b3-fc797d2a9fbd",
   "metadata": {},
   "outputs": [],
   "source": [
    "rs_hi_ri = r_up_left + r_slope * (shear_table_wl['wmom_band_mag_r']-r_left)\n",
    "rs_low_ri = r_down_left + r_slope * (shear_table_wl['wmom_band_mag_r']-r_left)\n",
    "ri_filt = shear_table_wl['wmom_color_mag_r-i'] > rs_low_ri\n",
    "ri_filt &= shear_table_wl['wmom_color_mag_r-i'] < rs_hi_ri\n",
    "ri_filt &= shear_table_wl['wmom_band_mag_r'] < 23\n",
    "\n",
    "rs_hi_gi = g_up_left + g_slope * (shear_table_wl['wmom_band_mag_g']-g_left)\n",
    "rs_low_gi = g_down_left + g_slope * (shear_table_wl['wmom_band_mag_g']-g_left)\n",
    "gi_filt = shear_table_wl['wmom_color_mag_g-i'] > rs_low_gi\n",
    "gi_filt &= shear_table_wl['wmom_color_mag_g-i'] < rs_hi_gi\n",
    "gi_filt &= shear_table_wl['wmom_band_mag_g'] < 23\n",
    "\n",
    "# ns only, for plotting\n",
    "ri_filt_ns = np.logical_and(ri_filt, shear_table_wl['shear_type'] == 'ns')\n",
    "gi_filt_ns = np.logical_and(gi_filt, shear_table_wl['shear_type'] == 'ns')\n",
    "\n",
    "shear_table_wl_ns = shear_table_wl[shear_table_wl['shear_type'] == 'ns']"
   ]
  },
  {
   "cell_type": "code",
   "execution_count": null,
   "id": "4f0d611e-cb75-48ce-abf9-e15ae60d99ed",
   "metadata": {},
   "outputs": [],
   "source": [
    "fig, axes = plt.subplots(1,2, figsize=(12,5))\n",
    "\n",
    "axes[0].scatter(shear_table_wl_ns['wmom_band_mag_r'], shear_table_wl_ns['wmom_color_mag_r-i'], \n",
    "           marker='.', s=point_size) # all galaxies  \n",
    "axes[0].set_ylabel('r-i')\n",
    "axes[0].set_xlabel('r')\n",
    "\n",
    "axes[0].set_ylim([-1.5,2.5])\n",
    "axes[0].set_xlim([17,24.5])\n",
    "\n",
    "axes[1].scatter(shear_table_wl_ns['wmom_band_mag_g'], shear_table_wl_ns['wmom_color_mag_g-i'], \n",
    "           marker='.', s=point_size) \n",
    "axes[1].set_ylabel('g-i')\n",
    "axes[1].set_xlabel('g')\n",
    "\n",
    "axes[1].set_ylim([-0.5,3.5])\n",
    "axes[1].set_xlim([19,24.5])\n",
    "\n",
    "plt.show()"
   ]
  },
  {
   "cell_type": "code",
   "execution_count": null,
   "id": "7a81c017-78ce-498f-844f-c1eb9f12f506",
   "metadata": {},
   "outputs": [],
   "source": [
    "fig, axes = plt.subplots(1,2, figsize=(12,5))\n",
    "\n",
    "axes[0].scatter(shear_table_wl_ns['wmom_band_mag_r'], shear_table_wl_ns['wmom_color_mag_r-i'], \n",
    "           marker='.', s=point_size) # all galaxies  \n",
    "axes[0].scatter(shear_table_wl['wmom_band_mag_r'][ri_filt_ns], \n",
    "           shear_table_wl['wmom_color_mag_r-i'][ri_filt_ns], \n",
    "           marker='.', s=point_size) #red sequence galaxies\n",
    "axes[0].set_ylabel('r-i')\n",
    "axes[0].set_xlabel('r')\n",
    "\n",
    "axes[0].plot([r_left,r_right],[r_down_left,r_down_right], color='r', linewidth=0.7)\n",
    "axes[0].plot([r_left,r_right],[r_up_left,r_up_right], color='r', linewidth=0.7)\n",
    "axes[0].set_ylim([-1.5,2.5])\n",
    "axes[0].set_xlim([17,24.5])\n",
    "\n",
    "axes[1].scatter(shear_table_wl_ns['wmom_band_mag_g'], shear_table_wl_ns['wmom_color_mag_g-i'], \n",
    "           marker='.', s=point_size) # all galaxies  \n",
    "axes[1].scatter(shear_table_wl['wmom_band_mag_g'][gi_filt_ns], \n",
    "           shear_table_wl['wmom_color_mag_g-i'][gi_filt_ns], \n",
    "           marker='.', s=point_size)\n",
    "axes[1].set_ylabel('g-i')\n",
    "axes[1].set_xlabel('g')\n",
    "\n",
    "axes[1].plot([g_left,g_right],[g_down_left,g_down_right], color='r', linewidth=0.7)\n",
    "axes[1].plot([g_left,g_right],[g_up_left,g_up_right], color='r', linewidth=0.7)\n",
    "axes[1].set_ylim([-0.5,3])\n",
    "axes[1].set_xlim([19,24])\n",
    "\n",
    "plt.show()"
   ]
  },
  {
   "cell_type": "code",
   "execution_count": null,
   "id": "0b6ad127-7db5-47bc-98de-d13cbe4d417f",
   "metadata": {},
   "outputs": [],
   "source": [
    "rs_filt = np.logical_and(ri_filt, gi_filt)\n",
    "rs_filt_ns = np.logical_and(rs_filt, shear_table_wl['shear_type'] == 'ns')\n",
    "\n",
    "RS_id_list = shear_table_wl['id'][rs_filt]\n",
    "RS_id_list_ns = shear_table_wl_ns['id'][rs_filt_ns] # for plotting"
   ]
  },
  {
   "cell_type": "code",
   "execution_count": null,
   "id": "41513383-fba9-443f-a955-d58cc361f23c",
   "metadata": {},
   "outputs": [],
   "source": [
    "print(len(RS_id_list))\n",
    "print(len(RS_id_list_ns)) # should be ~20% of above line"
   ]
  },
  {
   "cell_type": "code",
   "execution_count": null,
   "id": "649a515b-4f5d-47cc-a448-b012ff5547f0",
   "metadata": {},
   "outputs": [],
   "source": [
    "# Filter out rows where the 'dataid' column matches any value in RS_id_list\n",
    "shear_table_wl = shear_table_wl[~shear_table_wl['id'].isin(RS_id_list)]\n",
    "shear_table_wl_ns = shear_table_wl_ns[~shear_table_wl_ns['id'].isin(RS_id_list_ns)]"
   ]
  },
  {
   "cell_type": "code",
   "execution_count": null,
   "id": "9ca0a498-8498-43b8-b8a5-e65c85033fb3",
   "metadata": {},
   "outputs": [],
   "source": [
    "print(len(shear_table_wl))\n",
    "print(len(shear_table_wl_ns))"
   ]
  },
  {
   "cell_type": "code",
   "execution_count": null,
   "id": "ad83b5bc-d5ba-4463-8ef9-eb47b90624cf",
   "metadata": {},
   "outputs": [],
   "source": [
    "fig, axes = plt.subplots(1,2, figsize=(12,5))\n",
    "\n",
    "axes[0].scatter(shear_table_wl_ns['wmom_band_mag_r'], shear_table_wl_ns['wmom_color_mag_r-i'], \n",
    "           marker='.', s=point_size) # all galaxies  \n",
    "axes[0].set_ylabel('r-i')\n",
    "axes[0].set_xlabel('r')\n",
    "\n",
    "axes[0].set_ylim([-1.5,2.5])\n",
    "axes[0].set_xlim([17,24.5])\n",
    "\n",
    "axes[1].scatter(shear_table_wl_ns['wmom_band_mag_g'], shear_table_wl_ns['wmom_color_mag_g-i'], \n",
    "           marker='.', s=point_size) \n",
    "axes[1].set_ylabel('g-i')\n",
    "axes[1].set_xlabel('g')\n",
    "\n",
    "axes[1].set_ylim([-0.5,3.5])\n",
    "axes[1].set_xlim([19,24.5])\n",
    "\n",
    "plt.show()"
   ]
  },
  {
   "cell_type": "code",
   "execution_count": null,
   "id": "11c88950-8f27-4289-b819-f4e4deab1fc5",
   "metadata": {},
   "outputs": [],
   "source": [
    "ra = shear_table_wl_ns['ra']\n",
    "dec = shear_table_wl_ns['dec']\n",
    "e1 = shear_table_wl_ns['wmom_g_1']\n",
    "e2 = shear_table_wl_ns['wmom_g_2']\n",
    "# e_err = TBD"
   ]
  },
  {
   "cell_type": "code",
   "execution_count": null,
   "id": "f2432e0a-9a43-47e7-97fd-46e77f016ece",
   "metadata": {},
   "outputs": [],
   "source": [
    "len(ra)"
   ]
  },
  {
   "cell_type": "code",
   "execution_count": null,
   "id": "76bd4afe-f853-4387-8736-d695fac673fe",
   "metadata": {},
   "outputs": [],
   "source": [
    "plt.scatter(ra, dec, marker='.', s=0.2)\n",
    "plt.scatter([ra_bcg], [dec_bcg], marker='+', s=100, color='orange')"
   ]
  },
  {
   "cell_type": "markdown",
   "id": "0cbc73ac-21db-44e0-9eea-e8880cbc0673",
   "metadata": {},
   "source": [
    "### Check lines of overdensity\n",
    "\n",
    "Lines of overdensity: imperfect overlap of objects between patches/tracts.\n",
    "\n",
    "(Outdated, but code might be useful later)"
   ]
  },
  {
   "cell_type": "code",
   "execution_count": null,
   "id": "39d1290a-0d1c-40f9-9ec6-c466a4082603",
   "metadata": {},
   "outputs": [],
   "source": [
    "# patch_list = []\n",
    "\n",
    "# for ref in butler.registry.queryDatasets('deepCoaddCell', collections=cell_collection, band='i'):\n",
    "#     patch_list.append(butler.query_datasets('deepCoaddCell', \n",
    "#                                                  collections=cell_collection,\n",
    "#                                                  skymap = 'lsst_cells_v1',\n",
    "#                                                  band = 'i',\n",
    "#                                                  tract=ref.dataId['tract'],\n",
    "#                                                  patch=ref.dataId['patch'])[0])"
   ]
  },
  {
   "cell_type": "code",
   "execution_count": null,
   "id": "70667379-6c86-43e1-81eb-062063beecc5",
   "metadata": {},
   "outputs": [],
   "source": [
    "# segs = []\n",
    "\n",
    "# for ref in patch_list:\n",
    "    \n",
    "#     coadd = butler.get('deepCoaddCell',\n",
    "#                       collections=cell_collection,\n",
    "#                       skymap = 'lsst_cells_v1',\n",
    "#                       band = 'i',\n",
    "#                       tract=ref.dataId['tract'],\n",
    "#                       patch=ref.dataId['patch'])\n",
    "\n",
    "#     wcs = coadd.wcs\n",
    "#     bbox = coadd.inner_bbox\n",
    "\n",
    "#     coadd_corners = coadd.inner_bbox.getCorners()\n",
    "\n",
    "#     for index, corner in enumerate(coadd_corners):\n",
    "#         corner_coord_start = wcs.pixelToSky(corner.getX(), corner.getY())\n",
    "#         if index < 3:\n",
    "#             corner_coord_end = wcs.pixelToSky(coadd_corners[index+1].getX(), coadd_corners[index+1].getY())\n",
    "#         else:\n",
    "#             corner_coord_end = wcs.pixelToSky(coadd_corners[0].getX(), coadd_corners[0].getY())\n",
    "    \n",
    "#         start_ra = corner_coord_start[0].asDegrees()\n",
    "#         start_dec = corner_coord_start[1].asDegrees()\n",
    "    \n",
    "#         end_ra = corner_coord_end[0].asDegrees()\n",
    "#         end_dec = corner_coord_end[1].asDegrees()\n",
    "\n",
    "#         segs.append(((start_ra, start_dec), (end_ra, end_dec)))\n",
    "\n",
    "#     del coadd\n",
    "#     gc.collect()"
   ]
  },
  {
   "cell_type": "code",
   "execution_count": null,
   "id": "a3dd7208-52d5-446c-b2eb-fe760a9c5c96",
   "metadata": {},
   "outputs": [],
   "source": [
    "# plt.scatter(ra, dec, marker='.', s=0.2)\n",
    "# plt.scatter([ra_bcg], [dec_bcg], marker='+', s=100, color='orange')\n",
    "# for seg in segs:\n",
    "#     plt.plot([seg[0][0], seg[1][0]], [seg[0][1], seg[1][1]], 'r-', alpha=0.4)\n",
    "# plt.show()"
   ]
  },
  {
   "cell_type": "markdown",
   "id": "b658b3cd-8205-44ea-8b05-90d4d345fa7c",
   "metadata": {},
   "source": [
    "## Quality cuts\n",
    "\n",
    "Using cuts from [Yamamoto 2024](https://arxiv.org/abs/2501.05665) for\n",
    "- Star/galaxy separation\n",
    "- S/N\n",
    "- Size (visually check first if needed)\n",
    "- Flux\n",
    "- Color\n",
    "\n",
    "These may need to be updated provided this is a different dataset, but should be a good starting point.\n",
    "\n",
    "(It looks like the metadetect flags applied already take these into account?)\n",
    "\n",
    "**Note: the Yamamoto paper cut for object size is definited differently than the Metadetect columns, so the object size cut from the DES code is used instead https://github.com/des-science/des-y6utils/blob/main/des_y6utils/mdet.py#L268**"
   ]
  },
  {
   "cell_type": "code",
   "execution_count": null,
   "id": "de9f3bd6-e80c-4c89-87d9-41ad00dd781b",
   "metadata": {},
   "outputs": [],
   "source": [
    "print(\"Object size ratio rows removed: \", len(shear_table)-len(shear_table[shear_table['wmom_T_ratio']>1.2]))\n",
    "print(\"S/N ratio rows removed: \", len(shear_table)-len(shear_table[shear_table['wmom_s2n']>10]))\n",
    "print(\"Size rows removed: \", len(shear_table)-len(shear_table[shear_table['wmom_T']<20]))\n",
    "print(\"m_frac rows removed: \", len(shear_table)-len(shear_table[shear_table['mfrac']<0.1]))\n",
    "print(\"faint in i-band removed: \", len(shear_table)-len(shear_table[shear_table['wmom_band_mag_i']<24.5]))\n",
    "print(\"r-i flux rows removed: \", \n",
    "      len(shear_table)-len(shear_table[(shear_table['wmom_band_mag_r']-shear_table['wmom_band_mag_i']).abs()<5]))"
   ]
  },
  {
   "cell_type": "code",
   "execution_count": null,
   "id": "926165d1-bd4c-4b5c-bf34-14733c7dc62d",
   "metadata": {},
   "outputs": [],
   "source": [
    "q_cuts = shear_table['wmom_T_ratio']>1.2\n",
    "q_cuts &= shear_table['wmom_s2n']>10\n",
    "q_cuts &= shear_table['wmom_T']<20\n",
    "q_cuts &= shear_table['mfrac']<0.1\n",
    "q_cuts &= shear_table['wmom_band_mag_i']<24.5\n",
    "q_cuts &= (shear_table['wmom_band_mag_r']-shear_table['wmom_band_mag_i']).abs()<5\n",
    "\n",
    "shear_table = shear_table[q_cuts]\n",
    "\n",
    "print(\"Number of rows after applying quality cuts: \", len(shear_table))"
   ]
  },
  {
   "cell_type": "markdown",
   "id": "7550aab0-9eee-4733-bc4e-05b5501dec92",
   "metadata": {},
   "source": [
    "# Looking at shear outputs"
   ]
  },
  {
   "cell_type": "markdown",
   "id": "d36ee442-fa68-436c-86b4-ca5062029ea8",
   "metadata": {},
   "source": [
    "## Check shear types for each object\n",
    "\n",
    "Each object is detected and measured separately for each sheared/unsheared image. The catalogs will not necessarily be the same but should be close in number of objects."
   ]
  },
  {
   "cell_type": "code",
   "execution_count": null,
   "id": "1d32b99b-eb6d-4aea-8e5e-49786cd90eba",
   "metadata": {},
   "outputs": [],
   "source": [
    "# split catalog by shear type\n",
    "shear_table_wl_ns = shear_table_wl[shear_table_wl['shear_type']=='ns']\n",
    "shear_table_wl_1p = shear_table_wl[shear_table_wl['shear_type']=='1p']\n",
    "shear_table_wl_1m = shear_table_wl[shear_table_wl['shear_type']=='1m']\n",
    "shear_table_wl_2p = shear_table_wl[shear_table_wl['shear_type']=='2p']\n",
    "shear_table_wl_2m = shear_table_wl[shear_table_wl['shear_type']=='2m']"
   ]
  },
  {
   "cell_type": "code",
   "execution_count": null,
   "id": "27b7fa8b-21fc-49e2-8174-93bc31a9305a",
   "metadata": {},
   "outputs": [],
   "source": [
    "print(\"Number of shear type 'ns': \", len(shear_table_wl_ns))\n",
    "print(\"Number of shear type '1p': \", len(shear_table_wl_1p))\n",
    "print(\"Number of shear type '1m': \", len(shear_table_wl_1m))\n",
    "print(\"Number of shear type '2p': \", len(shear_table_wl_2p))\n",
    "print(\"Number of shear type '2m': \", len(shear_table_wl_2m))"
   ]
  },
  {
   "cell_type": "markdown",
   "id": "c00bf5b1-764c-4c4c-9e8e-e8208089a474",
   "metadata": {
    "jp-MarkdownHeadingCollapsed": true
   },
   "source": [
    "## Check g1/g2 and PSF ellipticities"
   ]
  },
  {
   "cell_type": "markdown",
   "id": "b3914f12-1fcb-44e6-8ea9-0fdbc58c2f46",
   "metadata": {},
   "source": [
    "Check that the PSF and object ellipticities average to ~0"
   ]
  },
  {
   "cell_type": "code",
   "execution_count": null,
   "id": "33f7e861-2d3d-4947-83db-f694a1140178",
   "metadata": {},
   "outputs": [],
   "source": [
    "# print mean values\n",
    "print(\"Mean of psfrec_g_1: \", shear_table['psfrec_g_1'].median())\n",
    "print(\"Mean of psfrec_g_2: \", shear_table['psfrec_g_2'].median())\n",
    "print(\"Mean of wmom_g_1: \", shear_table['wmom_g_1'].median())\n",
    "print(\"Mean of wmom_g_2: \", shear_table['wmom_g_2'].median())"
   ]
  },
  {
   "cell_type": "code",
   "execution_count": null,
   "id": "49f4a1f0-495e-4638-b968-5e722eedd31b",
   "metadata": {},
   "outputs": [],
   "source": [
    "n_bins = 50\n",
    "\n",
    "fig, axs = plt.subplots(1, 4, sharey=True, tight_layout=True)\n",
    "\n",
    "axs[0].hist(shear_table['psfrec_g_1'], bins=n_bins)\n",
    "axs[0].set_title('psfrec_g_1')\n",
    "axs[1].hist(shear_table['psfrec_g_2'], bins=n_bins)\n",
    "axs[1].set_title('psfrec_g_2')\n",
    "axs[2].hist(shear_table['wmom_g_1'], bins=n_bins)\n",
    "axs[2].set_title('wmom_g_1')\n",
    "axs[3].hist(shear_table['wmom_g_2'], bins=n_bins)\n",
    "axs[3].set_title('wmom_g_2')\n",
    "\n",
    "fig.suptitle(\"Distribution of ellipticities for PSF and WMOM\")\n",
    "\n",
    "plt.show()"
   ]
  },
  {
   "cell_type": "code",
   "execution_count": null,
   "id": "424dd655-16d7-408c-9929-98d09d47500f",
   "metadata": {},
   "outputs": [],
   "source": [
    "n_bins = 50\n",
    "\n",
    "fig, axs = plt.subplots(1, 4, sharey=True, tight_layout=True)\n",
    "\n",
    "axs[0].hist(shear_table['psfrec_g_1'], bins=n_bins)\n",
    "axs[0].set_yscale('log')\n",
    "axs[0].set_title('psfrec_g_1')\n",
    "axs[1].hist(shear_table['psfrec_g_2'], bins=n_bins)\n",
    "axs[1].set_title('psfrec_g_2')\n",
    "axs[1].set_yscale('log')\n",
    "axs[2].hist(shear_table['wmom_g_1'], bins=n_bins)\n",
    "axs[2].set_title('wmom_g_1')\n",
    "axs[2].set_yscale('log')\n",
    "axs[3].hist(shear_table['wmom_g_2'], bins=n_bins)\n",
    "axs[3].set_title('wmom_g_2')\n",
    "axs[3].set_yscale('log')\n",
    "\n",
    "fig.suptitle(\"Distribution of ellipticities for PSF and WMOM\")\n",
    "\n",
    "plt.show()"
   ]
  },
  {
   "cell_type": "markdown",
   "id": "78b1c90f-1eec-41f1-ba63-1252aa489c3e",
   "metadata": {},
   "source": [
    "PSG g1 appears less biased than last time, though is still pretty obiously biased. (Previously, 1 band with 4 whole tracts, had -0.25.). However, this does not seem to present a problem with the shape measurements."
   ]
  },
  {
   "cell_type": "markdown",
   "id": "fca0dc24-cfe9-4797-b9cc-023c07bfffd6",
   "metadata": {},
   "source": [
    "## Determining tangential & cross shear"
   ]
  },
  {
   "cell_type": "code",
   "execution_count": null,
   "id": "2169b97a-80fe-44e9-8f47-acd18bd346fc",
   "metadata": {},
   "outputs": [],
   "source": [
    "# Radial binning, either in Mpc or degrees\n",
    "# bins_mpc = clmm.make_bins(0.7,5,nbins=5, method='evenlog10width')\n",
    "bins_deg = clmm.make_bins(0.08,0.5,nbins=6, method='evenlog10width')\n",
    "bins_mpc = cosmo.eval_da(0.22) * bins_deg * np.pi/180\n",
    "\n",
    "# define distance bins\n",
    "dig_rad_bins_ns = np.digitize(shear_table_wl_ns['deg_sep'], bins_deg)\n",
    "dig_mpc_bins_ns = np.digitize(shear_table_wl_ns['mpc_sep'], bins_mpc)\n",
    "\n",
    "bin_mid_mpc = [(0.5 * (bins_mpc[i] + bins_mpc[i+1])) for i in range(len(bins_mpc)-1)]\n",
    "bin_mid_deg = [(0.5 * (bins_deg[i] + bins_deg[i+1])) for i in range(len(bins_deg)-1)]\n",
    "\n",
    "shear_diff = 0.02"
   ]
  },
  {
   "cell_type": "markdown",
   "id": "8f360275-c3cf-4e0d-8c0c-17024832c251",
   "metadata": {},
   "source": [
    "Definitions of tangential and cross shear used:\n",
    "$$ \\gamma_t = -\\gamma_1\\cos(2\\phi)-\\gamma_2\\sin(2\\phi) $$\n",
    "$$ \\gamma_\\times = \\gamma_1\\sin(2\\phi)-\\gamma_2\\cos(2\\phi) $$"
   ]
  },
  {
   "cell_type": "markdown",
   "id": "b45192b6-ff2b-41a1-aa0c-91c84177ea3a",
   "metadata": {},
   "source": [
    "### Individual Phi\n",
    "\n",
    "This section will attempt to measure $\\gamma_t$ and $\\gamma_\\times$ by:\n",
    "- Calculate individual $\\phi$ for each galaxy\n",
    "- Calculate $\\gamma_t$ and $\\gamma_\\times$ for each galaxy\n",
    "- Calculate the response R from all galaxies, no binning\n",
    "- Apply R to averaged / binned $\\gamma_t,\\gamma_\\times$"
   ]
  },
  {
   "cell_type": "code",
   "execution_count": null,
   "id": "e83ee866-a42b-48df-b921-0188d55afc0d",
   "metadata": {},
   "outputs": [],
   "source": [
    "p1_mean = shear_table_wl_1p['wmom_g_1'].mean()\n",
    "m1_mean = shear_table_wl_1m['wmom_g_1'].mean()\n",
    "p2_mean = shear_table_wl_2p['wmom_g_2'].mean()\n",
    "m2_mean = shear_table_wl_2m['wmom_g_2'].mean()\n",
    "\n",
    "r_matrix = [[0, 0],[0, 0]]\n",
    "\n",
    "r_matrix[0][0] = (p1_mean - m1_mean) / shear_diff\n",
    "# r_matrix[0][1] = (p2_mean - m2_mean) / shear_diff # ignore?\n",
    "# r_matrix[1][0] = (p1_mean - m1_mean) / shear_diff\n",
    "r_matrix[1][1] = (p2_mean - m2_mean) / shear_diff\n",
    "\n",
    "r_matrix_inv = inv(r_matrix)"
   ]
  },
  {
   "cell_type": "code",
   "execution_count": null,
   "id": "0438d1be-de33-49d6-89bd-5d2c4b360b7a",
   "metadata": {},
   "outputs": [],
   "source": [
    "# bin tangential and cross shears by radial bins\n",
    "tan_cross_shears = np.zeros((len(bins_mpc)-1, 2)) # binned tangential and cross shear\n",
    "tan_errs = []\n",
    "cross_errs = []\n",
    "\n",
    "for i in range(0, len(bins_mpc)-1):\n",
    "    bin_filt_ns = dig_mpc_bins_ns == i+1\n",
    "\n",
    "    # print number of galaxies in each bin\n",
    "    print(\"Rows in bin \", i, \" :\", len(shear_table_wl_ns['shear_t'][bin_filt_ns]))\n",
    "\n",
    "    # calulcate mean t and x shears\n",
    "    mean_t_shear = shear_table_wl_ns['shear_t'][bin_filt_ns].mean() # mean g1\n",
    "    mean_x_shear = shear_table_wl_ns['shear_x'][bin_filt_ns].mean() # mean g2\n",
    "\n",
    "    # calculate errors\n",
    "    tan_err = stats.bootstrap([shear_table_wl_ns['shear_t'][bin_filt_ns]], np.mean).confidence_interval\n",
    "    cross_err = stats.bootstrap([shear_table_wl_ns['shear_x'][bin_filt_ns]], np.mean).confidence_interval\n",
    "\n",
    "    # apply calibration \n",
    "    shear_cal = r_matrix_inv.dot([mean_t_shear, mean_x_shear])\n",
    "    # shear_cal = [mean_t_shear, mean_x_shear]\n",
    "\n",
    "    err_upper = r_matrix_inv.dot([tan_err.high, cross_err.high])\n",
    "    err_lower = r_matrix_inv.dot([tan_err.low, cross_err.low])\n",
    "\n",
    "    tan_err = [err_lower[0], err_upper[0]]\n",
    "    cross_err = [err_lower[1], err_upper[1]]\n",
    "\n",
    "    tan_cross_shears[i] = shear_cal\n",
    "    tan_errs.append(tan_err)\n",
    "    cross_errs.append(cross_err)\n",
    "\n",
    "tan_errs = np.array(tan_errs)\n",
    "cross_errs = np.array(cross_errs)"
   ]
  },
  {
   "cell_type": "code",
   "execution_count": null,
   "id": "b57b7e41-0f31-4e17-a7ac-fe0f8082946d",
   "metadata": {},
   "outputs": [],
   "source": [
    "fig, axes = plt.subplots(1,1, figsize=(6,6))\n",
    "\n",
    "point_size = 40\n",
    "point_alpha = 1\n",
    "\n",
    "# g1 calibrated\n",
    "axes.scatter(bin_mid_mpc, tan_cross_shears[:,0],\n",
    "             marker='.', s=point_size, label='tangential shear')\n",
    "axes.plot(bin_mid_mpc, tan_cross_shears[:,0], '-o')\n",
    "axes.vlines(bin_mid_mpc, tan_errs[:,0], tan_errs[:,1], colors='blue')\n",
    "\n",
    "cross_axis = np.add(bin_mid_mpc, 0.05) # add offset to visually differentiate\n",
    "\n",
    "axes.scatter(cross_axis, tan_cross_shears[:,1],\n",
    "             marker='.', s=point_size, label='cross shear')\n",
    "axes.plot(cross_axis, tan_cross_shears[:,1], '-o')\n",
    "axes.vlines(cross_axis, cross_errs[:,0], cross_errs[:,1], colors='orange')\n",
    "\n",
    "axes.set_ylabel(\"reduced shear\")\n",
    "axes.set_xlabel(\"distance from BCG in Mpc\")\n",
    "\n",
    "axes.legend(loc=\"upper right\")\n",
    "plt.axhline(0.0, color='k', ls=':')\n",
    "\n",
    "plt.show()"
   ]
  },
  {
   "cell_type": "markdown",
   "id": "6ab47808-8b17-41e3-9a2c-0ee406c380cd",
   "metadata": {},
   "source": [
    "Currently error bars are from a boostrapping method with 0.95 confidence intervals, with the errors also calibrated with R. \n",
    "\n",
    "A better method is likely to take the STDV g / sqrt number of galaxies, and then propogate that error through R."
   ]
  },
  {
   "cell_type": "markdown",
   "id": "83ef311c-f672-476b-8b81-a6b80aa1ee25",
   "metadata": {},
   "source": [
    "#### Getting NFW Model with CLMM Package"
   ]
  },
  {
   "cell_type": "code",
   "execution_count": null,
   "id": "08aa2fea-bb04-4fc1-9a11-3c19111b0a95",
   "metadata": {},
   "outputs": [],
   "source": [
    "galcat = GCData()\n",
    "galcat['ra'] = shear_table_wl_ns['ra']\n",
    "galcat['dec'] = shear_table_wl_ns['dec']\n",
    "galcat['e1'] = shear_table_wl_ns['wmom_g_1'] * 2\n",
    "galcat['e2'] = shear_table_wl_ns['wmom_g_2'] * 2\n",
    "\n",
    "galcat['z'] = np.zeros(len(shear_table_wl_ns)) # CLMM needs a redshift column for the source, even if not used"
   ]
  },
  {
   "cell_type": "code",
   "execution_count": null,
   "id": "1abc5883-9ba4-416f-97c5-d69598b8f854",
   "metadata": {},
   "outputs": [],
   "source": [
    "cluster_id = \"Abell 360\"\n",
    "gc_object1 = clmm.GalaxyCluster(cluster_id, ra_bcg, dec_bcg, 0.22, galcat, coordinate_system='euclidean')"
   ]
  },
  {
   "cell_type": "code",
   "execution_count": null,
   "id": "e4b608b8-98d8-4562-8b1e-678793f18e35",
   "metadata": {},
   "outputs": [],
   "source": [
    "gc_object1.compute_galaxy_weights(\n",
    "        shape_component1=\"e1\",\n",
    "        shape_component2=\"e2\",\n",
    "        use_shape_error=False,\n",
    "        use_shape_noise=True,\n",
    "        weight_name=\"w_ls\",\n",
    "        cosmo=cosmo,\n",
    "        add=True,\n",
    "    )"
   ]
  },
  {
   "cell_type": "code",
   "execution_count": null,
   "id": "101b685d-a5ef-4a8e-a3a5-07567975b5f6",
   "metadata": {},
   "outputs": [],
   "source": [
    "moo = clmm.Modeling(massdef=\"mean\", delta_mdef=200, halo_profile_model=\"nfw\")\n",
    "\n",
    "moo.set_cosmo(cosmo)\n",
    "moo.set_concentration(4)\n",
    "moo.set_mass(1.0e15)\n",
    "\n",
    "z_cl = gc_object1.z\n",
    "\n",
    "# source properties\n",
    "# assume sources redshift following a the DESC SRD distribution. This will need updating.\n",
    "\n",
    "z_distrib_func = utils.redshift_distributions.desc_srd  \n",
    "\n",
    "# Compute first beta (e.g. eq(6) of WtGIII paper)\n",
    "beta_kwargs = {\n",
    "    \"z_cl\": z_cl,\n",
    "    \"z_inf\": 10.0,\n",
    "    \"cosmo\": cosmo,\n",
    "    \"z_distrib_func\": z_distrib_func,\n",
    "}\n",
    "beta_s_mean = utils.compute_beta_s_mean_from_distribution(**beta_kwargs)\n",
    "beta_s_square_mean = utils.compute_beta_s_square_mean_from_distribution(**beta_kwargs)\n",
    "\n",
    "rproj = np.logspace(np.log10(0.3),np.log10(7.), 100)\n",
    "\n",
    "gt_z = moo.eval_reduced_tangential_shear(\n",
    "    rproj, z_cl, [beta_s_mean, beta_s_square_mean], z_src_info=\"beta\", approx=\"order2\"\n",
    ")"
   ]
  },
  {
   "cell_type": "code",
   "execution_count": null,
   "id": "01a713a7-851f-48bc-8672-99ea5bc3a143",
   "metadata": {},
   "outputs": [],
   "source": [
    "fig, axes = plt.subplots(1,1, figsize=(6,6))\n",
    "\n",
    "point_size = 40\n",
    "point_alpha = 1\n",
    "\n",
    "# g1 calibrated\n",
    "axes.scatter(bin_mid_mpc, tan_cross_shears[:,0],\n",
    "             marker='.', s=point_size, label='tangential shear')\n",
    "axes.plot(bin_mid_mpc, tan_cross_shears[:,0], '-o')\n",
    "axes.vlines(bin_mid_mpc, tan_errs[:,0], tan_errs[:,1], colors='blue')\n",
    "\n",
    "cross_axis = np.add(bin_mid_mpc, 0.05) # add offset to visually differentiate\n",
    "\n",
    "axes.scatter(cross_axis, tan_cross_shears[:,1],\n",
    "             marker='.', s=point_size, label='cross shear')\n",
    "axes.plot(cross_axis, tan_cross_shears[:,1], '-o')\n",
    "axes.vlines(cross_axis, cross_errs[:,0], cross_errs[:,1], colors='orange')\n",
    "\n",
    "plt.axhline(0.0, color='k', ls=':')\n",
    "\n",
    "plt.plot(rproj, gt_z, label='NFW (model, not fit), M200m=1e15 Msun, c=4, n(z)=SRD', ls=':')\n",
    "\n",
    "plt.xscale('log')\n",
    "plt.axhline(0.0, color='k', ls=':')\n",
    "plt.ylim([-0.03,0.08])\n",
    "plt.xlim([0.7,7])\n",
    "#plt.yscale('log')\n",
    "axes.set_xlabel('R [Mpc]')\n",
    "axes.set_ylabel(\"reduced shear\")\n",
    "axes.legend(loc=1)\n",
    "\n",
    "plt.show()"
   ]
  },
  {
   "cell_type": "markdown",
   "id": "fb87baea-a964-44a7-bf0b-bd65da45c787",
   "metadata": {},
   "source": [
    "Shears look good except for the closest bin. More work to do in error bars, null tests, and incorporating photo-z information."
   ]
  },
  {
   "cell_type": "code",
   "execution_count": null,
   "id": "ec39e5ee-cf51-4c89-ae20-14c58d18d32d",
   "metadata": {},
   "outputs": [],
   "source": []
  }
 ],
 "metadata": {
  "kernelspec": {
   "display_name": "LSST",
   "language": "python",
   "name": "lsst"
  },
  "language_info": {
   "codemirror_mode": {
    "name": "ipython",
    "version": 3
   },
   "file_extension": ".py",
   "mimetype": "text/x-python",
   "name": "python",
   "nbconvert_exporter": "python",
   "pygments_lexer": "ipython3",
   "version": "3.12.11"
  }
 },
 "nbformat": 4,
 "nbformat_minor": 5
}
