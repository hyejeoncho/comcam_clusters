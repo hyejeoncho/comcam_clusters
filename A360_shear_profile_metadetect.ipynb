{
 "cells": [
  {
   "cell_type": "markdown",
   "id": "395275ca-ca04-40a8-9529-81a813c885f9",
   "metadata": {},
   "source": [
    "## First Attempt of Shear Profile of A360 with metadetection"
   ]
  },
  {
   "cell_type": "markdown",
   "id": "99756233-b748-4c6c-aa98-9428b51f3625",
   "metadata": {},
   "source": [
    "Contact author: Miranda Gorsuch\n",
    "\n",
    "First attempt at creating a shear profile for A360 using cell-based coadds and `metadetection`. Many parts are from the [Shear profile around A360 using ComCam HSM shapes](https://github.com/lsst-sitcom/comcam_clusters/blob/main/ACO360_WL_HSCcalib_CLMM.ipynb) notebook, especially the identification of red sequence galaxies and use of CLMM to create the tangential shear plot.\n",
    "\n",
    "Last working weekly: `w_2025_23`\n",
    "\n",
    "Container Size: small (4 GB)"
   ]
  },
  {
   "cell_type": "markdown",
   "id": "dffd3214-df48-4a8e-87ac-d9a456596095",
   "metadata": {},
   "source": [
    "This is not a finished notebook and requires a lot of work yet. This is to show that the end-to-end for the generation of cell-based coadds, running `metadetection`, calibrating shears, and calculating tangential shears is almost in place.\n",
    "\n",
    "Things to check / improve / fix\n",
    "- [ ] Generate cell-based coadds in *g* bands\n",
    "- [ ] Better identification and removal of RS galaxies\n",
    "- [X] Removal of duplicate objects from tract / patch overlap\n",
    "- [ ] Compute shape errors from `metadetect`\n",
    "- [ ] Check where factor of 2 is needed for e to g conversion (shapes should already be in g)"
   ]
  },
  {
   "cell_type": "markdown",
   "id": "a5827c89-8fa5-42a9-a6d5-f9fcc292732f",
   "metadata": {},
   "source": [
    "## Imports & Definitions"
   ]
  },
  {
   "cell_type": "code",
   "execution_count": null,
   "id": "e0261814-f200-4828-a7a7-683c066cdb8f",
   "metadata": {},
   "outputs": [],
   "source": [
    "from lsst.daf.butler import Butler\n",
    "\n",
    "import numpy as np\n",
    "import pandas as pd\n",
    "from matplotlib import pyplot as plt\n",
    "import matplotlib\n",
    "\n",
    "import astropy.units as u\n",
    "from astropy.table import Table\n",
    "from astropy.coordinates import SkyCoord\n",
    "\n",
    "import gc\n",
    "\n",
    "from lsst.skymap import Index2D\n",
    "import lsst.afw.geom as afwGeom\n",
    "import lsst.afw.math as afwMath\n",
    "import lsst.geom as geom\n",
    "\n",
    "%matplotlib inline"
   ]
  },
  {
   "cell_type": "code",
   "execution_count": null,
   "id": "fa9a5696-707d-40ff-9cf6-7a571cdb1b9c",
   "metadata": {},
   "outputs": [],
   "source": [
    "REPO = '/sdf/data/rubin/repo/main/'\n",
    "butler = Butler(REPO)\n",
    "registry = butler.registry\n",
    "\n",
    "# collection = 'u/mgorsuch/metadetect/comcam_Rubin_SV_38_7/20250416T020244Z'\n",
    "collection = 'u/mgorsuch/metadetect/a360/20250513T210342Z' # metadetect run on two bands\n",
    "cell_collection = 'u/mgorsuch/a360_cell_coadd/20250513T044026Z' # cells used as input"
   ]
  },
  {
   "cell_type": "markdown",
   "id": "e99afac3-ef0c-4182-a354-ac0831da584e",
   "metadata": {},
   "source": [
    "## Prepare data"
   ]
  },
  {
   "cell_type": "markdown",
   "id": "747b0aa2-5d36-4a1e-b809-390b1f449386",
   "metadata": {},
   "source": [
    "Metadetect outputs tables for each patch. Read in each table and compile them together."
   ]
  },
  {
   "cell_type": "code",
   "execution_count": null,
   "id": "67db6b7b-1959-4353-a1eb-0cf5f92f041e",
   "metadata": {},
   "outputs": [],
   "source": [
    "# Position of the BCG for A360\n",
    "ra_bcg = 37.862\n",
    "dec_bcg = 6.98"
   ]
  },
  {
   "cell_type": "markdown",
   "id": "e4944f60-b0db-4c0c-be53-0ef8b8eb4945",
   "metadata": {},
   "source": [
    "The cell below is for finding the tracts/patches that are within the specified radius of the BCG. This is already incorporated in the butler collection used for the `metadetect` output."
   ]
  },
  {
   "cell_type": "code",
   "execution_count": null,
   "id": "878c1736-7941-471c-a134-d899f17855be",
   "metadata": {},
   "outputs": [],
   "source": [
    "# skymap = butler.get('skyMap', skymap='lsst_cells_v1', collections='LSSTComCam/runs/DRP/DP1/w_2025_06/DM-48810')\n",
    "\n",
    "# # Looking for all patches in delta deg region around it\n",
    "# delta = 0.5\n",
    "# center = geom.SpherePoint(ra_bcg, dec_bcg, geom.degrees)\n",
    "# ra_min, ra_max = ra_bcg - delta, ra_bcg + delta\n",
    "# dec_min, dec_max = dec_bcg - delta, dec_bcg + delta\n",
    "\n",
    "# ra_range = (ra_min, ra_max)\n",
    "# dec_range = (dec_min, dec_max)\n",
    "# radec = [geom.SpherePoint(ra_range[0], dec_range[0], geom.degrees),\n",
    "#          geom.SpherePoint(ra_range[0], dec_range[1], geom.degrees),\n",
    "#          geom.SpherePoint(ra_range[1], dec_range[0], geom.degrees),\n",
    "#          geom.SpherePoint(ra_range[1], dec_range[1], geom.degrees)]\n",
    "\n",
    "# tractPatchList = skymap.findTractPatchList(radec)\n",
    "\n",
    "# find dataset refs that are within the tract/patch list above\n",
    "# datasetRefs_shear = []\n",
    "# datasetRefs_catalog = []\n",
    "\n",
    "# for tractPatch in tractPatchList:\n",
    "#     tract = tractPatch[0]\n",
    "#     patchInfo = tractPatch[1]\n",
    "#     for patch in patchInfo:\n",
    "#         datasetRefs_shear.append(butler.query_datasets('ShearObject', \n",
    "#                                                  collections=collection,\n",
    "#                                                  tract=tract.tract_id,\n",
    "#                                                  patch=patch.sequential_index))\n",
    "#         datasetRefs_catalog.append(butler.query_datasets('objectTable', \n",
    "#                                                  collections=default_collection,\n",
    "#                                                  tract=tract.tract_id,\n",
    "#                                                  patch=patch.sequential_index))"
   ]
  },
  {
   "cell_type": "code",
   "execution_count": null,
   "id": "ef70703c-9206-4e9e-8824-be60be1e71a3",
   "metadata": {},
   "outputs": [],
   "source": [
    "datasetRefs_shear = []\n",
    "overlap_patches_10463 = [0, 10, 20, 30, 40, 50, 60, 70, 80, 90, 100]\n",
    "tract_patch_list = [] # only used for plotting distribution of input images\n",
    "\n",
    "for ref in butler.registry.queryDatasets('ShearObject', collections=collection):\n",
    "\n",
    "    if ref.dataId['tract'] == 10704 or ref.dataId['tract'] == 10705:\n",
    "        continue\n",
    "\n",
    "    if ref.dataId['tract'] == 10463 and ref.dataId['patch'] in overlap_patches_10463:\n",
    "        continue\n",
    "    \n",
    "    datasetRefs_shear.append(butler.query_datasets('ShearObject', \n",
    "                                                     collections=collection,\n",
    "                                                     skymap = 'lsst_cells_v1',\n",
    "                                                     tract=ref.dataId['tract'],\n",
    "                                                     patch=ref.dataId['patch']))\n",
    "\n",
    "    tract_patch_list.append([ref.dataId['tract'], ref.dataId['patch']])"
   ]
  },
  {
   "cell_type": "code",
   "execution_count": null,
   "id": "c33151fd-dfd0-4b35-a572-2cb9bf86d8b1",
   "metadata": {},
   "outputs": [],
   "source": [
    "shear_table_list = []\n",
    "\n",
    "for i, ref in enumerate(datasetRefs_shear):\n",
    "    shear_data_patch = butler.get(ref[0])\n",
    "    shear_table_patch = shear_data_patch.to_pandas()\n",
    "    shear_table_list.append(shear_table_patch)\n",
    "\n",
    "shear_table = pd.concat(shear_table_list)\n",
    "\n",
    "# remove unused tables to clear up memory\n",
    "del shear_table_list\n",
    "gc.collect()"
   ]
  },
  {
   "cell_type": "code",
   "execution_count": null,
   "id": "3c5fd607-de84-4490-b029-9d7cee04b360",
   "metadata": {},
   "outputs": [],
   "source": [
    "# remove objects in outer ring of cells in each patch since patch overlap is two cells\n",
    "shear_table = shear_table[shear_table['cell_x']!=0]\n",
    "shear_table = shear_table[shear_table['cell_x']!=21]\n",
    "shear_table = shear_table[shear_table['cell_y']!=0]\n",
    "shear_table = shear_table[shear_table['cell_y']!=21]\n",
    "print(\"Number of rows after removing most duplicate cells: \", len(shear_table))\n",
    "\n",
    "filt1 = shear_table['tract'] == 10463\n",
    "filt1 &= shear_table['patch_x'] == 0\n",
    "filt1 &= shear_table['cell_x'] == 1\n",
    "shear_table = shear_table[np.invert(filt1)]\n",
    "\n",
    "filt2 = shear_table['tract'] == 10463\n",
    "filt2 &= shear_table['patch_x'] == 0\n",
    "filt2 &= shear_table['cell_x'] == 2\n",
    "shear_table = shear_table[np.invert(filt2)]\n",
    "print(\"Number of rows after removing patch overlap in 10463: \", len(shear_table))\n",
    "\n",
    "# some patch overlap appears to have a 6(?) cell overlap\n",
    "filt3 = shear_table['tract'] == 10464\n",
    "filt3 &= shear_table['patch_x'] == 9\n",
    "filt3 &= shear_table['cell_x'] == 20\n",
    "shear_table = shear_table[np.invert(filt3)]\n",
    "\n",
    "# some patch overlap appears to have a 4 cell overlap\n",
    "filt4 = shear_table['tract'] == 10464\n",
    "filt4 &= shear_table['patch_x'] == 9\n",
    "filt4 &= shear_table['cell_x'] == 19\n",
    "shear_table = shear_table[np.invert(filt4)]\n",
    "print(\"Number of rows after removing patch overlap in 10464: \", len(shear_table))"
   ]
  },
  {
   "cell_type": "code",
   "execution_count": null,
   "id": "dd524182-3fa7-4b8d-ba3a-5cd3c0075347",
   "metadata": {},
   "outputs": [],
   "source": [
    "# remove exact duplicates   \n",
    "print(\"Number of rows prior to removing duplicates: \", len(shear_table))\n",
    "shear_table= shear_table.drop_duplicates(subset=['shear_type', 'ra', 'dec']) # each object will potentially have several sheared images\n",
    "print(\"Number of rows after removing duplicates: \", len(shear_table))"
   ]
  },
  {
   "cell_type": "code",
   "execution_count": null,
   "id": "269d936a-90e3-4b6c-8eda-27cdf7e4dd9c",
   "metadata": {},
   "outputs": [],
   "source": [
    "# make new columns to convert nJy fluxes to AB magnitudes\n",
    "t1 = Table.from_pandas(shear_table)\n",
    "\n",
    "t1['wmom_band_mag_r'] = (t1['wmom_band_flux_r']*u.nJy).to(u.ABmag)\n",
    "t1['wmom_band_mag_i'] = (t1['wmom_band_flux_i']*u.nJy).to(u.ABmag)\n",
    "t1['wmom_color_mag_r-i'] = t1['wmom_band_mag_r']-t1['wmom_band_mag_i']\n",
    "\n",
    "shear_table = t1.to_pandas()"
   ]
  },
  {
   "cell_type": "markdown",
   "id": "a42de0d2-c3e7-4d01-beda-40b328329929",
   "metadata": {},
   "source": [
    "### Plot distribution of input images per cell in A360 region\n",
    "\n",
    "Not needed for the shear analysis, but may be a useful reference."
   ]
  },
  {
   "cell_type": "code",
   "execution_count": null,
   "id": "4c4effb5-2e93-4fa0-8084-84fd3fe268e5",
   "metadata": {},
   "outputs": [],
   "source": [
    "from lsst.sphgeom import Box, HealpixPixelization\n",
    "import healsparse as hsp\n",
    "import healpy as hp\n",
    "from hpgeom import hpgeom\n",
    "import skyproj"
   ]
  },
  {
   "cell_type": "code",
   "execution_count": null,
   "id": "06e55bef-ca59-4f6f-bbf9-471951281f5e",
   "metadata": {},
   "outputs": [],
   "source": [
    "# define healpix parameters\n",
    "nside_coverage = 2**8\n",
    "nside_sparse = 2**14\n",
    "\n",
    "pixelization = HealpixPixelization(hp.nside2order(nside_sparse))"
   ]
  },
  {
   "cell_type": "code",
   "execution_count": null,
   "id": "54379ba1-0110-4087-b891-302d1f75d788",
   "metadata": {},
   "outputs": [],
   "source": [
    "# method find the pixel indices that overlap the sky projection of the cell area\n",
    "def get_cell_pixels(cell, wcs):\n",
    "    cell_bbox = cell.inner.bbox\n",
    "    begin_coord = wcs.pixelToSky(cell_bbox.beginX, cell_bbox.beginY)\n",
    "    end_coord = wcs.pixelToSky(cell_bbox.endX, cell_bbox.endY)\n",
    "    \n",
    "    if begin_coord.getRa() < end_coord.getRa():\n",
    "        ra1 = begin_coord.getRa().asDegrees()\n",
    "        ra2 = end_coord.getRa().asDegrees()\n",
    "    else:\n",
    "        ra1 = end_coord.getRa().asDegrees()\n",
    "        ra2 = begin_coord.getRa().asDegrees()\n",
    "    \n",
    "    if begin_coord.getDec() < end_coord.getDec():\n",
    "        dec1 = begin_coord.getDec().asDegrees()\n",
    "        dec2 = end_coord.getDec().asDegrees()\n",
    "    else:\n",
    "        dec1 = end_coord.getDec().asDegrees()\n",
    "        dec2 = begin_coord.getDec().asDegrees()\n",
    "\n",
    "    indices = hpgeom.query_box(nside=nside_sparse, a0=ra1, a1=ra2, b0=dec1, b1=dec2)\n",
    "    \n",
    "    return indices"
   ]
  },
  {
   "cell_type": "code",
   "execution_count": null,
   "id": "e74190c2-2222-4529-9c86-7cd77d6995bc",
   "metadata": {},
   "outputs": [],
   "source": [
    "def get_cell_inputs(cell_collection, tract_patch_list, band):\n",
    "\n",
    "    cell_df = pd.DataFrame()\n",
    "    cell_ra = []\n",
    "    cell_dec = []\n",
    "    pixel_indices = []\n",
    "    inputs_list = []\n",
    "\n",
    "    segs = [] # collection of lines to plot patch outlines\n",
    "\n",
    "    for tract, patch in tract_patch_list:\n",
    "    \n",
    "        coadd = butler.get('deepCoaddCell', \n",
    "                         collections = cell_collection, \n",
    "                         instrument = 'LSSTComCam', \n",
    "                         skymap = 'lsst_cells_v1', \n",
    "                         tract = tract, \n",
    "                         patch = patch,\n",
    "                         band = band,)\n",
    "        # define a wcs from the given coadd\n",
    "        wcs = coadd.wcs\n",
    "\n",
    "        # get coadd outline\n",
    "        coadd_corners = coadd.inner_bbox.getCorners()\n",
    "    \n",
    "        for index, corner in enumerate(coadd_corners):\n",
    "            corner_coord_start = wcs.pixelToSky(corner.getX(), corner.getY())\n",
    "            if index < 3:\n",
    "                corner_coord_end = wcs.pixelToSky(coadd_corners[index+1].getX(), coadd_corners[index+1].getY())\n",
    "            else:\n",
    "                corner_coord_end = wcs.pixelToSky(coadd_corners[0].getX(), coadd_corners[0].getY())\n",
    "    \n",
    "            start_ra = corner_coord_start[0].asDegrees()\n",
    "            start_dec = corner_coord_start[1].asDegrees()\n",
    "    \n",
    "            end_ra = corner_coord_end[0].asDegrees()\n",
    "            end_dec = corner_coord_end[1].asDegrees()\n",
    "    \n",
    "            segs.append(((start_ra, start_dec), (end_ra, end_dec)))\n",
    "        \n",
    "        cell_list = list(coadd.cells.keys()) # skips indices that are empty\n",
    "\n",
    "        # for each cell in cell_list:\n",
    "        for index, cell_index in enumerate(cell_list):\n",
    "    \n",
    "            cell = coadd.cells[cell_index]\n",
    "    \n",
    "            # get cell coordinates for removing duplicates\n",
    "            cell_center = cell.inner.bbox.getCenter()\n",
    "            cell_center_coord = wcs.pixelToSky(cell_center)\n",
    "            cell_ra.append(cell_center_coord.getRa().asDegrees())\n",
    "            cell_dec.append(cell_center_coord.getDec().asDegrees())\n",
    "        \n",
    "            pixel_indices.append(get_cell_pixels(cell, wcs))\n",
    "    \n",
    "            inputs_list.append(cell.visit_count)\n",
    "    \n",
    "        del coadd\n",
    "        gc.collect()\n",
    "    \n",
    "    cell_df[\"ra\"] = cell_ra\n",
    "    cell_df[\"dec\"] = cell_dec\n",
    "    cell_df[\"pixels\"] = pixel_indices\n",
    "    cell_df[\"inputs\"] = inputs_list\n",
    "\n",
    "    return cell_df, segs"
   ]
  },
  {
   "cell_type": "markdown",
   "id": "2a0d3d34-e199-4038-8061-45b9743fac67",
   "metadata": {},
   "source": [
    "Skipping the next few cells since they are running fairly slow at the moment (26+ min when it should take 3-4 min.)"
   ]
  },
  {
   "cell_type": "markdown",
   "id": "cf40aa12-b61d-474c-953a-86eebab0e3f6",
   "metadata": {},
   "source": [
    "#### i-band"
   ]
  },
  {
   "cell_type": "code",
   "execution_count": null,
   "id": "f65d29b8-a2e0-41d0-aba3-c8fd388ee96e",
   "metadata": {},
   "outputs": [],
   "source": [
    "cell_df_i, segs_i = get_cell_inputs(cell_collection, tract_patch_list, 'i')"
   ]
  },
  {
   "cell_type": "code",
   "execution_count": null,
   "id": "1b1bab16-6d7b-45f4-b50a-2090ad05a1e2",
   "metadata": {},
   "outputs": [],
   "source": [
    "# remove duplicate cells from overlapping patches\n",
    "cell_df_i = cell_df_i.drop_duplicates(subset=['ra', 'dec'])"
   ]
  },
  {
   "cell_type": "code",
   "execution_count": null,
   "id": "1cf61826-58f8-46bc-bdae-ae2047806002",
   "metadata": {},
   "outputs": [],
   "source": [
    "pixel_df_i = cell_df_i.explode('pixels').reset_index(drop=True)\n",
    "pixel_df_i = pixel_df_i.drop_duplicates(subset=[\"pixels\"]) \n",
    "pixel_df_i = pixel_df_i.dropna(subset=['pixels'])\n",
    "\n",
    "pixels_i = pixel_df_i[\"pixels\"].to_numpy()\n",
    "pixel_input_i = pixel_df_i[\"inputs\"].to_numpy()"
   ]
  },
  {
   "cell_type": "code",
   "execution_count": null,
   "id": "597d423a-841f-4717-bd4b-17af6af2bf6f",
   "metadata": {},
   "outputs": [],
   "source": [
    "hsp_map_input_i = hsp.HealSparseMap.make_empty(nside_coverage, nside_sparse, np.int64)\n",
    "hsp_map_input_i.update_values_pix(np.array(pixels_i, dtype=np.int64), np.array(pixel_input_i))"
   ]
  },
  {
   "cell_type": "markdown",
   "id": "30721c19-2598-4a51-8e03-438d90b051b6",
   "metadata": {},
   "source": [
    "#### r-band"
   ]
  },
  {
   "cell_type": "code",
   "execution_count": null,
   "id": "fa189b46-29c2-4d13-b244-18825aaa424c",
   "metadata": {},
   "outputs": [],
   "source": [
    "cell_df_r, segs_r = get_cell_inputs(cell_collection, tract_patch_list, 'r')"
   ]
  },
  {
   "cell_type": "code",
   "execution_count": null,
   "id": "093e3e06-1b38-4e1a-a3d7-8026625b14be",
   "metadata": {},
   "outputs": [],
   "source": [
    "# remove duplicate cells from overlapping patches\n",
    "cell_df_r = cell_df_r.drop_duplicates(subset=['ra', 'dec'])"
   ]
  },
  {
   "cell_type": "code",
   "execution_count": null,
   "id": "091ea8a1-2719-4c2e-9707-5012abd63ad7",
   "metadata": {},
   "outputs": [],
   "source": [
    "pixel_df_r = cell_df_r.explode('pixels').reset_index(drop=True)\n",
    "pixel_df_r = pixel_df_r.drop_duplicates(subset=[\"pixels\"]) \n",
    "pixel_df_r = pixel_df_r.dropna(subset=['pixels'])\n",
    "\n",
    "pixels_r = pixel_df_r[\"pixels\"].to_numpy()\n",
    "pixel_input_r = pixel_df_r[\"inputs\"].to_numpy()"
   ]
  },
  {
   "cell_type": "code",
   "execution_count": null,
   "id": "0d27d57b-f8a4-41a5-884b-8ab10a8c5a48",
   "metadata": {},
   "outputs": [],
   "source": [
    "hsp_map_input_r = hsp.HealSparseMap.make_empty(nside_coverage, nside_sparse, np.int64)\n",
    "hsp_map_input_r.update_values_pix(np.array(pixels_r, dtype=np.int64), np.array(pixel_input_r))"
   ]
  },
  {
   "cell_type": "markdown",
   "id": "4150428e-4594-4095-8a31-e9888041676c",
   "metadata": {},
   "source": [
    "#### Input Distribution Plot"
   ]
  },
  {
   "cell_type": "code",
   "execution_count": null,
   "id": "d6c53161-4ebb-4876-8e2e-2321ecaaccd9",
   "metadata": {},
   "outputs": [],
   "source": [
    "fig, ax = plt.subplots(1, 2, figsize=(12, 5.3))\n",
    "sp_i = skyproj.GnomonicSkyproj(ax=ax[0], lon_0=37.862, lat_0=6.98, min_lon_ticklabel_delta=0.2)\n",
    "sp_i.draw_hspmap(hsp_map_input_i)\n",
    "sp_i.ax.set_xlabel(\"RA\", fontsize=10,)\n",
    "sp_i.ax.set_ylabel(\"DEC\", fontsize=10,)\n",
    "sp_i.draw_colorbar(shrink=0.9, label='Number of input warps per cell')\n",
    "sp_i.ax.set_title(\"i-band\", pad=25)\n",
    "for seg in segs_i:\n",
    "    sp_i.plot([seg[0][0], seg[1][0]], [seg[0][1], seg[1][1]], 'r-', alpha=0.6)\n",
    "\n",
    "sp_r = skyproj.GnomonicSkyproj(ax=ax[1], lon_0=37.862, lat_0=6.98, min_lon_ticklabel_delta=0.2)\n",
    "sp_r.draw_hspmap(hsp_map_input_r)\n",
    "sp_r.ax.set_xlabel(\"RA\", fontsize=10,)\n",
    "sp_r.ax.set_ylabel(\"DEC\", fontsize=10,)\n",
    "sp_r.draw_colorbar(shrink=0.9, label='Number of input warps per cell')\n",
    "sp_r.ax.set_title(\"r-band\", pad=25)\n",
    "for seg in segs_r:\n",
    "    sp_r.plot([seg[0][0], seg[1][0]], [seg[0][1], seg[1][1]], 'r-', alpha=0.6)\n",
    "\n",
    "plt.suptitle(\"Cell Input Distribution of the A360 Region\")\n",
    "plt.show()"
   ]
  },
  {
   "cell_type": "markdown",
   "id": "79af4c24-b5fc-44e9-b835-d5a840afeebb",
   "metadata": {},
   "source": [
    "The two missing patches were due to pipeline failures, though are not included within the 0.5 degree radius of the BCG"
   ]
  },
  {
   "cell_type": "markdown",
   "id": "c6e6eab9-7f52-4e09-8dc6-a1cab8218d57",
   "metadata": {},
   "source": [
    "## Apply `metadetect` flags\n",
    "\n",
    "Anything that is flagged should be removed."
   ]
  },
  {
   "cell_type": "code",
   "execution_count": null,
   "id": "505b4403-86a9-4be7-b357-77adb62b879b",
   "metadata": {},
   "outputs": [],
   "source": [
    "print(shear_table['wmom_flags'].unique())\n",
    "print(shear_table['psfrec_flags'].unique())\n",
    "print(shear_table['wmom_psf_flags'].unique())\n",
    "print(shear_table['wmom_obj_flags'].unique())\n",
    "print(shear_table['wmom_T_flags'].unique())\n",
    "print(shear_table['wmom_band_flux_flags_r'].unique())\n",
    "print(shear_table['wmom_band_flux_flags_i'].unique())"
   ]
  },
  {
   "cell_type": "code",
   "execution_count": null,
   "id": "20cc4309-3993-4e6b-a421-08fa9bd458e2",
   "metadata": {},
   "outputs": [],
   "source": [
    "meta_filter = shear_table['wmom_flags']==False\n",
    "meta_filter &= shear_table['psfrec_flags']==False\n",
    "meta_filter &= shear_table['wmom_psf_flags']==False\n",
    "meta_filter &= shear_table['wmom_obj_flags']==False\n",
    "meta_filter &= shear_table['wmom_T_flags']==False\n",
    "meta_filter &= shear_table['wmom_band_flux_flags_r']==False\n",
    "meta_filter &= shear_table['wmom_band_flux_flags_i']==False\n",
    "\n",
    "shear_table = shear_table[meta_filter]\n",
    "\n",
    "print(\"Number of rows after removing metadetect flags: \", len(shear_table))"
   ]
  },
  {
   "cell_type": "markdown",
   "id": "b658b3cd-8205-44ea-8b05-90d4d345fa7c",
   "metadata": {},
   "source": [
    "## Quality cuts\n",
    "\n",
    "Using cuts from [Yamamoto 2024](https://arxiv.org/abs/2501.05665) for\n",
    "- Star/galaxy separation\n",
    "- S/N\n",
    "- Size (visually check first if needed)\n",
    "- Flux\n",
    "- Color\n",
    "\n",
    "These may need to be updated provided this is a different dataset, but should be a good starting point.\n",
    "\n",
    "(It looks like the metadetect flags applied already take these into account?)\n",
    "\n",
    "**Note: the Yamamoto paper cut for object size is definited differently than the Metadetect columns, so the object size cut from the DES code is used instead https://github.com/des-science/des-y6utils/blob/main/des_y6utils/mdet.py#L268**"
   ]
  },
  {
   "cell_type": "code",
   "execution_count": null,
   "id": "de9f3bd6-e80c-4c89-87d9-41ad00dd781b",
   "metadata": {},
   "outputs": [],
   "source": [
    "# print(\"Object size ratio rows removed: \", len(shear_table)-len(shear_table[shear_table['wmom_T_ratio']>0.5]))\n",
    "print(\"Object size ratio rows removed: \", len(shear_table)-len(shear_table[shear_table['wmom_T_ratio']>1.2]))\n",
    "print(\"S/N ratio rows removed: \", len(shear_table)-len(shear_table[shear_table['wmom_s2n']>10]))\n",
    "print(\"Size rows removed: \", len(shear_table)-len(shear_table[shear_table['wmom_T']<20]))\n",
    "print(\"m_frac rows removed: \", len(shear_table)-len(shear_table[shear_table['mfrac']<0.1]))\n",
    "# print(\"faint in r-band removed: \", len(shear_table)-len(shear_table[shear_table['wmom_band_mag_r']<26.5]))\n",
    "# print(\"faint in i-band removed: \", len(shear_table)-len(shear_table[shear_table['wmom_band_mag_i']<24.7]))\n",
    "# print(\"faint in r-band removed: \", len(shear_table)-len(shear_table[shear_table['wmom_band_mag_r']<25.0]))\n",
    "print(\"faint in i-band removed: \", len(shear_table)-len(shear_table[shear_table['wmom_band_mag_i']<24.5])) # trying for brighter objects\n",
    "print(\"r-i flux rows removed: \", \n",
    "      len(shear_table)-len(shear_table[(shear_table['wmom_band_mag_r']-shear_table['wmom_band_mag_i']).abs()<5]))"
   ]
  },
  {
   "cell_type": "code",
   "execution_count": null,
   "id": "926165d1-bd4c-4b5c-bf34-14733c7dc62d",
   "metadata": {},
   "outputs": [],
   "source": [
    "# q_cuts = shear_table['wmom_T_ratio']>0.5\n",
    "q_cuts = shear_table['wmom_T_ratio']>1.2\n",
    "q_cuts &= shear_table['wmom_s2n']>10\n",
    "q_cuts &= shear_table['wmom_T']<20\n",
    "q_cuts &= shear_table['mfrac']<0.1\n",
    "# q_cuts &= shear_table['wmom_band_mag_r']<25.0\n",
    "q_cuts &= shear_table['wmom_band_mag_i']<24.5\n",
    "q_cuts &= (shear_table['wmom_band_mag_r']-shear_table['wmom_band_mag_i']).abs()<5\n",
    "\n",
    "shear_table = shear_table[q_cuts]\n",
    "\n",
    "print(\"Number of rows after applying quality cuts: \", len(shear_table))"
   ]
  },
  {
   "cell_type": "markdown",
   "id": "8efba9cb-3551-4a0f-8720-0eee5acfe983",
   "metadata": {},
   "source": [
    "## Check shear types for each object\n",
    "\n",
    "Each object is detected and measured separately for each sheared/unsheared image. The catalogs will not necessarily be the same but should be close in number of objects."
   ]
  },
  {
   "cell_type": "code",
   "execution_count": null,
   "id": "8bc6684d-f79e-402f-998d-f1b62a4301ad",
   "metadata": {},
   "outputs": [],
   "source": [
    "print(\"Number of shear type 'ns': \", len(shear_table[shear_table['shear_type']=='ns']))\n",
    "print(\"Number of shear type '1p': \", len(shear_table[shear_table['shear_type']=='1p']))\n",
    "print(\"Number of shear type '1m': \", len(shear_table[shear_table['shear_type']=='1m']))\n",
    "print(\"Number of shear type '2p': \", len(shear_table[shear_table['shear_type']=='2p']))\n",
    "print(\"Number of shear type '2m': \", len(shear_table[shear_table['shear_type']=='2m']))"
   ]
  },
  {
   "cell_type": "markdown",
   "id": "e5c85b72-c51d-4db8-9d38-f4501996fb1e",
   "metadata": {},
   "source": [
    "## Identify and remove cluster member galaxies\n",
    "\n",
    "This should be done for each shear type catalog individually."
   ]
  },
  {
   "cell_type": "markdown",
   "id": "4bfdd0fb-fbaa-418d-a4b3-0b314c5fdfda",
   "metadata": {},
   "source": [
    "### Add column for degree separation from BCG"
   ]
  },
  {
   "cell_type": "code",
   "execution_count": null,
   "id": "a3b3db99-1157-4faa-9d89-1f005f68320c",
   "metadata": {},
   "outputs": [],
   "source": [
    "c1 = SkyCoord(shear_table['ra'].values*u.deg, shear_table['dec'].values*u.deg)\n",
    "c2 = SkyCoord(ra_bcg*u.deg, dec_bcg*u.deg)\n",
    "sep = c1.separation(c2)\n",
    "\n",
    "shear_table['deg_sep'] = sep.value"
   ]
  },
  {
   "cell_type": "markdown",
   "id": "ce6e55f1-52de-4648-b4c7-e32994c455da",
   "metadata": {},
   "source": [
    "### Split table by shear types"
   ]
  },
  {
   "cell_type": "code",
   "execution_count": null,
   "id": "ed45117e-9edc-4dcd-8325-27103164033a",
   "metadata": {},
   "outputs": [],
   "source": [
    "shear_table_ns = shear_table[shear_table['shear_type']=='ns']\n",
    "shear_table_1p = shear_table[shear_table['shear_type']=='1p']\n",
    "shear_table_1m = shear_table[shear_table['shear_type']=='1m']\n",
    "shear_table_2p = shear_table[shear_table['shear_type']=='2p']\n",
    "shear_table_2m = shear_table[shear_table['shear_type']=='2m']"
   ]
  },
  {
   "cell_type": "markdown",
   "id": "9f55d43b-8861-45b9-9260-aeaecbb7cf36",
   "metadata": {},
   "source": [
    "### Filter objects to within < 0.1 deg of cluster center"
   ]
  },
  {
   "cell_type": "code",
   "execution_count": null,
   "id": "b15d853b-644b-44b3-913c-20931b17d3f3",
   "metadata": {},
   "outputs": [],
   "source": [
    "filt = shear_table['deg_sep'] < 0.1 # stay close to cluster center for RS indentification\n",
    "shear_table_rs_ns = shear_table_ns[shear_table_ns['deg_sep'] < 0.1] # catalog for RS identification\n",
    "shear_table_rs_1p = shear_table_1p[shear_table_1p['deg_sep'] < 0.1]\n",
    "shear_table_rs_1m = shear_table_1m[shear_table_1m['deg_sep'] < 0.1]\n",
    "shear_table_rs_2p = shear_table_2p[shear_table_2p['deg_sep'] < 0.1]\n",
    "shear_table_rs_2m = shear_table_2m[shear_table_2m['deg_sep'] < 0.1]\n",
    "print(\"Number of rows in ns after applying < 0.1 deg from center: \", len(shear_table_rs_ns))\n",
    "print(\"Number of rows in 1p after applying < 0.1 deg from center: \", len(shear_table_rs_1p))\n",
    "print(\"Number of rows in 1m after applying < 0.1 deg from center: \", len(shear_table_rs_1m))\n",
    "print(\"Number of rows in 2p after applying < 0.1 deg from center: \", len(shear_table_rs_2p))\n",
    "print(\"Number of rows in 2m after applying < 0.1 deg from center: \", len(shear_table_rs_2m))"
   ]
  },
  {
   "cell_type": "markdown",
   "id": "63cc0d7e-b6e4-4f5c-91ab-1b991fe94fc2",
   "metadata": {},
   "source": [
    "### Color-magnitude diagram\n",
    "\n",
    "Identify red sequence by eye for now."
   ]
  },
  {
   "cell_type": "code",
   "execution_count": null,
   "id": "aeee97b5-fc7c-489a-ac76-d7d03ab02f7b",
   "metadata": {},
   "outputs": [],
   "source": [
    "fig, ax = plt.subplots(nrows=1, ncols=2, figsize=(8,4))\n",
    "ax[0].hist(shear_table_ns['wmom_band_mag_r'], bins=75)\n",
    "ax[1].hist(shear_table_ns['wmom_band_mag_i'], bins=75)\n",
    "ax[0].set_yscale('log')\n",
    "ax[1].set_yscale('log')"
   ]
  },
  {
   "cell_type": "code",
   "execution_count": null,
   "id": "52dd18df-98a5-4b87-9aa9-d1d339a0be12",
   "metadata": {},
   "outputs": [],
   "source": [
    "fig, axes = plt.subplots(2,3, figsize=(15,10))\n",
    "axes[1][0].set_visible(False)\n",
    "\n",
    "axes[0][0].set_position([0.1,0.33,0.228,0.343])\n",
    "\n",
    "point_size = 0.8\n",
    "point_alpha = 0.7\n",
    "\n",
    "# ns \n",
    "axes[0][0].scatter(shear_table_rs_ns['wmom_band_mag_r'], shear_table_rs_ns['wmom_color_mag_r-i'], \n",
    "           marker='.', s=point_size, alpha=point_alpha)\n",
    "axes[0][0].set_title(\"ns\")\n",
    "\n",
    "axes[0][1].scatter(shear_table_rs_1p['wmom_band_mag_r'], shear_table_rs_1p['wmom_color_mag_r-i'], \n",
    "           marker='.', s=point_size, alpha=point_alpha)\n",
    "axes[0][1].set_title(\"1p\")\n",
    "\n",
    "axes[0][2].scatter(shear_table_rs_1m['wmom_band_mag_r'], shear_table_rs_1m['wmom_color_mag_r-i'], \n",
    "           marker='.', s=point_size, alpha=point_alpha)\n",
    "axes[0][2].set_title(\"1m\")\n",
    "\n",
    "axes[1][1].scatter(shear_table_rs_2p['wmom_band_mag_r'], shear_table_rs_2p['wmom_color_mag_r-i'], \n",
    "           marker='.', s=point_size, alpha=point_alpha)\n",
    "axes[1][1].set_title(\"2p\")\n",
    "\n",
    "axes[1][2].scatter(shear_table_rs_2m['wmom_band_mag_r'], shear_table_rs_2m['wmom_color_mag_r-i'], \n",
    "           marker='.', s=point_size, alpha=point_alpha)\n",
    "axes[1][2].set_title(\"2m\")\n",
    "\n",
    "# apply formatting to all subplots\n",
    "for ax in fig.axes:\n",
    "    ax.set_ylabel('r-i')\n",
    "    ax.set_xlabel('r')\n",
    "    # ax.set_ylim([-1.5,2.5])\n",
    "    # ax.set_xlim([17,24.5])\n",
    "    # ax.set_ylim([-2,2])\n",
    "    # ax.set_xlim([19,25])\n",
    "    # ax.set_ylim([-0.5,1.0])\n",
    "    # ax.set_xlim([18.5,24])\n",
    "    ax.plot([19,23],[0.4,0.3], color='r', linewidth=0.7)\n",
    "    ax.plot([19,23],[0.6,0.5], color='r', linewidth=0.7)"
   ]
  },
  {
   "cell_type": "markdown",
   "id": "a9c2136f-58fb-4797-80b5-026d8977a300",
   "metadata": {},
   "source": [
    "Note that combining all catalogs causes a \"smeary\" look is due to the 5 sheared/unsheared images of the same object that are detected & measured in slightly different ways."
   ]
  },
  {
   "cell_type": "markdown",
   "id": "cfcc0b97-499f-47f3-a71e-731be727d8ea",
   "metadata": {},
   "source": [
    "### Filter RS galaxies"
   ]
  },
  {
   "cell_type": "code",
   "execution_count": null,
   "id": "66e42a51-b0fb-4482-a1b6-f015b227f0fa",
   "metadata": {},
   "outputs": [],
   "source": [
    "rs_hi_ns = 0.6 - (0.1/5.) * (shear_table_rs_ns['wmom_band_mag_r']-19)\n",
    "rs_low_ns = 0.4 - (0.1/5.)* (shear_table_rs_ns['wmom_band_mag_r']-19)\n",
    "color_ns = shear_table_rs_ns['wmom_color_mag_r-i']\n",
    "idx_ns = np.where(np.logical_and(color_ns>rs_low_ns, color_ns<rs_hi_ns))[0]\n",
    "idx2_ns = np.where(shear_table_rs_ns['wmom_band_mag_r'].iloc[idx_ns] < 23)[0] # keep the brightest objects only\n",
    "\n",
    "rs_hi_1p = 0.6 - (0.1/5.) * (shear_table_rs_1p['wmom_band_mag_r']-19)\n",
    "rs_low_1p = 0.4 - (0.1/5.)* (shear_table_rs_1p['wmom_band_mag_r']-19)\n",
    "color_1p = shear_table_rs_1p['wmom_color_mag_r-i']\n",
    "idx_1p = np.where(np.logical_and(color_1p>rs_low_1p, color_1p<rs_hi_1p))[0]\n",
    "idx2_1p = np.where(shear_table_rs_1p['wmom_band_mag_r'].iloc[idx_1p] < 23)[0] # keep the brightest objects only\n",
    "\n",
    "rs_hi_1m = 0.6 - (0.1/5.) * (shear_table_rs_1m['wmom_band_mag_r']-19)\n",
    "rs_low_1m = 0.4 - (0.1/5.)* (shear_table_rs_1m['wmom_band_mag_r']-19)\n",
    "color_1m = shear_table_rs_1m['wmom_color_mag_r-i']\n",
    "idx_1m = np.where(np.logical_and(color_1m>rs_low_1m, color_1m<rs_hi_1m))[0]\n",
    "idx2_1m = np.where(shear_table_rs_1m['wmom_band_mag_r'].iloc[idx_1m] < 23)[0] # keep the brightest objects only\n",
    "\n",
    "rs_hi_2p = 0.6 - (0.1/5.) * (shear_table_rs_2p['wmom_band_mag_r']-19)\n",
    "rs_low_2p = 0.4 - (0.1/5.)* (shear_table_rs_2p['wmom_band_mag_r']-19)\n",
    "color_2p = shear_table_rs_2p['wmom_color_mag_r-i']\n",
    "idx_2p = np.where(np.logical_and(color_2p>rs_low_2p, color_2p<rs_hi_2p))[0]\n",
    "idx2_2p = np.where(shear_table_rs_2p['wmom_band_mag_r'].iloc[idx_2p] < 23)[0] # keep the brightest objects only\n",
    "\n",
    "rs_hi_2m = 0.6 - (0.1/5.) * (shear_table_rs_2m['wmom_band_mag_r']-19)\n",
    "rs_low_2m = 0.4 - (0.1/5.)* (shear_table_rs_2m['wmom_band_mag_r']-19)\n",
    "color_2m = shear_table_rs_2m['wmom_color_mag_r-i']\n",
    "idx_2m = np.where(np.logical_and(color_2m>rs_low_2m, color_2m<rs_hi_2m))[0]\n",
    "idx2_2m = np.where(shear_table_rs_2m['wmom_band_mag_r'].iloc[idx_2m] < 23)[0] # keep the brightest objects only"
   ]
  },
  {
   "cell_type": "code",
   "execution_count": null,
   "id": "2dbf1847-b36f-4a39-adaa-8b562dfbb385",
   "metadata": {},
   "outputs": [],
   "source": [
    "fig, axes = plt.subplots(2,3, figsize=(15,10))\n",
    "axes[1][0].set_visible(False)\n",
    "\n",
    "axes[0][0].set_position([0.1,0.33,0.228,0.343])\n",
    "\n",
    "point_size = 0.8\n",
    "point_alpha = 0.7\n",
    "\n",
    "# ns \n",
    "axes[0][0].scatter(shear_table_rs_ns['wmom_band_mag_r'], shear_table_rs_ns['wmom_color_mag_r-i'], \n",
    "           marker='.', s=point_size) # all galaxies  \n",
    "axes[0][0].scatter(shear_table_rs_ns['wmom_band_mag_r'].iloc[idx_ns].iloc[idx2_ns], \n",
    "           shear_table_rs_ns['wmom_band_mag_r'].iloc[idx_ns].iloc[idx2_ns]-shear_table_rs_ns['wmom_band_mag_i'].iloc[idx_ns].iloc[idx2_ns], \n",
    "           marker='.', s=point_size) #red sequence galaxies\n",
    "axes[0][0].set_title(\"ns\")\n",
    "\n",
    "# 1p\n",
    "axes[0][1].scatter(shear_table_rs_1p['wmom_band_mag_r'], shear_table_rs_1p['wmom_color_mag_r-i'], \n",
    "           marker='.', s=point_size) \n",
    "axes[0][1].scatter(shear_table_rs_1p['wmom_band_mag_r'].iloc[idx_1p].iloc[idx2_1p], \n",
    "           shear_table_rs_1p['wmom_band_mag_r'].iloc[idx_1p].iloc[idx2_1p]-shear_table_rs_1p['wmom_band_mag_i'].iloc[idx_1p].iloc[idx2_1p], \n",
    "           marker='.', s=point_size)\n",
    "axes[0][1].set_title(\"1p\")\n",
    "\n",
    "# 1m\n",
    "axes[0][2].scatter(shear_table_rs_1m['wmom_band_mag_r'], shear_table_rs_1m['wmom_color_mag_r-i'], \n",
    "           marker='.', s=point_size) \n",
    "axes[0][2].scatter(shear_table_rs_1m['wmom_band_mag_r'].iloc[idx_1m].iloc[idx2_1m], \n",
    "           shear_table_rs_1m['wmom_band_mag_r'].iloc[idx_1m].iloc[idx2_1m]-shear_table_rs_1m['wmom_band_mag_i'].iloc[idx_1m].iloc[idx2_1m], \n",
    "           marker='.', s=point_size)\n",
    "axes[0][2].set_title(\"1m\")\n",
    "\n",
    "# 2p\n",
    "axes[1][1].scatter(shear_table_rs_2p['wmom_band_mag_r'], shear_table_rs_2p['wmom_color_mag_r-i'], \n",
    "           marker='.', s=point_size) \n",
    "axes[1][1].scatter(shear_table_rs_2p['wmom_band_mag_r'].iloc[idx_2p].iloc[idx2_2p], \n",
    "           shear_table_rs_2p['wmom_band_mag_r'].iloc[idx_2p].iloc[idx2_2p]-shear_table_rs_2p['wmom_band_mag_i'].iloc[idx_2p].iloc[idx2_2p], \n",
    "           marker='.', s=point_size)\n",
    "axes[1][1].set_title(\"2p\")\n",
    "\n",
    "# 2m\n",
    "axes[1][2].scatter(shear_table_rs_2m['wmom_band_mag_r'], shear_table_rs_2m['wmom_color_mag_r-i'], \n",
    "           marker='.', s=point_size) \n",
    "axes[1][2].scatter(shear_table_rs_2m['wmom_band_mag_r'].iloc[idx_2m].iloc[idx2_2m], \n",
    "           shear_table_rs_2m['wmom_band_mag_r'].iloc[idx_2m].iloc[idx2_2m]-shear_table_rs_2m['wmom_band_mag_i'].iloc[idx_2m].iloc[idx2_2m], \n",
    "           marker='.', s=point_size)\n",
    "axes[1][2].set_title(\"2m\")\n",
    "\n",
    "# apply formatting to all subplots\n",
    "for ax in fig.axes:\n",
    "    ax.set_ylabel('r-i')\n",
    "    ax.set_xlabel('r')\n",
    "    # ax.set_ylim([-1.5,2.5])\n",
    "    # ax.set_xlim([17,24.5])\n",
    "    # ax.set_ylim([-2,2])\n",
    "    # ax.set_xlim([19,25])\n",
    "    # ax.set_ylim([-0.5,1.0])\n",
    "    # ax.set_xlim([18.5,24])\n",
    "    ax.plot([19,23],[0.4,0.3], color='r', linewidth=0.7)\n",
    "    ax.plot([19,23],[0.6,0.5], color='r', linewidth=0.7)"
   ]
  },
  {
   "cell_type": "markdown",
   "id": "66d75249-6381-4b77-bf0c-697a873c522f",
   "metadata": {},
   "source": [
    "Cut out the RS galaxies identified above."
   ]
  },
  {
   "cell_type": "code",
   "execution_count": null,
   "id": "8343546e-2d46-4652-ba33-cae8bb67e177",
   "metadata": {},
   "outputs": [],
   "source": [
    "shear_table_wl_ns = shear_table_ns[shear_table_ns['deg_sep'] < 0.5] # catalog for RS identification\n",
    "shear_table_wl_1p = shear_table_1p[shear_table_1p['deg_sep'] < 0.5]\n",
    "shear_table_wl_1m = shear_table_1m[shear_table_1m['deg_sep'] < 0.5]\n",
    "shear_table_wl_2p = shear_table_2p[shear_table_2p['deg_sep'] < 0.5]\n",
    "shear_table_wl_2m = shear_table_2m[shear_table_2m['deg_sep'] < 0.5]\n",
    "print(\"Number of rows in ns after applying < 0.1 deg from center: \", len(shear_table_wl_ns))\n",
    "print(\"Number of rows in 1p after applying < 0.1 deg from center: \", len(shear_table_wl_1p))\n",
    "print(\"Number of rows in 1m after applying < 0.1 deg from center: \", len(shear_table_wl_1m))\n",
    "print(\"Number of rows in 2p after applying < 0.1 deg from center: \", len(shear_table_wl_2p))\n",
    "print(\"Number of rows in 2m after applying < 0.1 deg from center: \", len(shear_table_wl_2m))"
   ]
  },
  {
   "cell_type": "code",
   "execution_count": null,
   "id": "195aa3be-af4e-4038-9620-4814272f63c1",
   "metadata": {},
   "outputs": [],
   "source": [
    "rs_hi_ns = 0.6 - (0.1/5.) * (shear_table_wl_ns['wmom_band_mag_r']-19)\n",
    "rs_low_ns = 0.4 - (0.1/5.)* (shear_table_wl_ns['wmom_band_mag_r']-19)\n",
    "color_ns = shear_table_wl_ns['wmom_color_mag_r-i']\n",
    "idx_ns = np.where(np.logical_and(color_ns>rs_low_ns, color_ns<rs_hi_ns))[0]\n",
    "idx2_ns = np.where(shear_table_wl_ns['wmom_band_mag_r'].iloc[idx_ns] < 23)[0] # keep the brightest objects only\n",
    "\n",
    "rs_hi_1p = 0.6 - (0.1/5.) * (shear_table_wl_1p['wmom_band_mag_r']-19)\n",
    "rs_low_1p = 0.4 - (0.1/5.)* (shear_table_wl_1p['wmom_band_mag_r']-19)\n",
    "color_1p = shear_table_wl_1p['wmom_color_mag_r-i']\n",
    "idx_1p = np.where(np.logical_and(color_1p>rs_low_1p, color_1p<rs_hi_1p))[0]\n",
    "idx2_1p = np.where(shear_table_wl_1p['wmom_band_mag_r'].iloc[idx_1p] < 23)[0] # keep the brightest objects only\n",
    "\n",
    "rs_hi_1m = 0.6 - (0.1/5.) * (shear_table_wl_1m['wmom_band_mag_r']-19)\n",
    "rs_low_1m = 0.4 - (0.1/5.)* (shear_table_wl_1m['wmom_band_mag_r']-19)\n",
    "color_1m = shear_table_wl_1m['wmom_color_mag_r-i']\n",
    "idx_1m = np.where(np.logical_and(color_1m>rs_low_1m, color_1m<rs_hi_1m))[0]\n",
    "idx2_1m = np.where(shear_table_wl_1m['wmom_band_mag_r'].iloc[idx_1m] < 23)[0] # keep the brightest objects only\n",
    "\n",
    "rs_hi_2p = 0.6 - (0.1/5.) * (shear_table_wl_2p['wmom_band_mag_r']-19)\n",
    "rs_low_2p = 0.4 - (0.1/5.)* (shear_table_wl_2p['wmom_band_mag_r']-19)\n",
    "color_2p = shear_table_wl_2p['wmom_color_mag_r-i']\n",
    "idx_2p = np.where(np.logical_and(color_2p>rs_low_2p, color_2p<rs_hi_2p))[0]\n",
    "idx2_2p = np.where(shear_table_wl_2p['wmom_band_mag_r'].iloc[idx_2p] < 23)[0] # keep the brightest objects only\n",
    "\n",
    "rs_hi_2m = 0.6 - (0.1/5.) * (shear_table_wl_2m['wmom_band_mag_r']-19)\n",
    "rs_low_2m = 0.4 - (0.1/5.)* (shear_table_wl_2m['wmom_band_mag_r']-19)\n",
    "color_2m = shear_table_wl_2m['wmom_color_mag_r-i']\n",
    "idx_2m = np.where(np.logical_and(color_2m>rs_low_2m, color_2m<rs_hi_2m))[0]\n",
    "idx2_2m = np.where(shear_table_wl_2m['wmom_band_mag_r'].iloc[idx_2m] < 23)[0] # keep the brightest objects only"
   ]
  },
  {
   "cell_type": "code",
   "execution_count": null,
   "id": "01fa10ea-0e23-4f05-9ad7-440dd4b269a5",
   "metadata": {},
   "outputs": [],
   "source": [
    "fig, axes = plt.subplots(2,3, figsize=(15,10))\n",
    "axes[1][0].set_visible(False)\n",
    "\n",
    "axes[0][0].set_position([0.1,0.33,0.228,0.343])\n",
    "\n",
    "point_size = 0.8\n",
    "point_alpha = 0.7\n",
    "\n",
    "# ns \n",
    "axes[0][0].scatter(shear_table_wl_ns['wmom_band_mag_r'], shear_table_wl_ns['wmom_color_mag_r-i'], \n",
    "           marker='.', s=point_size) # all galaxies  \n",
    "axes[0][0].set_title(\"ns\")\n",
    "\n",
    "# 1p\n",
    "axes[0][1].scatter(shear_table_wl_1p['wmom_band_mag_r'], shear_table_wl_1p['wmom_color_mag_r-i'], \n",
    "           marker='.', s=point_size) \n",
    "axes[0][1].set_title(\"1p\")\n",
    "\n",
    "# 1m\n",
    "axes[0][2].scatter(shear_table_wl_1m['wmom_band_mag_r'], shear_table_wl_1m['wmom_color_mag_r-i'], \n",
    "           marker='.', s=point_size) \n",
    "axes[0][2].set_title(\"1m\")\n",
    "\n",
    "# 2p\n",
    "axes[1][1].scatter(shear_table_wl_2p['wmom_band_mag_r'], shear_table_wl_2p['wmom_color_mag_r-i'], \n",
    "           marker='.', s=point_size) \n",
    "axes[1][1].set_title(\"2p\")\n",
    "\n",
    "# 2m\n",
    "axes[1][2].scatter(shear_table_wl_2m['wmom_band_mag_r'], shear_table_wl_2m['wmom_color_mag_r-i'], \n",
    "           marker='.', s=point_size) \n",
    "axes[1][2].set_title(\"2m\")\n",
    "\n",
    "# apply formatting to all subplots\n",
    "for ax in fig.axes:\n",
    "    ax.set_ylabel('r-i')\n",
    "    ax.set_xlabel('r')\n",
    "    ax.set_ylim([-1,2])\n",
    "    ax.set_xlim([15.5,25])\n",
    "    # ax.plot([19,23],[0.4,0.3], color='r', linewidth=0.7)\n",
    "    # ax.plot([19,23],[0.6,0.5], color='r', linewidth=0.7)"
   ]
  },
  {
   "cell_type": "code",
   "execution_count": null,
   "id": "32070e29-5455-4b98-a287-aec77ecb7ca2",
   "metadata": {},
   "outputs": [],
   "source": [
    "fig, axes = plt.subplots(2,3, figsize=(15,10))\n",
    "axes[1][0].set_visible(False)\n",
    "\n",
    "axes[0][0].set_position([0.1,0.33,0.228,0.343])\n",
    "\n",
    "point_size = 0.8\n",
    "point_alpha = 0.7\n",
    "\n",
    "# ns \n",
    "axes[0][0].scatter(shear_table_wl_ns['wmom_band_mag_r'], shear_table_wl_ns['wmom_color_mag_r-i'], \n",
    "           marker='.', s=point_size) # all galaxies  \n",
    "axes[0][0].scatter(shear_table_wl_ns['wmom_band_mag_r'].iloc[idx_ns].iloc[idx2_ns], \n",
    "           shear_table_wl_ns['wmom_band_mag_r'].iloc[idx_ns].iloc[idx2_ns]-shear_table_wl_ns['wmom_band_mag_i'].iloc[idx_ns].iloc[idx2_ns], \n",
    "           marker='.', s=point_size) #red sequence galaxies\n",
    "axes[0][0].set_title(\"ns\")\n",
    "\n",
    "# 1p\n",
    "axes[0][1].scatter(shear_table_wl_1p['wmom_band_mag_r'], shear_table_wl_1p['wmom_color_mag_r-i'], \n",
    "           marker='.', s=point_size) \n",
    "axes[0][1].scatter(shear_table_wl_1p['wmom_band_mag_r'].iloc[idx_1p].iloc[idx2_1p], \n",
    "           shear_table_wl_1p['wmom_band_mag_r'].iloc[idx_1p].iloc[idx2_1p]-shear_table_wl_1p['wmom_band_mag_i'].iloc[idx_1p].iloc[idx2_1p], \n",
    "           marker='.', s=point_size)\n",
    "axes[0][1].set_title(\"1p\")\n",
    "\n",
    "# 1m\n",
    "axes[0][2].scatter(shear_table_wl_1m['wmom_band_mag_r'], shear_table_wl_1m['wmom_color_mag_r-i'], \n",
    "           marker='.', s=point_size) \n",
    "axes[0][2].scatter(shear_table_wl_1m['wmom_band_mag_r'].iloc[idx_1m].iloc[idx2_1m], \n",
    "           shear_table_wl_1m['wmom_band_mag_r'].iloc[idx_1m].iloc[idx2_1m]-shear_table_wl_1m['wmom_band_mag_i'].iloc[idx_1m].iloc[idx2_1m], \n",
    "           marker='.', s=point_size)\n",
    "axes[0][2].set_title(\"1m\")\n",
    "\n",
    "# 2p\n",
    "axes[1][1].scatter(shear_table_wl_2p['wmom_band_mag_r'], shear_table_wl_2p['wmom_color_mag_r-i'], \n",
    "           marker='.', s=point_size) \n",
    "axes[1][1].scatter(shear_table_wl_2p['wmom_band_mag_r'].iloc[idx_2p].iloc[idx2_2p], \n",
    "           shear_table_wl_2p['wmom_band_mag_r'].iloc[idx_2p].iloc[idx2_2p]-shear_table_wl_2p['wmom_band_mag_i'].iloc[idx_2p].iloc[idx2_2p], \n",
    "           marker='.', s=point_size)\n",
    "axes[1][1].set_title(\"2p\")\n",
    "\n",
    "# 2m\n",
    "axes[1][2].scatter(shear_table_wl_2m['wmom_band_mag_r'], shear_table_wl_2m['wmom_color_mag_r-i'], \n",
    "           marker='.', s=point_size) \n",
    "axes[1][2].scatter(shear_table_wl_2m['wmom_band_mag_r'].iloc[idx_2m].iloc[idx2_2m], \n",
    "           shear_table_wl_2m['wmom_band_mag_r'].iloc[idx_2m].iloc[idx2_2m]-shear_table_wl_2m['wmom_band_mag_i'].iloc[idx_2m].iloc[idx2_2m], \n",
    "           marker='.', s=point_size)\n",
    "axes[1][2].set_title(\"2m\")\n",
    "\n",
    "# apply formatting to all subplots\n",
    "for ax in fig.axes:\n",
    "    ax.set_ylabel('r-i')\n",
    "    ax.set_xlabel('r')\n",
    "    ax.set_ylim([-1,2])\n",
    "    ax.set_xlim([15.5,25])\n",
    "    ax.plot([19,23],[0.4,0.3], color='r', linewidth=0.7)\n",
    "    ax.plot([19,23],[0.6,0.5], color='r', linewidth=0.7)"
   ]
  },
  {
   "cell_type": "code",
   "execution_count": null,
   "id": "e797f7b3-7d58-4cb8-bd93-bd7bf5465a13",
   "metadata": {},
   "outputs": [],
   "source": [
    "RS_id_list_ns = shear_table_wl_ns['id'].iloc[idx_ns].iloc[idx2_ns]\n",
    "RS_id_list_1p = shear_table_wl_1p['id'].iloc[idx_1p].iloc[idx2_1p]\n",
    "RS_id_list_1m = shear_table_wl_1m['id'].iloc[idx_1m].iloc[idx2_1m]\n",
    "RS_id_list_2p = shear_table_wl_2p['id'].iloc[idx_2p].iloc[idx2_2p]\n",
    "RS_id_list_2m = shear_table_wl_2m['id'].iloc[idx_2m].iloc[idx2_2m]"
   ]
  },
  {
   "cell_type": "code",
   "execution_count": null,
   "id": "a8505b71-3d93-405b-b572-1abbdc5766bb",
   "metadata": {},
   "outputs": [],
   "source": [
    "print(len(RS_id_list_ns))\n",
    "print(len(RS_id_list_1p))\n",
    "print(len(RS_id_list_1m))\n",
    "print(len(RS_id_list_2p))\n",
    "print(len(RS_id_list_2m))"
   ]
  },
  {
   "cell_type": "code",
   "execution_count": null,
   "id": "428d70c3-9114-492d-acad-a80390c66835",
   "metadata": {},
   "outputs": [],
   "source": [
    "# Filter out rows where the 'dataid' column matches any value in RS_id_list\n",
    "shear_table_wl_ns = shear_table_wl_ns[~shear_table_wl_ns['id'].isin(RS_id_list_ns)]\n",
    "shear_table_wl_1p = shear_table_wl_1p[~shear_table_wl_1p['id'].isin(RS_id_list_1p)]\n",
    "shear_table_wl_1m = shear_table_wl_1m[~shear_table_wl_1m['id'].isin(RS_id_list_1m)]\n",
    "shear_table_wl_2p = shear_table_wl_2p[~shear_table_wl_2p['id'].isin(RS_id_list_2p)]\n",
    "shear_table_wl_2m = shear_table_wl_2m[~shear_table_wl_2m['id'].isin(RS_id_list_2m)]"
   ]
  },
  {
   "cell_type": "code",
   "execution_count": null,
   "id": "355f6597-66a9-4428-8f23-453067ac07bc",
   "metadata": {},
   "outputs": [],
   "source": [
    "print(len(shear_table_wl_ns))\n",
    "print(len(shear_table_wl_1p))\n",
    "print(len(shear_table_wl_1m))\n",
    "print(len(shear_table_wl_2p))\n",
    "print(len(shear_table_wl_2m))"
   ]
  },
  {
   "cell_type": "code",
   "execution_count": null,
   "id": "69689ea8-a074-4257-b850-485305dc2914",
   "metadata": {},
   "outputs": [],
   "source": [
    "fig, axes = plt.subplots(2,3, figsize=(15,10))\n",
    "axes[1][0].set_visible(False)\n",
    "\n",
    "axes[0][0].set_position([0.1,0.33,0.228,0.343])\n",
    "\n",
    "point_size = 0.8\n",
    "point_alpha = 0.7\n",
    "\n",
    "# ns \n",
    "axes[0][0].scatter(shear_table_wl_ns['wmom_band_mag_r'], shear_table_wl_ns['wmom_color_mag_r-i'], \n",
    "           marker='.', s=0.2) # all galaxies\n",
    "axes[0][0].set_title(\"ns\")\n",
    "\n",
    "# 1p\n",
    "axes[0][1].scatter(shear_table_wl_1p['wmom_band_mag_r'], shear_table_wl_1p['wmom_color_mag_r-i'], \n",
    "           marker='.', s=0.2)\n",
    "axes[0][1].set_title(\"1p\")\n",
    "\n",
    "# 1m\n",
    "axes[0][2].scatter(shear_table_wl_1m['wmom_band_mag_r'], shear_table_wl_1m['wmom_color_mag_r-i'], \n",
    "           marker='.', s=0.2)\n",
    "axes[0][2].set_title(\"1m\")\n",
    "\n",
    "# 2p\n",
    "axes[1][1].scatter(shear_table_wl_2p['wmom_band_mag_r'], shear_table_wl_2p['wmom_color_mag_r-i'], \n",
    "           marker='.', s=0.2)\n",
    "axes[1][1].set_title(\"2p\")\n",
    "\n",
    "# 2m\n",
    "axes[1][2].scatter(shear_table_wl_2m['wmom_band_mag_r'], shear_table_wl_2m['wmom_color_mag_r-i'], \n",
    "           marker='.', s=0.2) \n",
    "axes[1][2].set_title(\"2m\")\n",
    "\n",
    "# apply formatting to all subplots\n",
    "for ax in fig.axes:\n",
    "    ax.set_ylabel('r-i')\n",
    "    ax.set_xlabel('r')\n",
    "    ax.set_ylim([-1,2])\n",
    "    ax.set_xlim([15.5,25])"
   ]
  },
  {
   "cell_type": "code",
   "execution_count": null,
   "id": "726c13db-bde6-40b5-a2e5-93f0121a79ec",
   "metadata": {},
   "outputs": [],
   "source": [
    "ra = shear_table_wl_ns['ra']\n",
    "dec = shear_table_wl_ns['dec']\n",
    "e1 = shear_table_wl_ns['wmom_g_1']\n",
    "e2 = shear_table_wl_ns['wmom_g_2']\n",
    "# e_err = shear_table_wl['i_hsmShapeRegauss_sigma']"
   ]
  },
  {
   "cell_type": "code",
   "execution_count": null,
   "id": "8bce9320-2291-4ca9-9995-ae5a6d427838",
   "metadata": {},
   "outputs": [],
   "source": [
    "len(ra)"
   ]
  },
  {
   "cell_type": "code",
   "execution_count": null,
   "id": "c404e3dd-0d34-4ca1-8458-7777996f2da8",
   "metadata": {},
   "outputs": [],
   "source": [
    "plt.scatter(ra, dec, marker='.', s=0.2)\n",
    "plt.scatter([ra_bcg], [dec_bcg], marker='+', s=100, color='orange')"
   ]
  },
  {
   "cell_type": "markdown",
   "id": "d4d420bc-10d1-4b7e-bdea-e22d9c0a5aec",
   "metadata": {},
   "source": [
    "### Check lines of overdensity\n",
    "\n",
    "Lines of overdensity: imperfect overlap of objects between patches/tracts.\n",
    "\n",
    "(Outdated, but code might be useful later)"
   ]
  },
  {
   "cell_type": "code",
   "execution_count": null,
   "id": "39d1290a-0d1c-40f9-9ec6-c466a4082603",
   "metadata": {},
   "outputs": [],
   "source": [
    "# patch_list = []\n",
    "\n",
    "# for ref in butler.registry.queryDatasets('deepCoaddCell', collections=cell_collection, band='i'):\n",
    "#     patch_list.append(butler.query_datasets('deepCoaddCell', \n",
    "#                                                  collections=cell_collection,\n",
    "#                                                  skymap = 'lsst_cells_v1',\n",
    "#                                                  band = 'i',\n",
    "#                                                  tract=ref.dataId['tract'],\n",
    "#                                                  patch=ref.dataId['patch'])[0])"
   ]
  },
  {
   "cell_type": "code",
   "execution_count": null,
   "id": "70667379-6c86-43e1-81eb-062063beecc5",
   "metadata": {},
   "outputs": [],
   "source": [
    "# segs = []\n",
    "\n",
    "# for ref in patch_list:\n",
    "    \n",
    "#     coadd = butler.get('deepCoaddCell',\n",
    "#                       collections=cell_collection,\n",
    "#                       skymap = 'lsst_cells_v1',\n",
    "#                       band = 'i',\n",
    "#                       tract=ref.dataId['tract'],\n",
    "#                       patch=ref.dataId['patch'])\n",
    "\n",
    "#     wcs = coadd.wcs\n",
    "#     bbox = coadd.inner_bbox\n",
    "\n",
    "#     coadd_corners = coadd.inner_bbox.getCorners()\n",
    "\n",
    "#     for index, corner in enumerate(coadd_corners):\n",
    "#         corner_coord_start = wcs.pixelToSky(corner.getX(), corner.getY())\n",
    "#         if index < 3:\n",
    "#             corner_coord_end = wcs.pixelToSky(coadd_corners[index+1].getX(), coadd_corners[index+1].getY())\n",
    "#         else:\n",
    "#             corner_coord_end = wcs.pixelToSky(coadd_corners[0].getX(), coadd_corners[0].getY())\n",
    "    \n",
    "#         start_ra = corner_coord_start[0].asDegrees()\n",
    "#         start_dec = corner_coord_start[1].asDegrees()\n",
    "    \n",
    "#         end_ra = corner_coord_end[0].asDegrees()\n",
    "#         end_dec = corner_coord_end[1].asDegrees()\n",
    "\n",
    "#         segs.append(((start_ra, start_dec), (end_ra, end_dec)))\n",
    "\n",
    "#     del coadd\n",
    "#     gc.collect()"
   ]
  },
  {
   "cell_type": "code",
   "execution_count": null,
   "id": "a3dd7208-52d5-446c-b2eb-fe760a9c5c96",
   "metadata": {},
   "outputs": [],
   "source": [
    "# plt.scatter(ra, dec, marker='.', s=0.2)\n",
    "# plt.scatter([ra_bcg], [dec_bcg], marker='+', s=100, color='orange')\n",
    "# for seg in segs:\n",
    "#     plt.plot([seg[0][0], seg[1][0]], [seg[0][1], seg[1][1]], 'r-', alpha=0.4)\n",
    "# plt.show()"
   ]
  },
  {
   "cell_type": "markdown",
   "id": "8525d09b-9230-471b-84a1-b8a1bd20c2f8",
   "metadata": {},
   "source": [
    "### Recombine the shear type catalogs prior to the calibration step"
   ]
  },
  {
   "cell_type": "code",
   "execution_count": null,
   "id": "ad580939-18e9-41e4-ae5f-2e4b741b0079",
   "metadata": {},
   "outputs": [],
   "source": [
    "shear_table_wl = pd.concat([shear_table_wl_ns, shear_table_wl_1p, shear_table_wl_1m, shear_table_wl_2p, shear_table_wl_2m])"
   ]
  },
  {
   "cell_type": "markdown",
   "id": "1d24d1cb-7e7e-4526-b355-967802a82c1f",
   "metadata": {},
   "source": [
    "# Looking at shear outputs"
   ]
  },
  {
   "cell_type": "markdown",
   "id": "c00bf5b1-764c-4c4c-9e8e-e8208089a474",
   "metadata": {},
   "source": [
    "## Check g1/g2 and PSF ellipticities"
   ]
  },
  {
   "cell_type": "markdown",
   "id": "b3914f12-1fcb-44e6-8ea9-0fdbc58c2f46",
   "metadata": {},
   "source": [
    "Check that the PSF and object ellipticities average to ~0"
   ]
  },
  {
   "cell_type": "code",
   "execution_count": null,
   "id": "33f7e861-2d3d-4947-83db-f694a1140178",
   "metadata": {},
   "outputs": [],
   "source": [
    "# print mean values\n",
    "print(\"Mean of psfrec_g_1: \", shear_table['psfrec_g_1'].median())\n",
    "print(\"Mean of psfrec_g_2: \", shear_table['psfrec_g_2'].median())\n",
    "print(\"Mean of wmom_g_1: \", shear_table['wmom_g_1'].median())\n",
    "print(\"Mean of wmom_g_2: \", shear_table['wmom_g_2'].median())"
   ]
  },
  {
   "cell_type": "code",
   "execution_count": null,
   "id": "49f4a1f0-495e-4638-b968-5e722eedd31b",
   "metadata": {},
   "outputs": [],
   "source": [
    "n_bins = 50\n",
    "\n",
    "fig, axs = plt.subplots(1, 4, sharey=True, tight_layout=True)\n",
    "\n",
    "axs[0].hist(shear_table['psfrec_g_1'], bins=n_bins)\n",
    "axs[0].set_title('psfrec_g_1')\n",
    "axs[1].hist(shear_table['psfrec_g_2'], bins=n_bins)\n",
    "axs[1].set_title('psfrec_g_2')\n",
    "axs[2].hist(shear_table['wmom_g_1'], bins=n_bins)\n",
    "axs[2].set_title('wmom_g_1')\n",
    "axs[3].hist(shear_table['wmom_g_2'], bins=n_bins)\n",
    "axs[3].set_title('wmom_g_2')\n",
    "\n",
    "fig.suptitle(\"Distribution of ellipticities for PSF and WMOM\")\n",
    "\n",
    "plt.show()"
   ]
  },
  {
   "cell_type": "code",
   "execution_count": null,
   "id": "424dd655-16d7-408c-9929-98d09d47500f",
   "metadata": {},
   "outputs": [],
   "source": [
    "n_bins = 50\n",
    "\n",
    "fig, axs = plt.subplots(1, 4, sharey=True, tight_layout=True)\n",
    "\n",
    "axs[0].hist(shear_table['psfrec_g_1'], bins=n_bins)\n",
    "axs[0].set_yscale('log')\n",
    "axs[0].set_title('psfrec_g_1')\n",
    "axs[1].hist(shear_table['psfrec_g_2'], bins=n_bins)\n",
    "axs[1].set_title('psfrec_g_2')\n",
    "axs[1].set_yscale('log')\n",
    "axs[2].hist(shear_table['wmom_g_1'], bins=n_bins)\n",
    "axs[2].set_title('wmom_g_1')\n",
    "axs[2].set_yscale('log')\n",
    "axs[3].hist(shear_table['wmom_g_2'], bins=n_bins)\n",
    "axs[3].set_title('wmom_g_2')\n",
    "axs[3].set_yscale('log')\n",
    "\n",
    "fig.suptitle(\"Distribution of ellipticities for PSF and WMOM\")\n",
    "\n",
    "plt.show()"
   ]
  },
  {
   "cell_type": "markdown",
   "id": "78b1c90f-1eec-41f1-ba63-1252aa489c3e",
   "metadata": {},
   "source": [
    "PSG g1 appears less biased than last time, though is still pretty obiously biased. (Previously, 1 band with 4 whole tracts, had -0.25.). However, this does not seem to present a problem with the shape measurements."
   ]
  },
  {
   "cell_type": "markdown",
   "id": "fca0dc24-cfe9-4797-b9cc-023c07bfffd6",
   "metadata": {},
   "source": [
    "## Determining tangential & cross shear"
   ]
  },
  {
   "cell_type": "code",
   "execution_count": null,
   "id": "2169b97a-80fe-44e9-8f47-acd18bd346fc",
   "metadata": {},
   "outputs": [],
   "source": [
    "# imports and definitions\n",
    "from numpy.linalg import inv\n",
    "import scipy.integrate as integrate\n",
    "from matplotlib import cm\n",
    "\n",
    "import clmm\n",
    "from clmm import GalaxyCluster, ClusterEnsemble, GCData, Cosmology\n",
    "from clmm import Cosmology, utils\n",
    "\n",
    "cosmo = clmm.Cosmology(H0=70.0, Omega_dm0=0.3 - 0.045, Omega_b0=0.045, Omega_k0=0.0)\n",
    "\n",
    "# Radial binning, either in Mpc or degrees\n",
    "bins_mpc = clmm.make_bins(0.7,5,nbins=5, method='evenlog10width')\n",
    "bins_deg = clmm.make_bins(0.1,0.5,nbins=5, method='evenlog10width')\n",
    "\n",
    "bin_mid_mpc = [(0.5 * (bins_mpc[i] + bins_mpc[i+1])) for i in range(len(bins_mpc)-1)]\n",
    "\n",
    "# polar angle of source galaxy relative to BCG\n",
    "# from -pi to pi\n",
    "shear_table_wl_ns['phi'] = np.arctan2(shear_table_wl_ns['dec'] - dec_bcg, (ra_bcg - shear_table_wl_ns['ra'])*np.cos(np.deg2rad(dec_bcg)))\n",
    "shear_table_wl_1p['phi'] = np.arctan2(shear_table_wl_1p['dec'] - dec_bcg, (ra_bcg - shear_table_wl_1p['ra'])*np.cos(np.deg2rad(dec_bcg)))\n",
    "shear_table_wl_1m['phi'] = np.arctan2(shear_table_wl_1m['dec'] - dec_bcg, (ra_bcg - shear_table_wl_1m['ra'])*np.cos(np.deg2rad(dec_bcg)))\n",
    "shear_table_wl_2p['phi'] = np.arctan2(shear_table_wl_2p['dec'] - dec_bcg, (ra_bcg - shear_table_wl_2p['ra'])*np.cos(np.deg2rad(dec_bcg)))\n",
    "shear_table_wl_2m['phi'] = np.arctan2(shear_table_wl_2m['dec'] - dec_bcg, (ra_bcg - shear_table_wl_2m['ra'])*np.cos(np.deg2rad(dec_bcg)))\n",
    "\n",
    "shear_diff = 0.02"
   ]
  },
  {
   "cell_type": "markdown",
   "id": "8f360275-c3cf-4e0d-8c0c-17024832c251",
   "metadata": {},
   "source": [
    "Definitions of tangential and cross shear used:\n",
    "$$ \\gamma_t = -\\gamma_1\\cos(2\\phi)-\\gamma_2\\sin(2\\phi) $$\n",
    "$$ \\gamma_\\times = \\gamma_1\\sin(2\\phi)-\\gamma_2\\cos(2\\phi) $$"
   ]
  },
  {
   "cell_type": "markdown",
   "id": "b45192b6-ff2b-41a1-aa0c-91c84177ea3a",
   "metadata": {},
   "source": [
    "### Individual Phi\n",
    "\n",
    "This section will attempt to measure $\\gamma_t$ and $\\gamma_\\times$ by:\n",
    "- Calculate individual $\\phi$ for each galaxy\n",
    "- Calculate $\\gamma_t$ and $\\gamma_\\times$ for each galaxy\n",
    "- Calculate the response R from all galaxies, no binning\n",
    "- Apply R to averaged / binned $\\gamma_t,\\gamma_\\times$\n",
    "\n",
    "Can R, with artificial shear applied on `g1/g2`, be applied to $\\gamma_t,\\gamma_\\times$?"
   ]
  },
  {
   "cell_type": "code",
   "execution_count": null,
   "id": "e83ee866-a42b-48df-b921-0188d55afc0d",
   "metadata": {},
   "outputs": [],
   "source": [
    "p1_mean = shear_table_wl_1p['wmom_g_1'].mean()\n",
    "m1_mean = shear_table_wl_1m['wmom_g_1'].mean()\n",
    "p2_mean = shear_table_wl_2p['wmom_g_2'].mean()\n",
    "m2_mean = shear_table_wl_2m['wmom_g_2'].mean()\n",
    "\n",
    "r_matrix = [[0, 0],[0, 0]]\n",
    "\n",
    "r_matrix[0][0] = (p1_mean - m1_mean) / shear_diff # this should be right\n",
    "# r_matrix[0][1] = (p2_mean - m2_mean) / shear_diff # ignore?\n",
    "# r_matrix[1][0] = (p1_mean - m1_mean) / shear_diff # ignore?\n",
    "r_matrix[1][1] = (p2_mean - m2_mean) / shear_diff # and this should be right\n",
    "\n",
    "r_matrix_inv = inv(r_matrix)"
   ]
  },
  {
   "cell_type": "code",
   "execution_count": null,
   "id": "6f467299-896e-4ae4-8496-3f4743b36e02",
   "metadata": {},
   "outputs": [],
   "source": [
    "# calculate tangential / cross shear components for each galaxy\n",
    "shear_table_wl_ns['shear_t'] = -shear_table_wl_ns['wmom_g_1'] * np.cos(2*shear_table_wl_ns['phi']) \\\n",
    "                                - shear_table_wl_ns['wmom_g_2'] * np.sin(2*shear_table_wl_ns['phi'])\n",
    "shear_table_wl_ns['shear_x'] = shear_table_wl_ns['wmom_g_1'] * np.sin(2*shear_table_wl_ns['phi']) \\\n",
    "                                - shear_table_wl_ns['wmom_g_2'] * np.cos(2*shear_table_wl_ns['phi'])"
   ]
  },
  {
   "cell_type": "code",
   "execution_count": null,
   "id": "859e89ef-6022-4189-99e0-509c0f513d1b",
   "metadata": {},
   "outputs": [],
   "source": [
    "# define radial bins\n",
    "dig_rad_bins_ns = np.digitize(shear_table_wl_ns['deg_sep'], bins_deg)"
   ]
  },
  {
   "cell_type": "code",
   "execution_count": null,
   "id": "0438d1be-de33-49d6-89bd-5d2c4b360b7a",
   "metadata": {},
   "outputs": [],
   "source": [
    "# bin tangential and cross shears by radial bins\n",
    "tan_cross_shears = np.zeros([len(bins_deg)-1, 2]) # binned tangential and cross shear\n",
    "\n",
    "for i in range(0, len(bins_deg)-1):\n",
    "    bin_filt_ns = dig_rad_bins_ns == i+1\n",
    "\n",
    "    # print number of galaxies in each bin\n",
    "    print(\"Rows in bin \", i, \" :\", len(shear_table_wl_ns['shear_t'][bin_filt_ns]))\n",
    "\n",
    "    # calulcate mean t and x shears\n",
    "    mean_t_shear = shear_table_wl_ns['shear_t'][bin_filt_ns].mean() # mean g1\n",
    "    mean_x_shear = shear_table_wl_ns['shear_x'][bin_filt_ns].mean() # mean g2\n",
    "\n",
    "    # apply calibration \n",
    "    shear_cal = r_matrix_inv.dot([mean_t_shear, mean_x_shear])\n",
    "\n",
    "    tan_cross_shears[i] = shear_cal"
   ]
  },
  {
   "cell_type": "code",
   "execution_count": null,
   "id": "b57b7e41-0f31-4e17-a7ac-fe0f8082946d",
   "metadata": {},
   "outputs": [],
   "source": [
    "fig, axes = plt.subplots(1,1, figsize=(6,6))\n",
    "\n",
    "point_size = 40\n",
    "point_alpha = 1\n",
    "\n",
    "# g1 calibrated\n",
    "axes.scatter(bin_mid_mpc, tan_cross_shears[:,0],\n",
    "             marker='.', s=point_size, label='tangential shear')\n",
    "axes.plot(bin_mid_mpc, tan_cross_shears[:,0], '-o')\n",
    "\n",
    "axes.scatter(bin_mid_mpc, tan_cross_shears[:,1],\n",
    "             marker='.', s=point_size, label='cross shear')\n",
    "axes.plot(bin_mid_mpc, tan_cross_shears[:,1], '-o')\n",
    "\n",
    "# axes.set_ylim(-1, 1)\n",
    "\n",
    "axes.set_ylabel(\"reduced shear\")\n",
    "axes.set_xlabel(\"distance from BCG in Mpc\")\n",
    "\n",
    "axes.legend(loc=\"upper right\")\n",
    "plt.axhline(0.0, color='k', ls=':')\n",
    "\n",
    "plt.show()"
   ]
  },
  {
   "cell_type": "markdown",
   "id": "6ab47808-8b17-41e3-9a2c-0ee406c380cd",
   "metadata": {},
   "source": [
    "The attempts at measuring the reduced shear below in the remaining sections are more experimental."
   ]
  },
  {
   "cell_type": "markdown",
   "id": "3da5bc0c-d86f-4319-aa30-2bf3f8ab5130",
   "metadata": {},
   "source": [
    "### Radial and Polar Angle Binning with a Global R\n",
    "\n",
    "This section will attempt to measure $\\gamma_t$ and $\\gamma_\\times$ by:\n",
    "- **Calculate the response R from all galaxies, no binning**\n",
    "- Binning galaxies by radial distance of BCG\n",
    "- Additionally binning galaxies by polar angle $\\phi$, relative to the BCG\n",
    "- Apply calculated R to the averaged $g_1$ and $g_2$ of each bin to calibrate shears\n",
    "- Calculate average $\\gamma_t$ and $\\gamma_\\times$ for each bin"
   ]
  },
  {
   "cell_type": "code",
   "execution_count": null,
   "id": "ee4fd289-5b4d-4887-b94f-96292411fbe6",
   "metadata": {},
   "outputs": [],
   "source": [
    "p1_mean = shear_table_wl_1p['wmom_g_1'].mean()\n",
    "m1_mean = shear_table_wl_1m['wmom_g_1'].mean()\n",
    "p2_mean = shear_table_wl_2p['wmom_g_2'].mean()\n",
    "m2_mean = shear_table_wl_2m['wmom_g_2'].mean()"
   ]
  },
  {
   "cell_type": "code",
   "execution_count": null,
   "id": "36eb3535-efef-4e46-9ed6-6c9fe5573f53",
   "metadata": {},
   "outputs": [],
   "source": [
    "r_matrix = [[0, 0],[0, 0]]\n",
    "\n",
    "r_matrix[0][0] = (p1_mean - m1_mean) / shear_diff # this should be right\n",
    "# r_matrix[0][1] = (p2_mean - m2_mean) / shear_diff # ignore?\n",
    "# r_matrix[1][0] = (p1_mean - m1_mean) / shear_diff # ignore?\n",
    "r_matrix[1][1] = (p2_mean - m2_mean) / shear_diff # and this should be right"
   ]
  },
  {
   "cell_type": "code",
   "execution_count": null,
   "id": "a7ac217d-81f3-479f-ae44-86a5056288b6",
   "metadata": {},
   "outputs": [],
   "source": [
    "r_matrix_inv = inv(r_matrix)"
   ]
  },
  {
   "cell_type": "code",
   "execution_count": null,
   "id": "315129b8-a91c-42b4-a640-e77bb78f1555",
   "metadata": {},
   "outputs": [],
   "source": [
    "# -pi to pi in increments of pi/3, in radians\n",
    "phi_bins = np.linspace(-np.pi, np.pi, num=5) # needs to be an odd number"
   ]
  },
  {
   "cell_type": "code",
   "execution_count": null,
   "id": "3e18bd45-ca6c-4410-9f28-19873fbb5992",
   "metadata": {},
   "outputs": [],
   "source": [
    "# bin the rows for each shear type catalog\n",
    "dig_rad_bins_ns = np.digitize(shear_table_wl_ns['deg_sep'], bins_deg)\n",
    "dig_phi_bins_ns = np.digitize(shear_table_wl_ns['phi'], phi_bins)\n",
    "\n",
    "dig_rad_bins_1p = np.digitize(shear_table_wl_1p['deg_sep'], bins_deg)\n",
    "dig_phi_bins_1p = np.digitize(shear_table_wl_1p['phi'], phi_bins)\n",
    "\n",
    "dig_rad_bins_1m = np.digitize(shear_table_wl_1m['deg_sep'], bins_deg)\n",
    "dig_phi_bins_1m = np.digitize(shear_table_wl_1m['phi'], phi_bins)\n",
    "\n",
    "dig_rad_bins_2p = np.digitize(shear_table_wl_2p['deg_sep'], bins_deg)\n",
    "dig_phi_bins_2p = np.digitize(shear_table_wl_2p['phi'], phi_bins)\n",
    "\n",
    "dig_rad_bins_2m = np.digitize(shear_table_wl_2m['deg_sep'], bins_deg)\n",
    "dig_phi_bins_2m = np.digitize(shear_table_wl_2m['phi'], phi_bins)"
   ]
  },
  {
   "cell_type": "code",
   "execution_count": null,
   "id": "605176f9-6df0-407f-907a-ad2885118154",
   "metadata": {},
   "outputs": [],
   "source": [
    "len(phi_bins)"
   ]
  },
  {
   "cell_type": "code",
   "execution_count": null,
   "id": "44c987d4-0e61-45cc-b982-5e2efb6ab88c",
   "metadata": {},
   "outputs": [],
   "source": [
    "gs = np.zeros([len(bins_deg)-1, len(phi_bins)-1, 2]) # indexing is theta, phi, then g1/g2 index\n",
    "gs_cal = np.zeros([len(bins_deg)-1, len(phi_bins)-1, 2]) # calibrated g1/g2s\n",
    "tan_cross_shears = np.zeros([len(bins_deg)-1, len(phi_bins)-1, 2]) # binned tangential and cross shear\n",
    "\n",
    "for i in range(0, len(bins_deg)-1):\n",
    "    for j in range(0, len(phi_bins)-1):\n",
    "        bin_filt_ns = dig_rad_bins_ns == i+1\n",
    "        bin_filt_ns &= dig_phi_bins_ns == j+1\n",
    "        \n",
    "        gs[i][j][0] = shear_table_wl_ns['wmom_g_1'][bin_filt_ns].mean() # mean g1\n",
    "        gs[i][j][1] = shear_table_wl_ns['wmom_g_2'][bin_filt_ns].mean() # mean g2\n",
    "\n",
    "        g_cal = r_matrix_inv.dot(gs[i][j])\n",
    "\n",
    "        gs_cal[i][j][0] = g_cal[0]\n",
    "        gs_cal[i][j][1] = g_cal[1]\n",
    "\n",
    "        mean_phi = shear_table_wl_ns['phi'][bin_filt_ns].mean()\n",
    "\n",
    "        tan_cross_shears[i][j][0] = -g_cal[0] * np.cos(2*mean_phi) - g_cal[1] * np.sin(2*mean_phi)\n",
    "        tan_cross_shears[i][j][1] = g_cal[0] * np.sin(2*mean_phi) - g_cal[1] * np.cos(2*mean_phi)"
   ]
  },
  {
   "cell_type": "code",
   "execution_count": null,
   "id": "66580225-11de-4ad0-a0df-58d27643bedf",
   "metadata": {},
   "outputs": [],
   "source": [
    "len(phi_bins)-1"
   ]
  },
  {
   "cell_type": "code",
   "execution_count": null,
   "id": "a5d8f6b5-7e2c-4e71-9bc1-7d72971d340a",
   "metadata": {},
   "outputs": [],
   "source": [
    "# average over each phi bin for each radial bin\n",
    "tan_mean_shears = np.zeros([len(bins_deg)-1])\n",
    "cross_mean_shears = np.zeros([len(bins_deg)-1])\n",
    "\n",
    "for i in range(0, len(bins_deg)-1):\n",
    "    tan_temp = 0\n",
    "    cross_temp = 0\n",
    "    for j in range(0, len(phi_bins)-1):\n",
    "        tan_temp += tan_cross_shears[i][j][0]\n",
    "        cross_temp += tan_cross_shears[i][j][1]\n",
    "    tan_mean_shears[i] = tan_temp / (len(phi_bins)-1)\n",
    "    cross_mean_shears[i] = cross_temp / (len(phi_bins)-1)"
   ]
  },
  {
   "cell_type": "code",
   "execution_count": null,
   "id": "05a5e04b-1991-4a59-9ed8-993e24dea6fe",
   "metadata": {},
   "outputs": [],
   "source": [
    "fig, axes = plt.subplots(1,1, figsize=(6,6))\n",
    "\n",
    "point_size = 40\n",
    "point_alpha = 1\n",
    "\n",
    "# g1 calibrated\n",
    "axes.scatter(bin_mid_mpc, tan_mean_shears, \n",
    "             marker='.', s=point_size, label='tangential shear')\n",
    "\n",
    "axes.scatter(bin_mid_mpc, cross_mean_shears, \n",
    "             marker='.', s=point_size, label='cross shear')\n",
    "\n",
    "# axes.set_ylim(-1, 1)\n",
    "\n",
    "axes.set_ylabel(\"reduced shear\")\n",
    "axes.set_xlabel(\"distance from BCG in Mpc\")\n",
    "\n",
    "axes.legend(loc=\"upper right\")\n",
    "plt.axhline(0.0, color='k', ls=':')\n",
    "\n",
    "plt.show()"
   ]
  },
  {
   "cell_type": "markdown",
   "id": "2bbdf424-1ae2-46ed-862e-3d3aa698de67",
   "metadata": {},
   "source": [
    "### Radial and Polar Angle Binning with R for each radial bin\n",
    "\n",
    "This section will attempt to measure $\\gamma_t$ and $\\gamma_\\times$ by:\n",
    "- Binning galaxies by radial distance of BCG\n",
    "- **Calculate the response R from all galaxies for each radial bin**\n",
    "- Additionally binning galaxies by polar angle $\\phi$, relative to the BCG\n",
    "- Apply calculated R to the averaged $g_1$ and $g_2$ of each bin to calibrate shears\n",
    "- Calculate average $\\gamma_t$ and $\\gamma_\\times$ for each bin"
   ]
  },
  {
   "cell_type": "code",
   "execution_count": null,
   "id": "3db984a4-eb72-4a47-ab81-186ddd21776c",
   "metadata": {},
   "outputs": [],
   "source": [
    "# -pi to pi in increments of pi/3, in radians\n",
    "phi_bins = np.linspace(-np.pi, np.pi, num=5)"
   ]
  },
  {
   "cell_type": "code",
   "execution_count": null,
   "id": "cb5cb77c-2b3f-450b-ac15-0078cdaf16f3",
   "metadata": {},
   "outputs": [],
   "source": [
    "# bin the rows for each shear type catalog\n",
    "dig_rad_bins_ns = np.digitize(shear_table_wl_ns['deg_sep'], bins_deg)\n",
    "dig_phi_bins_ns = np.digitize(shear_table_wl_ns['phi'], phi_bins)\n",
    "\n",
    "dig_rad_bins_1p = np.digitize(shear_table_wl_1p['deg_sep'], bins_deg)\n",
    "dig_phi_bins_1p = np.digitize(shear_table_wl_1p['phi'], phi_bins)\n",
    "\n",
    "dig_rad_bins_1m = np.digitize(shear_table_wl_1m['deg_sep'], bins_deg)\n",
    "dig_phi_bins_1m = np.digitize(shear_table_wl_1m['phi'], phi_bins)\n",
    "\n",
    "dig_rad_bins_2p = np.digitize(shear_table_wl_2p['deg_sep'], bins_deg)\n",
    "dig_phi_bins_2p = np.digitize(shear_table_wl_2p['phi'], phi_bins)\n",
    "\n",
    "dig_rad_bins_2m = np.digitize(shear_table_wl_2m['deg_sep'], bins_deg)\n",
    "dig_phi_bins_2m = np.digitize(shear_table_wl_2m['phi'], phi_bins)"
   ]
  },
  {
   "cell_type": "code",
   "execution_count": null,
   "id": "ca973891-e101-4278-b88d-60ebec6fd96f",
   "metadata": {},
   "outputs": [],
   "source": [
    "len(phi_bins)"
   ]
  },
  {
   "cell_type": "code",
   "execution_count": null,
   "id": "cbd9ce22-ca67-437f-a6bf-78931d62f0da",
   "metadata": {},
   "outputs": [],
   "source": [
    "gs = np.zeros([len(bins_deg)-1, len(phi_bins)-1, 2]) # indexing is theta, phi, then g1/g2 index\n",
    "gs_cal = np.zeros([len(bins_deg)-1, len(phi_bins)-1, 2]) # calibrated g1/g2s\n",
    "tan_cross_shears = np.zeros([len(bins_deg)-1, len(phi_bins)-1, 2]) # binned tangential and cross shear\n",
    "\n",
    "for i in range(0, len(bins_deg)-1):\n",
    "    \n",
    "    # calibrate the g1/g2s for each bin\n",
    "    bin_filt_1p = dig_rad_bins_1p == i+1\n",
    "    p1_mean = shear_table_wl_1p['wmom_g_1'][bin_filt_1p].mean()\n",
    "\n",
    "    bin_filt_1m = dig_rad_bins_1m == i+1\n",
    "    m1_mean = shear_table_wl_1m['wmom_g_1'][bin_filt_1m].mean()\n",
    "\n",
    "    bin_filt_2p = dig_rad_bins_2p == i+1\n",
    "    p2_mean = shear_table_wl_2p['wmom_g_2'][bin_filt_2p].mean()\n",
    "\n",
    "    bin_filt_2m = dig_rad_bins_2m == i+1\n",
    "    m2_mean = shear_table_wl_2m['wmom_g_2'][bin_filt_2m].mean()\n",
    "\n",
    "    # calculate R for the bin\n",
    "    r_matrix = [[0, 0],[0, 0]]\n",
    "    r_matrix[0][0] = (p1_mean - m1_mean) / shear_diff\n",
    "    # r_matrix[0][1] = (p2_mean - m2_mean) / shear_diff # ignore for now\n",
    "    # r_matrix[1][0] = (p1_mean - m1_mean) / shear_diff # ignore for now\n",
    "    r_matrix[1][1] = (p2_mean - m2_mean) / shear_diff\n",
    "\n",
    "    # r11s.append(r_matrix[0][0])\n",
    "    # r22s.append(r_matrix[1][1])\n",
    "\n",
    "    r_matrix_inv = inv(r_matrix)\n",
    "    \n",
    "    for j in range(0, len(phi_bins)-1):\n",
    "        \n",
    "        bin_filt_ns = dig_rad_bins_ns == i+1\n",
    "        bin_filt_ns &= dig_phi_bins_ns == j+1\n",
    "        \n",
    "        gs[i][j][0] = shear_table_wl_ns['wmom_g_1'][bin_filt_ns].mean() # mean g1\n",
    "        gs[i][j][1] = shear_table_wl_ns['wmom_g_2'][bin_filt_ns].mean() # mean g2\n",
    "\n",
    "        g_cal = r_matrix_inv.dot(gs[i][j])\n",
    "\n",
    "        gs_cal[i][j][0] = g_cal[0]\n",
    "        gs_cal[i][j][1] = g_cal[1]\n",
    "\n",
    "        mean_phi = shear_table_wl_ns['phi'][bin_filt_ns].mean()\n",
    "\n",
    "        tan_cross_shears[i][j][0] = -g_cal[0] * np.cos(2*mean_phi) - g_cal[1] * np.sin(2*mean_phi)\n",
    "        tan_cross_shears[i][j][1] = g_cal[0] * np.sin(2*mean_phi) - g_cal[1] * np.cos(2*mean_phi)"
   ]
  },
  {
   "cell_type": "code",
   "execution_count": null,
   "id": "115fa22b-2f71-4ad2-a299-b904dc16d38a",
   "metadata": {},
   "outputs": [],
   "source": [
    "# average over each phi bin for each radial bin\n",
    "\n",
    "tan_mean_shears = np.zeros([len(bins_deg)-1])\n",
    "cross_mean_shears = np.zeros([len(bins_deg)-1])\n",
    "\n",
    "for i in range(0, len(bins_deg)-1):\n",
    "    tan_temp = 0\n",
    "    cross_temp = 0\n",
    "    for j in range(0, len(phi_bins)-1):\n",
    "        tan_temp += tan_cross_shears[i][j][0]\n",
    "        cross_temp += tan_cross_shears[i][j][1]\n",
    "    tan_mean_shears[i] = tan_temp / (len(phi_bins)-1)\n",
    "    cross_mean_shears[i] = cross_temp / (len(phi_bins)-1)"
   ]
  },
  {
   "cell_type": "code",
   "execution_count": null,
   "id": "66c64d53-8c73-466c-8a4f-4d99757d064f",
   "metadata": {},
   "outputs": [],
   "source": [
    "fig, axes = plt.subplots(1,1, figsize=(6,6))\n",
    "\n",
    "point_size = 40\n",
    "point_alpha = 1\n",
    "\n",
    "# g1 calibrated\n",
    "axes.scatter(bin_mid_mpc, tan_mean_shears, \n",
    "             marker='.', s=point_size, label='tangential shear')\n",
    "\n",
    "axes.scatter(bin_mid_mpc, cross_mean_shears, \n",
    "             marker='.', s=point_size, label='cross shear')\n",
    "\n",
    "# axes.set_ylim(-1, 1)\n",
    "\n",
    "axes.set_ylabel(\"reduced shear\")\n",
    "axes.set_xlabel(\"distance from BCG in Mpc\")\n",
    "\n",
    "axes.legend(loc=\"upper right\")\n",
    "plt.axhline(0.0, color='k', ls=':')\n",
    "\n",
    "plt.show()"
   ]
  },
  {
   "cell_type": "markdown",
   "id": "af4528d1-7088-4205-a259-76ba857dbab7",
   "metadata": {},
   "source": [
    "### Radial and Polar Angle Binning with Separate Rs in each bin\n",
    "\n",
    "This section will attempt to measure $\\gamma_t$ and $\\gamma_\\times$ by:\n",
    "- Binning galaxies by radial distance of BCG\n",
    "- Additionally binning galaxies by polar angle $\\phi$, relative to the BCG\n",
    "- Calculate the response R for each individual bin\n",
    "- Apply calculated R to the averaged $g_1$ and $g_2$ of each bin to calibrate shears\n",
    "- Calculate average $\\gamma_t$ and $\\gamma_\\times$ for each bin\n",
    "\n",
    "The usefulness of separating R by both radial and polar bin is TBD. It may be that too many bins will reduce the precision of R from increase in shape noise."
   ]
  },
  {
   "cell_type": "code",
   "execution_count": null,
   "id": "ab17184b-e7c0-49be-972e-c34ed38e7ded",
   "metadata": {},
   "outputs": [],
   "source": [
    "# -pi to pi in increments of pi/3, in radians\n",
    "phi_bins = np.linspace(-np.pi, np.pi, num=5) # num=7"
   ]
  },
  {
   "cell_type": "code",
   "execution_count": null,
   "id": "cb6c67ad-dcaa-4e3e-84fa-5859f67351f2",
   "metadata": {},
   "outputs": [],
   "source": [
    "# bin the rows for each shear type catalog\n",
    "dig_rad_bins_ns = np.digitize(shear_table_wl_ns['deg_sep'], bins_deg)\n",
    "dig_phi_bins_ns = np.digitize(shear_table_wl_ns['phi'], phi_bins)\n",
    "\n",
    "dig_rad_bins_1p = np.digitize(shear_table_wl_1p['deg_sep'], bins_deg)\n",
    "dig_phi_bins_1p = np.digitize(shear_table_wl_1p['phi'], phi_bins)\n",
    "\n",
    "dig_rad_bins_1m = np.digitize(shear_table_wl_1m['deg_sep'], bins_deg)\n",
    "dig_phi_bins_1m = np.digitize(shear_table_wl_1m['phi'], phi_bins)\n",
    "\n",
    "dig_rad_bins_2p = np.digitize(shear_table_wl_2p['deg_sep'], bins_deg)\n",
    "dig_phi_bins_2p = np.digitize(shear_table_wl_2p['phi'], phi_bins)\n",
    "\n",
    "dig_rad_bins_2m = np.digitize(shear_table_wl_2m['deg_sep'], bins_deg)\n",
    "dig_phi_bins_2m = np.digitize(shear_table_wl_2m['phi'], phi_bins)"
   ]
  },
  {
   "cell_type": "code",
   "execution_count": null,
   "id": "9b9c7296-aaaa-4f07-939f-f75282691a16",
   "metadata": {},
   "outputs": [],
   "source": [
    "len(phi_bins)"
   ]
  },
  {
   "cell_type": "code",
   "execution_count": null,
   "id": "c0da4874-5f1c-4d21-9736-5f3a43651e2d",
   "metadata": {},
   "outputs": [],
   "source": [
    "gs = np.zeros([len(bins_deg)-1, len(phi_bins)-1, 2]) # indexing is theta, phi, then g1/g2 index\n",
    "gs_cal = np.zeros([len(bins_deg)-1, len(phi_bins)-1, 2]) # calibrated g1/g2s\n",
    "tan_cross_shears = np.zeros([len(bins_deg)-1, len(phi_bins)-1, 2]) # binned tangential and cross shear\n",
    "\n",
    "for i in range(0, len(bins_deg)-1):\n",
    "    for j in range(0, len(phi_bins)-1):\n",
    "        bin_filt_ns = dig_rad_bins_ns == i+1\n",
    "        bin_filt_ns &= dig_phi_bins_ns == j+1\n",
    "        \n",
    "        gs[i][j][0] = shear_table_wl_ns['wmom_g_1'][bin_filt_ns].mean() # mean g1\n",
    "        gs[i][j][1] = shear_table_wl_ns['wmom_g_2'][bin_filt_ns].mean() # mean g2\n",
    "\n",
    "        # calibrate the g1/g2s for each bin\n",
    "        bin_filt_1p = dig_rad_bins_1p == i+1\n",
    "        bin_filt_1p &= dig_phi_bins_1p == j+1\n",
    "        p1_mean = shear_table_wl_1p['wmom_g_1'][bin_filt_1p].mean()\n",
    "\n",
    "        bin_filt_1m = dig_rad_bins_1m == i+1\n",
    "        bin_filt_1m &= dig_phi_bins_1m == j+1\n",
    "        m1_mean = shear_table_wl_1m['wmom_g_1'][bin_filt_1m].mean()\n",
    "\n",
    "        bin_filt_2p = dig_rad_bins_2p == i+1\n",
    "        bin_filt_2p &= dig_phi_bins_2p == j+1\n",
    "        p2_mean = shear_table_wl_2p['wmom_g_2'][bin_filt_2p].mean()\n",
    "\n",
    "        bin_filt_2m = dig_rad_bins_2m == i+1\n",
    "        bin_filt_2m &= dig_phi_bins_2m == j+1\n",
    "        m2_mean = shear_table_wl_2m['wmom_g_2'][bin_filt_2m].mean()\n",
    "\n",
    "        r_matrix = [[0, 0],[0, 0]]\n",
    "        r_matrix[0][0] = (p1_mean - m1_mean) / shear_diff\n",
    "        # r_matrix[0][1] = (p2_mean - m2_mean) / shear_diff # ignore for now\n",
    "        # r_matrix[1][0] = (p1_mean - m1_mean) / shear_diff # ignore for now\n",
    "        r_matrix[1][1] = (p2_mean - m2_mean) / shear_diff\n",
    "\n",
    "        r_matrix_inv = inv(r_matrix)\n",
    "\n",
    "        g_cal = r_matrix_inv.dot(gs[i][j])\n",
    "\n",
    "        gs_cal[i][j][0] = g_cal[0]\n",
    "        gs_cal[i][j][1] = g_cal[1]\n",
    "\n",
    "        mean_phi = shear_table_wl_ns['phi'][bin_filt_ns].mean()\n",
    "\n",
    "        tan_cross_shears[i][j][0] = -g_cal[0] * np.cos(2*mean_phi) - g_cal[1] * np.sin(2*mean_phi)\n",
    "        tan_cross_shears[i][j][1] = g_cal[0] * np.sin(2*mean_phi) - g_cal[1] * np.cos(2*mean_phi)"
   ]
  },
  {
   "cell_type": "code",
   "execution_count": null,
   "id": "01c16f4d-b7b3-448c-b975-932a0efe5027",
   "metadata": {},
   "outputs": [],
   "source": [
    "# average over each phi bin to get mean shear in the radial bin\n",
    "\n",
    "tan_mean_shears = np.zeros([len(bins_deg)-1])\n",
    "cross_mean_shears = np.zeros([len(bins_deg)-1])\n",
    "\n",
    "for i in range(0, len(bins_deg)-1):\n",
    "    tan_temp = 0\n",
    "    cross_temp = 0\n",
    "    for j in range(0, len(phi_bins)-1):\n",
    "        tan_temp += tan_cross_shears[i][j][0]\n",
    "        cross_temp += tan_cross_shears[i][j][1]\n",
    "    tan_mean_shears[i] = tan_temp / (len(phi_bins)-1)\n",
    "    cross_mean_shears[i] = cross_temp / (len(phi_bins)-1)"
   ]
  },
  {
   "cell_type": "code",
   "execution_count": null,
   "id": "71e11110-1b43-4e89-9330-c4df12c6cfd8",
   "metadata": {},
   "outputs": [],
   "source": [
    "fig, axes = plt.subplots(1,1, figsize=(6,6))\n",
    "\n",
    "point_size = 40\n",
    "point_alpha = 1\n",
    "\n",
    "# g1 calibrated\n",
    "axes.scatter(bin_mid_mpc, tan_mean_shears, \n",
    "             marker='.', s=point_size, label='tangential shear')\n",
    "\n",
    "axes.scatter(bin_mid_mpc, cross_mean_shears, \n",
    "             marker='.', s=point_size, label='cross shear')\n",
    "\n",
    "# axes.set_ylim(-1, 1)\n",
    "\n",
    "axes.set_ylabel(\"reduced shear\")\n",
    "axes.set_xlabel(\"distance from BCG in Mpc\")\n",
    "\n",
    "axes.legend(loc=\"upper right\")\n",
    "plt.axhline(0.0, color='k', ls=':')\n",
    "\n",
    "plt.show()"
   ]
  },
  {
   "cell_type": "markdown",
   "id": "de220dfe-a724-48b6-9835-546ebcef0b15",
   "metadata": {},
   "source": [
    "### CLMM Attempt"
   ]
  },
  {
   "cell_type": "code",
   "execution_count": null,
   "id": "97f75e4a-6133-4286-b8b3-435c36734ee2",
   "metadata": {},
   "outputs": [],
   "source": [
    "# locally install modeling packages\n",
    "# pip install pyccl\n",
    "# pip install clmm"
   ]
  },
  {
   "cell_type": "code",
   "execution_count": null,
   "id": "da5bf997-09cf-4c0f-96da-09680ac9c0e5",
   "metadata": {},
   "outputs": [],
   "source": [
    "# galcat = GCData()\n",
    "# galcat['ra'] = ra_list\n",
    "# galcat['dec'] = dec_list\n",
    "# galcat['e1'] = gamma1s\n",
    "# galcat['e2'] = gamma2s\n",
    "\n",
    "# galcat['z'] = np.zeros(len(ra_list)) # CLMM needs a redshift column for the source, even if not used"
   ]
  },
  {
   "cell_type": "code",
   "execution_count": null,
   "id": "be410aa4-303a-4125-b069-9138aa3c5ebd",
   "metadata": {},
   "outputs": [],
   "source": [
    "# galcat = GCData()\n",
    "# galcat['ra'] = shear_table_ns['ra']\n",
    "# galcat['dec'] = shear_table_ns['dec']\n",
    "# # galcat['e1'] = e1\n",
    "# # galcat['e2'] = e2\n",
    "# galcat['e1'] = shear_table_ns['wmom_g_1']\n",
    "# galcat['e2'] = shear_table_ns['wmom_g_2']\n",
    "# # galcat['e_err'] = e_err/2.  # factor 2 to account for conversion between e and g\n",
    "\n",
    "# galcat['z'] = np.zeros(len(shear_table_ns)) # CLMM needs a redshift column for the source, even if not used"
   ]
  },
  {
   "cell_type": "code",
   "execution_count": null,
   "id": "8c70183b-34b3-4e91-a73b-01935a516acc",
   "metadata": {},
   "outputs": [],
   "source": [
    "# cluster_id = \"Abell 360\"\n",
    "# gc_object1 = clmm.GalaxyCluster(cluster_id, ra_bcg, dec_bcg, 0.22, galcat, coordinate_system='euclidean')"
   ]
  },
  {
   "cell_type": "code",
   "execution_count": null,
   "id": "c333bc97-623a-4139-b247-4b60976c05bc",
   "metadata": {},
   "outputs": [],
   "source": [
    "# gc_object1.compute_tangential_and_cross_components(add=True)"
   ]
  },
  {
   "cell_type": "code",
   "execution_count": null,
   "id": "dc87d2b6-fec2-4777-9238-b6113404dd36",
   "metadata": {},
   "outputs": [],
   "source": [
    "# gc_object1.compute_galaxy_weights(\n",
    "#         shape_component1=\"e1\",\n",
    "#         shape_component2=\"e2\",\n",
    "#         use_shape_error=True,\n",
    "#         shape_component1_err=\"e_err\",\n",
    "#         shape_component2_err=\"e_err\",\n",
    "#         use_shape_noise=True,\n",
    "#         weight_name=\"w_ls\",\n",
    "#         cosmo=cosmo,\n",
    "#         add=True,\n",
    "#     ) \n",
    "\n",
    "# TO-DO find/compute shape errors from metadetect\n",
    "# gc_object1.compute_galaxy_weights(\n",
    "#         shape_component1=\"e1\",\n",
    "#         shape_component2=\"e2\",\n",
    "#         use_shape_error=False,\n",
    "#         use_shape_noise=True,\n",
    "#         weight_name=\"w_ls\",\n",
    "#         cosmo=cosmo,\n",
    "#         add=True,\n",
    "#     )"
   ]
  },
  {
   "cell_type": "code",
   "execution_count": null,
   "id": "efcd13fc-2df3-40e0-b7a7-a0c6bb66c261",
   "metadata": {},
   "outputs": [],
   "source": [
    "# gc_object1.make_radial_profile(bins=bins_mpc, bin_units='Mpc', add=True, cosmo=cosmo, overwrite=True, use_weights=True);\n",
    "# gc_object1.make_radial_profile(bins=bins_mpc, bin_units='Mpc', add=True, cosmo=cosmo, overwrite=True, use_weights=False);"
   ]
  },
  {
   "cell_type": "code",
   "execution_count": null,
   "id": "4517b330-83a2-44c0-a2f9-f02c566eeca1",
   "metadata": {},
   "outputs": [],
   "source": [
    "# Check the profile table\n",
    "# gc_object1.profile"
   ]
  },
  {
   "cell_type": "code",
   "execution_count": null,
   "id": "92bdc21c-481d-4500-9046-3388c70d6085",
   "metadata": {},
   "outputs": [],
   "source": [
    "# moo = clmm.Modeling(massdef=\"mean\", delta_mdef=200, halo_profile_model=\"nfw\")\n",
    "\n",
    "# moo.set_cosmo(cosmo)\n",
    "# moo.set_concentration(4)\n",
    "# moo.set_mass(1.0e15)\n",
    "\n",
    "# z_cl = gc_object1.z\n",
    "\n",
    "# # source properties\n",
    "# # assume sources redshift following a the DESC SRD distribution. This will need updating.\n",
    "\n",
    "# z_distrib_func = utils.redshift_distributions.desc_srd  \n",
    "\n",
    "# # Compute first beta (e.g. eq(6) of WtGIII paper)\n",
    "# beta_kwargs = {\n",
    "#     \"z_cl\": z_cl,\n",
    "#     \"z_inf\": 10.0,\n",
    "#     \"cosmo\": cosmo,\n",
    "#     \"z_distrib_func\": z_distrib_func,\n",
    "# }\n",
    "# beta_s_mean = utils.compute_beta_s_mean_from_distribution(**beta_kwargs)\n",
    "# beta_s_square_mean = utils.compute_beta_s_square_mean_from_distribution(**beta_kwargs)\n",
    "\n",
    "# rproj = np.logspace(np.log10(0.3),np.log10(7.), 100)\n",
    "\n",
    "# gt_z = moo.eval_reduced_tangential_shear(\n",
    "#     rproj, z_cl, [beta_s_mean, beta_s_square_mean], z_src_info=\"beta\", approx=\"order2\"\n",
    "# )"
   ]
  },
  {
   "cell_type": "code",
   "execution_count": null,
   "id": "37ef8ed3-96ce-4e39-b295-b40e36d85c64",
   "metadata": {},
   "outputs": [],
   "source": [
    "# plt.errorbar(gc_object1.profile['radius'], gc_object1.profile['gt'], gc_object1.profile['gt_err'], \n",
    "#              ls='', marker='.', label='tangential')\n",
    "# plt.errorbar(gc_object1.profile['radius']*1.02, gc_object1.profile['gx'], gc_object1.profile['gx_err'], \n",
    "#              ls='', marker='.', label='cross')\n",
    "# plt.plot(rproj, gt_z, label='NFW (model, not fit), M200m=1e15 Msun, c=4, n(z)=SRD', ls=':')\n",
    "\n",
    "# plt.xscale('log')\n",
    "# plt.axhline(0.0, color='k', ls=':')\n",
    "# plt.ylim([-0.03,0.08])\n",
    "# plt.xlim([0.7,7])\n",
    "# plt.yscale('log')\n",
    "# plt.xlabel('R [Mpc]')\n",
    "# plt.ylabel('reduced shear')\n",
    "# plt.legend(loc=1)"
   ]
  },
  {
   "cell_type": "code",
   "execution_count": null,
   "id": "07bdc5a7-8bd1-4582-ae3c-ebaf6d2f9bbe",
   "metadata": {},
   "outputs": [],
   "source": []
  }
 ],
 "metadata": {
  "kernelspec": {
   "display_name": "LSST",
   "language": "python",
   "name": "lsst"
  },
  "language_info": {
   "codemirror_mode": {
    "name": "ipython",
    "version": 3
   },
   "file_extension": ".py",
   "mimetype": "text/x-python",
   "name": "python",
   "nbconvert_exporter": "python",
   "pygments_lexer": "ipython3",
   "version": "3.12.11"
  }
 },
 "nbformat": 4,
 "nbformat_minor": 5
}
