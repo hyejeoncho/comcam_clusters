{
 "cells": [
  {
   "cell_type": "markdown",
   "id": "d7c63e7f-da87-4645-94c4-bb3edddf6c20",
   "metadata": {},
   "source": [
    "# ComCam Quick Start"
   ]
  },
  {
   "cell_type": "markdown",
   "id": "ed552e17-cd10-4036-ae33-007765bea4dc",
   "metadata": {},
   "source": [
    "Contact author: Prakruth Adari\\\n",
    "Last verified to run: 2025-03-05\\\n",
    "LSST Science Piplines version: Weekly 2025_09\\\n",
    "Container Size: medium "
   ]
  },
  {
   "cell_type": "markdown",
   "id": "526b6121-c6eb-49f2-b8b0-3b373eb72a1a",
   "metadata": {},
   "source": [
    "An introduction to working with ComCam data."
   ]
  },
  {
   "cell_type": "code",
   "execution_count": null,
   "id": "d1591625-105d-4bb1-8c4c-8cbc59d67257",
   "metadata": {},
   "outputs": [],
   "source": [
    "!eups list -s | grep lsst_distrib"
   ]
  },
  {
   "cell_type": "code",
   "execution_count": null,
   "id": "e228d01f-886a-4242-b680-2dfd33fb1b6d",
   "metadata": {},
   "outputs": [],
   "source": [
    "import numpy as np\n",
    "import astropy.units as u\n",
    "import matplotlib.pyplot as plt\n",
    "import matplotlib.patches as patches\n",
    "import scipy.stats as stats\n",
    "\n",
    "import pandas as pd\n",
    "from matplotlib import cm\n",
    "from astropy.visualization import make_lupton_rgb\n",
    "from astropy.io import fits\n",
    "from astropy.table import Table\n",
    "# %matplotlib widget"
   ]
  },
  {
   "cell_type": "code",
   "execution_count": null,
   "id": "ec85a8ed-8c12-481b-a1c2-b8cc19be157a",
   "metadata": {},
   "outputs": [],
   "source": [
    "# Familiar stack packages\n",
    "from lsst.daf.butler import Butler\n",
    "from lsst.geom import Box2I, Box2D, Point2I, Point2D, Extent2I, Extent2D\n",
    "from lsst.afw.image import Exposure, Image, PARENT\n",
    "import lsst.sphgeom"
   ]
  },
  {
   "cell_type": "code",
   "execution_count": null,
   "id": "76fd7137-df88-488b-8761-3417713f832e",
   "metadata": {},
   "outputs": [],
   "source": [
    "from lsst.afw.image import MultibandExposure, MultibandImage\n",
    "from lsst.afw.detection import MultibandFootprint\n",
    "from lsst.afw.image import MultibandExposure"
   ]
  },
  {
   "cell_type": "code",
   "execution_count": null,
   "id": "3b787f34-055f-4d39-b6de-e90ac1075199",
   "metadata": {},
   "outputs": [],
   "source": [
    "# from lsst.meas.algorithms import SourceDetectionTask\n",
    "# from lsst.meas.extensions.scarlet import ScarletDeblendTask\n",
    "# from lsst.meas.base import SingleFrameMeasurementTask\n",
    "# from lsst.afw.table import SourceCatalog\n",
    "\n",
    "# import lsst.scarlet.lite as scl\n",
    "# # import scarlet"
   ]
  },
  {
   "cell_type": "code",
   "execution_count": null,
   "id": "629db746-5737-41d0-93aa-352b3c386440",
   "metadata": {},
   "outputs": [],
   "source": [
    "import os, sys"
   ]
  },
  {
   "cell_type": "code",
   "execution_count": null,
   "id": "b3e90941-ab0e-4412-94c0-656243e81833",
   "metadata": {},
   "outputs": [],
   "source": [
    "%matplotlib inline\n",
    "%config InlineBackend.figure_format='retina'"
   ]
  },
  {
   "cell_type": "code",
   "execution_count": null,
   "id": "16ab1ef6-e91c-459b-8724-a50b59ae67f8",
   "metadata": {},
   "outputs": [],
   "source": [
    "pd.set_option('display.max_rows', 20)"
   ]
  },
  {
   "cell_type": "code",
   "execution_count": null,
   "id": "22427bc6-7b24-4f0c-8362-a994f0033a39",
   "metadata": {},
   "outputs": [],
   "source": [
    "rng = np.random.default_rng()"
   ]
  },
  {
   "cell_type": "code",
   "execution_count": null,
   "id": "7d7381e9-801b-4c98-b72f-2d8497b73644",
   "metadata": {},
   "outputs": [],
   "source": [
    "arcsec = 1/60.**2"
   ]
  },
  {
   "cell_type": "code",
   "execution_count": null,
   "id": "8818018d-3a95-4184-91e8-00d856bdbef3",
   "metadata": {},
   "outputs": [],
   "source": [
    "def showRGB(image, bgr=\"gri\", ax=None, fp=None, figsize=(8,8), stretch=1, Q=10):\n",
    "    \"\"\"Display an RGB color composite image with matplotlib.\n",
    "    \n",
    "    Parameters\n",
    "    ----------\n",
    "    image : `MultibandImage`\n",
    "        `MultibandImage` to display.\n",
    "    bgr : sequence\n",
    "        A 3-element sequence of filter names (i.e. keys of the exps dict) indicating what band\n",
    "        to use for each channel. If `image` only has three filters then this parameter is ignored\n",
    "        and the filters in the image are used.\n",
    "    ax : `matplotlib.axes.Axes`\n",
    "        Axis in a `matplotlib.Figure` to display the image.\n",
    "        If `axis` is `None` then a new figure is created.\n",
    "    fp: `lsst.afw.detection.Footprint`\n",
    "        Footprint that contains the peak catalog for peaks in the image.\n",
    "        If `fp` is `None` then no peak positions are plotted.\n",
    "    figsize: tuple\n",
    "        Size of the `matplotlib.Figure` created.\n",
    "        If `ax` is not `None` then this parameter is ignored.\n",
    "    stretch: int\n",
    "        The linear stretch of the image.\n",
    "    Q: int\n",
    "        The Asinh softening parameter.\n",
    "    \"\"\"\n",
    "    # If the image only has 3 bands, reverse the order of the bands to produce the RGB image\n",
    "    if len(image) == 3:\n",
    "        bgr = image.filters\n",
    "    # Extract the primary image component of each Exposure with the .image property, and use .array to get a NumPy array view.\n",
    "    rgb = make_lupton_rgb(image_r=image[bgr[2]].array,  # numpy array for the r channel\n",
    "                          image_g=image[bgr[1]].array,  # numpy array for the g channel\n",
    "                          image_b=image[bgr[0]].array,  # numpy array for the b channel\n",
    "                          stretch=stretch, Q=Q)  # parameters used to stretch and scale the pixel values\n",
    "    if ax is None:\n",
    "        fig = plt.figure(figsize=figsize)\n",
    "        ax = fig.add_subplot(1,1,1)\n",
    "    \n",
    "    # Exposure.getBBox() returns a Box2I, a box with integer pixel coordinates that correspond to the centers of pixels.\n",
    "    # Matplotlib's `extent` argument expects to receive the coordinates of the edges of pixels, which is what\n",
    "    # this Box2D (a box with floating-point coordinates) represents.\n",
    "    integerPixelBBox = image[bgr[0]].getBBox()\n",
    "    bbox = Box2D(integerPixelBBox)\n",
    "    ax.imshow(rgb, interpolation='nearest', origin='lower', extent=(bbox.getMinX(), bbox.getMaxX(), bbox.getMinY(), bbox.getMaxY()))\n",
    "    if fp is not None:\n",
    "        for peak in fp.getPeaks():\n",
    "            ax.plot(peak.getIx(), peak.getIy(), \"bx\", mew=2)"
   ]
  },
  {
   "cell_type": "markdown",
   "id": "0f06c3db-7be6-47bb-8352-cef0770cc546",
   "metadata": {},
   "source": [
    "### Initialize Butler"
   ]
  },
  {
   "cell_type": "markdown",
   "id": "5739e964-e8a7-4a16-b15d-3d762b77a086",
   "metadata": {},
   "source": [
    "Butler has to be loaded with a repo (usually either `/repo/main` or `/repo/embargo`) and a collection. Once a `Butler` has been created with a `repo`, you can run `butler.registry.queryCollections('collectionname')` to see available collections. The wild card token '*' is enabled which makes searching for collections quite nice! It can take a few second depending on how many collections are returned so running `butler.registry.queryCollections('*')` will take a bit."
   ]
  },
  {
   "cell_type": "code",
   "execution_count": null,
   "id": "a6541476-b0f0-4d0d-842b-a7f2f0fb160c",
   "metadata": {},
   "outputs": [],
   "source": [
    "obs_repo = '/repo/main'\n",
    "skymap='lsst_cells_v1'\n",
    "\n",
    "obs_butler = Butler(obs_repo)\n",
    "obs_registry = obs_butler.registry"
   ]
  },
  {
   "cell_type": "code",
   "execution_count": null,
   "id": "317b2e31-9083-4b4c-8b83-bb6f5a1cc936",
   "metadata": {},
   "outputs": [],
   "source": [
    "DRP_list = list(obs_registry.queryCollections('*DRP*')) # All the collections with DRP in the name"
   ]
  },
  {
   "cell_type": "code",
   "execution_count": null,
   "id": "d0b438bc-e654-4573-acab-2fe53a0eff16",
   "metadata": {},
   "outputs": [],
   "source": [
    "# Load a recent version of DP1 for ComCam\n",
    "\n",
    "obs_repo = '/repo/main'\n",
    "# obs_collection = 'LSSTComCam/runs/DRP/DP1/w_2025_09/DM-49235' \n",
    "# Not using the 2025_09 release since there are some issues with the processing (as of March 5th 2025).\n",
    "# Can check Rubin Slack #comcam-drp-processing for any updates or which ticket to use for the weekly release\n",
    "\n",
    "obs_collection = 'LSSTComCam/runs/DRP/DP1/w_2025_08/DM-49029'\n",
    "\n",
    "obs_butler = Butler(obs_repo, collections=obs_collection)\n",
    "obs_registry = obs_butler.registry"
   ]
  },
  {
   "cell_type": "markdown",
   "id": "ab51b50e-1254-4158-898b-6203d337390e",
   "metadata": {},
   "source": [
    "### Display a coadd"
   ]
  },
  {
   "cell_type": "code",
   "execution_count": null,
   "id": "13f98ac5-f1db-4f29-979b-b0da0db9364b",
   "metadata": {},
   "outputs": [],
   "source": [
    "# Abell360_coord =  (37.8754558, 6.9716214)\n",
    "Abell360_coord = (37.86501659859067, 6.982204815599694) #BCG coord\n"
   ]
  },
  {
   "cell_type": "markdown",
   "id": "ab8fb947-fd61-48af-96d8-ab6081473c66",
   "metadata": {},
   "source": [
    "Butler requests a `tract`, `patch`, `skymap`, and sometimes `band` when accessing data. For a RA/DEC we can find the associated `tracts` and `patches` using the code below.\n",
    "The wcs can be accessed per tract and as we will see later on, per coadd!"
   ]
  },
  {
   "cell_type": "code",
   "execution_count": null,
   "id": "0cd11ecd-365d-45b4-ab87-fe0dc28517e2",
   "metadata": {},
   "outputs": [],
   "source": [
    "ra = Abell360_coord[0]\n",
    "dec = Abell360_coord[1]\n",
    "spherePoint = lsst.geom.SpherePoint(ra*lsst.geom.degrees, dec*lsst.geom.degrees)\n",
    "t_skymap = obs_butler.get('skyMap', skymap='lsst_cells_v1')\n",
    "\n",
    "tract = t_skymap.findTract(spherePoint)\n",
    "patch = tract.findPatch(spherePoint)\n",
    "tract_id = tract.tract_id\n",
    "patch_id = patch.getSequentialIndex()\n",
    "skymap = 'lsst_cells_v1'\n",
    "wcs = tract.getWcs()\n",
    "print(f\"Tract: {tract_id}, Patch: {patch_id}\")"
   ]
  },
  {
   "cell_type": "markdown",
   "id": "609c7ebc-02f7-4698-8a6f-67077038bd41",
   "metadata": {},
   "source": [
    "To query for the coadds we can pass these into Butler directly or ask the registry which datasets are availale and then pass those into the Butler. I prefer the latter since it avoids any formatting on our part :)"
   ]
  },
  {
   "cell_type": "code",
   "execution_count": null,
   "id": "59b4c4ad-4e22-4798-a43b-347f14c2f2dd",
   "metadata": {},
   "outputs": [],
   "source": [
    "deepCoaddTable = np.array(list(obs_registry.queryDatasets('deepCoadd_calexp', skymap='lsst_cells_v1', patch=patch_id, tract=tract_id)))\n",
    "print(deepCoaddTable)"
   ]
  },
  {
   "cell_type": "markdown",
   "id": "0be5878f-7a17-46fc-b734-9456e8b51a85",
   "metadata": {},
   "source": [
    "For Abell 360, we only have imaging in `griz` bands! You can access the actual values of each dataset using `dataset.dataId` like below to get the correct order of bands."
   ]
  },
  {
   "cell_type": "code",
   "execution_count": null,
   "id": "d8420f25-5af2-4753-bea8-313a9bde09df",
   "metadata": {},
   "outputs": [],
   "source": [
    "available_bands = [dct.dataId['band'] for dct in deepCoaddTable]\n",
    "bands = 'zrig'"
   ]
  },
  {
   "cell_type": "code",
   "execution_count": null,
   "id": "459f244b-c298-49bd-9640-83757842d31f",
   "metadata": {},
   "outputs": [],
   "source": [
    "# We can pass each entry of deepCoaddTable directly into the Butler and get all coadds available. \n",
    "# We then pass the individual coadds into a MultibandExposure for our full multi-band image.\n",
    "new_deep_calexps = [obs_butler.get(dct) for dct in deepCoaddTable]\n",
    "\n",
    "coadds = MultibandExposure.fromExposures(available_bands, new_deep_calexps) # Combining coadds into one `MultibandExposure` object\n",
    "# new_wcs = new_deep_calexps[bands.index('i')].getWcs() #Each calexp also has a wcs attached to the image if we ever want to look at varying tracts"
   ]
  },
  {
   "cell_type": "code",
   "execution_count": null,
   "id": "b6200913-2863-4ec6-84eb-c23675b1f35e",
   "metadata": {
    "scrolled": true
   },
   "outputs": [],
   "source": [
    "# Easiest way to plot is with the showRGB defined above:\n",
    "showRGB(coadds.image, bgr='gri', figsize=(6,6))"
   ]
  },
  {
   "cell_type": "markdown",
   "id": "15e93208-161a-4128-a721-434f8e7195e5",
   "metadata": {},
   "source": [
    "If you want to zoom-in, we can define a bounding box `BBox` and apply that to the entire `coadd` and get the relevant `subset.` `BBox` is defined in terms of pixel coordinates not RA/DEC, so we will use the WCS to transform from RA/DEC to X/Y and then get the a cut-out around the BCG.\n",
    "\n",
    "The solved wcs comes with a `skyToPixel` and `pixelToSky` function to transform between the two. Using the variant `skyToPixelArray` allows for processing of numpy objects instead of creating `LSST.geom.SpherePoint`. __NOTE__: `pixelToSkyArray` only works on __floats__ not __integers__. "
   ]
  },
  {
   "cell_type": "code",
   "execution_count": null,
   "id": "e0576d1a-e5a5-435f-8d24-d3fc8664146d",
   "metadata": {},
   "outputs": [],
   "source": [
    "# wcs.pixelToSkyArray(12, 13, degrees=True)# -- This won't work!\n",
    "wcs.pixelToSkyArray(12., 13., degrees=True)"
   ]
  },
  {
   "cell_type": "code",
   "execution_count": null,
   "id": "c1d01cb9-3c21-444b-a78b-516423c3bb9c",
   "metadata": {},
   "outputs": [],
   "source": [
    "bcg_coords = wcs.skyToPixelArray(Abell360_coord[0], Abell360_coord[1], degrees=True) \n",
    "print(bcg_coords) #Check out the formatting so we can unpack it properly\n",
    "bcg_x = bcg_coords[0][0]\n",
    "bcg_y = bcg_coords[1][0]"
   ]
  },
  {
   "cell_type": "code",
   "execution_count": null,
   "id": "634789c1-10be-485e-b171-5db23c9a6725",
   "metadata": {},
   "outputs": [],
   "source": [
    "window = 400\n",
    "# sampleBBox = Box2I(Point2I(10700-frame, 9500-frame), Extent2I(63+2*frame, 87+2*frame))\n",
    "sampleBBox = Box2I(Point2I((bcg_x-window),(bcg_y-window) ), Extent2I(2*window, 2*window))"
   ]
  },
  {
   "cell_type": "code",
   "execution_count": null,
   "id": "92323f89-63cb-4ed6-bdf1-41e6b7044a2f",
   "metadata": {},
   "outputs": [],
   "source": [
    "# We can get our subset by applying the BBox to all coadds with nice python indexing!\n",
    "subset = coadds[:, sampleBBox]"
   ]
  },
  {
   "cell_type": "code",
   "execution_count": null,
   "id": "3700b905-2478-46f0-ad76-0f825df2a5e8",
   "metadata": {},
   "outputs": [],
   "source": [
    "# Easiest way to plot is with the showRGB defined above:\n",
    "showRGB(subset.image, bgr='gri', figsize=(6,6))"
   ]
  },
  {
   "cell_type": "markdown",
   "id": "2f9674cd-c961-45a8-b405-d207140fda46",
   "metadata": {
    "jp-MarkdownHeadingCollapsed": true
   },
   "source": [
    "#### Single-bands\n",
    "If you want to plot only a single band, we can access the array via `subset[band-name].image.array`. This can be plotted using your favorite plotting tool with an example below using `matplotlib`. We have to flip the x-axis via `[::-1,:]` to match the formatting above and use the `extent` parameter to get the labels on the `x` and `y` axis. `norm` can be changed to some other normalization (or removed) and `vmin`/`vmax` can be modified to change the upper and lower bound of the colormap to better see some LSB features."
   ]
  },
  {
   "cell_type": "code",
   "execution_count": null,
   "id": "6203c03c-8636-4a64-86a7-579b3b3352f0",
   "metadata": {},
   "outputs": [],
   "source": [
    "cmap = cm.gray # "
   ]
  },
  {
   "cell_type": "code",
   "execution_count": null,
   "id": "7983e681-e0fb-41f3-bf0b-d67ca1e28792",
   "metadata": {},
   "outputs": [],
   "source": [
    "fig, ax = plt.subplots(ncols=2, nrows=2, figsize=(10, 10))\n",
    "\n",
    "for i, b in enumerate(bands):\n",
    "    ix = i//2\n",
    "    iy = i%2\n",
    "    \n",
    "    ax[ix, iy].imshow(subset[b].image.array[::-1, :], norm='asinh', cmap=cmap,\n",
    "                      extent=(sampleBBox.getMinX(), sampleBBox.getMaxX(), sampleBBox.getMinY(), sampleBBox.getMaxY()), vmin=-.1, vmax=1) \n",
    "    ax[ix, iy].set_title(b)"
   ]
  },
  {
   "cell_type": "markdown",
   "id": "cc0a955f-dd94-4d1a-8ce5-8ea5c53859e6",
   "metadata": {},
   "source": [
    "### Load catalogs\n",
    "\n",
    "There are lots of different catalogs available (which can be found via `registry.queryDatasets`). For any catalog, the schema can be obtained by adding a '.columns' to the end of the name. It's usually a good (sometimes necessary) practice to only request the columns you will need to reduce load on the Butler. The schemas are available online at the [Schema Browser](https://sdm-schemas.lsst.io/). We will be using the `objectTable` with schema found at the [DP0.2 Schema](https://sdm-schemas.lsst.io/dp02.html#Object). The columns we want are passed to the `Butler` via the `parameters` argument with a `columns` keyword argument. If you have a typo in your requested column names, the Butler will complain!\n",
    "\n",
    "__NOTE__: The +'.columns' for schema will not show up in the registry! You will have to run `schema = butler.get(catalog_name + '.columns', skymap=...)` to get the schema."
   ]
  },
  {
   "cell_type": "code",
   "execution_count": null,
   "id": "8e6cd98e-a17c-451b-bf19-d7d9d215a4c6",
   "metadata": {},
   "outputs": [],
   "source": [
    "obj_table_columns = obs_butler.get('objectTable.columns', skymap=skymap,  patch=patch_id, tract=tract_id)\n",
    "print(f\"There are {len(obj_table_columns)} columns\")"
   ]
  },
  {
   "cell_type": "code",
   "execution_count": null,
   "id": "2de34b70-59de-4099-9c63-12437befceb5",
   "metadata": {},
   "outputs": [],
   "source": [
    "# cmodel_columns = [ot for ot in obj_table_columns if 'cModel' in ot] "
   ]
  },
  {
   "cell_type": "code",
   "execution_count": null,
   "id": "daab9722-705c-4315-a46d-da61d75df18d",
   "metadata": {},
   "outputs": [],
   "source": [
    "ap_suffix = '_ap12Flux'\n",
    "kron_suffix = '_kronFlux'\n",
    "cmodel_suffix = '_cModelFlux'\n",
    "\n",
    "flux_suffix = cmodel_suffix # Choose which flux type you want\n",
    "\n",
    "flux_bands = [b+suffix for b in available_bands for suffix in [flux_suffix, flux_suffix+'Err']]"
   ]
  },
  {
   "cell_type": "code",
   "execution_count": null,
   "id": "55691920-11d4-4681-a01a-cb9c1692c26f",
   "metadata": {},
   "outputs": [],
   "source": [
    "cluster_table = obs_butler.get('objectTable', skymap='lsst_cells_v1', patch=patch_id, tract=tract_id, \n",
    "                               parameters={\"columns\":['coord_ra', 'coord_dec', 'refExtendedness',\n",
    "                                                      'detect_isTractInner', 'merge_peak_sky', 'detect_isDeblendedSource', 'detect_isPrimary',\n",
    "                                                      'parentObjectId', 'shape_xx', 'shape_xy', 'shape_yy', 'refBand', 'x', 'y', 'patch'] + flux_bands})"
   ]
  },
  {
   "cell_type": "code",
   "execution_count": null,
   "id": "e8c7e916-9976-4aa8-a558-d0caa38e6d24",
   "metadata": {},
   "outputs": [],
   "source": [
    "# cluster_table"
   ]
  },
  {
   "cell_type": "markdown",
   "id": "297bd41c-7bcd-4615-a847-ea3244b4da8f",
   "metadata": {},
   "source": [
    "We need to apply the `detect_isPrimary` flag to remove parent-childs from blends. This is the go-to flag to remove many of the duplicates that are present in the catalog but will not work for us -- we will be using a modified version that removes the `isPatchInner` flag from the `detect_isPrimary` set of flags.\n",
    "\n",
    "A full overview of the flags can be found on the [LSST Pipelines Deblending Flags](https://pipelines.lsst.io/modules/lsst.pipe.tasks/deblending-flags-overview.html) page. "
   ]
  },
  {
   "cell_type": "markdown",
   "id": "800e5de9-3075-4b9c-b92d-d614e2876900",
   "metadata": {},
   "source": [
    "`detect_isPrimary = detect_isTractInner & detect_isPatchInner & ~merge_peak_sky & isDeblendedSource`\n",
    " \n",
    "To remove the isPatchInner we then have:\n",
    "`detect_CLUSTER = detect_isTractInner & ~merge_peak_sky & isDeblendedSource`"
   ]
  },
  {
   "cell_type": "code",
   "execution_count": null,
   "id": "f22dba2a-1e85-43a9-a12f-5341d4cf45de",
   "metadata": {},
   "outputs": [],
   "source": [
    "detect_CL = cluster_table['detect_isTractInner'] & ~cluster_table['merge_peak_sky'] & cluster_table['detect_isDeblendedSource']"
   ]
  },
  {
   "cell_type": "code",
   "execution_count": null,
   "id": "d12a3eae-c015-42be-974d-6230b4128426",
   "metadata": {},
   "outputs": [],
   "source": [
    "primary_cluster = cluster_table[detect_CL]"
   ]
  },
  {
   "cell_type": "markdown",
   "id": "49e2e9dd-63b9-48b1-b544-e5822185ad9d",
   "metadata": {},
   "source": [
    "Let's convert our flux measurements to magnitudes and write them to our DataFrame `primary_cluster`."
   ]
  },
  {
   "cell_type": "code",
   "execution_count": null,
   "id": "639f14d1-ad5e-4aa1-b4cb-d61fbfd3aa2d",
   "metadata": {},
   "outputs": [],
   "source": [
    "generic_mag_dict = {}\n",
    "\n",
    "for b in bands:\n",
    "    generic_mag_dict[f'{b}_mag'] = u.nJy.to(u.ABmag, primary_cluster[f'{b}{flux_suffix}'])"
   ]
  },
  {
   "cell_type": "code",
   "execution_count": null,
   "id": "ba2dafaa-656f-4e90-9501-0d2adecff729",
   "metadata": {},
   "outputs": [],
   "source": [
    "primary_cluster = primary_cluster.assign(**generic_mag_dict)"
   ]
  },
  {
   "cell_type": "markdown",
   "id": "9d81d833-510f-4527-afa5-18940bc028e8",
   "metadata": {},
   "source": [
    "We can overlay the detections on our subset! We will filter the catalog using the previously defined `BBox` and then plot the detections!"
   ]
  },
  {
   "cell_type": "code",
   "execution_count": null,
   "id": "225fe42e-26de-44f9-8729-8a7f52aaf096",
   "metadata": {},
   "outputs": [],
   "source": [
    "in_bbox_filt = sampleBBox.contains(primary_cluster['x'], primary_cluster['y'])\n",
    "bbox_cat = primary_cluster[in_bbox_filt]"
   ]
  },
  {
   "cell_type": "code",
   "execution_count": null,
   "id": "770ac98e-e33a-4b39-8833-75ab77d6df13",
   "metadata": {},
   "outputs": [],
   "source": [
    "showRGB(subset.image, figsize=(6,6))\n",
    "plt.plot(bbox_cat['x'], bbox_cat['y'], alpha=.5, color='r', lw=0, marker='o', fillstyle='none')"
   ]
  },
  {
   "cell_type": "markdown",
   "id": "866b9e5b-b6d8-48a7-a634-cb87ea0351dd",
   "metadata": {},
   "source": [
    "#### Color-Magnitude Diagram\n",
    "\n",
    "With a catalog in hand we can easily get the color-magnitude diagram and see the red sequence!"
   ]
  },
  {
   "cell_type": "code",
   "execution_count": null,
   "id": "48081013-2c57-4638-90b9-3782e298b90a",
   "metadata": {},
   "outputs": [],
   "source": [
    "g = primary_cluster['g_mag']\n",
    "r = primary_cluster['r_mag']\n",
    "i = primary_cluster['i_mag']\n",
    "gi = g-i\n",
    "ri = r-i\n",
    "gr = g-r"
   ]
  },
  {
   "cell_type": "code",
   "execution_count": null,
   "id": "51e62ba6-1362-497e-8840-1d3e4a2d3293",
   "metadata": {},
   "outputs": [],
   "source": [
    "plt.plot(i, gi, '.', markersize=1)\n",
    "# plt.plot(i[redflag_gi], gi[redflag_gi], 'r.', markersize=1)\n",
    "plt.title(\"Abell 360 Red Sequence\")\n",
    "plt.xlabel(\"i\")\n",
    "plt.ylabel(\"g-i\")\n",
    "# plt.axvline(23.8, ls='--', color='k', alpha=0.25)\n",
    "plt.xlim(15, 27)\n",
    "plt.ylim(0,3)"
   ]
  },
  {
   "cell_type": "markdown",
   "id": "0c926053-8b05-4095-9e51-ab06dc62bba2",
   "metadata": {},
   "source": [
    "### Other tidbits"
   ]
  },
  {
   "cell_type": "markdown",
   "id": "c7409696-417e-424a-a4ef-6ac38a1a1d4e",
   "metadata": {},
   "source": [
    "#### Querying for formatting"
   ]
  },
  {
   "cell_type": "markdown",
   "id": "72061afd-6ca2-4337-b6ad-d69f56938958",
   "metadata": {},
   "source": [
    "Finding that `skymap='lsst_cells_v1'` came from looking at the datasets availble which can be done using `registry.queryDatasets.` This command gives you the list of datasets available but also the parameters needed when requesting from Butler. In the example below, requesting `objectTable` requires a `skymap`, `tract`, and `patch`. "
   ]
  },
  {
   "cell_type": "code",
   "execution_count": null,
   "id": "3e54028f-c708-4c7e-adde-72bfd3a77181",
   "metadata": {},
   "outputs": [],
   "source": [
    "example_objTables = list(obs_registry.queryDatasets('objectTable'))\n",
    "print(example_objTables[0])"
   ]
  },
  {
   "cell_type": "markdown",
   "id": "31bb1e99-67f5-4124-9345-25d313f20cfb",
   "metadata": {},
   "source": [
    "In this example, requesting for `deepCoadd_calexps` requires a `band`, `skymap`, `tract`, and `patch`!"
   ]
  },
  {
   "cell_type": "code",
   "execution_count": null,
   "id": "abb3e448-8622-46c7-88b6-47f611a26a63",
   "metadata": {},
   "outputs": [],
   "source": [
    "example_coadd = list(obs_registry.queryDatasets('deepCoadd_calexp'))\n",
    "print(example_objTables[0])"
   ]
  },
  {
   "cell_type": "markdown",
   "id": "3cda5fb6-6c03-4c72-9cb3-c743fc1d1c37",
   "metadata": {},
   "source": [
    "#### Butler Cut-outs"
   ]
  },
  {
   "cell_type": "markdown",
   "id": "14fc827b-bf80-4bec-9d6b-b027d8e06944",
   "metadata": {},
   "source": [
    "We can pass in a `BBox` into butler and directly get single band cut-outs. "
   ]
  },
  {
   "cell_type": "code",
   "execution_count": null,
   "id": "4336bad1-13b4-49b6-b3cc-b35c3591b6d4",
   "metadata": {},
   "outputs": [],
   "source": [
    "# coaddId = {'tract': tract_id, 'patch': patch_id, 'skymap': skymap}\n",
    "# obs_butler.get('deepCoadd_calexp', dataId=coaddId, parameters={'bbox': bbox})"
   ]
  },
  {
   "cell_type": "code",
   "execution_count": null,
   "id": "6ca69aa6-1c11-46af-a744-b9b538ee9599",
   "metadata": {},
   "outputs": [],
   "source": []
  }
 ],
 "metadata": {
  "kernelspec": {
   "display_name": "LSST",
   "language": "python",
   "name": "lsst"
  },
  "language_info": {
   "codemirror_mode": {
    "name": "ipython",
    "version": 3
   },
   "file_extension": ".py",
   "mimetype": "text/x-python",
   "name": "python",
   "nbconvert_exporter": "python",
   "pygments_lexer": "ipython3",
   "version": "3.12.9"
  }
 },
 "nbformat": 4,
 "nbformat_minor": 5
}
