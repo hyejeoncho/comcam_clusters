{
 "cells": [
  {
   "cell_type": "markdown",
   "id": "b6dcf4b1-acaf-4a64-92e2-3bad37e7085a",
   "metadata": {},
   "source": [
    "# Shear profile of A360 using Anacal - Manual\n",
    "\n",
    "Prakruth Adari, Xiangchong Li, Anja von der Linden, Anthony Englert\\\n",
    "LSST Science Piplines version: Weekly 2025_26\\\n",
    "Container Size: large\n",
    "\n",
    "This notebook is a condensed set of code to obtain a shear profile of Abell 360 using Anacal shear measurements. The main steps are:\n",
    "\n",
    "- Loading the relevant object catalogs (all tracts and patches needed) using the butler\n",
    "- Loading in Anacal catalogs\n",
    "- Matching between the two (using RA/DEC + _i_-magnitude)\n",
    "- Ca\n",
    "- Load in calibration (using the `gen_hsc_calibration` script)\n",
    "- Shear profile\n",
    "  \n",
    "Most steps start with loading in data from the previous step so each step usually ends with writing data locally, this means we can quickly apply cuts to the same catalog and re-calibrate without having to re-query from the Butler. "
   ]
  },
  {
   "cell_type": "code",
   "execution_count": null,
   "id": "7fff6a9a-4ef3-4613-a5f2-9ab4bae65048",
   "metadata": {},
   "outputs": [],
   "source": [
    "%matplotlib inline\n",
    "%config InlineBackend.figure_format='retina'\n",
    "import os, sys\n",
    "import numpy as np\n",
    "import astropy.units as u\n",
    "import matplotlib.pyplot as plt\n",
    "from scipy.spatial import KDTree\n",
    "import scipy.interpolate as interpolate\n",
    "import scipy.integrate as integrate\n",
    "import scipy.stats as stats\n",
    "from matplotlib import cm\n",
    "from astropy.table import Table, join, vstack\n",
    "from astropy.io import fits\n",
    "from astropy.coordinates import SkyCoord\n",
    "from astropy.wcs import WCS\n",
    "\n",
    "\n",
    "# Familiar stack packages\n",
    "from lsst.daf.butler import Butler\n",
    "import lsst.geom as geom\n",
    "\n",
    "import clmm\n",
    "from clmm import GalaxyCluster, ClusterEnsemble, GCData, Cosmology\n",
    "from clmm import Cosmology, utils\n",
    "cosmo = clmm.Cosmology(H0=70.0, Omega_dm0=0.3 - 0.045, Omega_b0=0.045, Omega_k0=0.0)\n",
    "\n",
    "z_cl = 0.22\n",
    "\n",
    "# source properties\n",
    "# assume sources redshift following a the DESC SRD distribution. This will need updating.\n",
    "\n",
    "z_distrib_func = utils.redshift_distributions.desc_srd  \n",
    "\n",
    "# Compute first beta (e.g. eq(6) of WtGIII paper)\n",
    "beta_kwargs = {\n",
    "    \"z_cl\": z_cl,\n",
    "    \"z_inf\": 10.0,\n",
    "    \"cosmo\": cosmo,\n",
    "    \"z_distrib_func\": z_distrib_func,\n",
    "}\n",
    "beta_s_mean = utils.compute_beta_s_mean_from_distribution(**beta_kwargs)\n",
    "beta_s_square_mean = utils.compute_beta_s_square_mean_from_distribution(**beta_kwargs)\n",
    "rproj = np.logspace(np.log10(0.3),np.log10(7.), 100)"
   ]
  },
  {
   "cell_type": "code",
   "execution_count": null,
   "id": "41a62740-be36-4b3b-a12a-002c03f10232",
   "metadata": {},
   "outputs": [],
   "source": [
    "arcsec = 1/60**2\n",
    "rng = np.random.default_rng()\n",
    "omega_m = .31\n",
    "omega_de= .69\n",
    "omega_r = 0\n",
    "H0 = 70 # km/s/Mpc\n",
    "c = 3e5 # km/s\n",
    "\n",
    "Hz = lambda z : c/(H0  * np.sqrt((omega_de + omega_m * (1+z)**3 + omega_r * (1+z)**4)))\n",
    "chi_dl = lambda z, z0=0 : integrate.quad(Hz, z0, z)[0]\n",
    "Da = lambda z : chi_dl(z)/(1+z)\n",
    "beta_r = lambda zl, zs : integrate.quad(Hz, zl, zs)[0]/integrate.quad(Hz, 0, zs)[0]"
   ]
  },
  {
   "cell_type": "code",
   "execution_count": null,
   "id": "ccdf3a1a-1aa1-4f3a-8497-502331d4d2ab",
   "metadata": {},
   "outputs": [],
   "source": [
    "# Load operation rehearsal data\n",
    "# Can use obs_butler.registry.queryCollections to see available collections\n",
    "\n",
    "flux_suffix = '_cModelFlux'\n",
    "# obs_repo = '/repo/main'\n",
    "# obs_collection = 'LSSTComCam/runs/DRP/DP1/v29_0_0_rc5/DM-49865'\n",
    "\n",
    "obs_repo = '/repo/dp1'\n",
    "obs_collection = 'LSSTComCam/runs/DRP/DP1/v29_0_0/DM-50260'\n",
    "obs_butler = Butler(obs_repo, collections=obs_collection)\n",
    "obs_registry = obs_butler.registry\n",
    "\n",
    "t_skymap = obs_butler.get('skyMap', skymap='lsst_cells_v1')"
   ]
  },
  {
   "cell_type": "code",
   "execution_count": null,
   "id": "8384bc7e-cd34-42d2-ae24-3da0f2f2e128",
   "metadata": {},
   "outputs": [],
   "source": [
    "cluster_coords = (37.86501659859067, 6.982204815599694)"
   ]
  },
  {
   "cell_type": "markdown",
   "id": "928f4b03-792a-42c4-8bba-f89b5aa5bbf7",
   "metadata": {},
   "source": [
    "## Load Butler Data"
   ]
  },
  {
   "cell_type": "code",
   "execution_count": null,
   "id": "90e2c371-1c94-48a8-b081-3245a9a2244f",
   "metadata": {},
   "outputs": [],
   "source": [
    "# Position of the BCG for A360\n",
    "ra_bcg = cluster_coords[0]\n",
    "dec_bcg = cluster_coords[1]\n",
    "\n",
    "# Looking for all patches in delta deg region around it\n",
    "delta = 0.5\n",
    "center = geom.SpherePoint(ra_bcg, dec_bcg, geom.degrees)\n",
    "ra_min, ra_max = ra_bcg - delta, ra_bcg + delta\n",
    "dec_min, dec_max = dec_bcg - delta, dec_bcg + delta\n",
    "\n",
    "ra_range = (ra_min, ra_max)\n",
    "dec_range = (dec_min, dec_max)\n",
    "radec = [geom.SpherePoint(ra_range[0], dec_range[0], geom.degrees),\n",
    "         geom.SpherePoint(ra_range[0], dec_range[1], geom.degrees),\n",
    "         geom.SpherePoint(ra_range[1], dec_range[0], geom.degrees),\n",
    "         geom.SpherePoint(ra_range[1], dec_range[1], geom.degrees)]\n",
    "\n",
    "tracts_and_patches = t_skymap.findTractPatchList(radec)\n",
    "\n",
    "tp_dict = {}\n",
    "for tract_num in np.arange(len(tracts_and_patches)):\n",
    "    tract_info = tracts_and_patches[tract_num][0]\n",
    "    tract_idx = tract_info.getId()\n",
    "    # All the patches around the cluster\n",
    "    patches = []\n",
    "    for i,patch in enumerate(tracts_and_patches[tract_num][1]):\n",
    "        patch_info = tracts_and_patches[tract_num][1][i]\n",
    "        patch_idx = patch_info.sequential_index\n",
    "        patches.append(patch_idx)\n",
    "    tp_dict.update({tract_idx:patches})\n",
    "print(tp_dict)"
   ]
  },
  {
   "cell_type": "markdown",
   "id": "7d001694-3e93-4d23-9e5c-088157b25349",
   "metadata": {},
   "source": [
    "## Precuts"
   ]
  },
  {
   "cell_type": "code",
   "execution_count": null,
   "id": "0ff6c88f-afc6-4194-977f-1db794639be3",
   "metadata": {},
   "outputs": [],
   "source": [
    "anacal_tables = []\n",
    "version = \"v5\"\n",
    "if version == \"v1\":\n",
    "    mag_zero = 27\n",
    "else:\n",
    "    mag_zero = 31.4\n",
    "for tid in tp_dict.keys():\n",
    "    patches = tp_dict[tid]\n",
    "    for p in patches:\n",
    "        fname = f'/sdf/data/rubin/shared/cluster_commissioning/AnaCal/catalog_{version}/{tid}-{p}.fits'\n",
    "        if os.path.isfile(fname):\n",
    "            ana_table = Table.read(fname)\n",
    "            mag = mag_zero - np.log10(ana_table[\"flux\"]) * 2.5\n",
    "            mask = (mag<23.5)\n",
    "            ana_table = ana_table[mask]\n",
    "            anacal_tables.append(ana_table)\n",
    "        else:\n",
    "            print(fname)\n",
    "            \n",
    "anacal_table = vstack(anacal_tables)\n",
    "anacal_mag = mag_zero - np.log10(anacal_table['flux'] ) *2.5\n",
    "anacal_table['mag'] = anacal_mag"
   ]
  },
  {
   "cell_type": "code",
   "execution_count": null,
   "id": "b5d87267-5fb5-43c7-91cc-eb60333fd650",
   "metadata": {},
   "outputs": [],
   "source": [
    "# prepare matching\n",
    "anacal_coords = np.vstack((anacal_table['ra'], anacal_table['dec'])).T\n",
    "anacal_tree = KDTree(anacal_coords)\n",
    "# Load in pre-cuts data\n",
    "with fits.open('./cluster_data/abell360_PRECUTS_DP1_gaap_cModel.fits') as hdul:\n",
    "        data = hdul[1].data\n",
    "        table = Table(data)"
   ]
  },
  {
   "cell_type": "code",
   "execution_count": null,
   "id": "58f1ed98-f626-466b-86fe-ab8cca084465",
   "metadata": {},
   "outputs": [],
   "source": [
    "table_coords = SkyCoord(table['coord_ra']*u.deg, table['coord_dec']*u.deg)\n",
    "cluster_skycoord = SkyCoord(cluster_coords[0]*u.deg, cluster_coords[1]*u.deg)\n",
    "sep = table_coords.separation(cluster_skycoord)\n",
    "table['sep'] = sep.deg"
   ]
  },
  {
   "cell_type": "code",
   "execution_count": null,
   "id": "5823086a-1acf-4192-9e02-238bc13447f5",
   "metadata": {},
   "outputs": [],
   "source": [
    "gi = table['g_gaap_mag'] - table['i_gaap_mag']\n",
    "ri = table['r_gaap_mag'] - table['i_gaap_mag']\n",
    "gr = table['g_gaap_mag'] - table['r_gaap_mag']\n",
    "\n",
    "table['gi'] = gi\n",
    "table['ri'] = ri\n",
    "table['gr'] = gr"
   ]
  },
  {
   "cell_type": "code",
   "execution_count": null,
   "id": "6c06a813-b60d-4b70-8f64-93b1685f7ec1",
   "metadata": {},
   "outputs": [],
   "source": [
    "wl_coords = np.vstack((table['coord_ra'], table['coord_dec'])).T\n",
    "wl_tree = KDTree(wl_coords)\n",
    "match_dist, match_ndx = anacal_tree.query(wl_coords)\n",
    "mag_diffs = table['i_cModel_mag'] - anacal_table['mag'][match_ndx]\n",
    "trial_match = match_dist < 1.5*arcsec\n",
    "close_match = match_dist < 0.5 * arcsec"
   ]
  },
  {
   "cell_type": "code",
   "execution_count": null,
   "id": "c949a87e-feae-4b90-bd68-2799d7a31391",
   "metadata": {},
   "outputs": [],
   "source": [
    "#plt.hist(mag_diffs, range=(-2, 5), bins=100, label='All Match')\n",
    "plt.hist(mag_diffs[trial_match], range=(-2, 2), bins=100, label=\"Near ($< 1.5''$) Match\", histtype='step')\n",
    "plt.hist(mag_diffs[close_match], range=(-2, 2), bins=100, label=\"Near ($< 0.5''$) Match\", histtype='step')\n",
    "plt.title(\"Comcam object $i$ mag - Anacal nearest match $i$ mag\")\n",
    "plt.legend()"
   ]
  },
  {
   "cell_type": "code",
   "execution_count": null,
   "id": "703d6780-15c6-45a3-96f4-f60331a77db8",
   "metadata": {},
   "outputs": [],
   "source": [
    "near_match = match_dist < 0.5*arcsec\n",
    "good_anacal = near_match * (np.abs(mag_diffs) < 0.5)\n",
    "print(np.sum(good_anacal), len(good_anacal))\n",
    "\n",
    "table['i_anacal_goodflag'] = good_anacal"
   ]
  },
  {
   "cell_type": "code",
   "execution_count": null,
   "id": "0e28745b-260d-4b58-a3c3-29487e447629",
   "metadata": {},
   "outputs": [],
   "source": [
    "mag_lim = 24\n",
    "\n",
    "gi_table_line = (table['r_cModel_mag'] - 18) * (-0.2/5) + 1.9\n",
    "ri_table_line = (table['r_cModel_mag'] - 18) * (-0.1/5) + .55\n",
    "gr_table_line = (table['r_cModel_mag'] - 18) * (-0.25/5) + 1.35\n",
    "\n",
    "gi_lims = (0.1, -.25)\n",
    "ri_lims = (0.04, -0.08)\n",
    "gr_lims = (0.1, -.15)\n",
    "\n",
    "gi_redseq = np.logical_and.reduce((table['gi'] < gi_table_line + gi_lims[0], table['gi'] > gi_table_line + gi_lims[1], table['r_cModel_mag'] < mag_lim))\n",
    "ri_redseq = np.logical_and.reduce((table['ri'] < ri_table_line + ri_lims[0], table['ri'] > ri_table_line + ri_lims[1], table['r_cModel_mag'] < mag_lim))\n",
    "gr_redseq = np.logical_and.reduce((table['gr'] < gr_table_line + gr_lims[0], table['gr'] > gr_table_line + gr_lims[1], table['r_cModel_mag'] < mag_lim))\n",
    "\n",
    "\n",
    "table['gi_redseq'] = gi_redseq\n",
    "table['ri_redseq'] = ri_redseq\n",
    "table['gr_redseq'] = gr_redseq\n",
    "\n",
    "all_redseq = np.logical_and.reduce((table['gi_redseq'], table['gr_redseq'], table['ri_redseq']))\n",
    "aggro_redseq = np.logical_or.reduce((table['gi_redseq'], table['gr_redseq'], table['ri_redseq']))\n",
    "table['all_redseq'] = all_redseq\n",
    "table['aggro_redseq'] = aggro_redseq"
   ]
  },
  {
   "cell_type": "code",
   "execution_count": null,
   "id": "755fb7d8-386a-4bef-bc36-0f4b7126fd85",
   "metadata": {},
   "outputs": [],
   "source": [
    "ae1 = anacal_table['fpfs_e1']\n",
    "ae2 = anacal_table['fpfs_e2']\n",
    "lct = len(table)\n",
    "wl_ae1 = np.ones(lct) * -99.\n",
    "wl_ae2 = np.ones(lct) * -99.\n",
    "\n",
    "wl_r1 = np.ones(lct) * -99.\n",
    "wl_r2 = np.ones(lct) * -99.\n",
    "\n",
    "for i in range(lct):\n",
    "    if good_anacal[i]:\n",
    "        mid = match_ndx[i]\n",
    "        wl_ae1[i] = ae1[mid] * anacal_table[\"wdet\"][mid]\n",
    "        wl_ae2[i] = ae2[mid] * anacal_table[\"wdet\"][mid]\n",
    "        wl_r1[i] = anacal_table[\"fpfs_de1_dg1\"][mid] * anacal_table[\"wdet\"][mid] + anacal_table[\"dwdet_dg1\"][mid] * anacal_table[\"fpfs_e1\"][mid]\n",
    "        wl_r2[i] = anacal_table[\"fpfs_de2_dg2\"][mid] * anacal_table[\"wdet\"][mid] + anacal_table[\"dwdet_dg2\"][mid] * anacal_table[\"fpfs_e2\"][mid]\n",
    "\n",
    "table['anacal_fpfs_e1'] = wl_ae1\n",
    "table['anacal_fpfs_e2'] = wl_ae2\n",
    "table['anacal_fpfs_R1'] = wl_r1\n",
    "table['anacal_fpfs_R2'] = wl_r2"
   ]
  },
  {
   "cell_type": "code",
   "execution_count": null,
   "id": "aa5507bc-f780-424c-aab3-614390cbf6c3",
   "metadata": {},
   "outputs": [],
   "source": [
    "ae1 = anacal_table['e1']\n",
    "ae2 = anacal_table['e2']\n",
    "lct = len(table)\n",
    "wl_ae1 = np.ones(lct) * -99.\n",
    "wl_ae2 = np.ones(lct) * -99.\n",
    "\n",
    "wl_r1 = np.ones(lct) * -99.\n",
    "wl_r2 = np.ones(lct) * -99.\n",
    "\n",
    "for i in range(lct):\n",
    "    if good_anacal[i]:\n",
    "        mid = match_ndx[i]\n",
    "        wl_ae1[i] = ae1[mid] * anacal_table[\"wdet\"][mid]\n",
    "        wl_ae2[i] = ae2[mid] * anacal_table[\"wdet\"][mid]\n",
    "        wl_r1[i] = anacal_table[\"de1_dg1\"][mid] * anacal_table[\"wdet\"][mid] + anacal_table[\"dwdet_dg1\"][mid] * anacal_table[\"e1\"][mid]\n",
    "        wl_r2[i] = anacal_table[\"de2_dg2\"][mid] * anacal_table[\"wdet\"][mid] + anacal_table[\"dwdet_dg2\"][mid] * anacal_table[\"e2\"][mid]\n",
    "\n",
    "table['anacal_e1'] = wl_ae1\n",
    "table['anacal_e2'] = wl_ae2\n",
    "table['anacal_R1'] = wl_r1\n",
    "table['anacal_R2'] = wl_r2"
   ]
  },
  {
   "cell_type": "code",
   "execution_count": null,
   "id": "020953bb-a47a-41e8-9f28-c3a63cba12f7",
   "metadata": {},
   "outputs": [],
   "source": [
    "# Apply cuts\n",
    "filt = np.ones(len(table)).astype(bool)\n",
    "\n",
    "filt &= (table['refExtendedness'] >= 0.5)\n",
    "filt &= (table['sep'] < 0.5) \n",
    "# filt &= table['g_cModel_flag']== False\n",
    "# filt &= table['r_cModel_flag']== False\n",
    "# filt &= table['i_cModel_flag']== False\n",
    "filt &= (table['i_cModel_mag'] <= 23)\n",
    "# filt &= (table['i_cModel_mag'] >= 20)\n",
    "# filt &= (table['i_cModelFlux']/table['i_cModelFluxErr'] >= 10)\n",
    "filt &= (table['i_anacal_goodflag'])\n",
    "# filt &= table['res'] >= 0.3\n",
    "# filt &= table['i_blendedness'] <= 0.42\n",
    "\n",
    "# filt &= (table['anacal_fpfs_e1']**2 + table['anacal_fpfs_e2']**2) <= 4\n",
    "# filt &= (table['i_hsmShapeRegauss_sigma']<= 0.4) * (0 < table['i_hsmShapeRegauss_sigma'])\n",
    "# filt &= table['i_iPSF_flag']==0\n",
    "filt &= ~(table['all_redseq'])\n",
    "print(f\"After cuts: {np.sum(filt)}\")\n",
    "wl_table = table[filt]"
   ]
  },
  {
   "cell_type": "markdown",
   "id": "af1e7d53-8c4a-4853-8f29-41493fefd7ab",
   "metadata": {},
   "source": [
    "# Profile\n",
    "\n",
    "Requires `wl_table` to be defined from the [Calibration](#Calibration) Step."
   ]
  },
  {
   "cell_type": "code",
   "execution_count": null,
   "id": "164128ae-85c5-4bfb-9135-665fa95eb975",
   "metadata": {},
   "outputs": [],
   "source": [
    "def anacal_get_tang_cross(e_t, e_x, sky_dist, bins, R1, R2, astropy=True, ci_level=.95):\n",
    "    nb = len(bins) - 1\n",
    "    tang_avg = np.zeros(nb)\n",
    "    cross_avg = np.zeros_like(tang_avg)\n",
    "\n",
    "    tang_err = np.zeros((nb, 2))\n",
    "    cross_err = np.zeros_like(tang_err)\n",
    "\n",
    "    bin_rs = []\n",
    "    for i in range(nb):\n",
    "        # bin_rs.append(bins[i])\n",
    "        ndx_filt = (sky_dist > bins[i]) * (sky_dist < bins[i+1])\n",
    "        bin_rs.append(np.where(ndx_filt)[0])\n",
    "        if np.sum(ndx_filt) < 1:\n",
    "            continue\n",
    "            \n",
    "        sample_t = e_t[ndx_filt]\n",
    "        sample_x = e_x[ndx_filt]\n",
    "\n",
    "        sample_r1 = np.mean(R1[ndx_filt])\n",
    "        sample_r2 = np.mean(R2[ndx_filt])\n",
    "\n",
    "        R_correction = (.5 * (sample_r1 + sample_r2)) \n",
    "        # R_correction = np.float64(1.)\n",
    "        # R_correction = (.5 * (np.mean(R1) + np.mean(R2)))\n",
    "        print(R_correction)\n",
    "        \n",
    "        ta = np.mean(sample_t)/R_correction\n",
    "        xa = np.mean(sample_x)/R_correction\n",
    "        te = stats.bootstrap([sample_t], np.mean, confidence_level=ci_level).confidence_interval\n",
    "        xe = stats.bootstrap([sample_x], np.mean, confidence_level=ci_level).confidence_interval\n",
    "        \n",
    "        tang_avg[i] = ta\n",
    "        cross_avg[i] = xa\n",
    "        tang_err[i] = te/R_correction\n",
    "        cross_err[i] = xe/R_correction\n",
    "\n",
    "    return tang_avg, cross_avg, tang_err, cross_err, bin_rs"
   ]
  },
  {
   "cell_type": "code",
   "execution_count": null,
   "id": "54c66250-5393-4476-ab71-c98167ef60a1",
   "metadata": {},
   "outputs": [],
   "source": [
    "cluster_coords = (37.865017, 6.982205)\n",
    "# cluster_coords = (37.865017, 7.082205)\n",
    "source_phi = np.arctan2(wl_table['coord_dec'] - cluster_coords[1], (cluster_coords[0] - wl_table['coord_ra'])*np.cos(np.deg2rad(cluster_coords[1])))\n",
    "ang_dist = np.sqrt(((wl_table['coord_ra'] - cluster_coords[0]) * np.cos(np.deg2rad(cluster_coords[1])))**2 + (wl_table['coord_dec'] - cluster_coords[1])**2)\n",
    "sky_distance = Da(.22) * ang_dist * (np.pi/180)"
   ]
  },
  {
   "cell_type": "code",
   "execution_count": null,
   "id": "560fab74-9d46-4308-85d1-8e29b486ed09",
   "metadata": {},
   "outputs": [],
   "source": [
    "bins_mpc = np.array([.3, .5, 1, 1.5, 2.27, 3.3, 6])\n",
    "bin_mids = 1/2 * (bins_mpc[1:] + bins_mpc[:-1])"
   ]
  },
  {
   "cell_type": "code",
   "execution_count": null,
   "id": "d47f6738-2c53-4c90-a651-f5740b871342",
   "metadata": {},
   "outputs": [],
   "source": [
    "trial_shear = wl_table['anacal_e1'] + 1.j*wl_table['anacal_e2']\n",
    "cl_shear = trial_shear * -1*np.exp(-2j*source_phi)\n",
    "\n",
    "wl_table['e_t'] = cl_shear.real\n",
    "wl_table['e_x'] = cl_shear.imag\n",
    "\n",
    "shear_cl = anacal_get_tang_cross(wl_table['e_t'], wl_table['e_x'], sky_distance, bins_mpc, wl_table['anacal_R1'], wl_table['anacal_R2'], astropy=False, ci_level=.68)"
   ]
  },
  {
   "cell_type": "code",
   "execution_count": null,
   "id": "cbe78b69-bbbc-458a-a0d1-9567325b5cdc",
   "metadata": {},
   "outputs": [],
   "source": [
    "trial_shear = wl_table['anacal_fpfs_e1'] + 1.j*wl_table['anacal_fpfs_e2']\n",
    "cl_shear = trial_shear * -1*np.exp(-2j*source_phi)\n",
    "\n",
    "wl_table['e_fpfs_t'] = cl_shear.real\n",
    "wl_table['e_fpfs_x'] = cl_shear.imag\n",
    "\n",
    "shear_cl_fpfs = anacal_get_tang_cross(wl_table['e_fpfs_t'], wl_table['e_fpfs_x'], sky_distance, bins_mpc, wl_table['anacal_fpfs_R1'], wl_table['anacal_fpfs_R2'], astropy=False, ci_level=.68)"
   ]
  },
  {
   "cell_type": "code",
   "execution_count": null,
   "id": "2270550e-1fe6-418e-a469-8f6f8c67ec67",
   "metadata": {},
   "outputs": [],
   "source": [
    "# moo = clmm.Modeling(massdef=\"mean\", delta_mdef=200, halo_profile_model=\"nfw\")\n",
    "# moo.set_cosmo(cosmo)\n",
    "# moo.set_concentration(4)\n",
    "# moo.set_mass(1.0e15)\n",
    "# gt_z = moo.eval_reduced_tangential_shear(\n",
    "#     rproj, z_cl, [beta_s_mean, beta_s_square_mean], z_src_info=\"beta\", approx=\"order2\"\n",
    "# )"
   ]
  },
  {
   "cell_type": "code",
   "execution_count": null,
   "id": "0ca46ba4-f4e5-44f3-82ce-5e77374f2a60",
   "metadata": {},
   "outputs": [],
   "source": [
    "cmap = cm.coolwarm\n",
    "\n",
    "# plt.plot(rproj, gt_z, label=r'NFW, $M_{200}$=$10^{15} M_{\\odot}$, c=4, n(z)=SRD', ls=':')\n",
    "plt.plot(bin_mids, shear_cl[0], '.', label='tangential - e', color=cmap(.05), alpha=0.25)\n",
    "plt.vlines(bin_mids, shear_cl[2][:,0], shear_cl[2][:,1], color=cmap(0.05), alpha=0.25)\n",
    "plt.plot(1.05*bin_mids, shear_cl[1], '.', label='cross - e', color=cmap(.95), alpha=0.25)\n",
    "plt.vlines(1.05*bin_mids, shear_cl[3][:,0], shear_cl[3][:,1], color=cmap(0.95), alpha=0.25)\n",
    "\n",
    "plt.plot(bin_mids*1.1, shear_cl_fpfs[0], '.', label='tangential - fpfs', color=cmap(.05), alpha=1)\n",
    "plt.vlines(bin_mids*1.1, shear_cl_fpfs[2][:,0], shear_cl_fpfs[2][:,1], color=cmap(0.05), alpha=1)\n",
    "plt.plot(1.15*bin_mids, shear_cl_fpfs[1], '.', label='cross - fpfs', color=cmap(.95), alpha=1)\n",
    "plt.vlines(1.15*bin_mids, shear_cl_fpfs[3][:,0], shear_cl_fpfs[3][:,1], color=cmap(0.95), alpha=1)\n",
    "\n",
    "plt.semilogx()\n",
    "plt.axhline(0, ls='--', color='k', alpha=.5)\n",
    "\n",
    "plt.ylim([-0.08,0.10])\n",
    "plt.xlim([0.3,6.5])\n",
    "plt.ylabel(\"Reduced shear\")\n",
    "plt.xlabel(\"R (Mpc)\")\n",
    "plt.legend(frameon=False, loc='upper right')"
   ]
  },
  {
   "cell_type": "markdown",
   "id": "7b914a4e-ed7d-40a2-9c22-fb7876004788",
   "metadata": {},
   "source": [
    "2nd bin at 0.75 Mpc so $\\theta = .75 * \\frac{180}{\\pi} * \\frac{1}{D_A(0.22)} \\approx 0.06^\\circ$ "
   ]
  },
  {
   "cell_type": "code",
   "execution_count": null,
   "id": "1ece42d0-3e8f-4a33-a522-fabccd852e72",
   "metadata": {},
   "outputs": [],
   "source": [
    "print(\"Bin 1\", 0.75 * 180/np.pi * 1/Da(0.22))\n",
    "print(\"Bin 2\", 1.25 * 180/np.pi * 1/Da(0.22))"
   ]
  },
  {
   "cell_type": "code",
   "execution_count": null,
   "id": "2769e84f-0929-415f-b2d6-5f6ecc76b4a3",
   "metadata": {},
   "outputs": [],
   "source": [
    "# From Shenming's CLMM demo on using HSC data\n",
    "def apply_shear_calibration(e1_0, e2_0, e_rms, m, c1, c2, weight):\n",
    "    R = 1.0 - np.sum(weight * e_rms**2.0) / np.sum(weight)\n",
    "    m_mean = np.sum(weight * m) / np.sum(weight)\n",
    "    c1_mean = np.sum(weight * c1) / np.sum(weight)\n",
    "    c2_mean = np.sum(weight * c2) / np.sum(weight)\n",
    "    print(\"R, m_mean, c1_mean, c2_mean: \", R, m_mean, c1_mean, c2_mean)\n",
    "\n",
    "    g1 = (e1_0 / (2.0 * R) - c1) / (1.0 + m_mean)\n",
    "    g2 = (e2_0 / (2.0 * R) - c2) / (1.0 + m_mean)\n",
    "\n",
    "    return g1, g2"
   ]
  },
  {
   "cell_type": "code",
   "execution_count": null,
   "id": "11d29200-382a-4acd-9fdb-9721f1da4adb",
   "metadata": {},
   "outputs": [],
   "source": [
    "calib_filename = 'a360_calib_all.fits'\n",
    "postcuts_filename = 'abell360_POSTCUTS_all_DP1.fits'"
   ]
  },
  {
   "cell_type": "code",
   "execution_count": null,
   "id": "2adf3831-0d4a-47bb-84ff-dcf9e0ff4a38",
   "metadata": {},
   "outputs": [],
   "source": [
    "with fits.open(f'cluster_data/technote/{calib_filename}') as hdul:\n",
    "    # Assuming data is in the first HDU (if not, change the index as needed)\n",
    "    data = hdul[1].data\n",
    "\n",
    "    # Convert the FITS data to an Astropy Table\n",
    "    table = Table(data)\n",
    "\n",
    "with fits.open(f'cluster_data/technote/{postcuts_filename}') as hdul:\n",
    "    # Assuming data is in the first HDU (if not, change the index as needed)\n",
    "    data = hdul[1].data\n",
    "\n",
    "    # Convert the FITS data to an Astropy Table\n",
    "    wl_table = Table(data)"
   ]
  },
  {
   "cell_type": "code",
   "execution_count": null,
   "id": "2cbf843f-01f4-4811-9c3e-f5fbfb6d0cc4",
   "metadata": {},
   "outputs": [],
   "source": [
    "e_rms = table[\"ishape_hsm_regauss_derived_rms_e\"]\n",
    "m = table[\"ishape_hsm_regauss_derived_shear_bias_m\"]\n",
    "c1 = table[\"ishape_hsm_regauss_derived_shear_bias_c1\"]\n",
    "c2 = table[\"ishape_hsm_regauss_derived_shear_bias_c2\"]\n",
    "weight = table[\"ishape_hsm_regauss_derived_shape_weight\"]\n",
    "# weight = np.ones(len(c1))"
   ]
  },
  {
   "cell_type": "code",
   "execution_count": null,
   "id": "7364b9cd-cf13-4e9f-8f67-b3b74948e1e9",
   "metadata": {},
   "outputs": [],
   "source": [
    "g1, g2 = apply_shear_calibration(wl_table['i_hsmShapeRegauss_e1'], wl_table['i_hsmShapeRegauss_e2'], e_rms, m, c1, c2, weight)"
   ]
  },
  {
   "cell_type": "markdown",
   "id": "24b64ee3-9ffc-43f9-82b3-88c49af7e720",
   "metadata": {},
   "source": [
    "## Mass Aperture Statistics"
   ]
  },
  {
   "cell_type": "markdown",
   "id": "1449a55d-38fc-44b7-9555-6b26289e7152",
   "metadata": {},
   "source": [
    "Mass aperture statistics are one way of mapping the distribution of dark matter across a cluster, it's an integral statistic which convolves the observed shears with a filter optimized to match a given profile. For LoVoCCS (which I'll borrow here), we normally use a 'Schirmer filter' (Schirmer+04, Hetterscheidt+05, Schirmer+06, McCleary+18, Fu+22, Fu+24)"
   ]
  },
  {
   "cell_type": "code",
   "execution_count": null,
   "id": "b6f42567-c4c2-44be-a336-032aeaae8ff3",
   "metadata": {},
   "outputs": [],
   "source": [
    "def schirmer_filter(radius,aperture_size=8000,x_cut=0.15,a=6,b=150,c=47,d=50,*_):\n",
    "    '''\n",
    "    The Schirmer Filter, a filter which is optimized for detecting NFW-like structures in shear-fields.\n",
    "    \n",
    "    Args:\n",
    "        radius: Numpy array; an array of radii to evaluate the filter on\n",
    "        aperture_size: float-like; the 'schirmer-radius' of the filter\n",
    "        x_cut: float-like; specifies the filter-sloap and sets the characteristic-scale of the filter to x_cut*smoothing\n",
    "    \n",
    "    Returns:\n",
    "        Q; Numpy array; an array containing the filter evaluated at each radius\n",
    "    \n",
    "    '''\n",
    "    \n",
    "    x = radius/aperture_size\n",
    "    Q = ( 1/( 1 + np.exp(a - b*x) + np.exp(-c + d*x)) )*( np.tanh(x/x_cut)/(x/x_cut) )\n",
    "    return Q"
   ]
  },
  {
   "cell_type": "code",
   "execution_count": null,
   "id": "7f4f2eae-6355-443b-87a2-a804b0f139ae",
   "metadata": {},
   "outputs": [],
   "source": [
    "xs = np.linspace(0.01, 2, 101)\n",
    "Qs = schirmer_filter(xs, aperture_size=1)\n",
    "\n",
    "plt.plot(xs, Qs, '.')"
   ]
  },
  {
   "cell_type": "code",
   "execution_count": null,
   "id": "68a92df9-6f33-4de4-8116-f5f00c6fb6b0",
   "metadata": {},
   "outputs": [],
   "source": [
    "def compute_mass_map(x_grid,y_grid,x,y,g1,g2,weights,q_filter,filter_kwargs={}):\n",
    "    '''\n",
    "    This function computes the mass aperture-statistics at each point on a specified grid. Run quality-cuts, NaN filtering, etc. before this step!\n",
    "    \n",
    "    Args:\n",
    "        x: Numpy array; an array of x-coordinates for each object\n",
    "        y: Numpy array; an array of y-coordinates for each object\n",
    "        x_grid: Numpy array; an NxM array of x-coordinates to sample the aperture-mass on\n",
    "        y_grid: Numpy array; an NxM array of y-coordinates to sample the aperture-mass on\n",
    "        g1; Numpy array; the shear g1 for each object\n",
    "        g2; Numpy array; the shear g2 for each object\n",
    "        weights: Numpy array; the weight for each object's shear\n",
    "        q_filter; function; the filter-function used to compute Map\n",
    "        kwargs; dict; kwargs passed to w_filter\n",
    "    \n",
    "    Returns:\n",
    "        Map_E: Numpy array; an NxM array containing the E-mode aperture mass evaluated at each grid-point\n",
    "        Map_B: Numpy array; an NxM array containing the B-mode aperture mass evaluated at each grid-point\n",
    "        Map_V: Numpy array; an NxM array containing the variance in the aperture mass evaluated at each grid-point\n",
    "\n",
    "    '''\n",
    "\n",
    "    y_shape = len(y_grid[:,0])\n",
    "    x_shape = len(x_grid[0,:])\n",
    "    \n",
    "    Map_E = np.zeros((y_shape,x_shape))\n",
    "    Map_B = np.zeros((y_shape,x_shape))\n",
    "    Map_V = np.zeros((y_shape,x_shape))\n",
    "    \n",
    "    if 'aperture_size' not in filter_kwargs:\n",
    "        filter_area = np.pi * (8000)**2\n",
    "    else:\n",
    "        filter_area = np.pi * filter_kwargs['aperture_size']**2\n",
    "    \n",
    "    # an extra catch for an objects assigned NaN g1/g2 just in case\n",
    "    # nan_catch = np.isfinite(g1) & np.isfinite(g2)\n",
    "    # x = x[nan_catch]\n",
    "    # y = y[nan_catch]\n",
    "    # g1 = g1[nan_catch]\n",
    "    # g2 = g2[nan_catch]\n",
    "    # weights = weights[nan_catch]\n",
    "\n",
    "    comp_shear = g1 + 1j*g2\n",
    "    g_mag = g1**2 + g2**2\n",
    "    \n",
    "    for i in range(y_shape):\n",
    "        for j in range(x_shape):\n",
    "            delta_x = x_grid[j,i] - x\n",
    "            delta_y = y_grid[j,i] - y\n",
    "            radius = np.sqrt(delta_x**2 + delta_y**2)# * deg2pix_conv\n",
    "            theta = np.arctan2(delta_y,delta_x)\n",
    "            rotated_shear = comp_shear * -1*np.exp(-2j*theta)\n",
    "            g_T = rotated_shear.real\n",
    "            g_X = rotated_shear.imag\n",
    "            # g_T = -g1*np.cos(2*theta) - g2*np.sin(2*theta)\n",
    "            # g_X =  g1*np.sin(2*theta) - g2*np.cos(2*theta)\n",
    "            # g_mag = g1**2 + g2**2\n",
    "\n",
    "            filter_values = q_filter(radius,**filter_kwargs)\n",
    "    \n",
    "\n",
    "            weight_sum = np.sum(weights)\n",
    "            \n",
    "            Map_E[i,j] = np.sum(filter_values*g_T*weights)*filter_area/weight_sum\n",
    "            Map_B[i,j] = np.sum(filter_values*g_X*weights)*filter_area/weight_sum\n",
    "            Map_V[i,j] = np.sum( (filter_values**2)*g_mag*(weights**2) )*(filter_area**2)/(2*(weight_sum**2))\n",
    "    \n",
    "    return Map_E, Map_B, Map_V"
   ]
  },
  {
   "cell_type": "markdown",
   "id": "bb3550e5-dc42-4668-b5bd-93255d5fe9ea",
   "metadata": {},
   "source": [
    "### Global R"
   ]
  },
  {
   "cell_type": "code",
   "execution_count": null,
   "id": "b0ed0684-ebf6-4ac0-835b-012937210895",
   "metadata": {},
   "outputs": [],
   "source": [
    "ra_bcg, dec_bcg = (37.86501659859067, 6.982204815599694)"
   ]
  },
  {
   "cell_type": "code",
   "execution_count": null,
   "id": "2ba5eeb3-471c-43f9-ba6c-6a1d36887e11",
   "metadata": {},
   "outputs": [],
   "source": [
    "# first, setup a coordinates for a flat-sky in x and y\n",
    "# create a WCS and use the corresponding method to transform sky to px coords\n",
    "\n",
    "# load wcs from astropy\n",
    "from astropy.wcs import WCS\n",
    "from astropy.wcs.utils import skycoord_to_pixel\n",
    "\n",
    "# also load skycoord for the conversion\n",
    "from astropy.coordinates import SkyCoord\n",
    "\n",
    "# build wcs centered on BCG\n",
    "flat_wcs = WCS(naxis=2)\n",
    "crval_sky = [ra_bcg*u.deg,dec_bcg*u.deg]\n",
    "flat_wcs.wcs.crval = [ra_bcg,dec_bcg]\n",
    "flat_wcs.wcs.crpix = [0,0] # assign 0,0 to the center, shouldn't matter\n",
    "flat_wcs.wcs.cdelt = [-0.2/3600,0.2/3600] # match angular resolution of LSST, 0.2\"\n",
    "flat_wcs.wcs.ctype = [\"RA---TAN\", \"DEC--TAN\"]\n",
    "flat_wcs.wcs.radesys = 'ICRS'\n",
    "flat_wcs.wcs.equinox = 2000\n",
    "flat_wcs.wcs.cd = [[-0.2/3600,0],[0,0.2/3600]]\n",
    "\n",
    "# compute coords in the flat-sky\n",
    "# coords = SkyCoord(ra=merged_cat_wl['coord_ra'][source_filt][to_use],dec=merged_cat_wl['coord_dec'][source_filt][to_use],unit='degree')\n",
    "coords = SkyCoord(ra=wl_table['coord_ra'],dec=wl_table['coord_dec'],unit='degree')\n",
    "x,y = skycoord_to_pixel(coords,wcs=flat_wcs)\n",
    "\n",
    "# scale these up to units of degrees to match mass_map spacing and make writing the aperture easier\n",
    "x = x * 0.2/3600\n",
    "y = y * 0.2/3600\n",
    "\n",
    "# for now I'll weight everything uniformly\n",
    "weights = np.ones(len(x))\n",
    "\n",
    "# Define an NxN grid centered on the cluster\n",
    "# Spans 1-deg centered at the BCG\n",
    "# scale so that its in pixel coordinates for computing\n",
    "N = 51\n",
    "\n",
    "mid_x = 0\n",
    "mid_y = 0\n",
    "x_grid_samples = np.linspace(mid_x-0.5,mid_x+0.5,N)\n",
    "y_grid_samples = np.linspace(mid_y-0.5,mid_y+0.5,N)\n",
    "y_grid,x_grid = np.meshgrid(y_grid_samples,x_grid_samples)"
   ]
  },
  {
   "cell_type": "markdown",
   "id": "57225b72-405c-4b5a-8a1f-4e479ead2c24",
   "metadata": {},
   "source": [
    "#### non-FPFS "
   ]
  },
  {
   "cell_type": "code",
   "execution_count": null,
   "id": "1f9a6c6e-cf93-4a51-a970-00950aae4268",
   "metadata": {},
   "outputs": [],
   "source": [
    "# Using a global R for the first try:\n",
    "\n",
    "global_R = 0.5 * (np.mean(wl_table['anacal_R1']) + np.mean(wl_table['anacal_R2']))\n",
    "print(global_R)\n",
    "\n",
    "weights = np.ones(len(x))\n",
    "g1 = wl_table['anacal_e1'] / global_R\n",
    "g2 = wl_table['anacal_e2'] / global_R"
   ]
  },
  {
   "cell_type": "code",
   "execution_count": null,
   "id": "08caba81-bac5-4938-9777-e7c011dddfcd",
   "metadata": {},
   "outputs": [],
   "source": [
    "# this takes a minute to run\n",
    "e_ap,b_ap,v_ap = compute_mass_map(x_grid,y_grid,x,y,g1,g2,weights,schirmer_filter,filter_kwargs={'aperture_size':0.75})"
   ]
  },
  {
   "cell_type": "code",
   "execution_count": null,
   "id": "56882597-1f37-482b-8bc0-832fa29eebb7",
   "metadata": {},
   "outputs": [],
   "source": [
    "sky_box = np.array([[x_grid.max(), x_grid.min()],[y_grid.min(), y_grid.max()]])"
   ]
  },
  {
   "cell_type": "code",
   "execution_count": null,
   "id": "14eea749-4c9a-4d0b-9577-35fbdfce705d",
   "metadata": {},
   "outputs": [],
   "source": [
    "test_xs = np.linspace(-5, 5, num=1001)\n",
    "standard = stats.norm(0,1)\n",
    "normal_dist = standard.pdf(test_xs)"
   ]
  },
  {
   "cell_type": "code",
   "execution_count": null,
   "id": "ad05079d-5efe-4010-87cc-2986911cdf76",
   "metadata": {},
   "outputs": [],
   "source": [
    "plt.hist((b_ap/np.sqrt(v_ap)).flatten(), bins=51, label='B Mode', histtype='step', density=True)\n",
    "plt.hist((e_ap/np.sqrt(v_ap)).flatten(), bins=51, label='E Mode', histtype='step', density=True)\n",
    "plt.plot(test_xs, normal_dist, '--')\n",
    "plt.legend();"
   ]
  },
  {
   "cell_type": "code",
   "execution_count": null,
   "id": "b293da1d-fac4-4b1b-9350-9feeda959561",
   "metadata": {},
   "outputs": [],
   "source": [
    "print(np.abs(e_ap/np.sqrt(v_ap)).max(), np.abs(b_ap/np.sqrt(v_ap)).max())"
   ]
  },
  {
   "cell_type": "code",
   "execution_count": null,
   "id": "54ce6aa1-4dbd-4621-8ff0-2519a9f5ff27",
   "metadata": {},
   "outputs": [],
   "source": [
    "fig, axs = plt.subplots(ncols=2,figsize=(10,6))\n",
    "\n",
    "ax = axs[0]\n",
    "ax.set_title('E-Mode SN')\n",
    "MapE = ax.imshow(e_ap/np.sqrt(v_ap),origin='lower',vmax=5,vmin=-2, extent=(sky_box[0,0], sky_box[0,1], sky_box[1,0], sky_box[1,1]))\n",
    "\n",
    "ax = axs[1]\n",
    "ax.set_title('B-Mode SN')\n",
    "MapB = ax.imshow(b_ap/np.sqrt(v_ap),origin='lower',vmax=5,vmin=-2, extent=(sky_box[0,0], sky_box[0,1], sky_box[1,0], sky_box[1,1]))\n",
    "\n",
    "# for xx in axs:\n",
    "#     xx.plot(ra_bcg, dec_bcg, 'rx')\n",
    "cbar = fig.colorbar(MapE, ax=axs,fraction=0.025)\n",
    "\n",
    "fig.supxlabel(\"RA\", y=0.14)\n",
    "fig.supylabel(\"DEC\", x=0.05)\n",
    "#fig.savefig('ACO360_mass_map.png',dpi=480)\n",
    "# woohoo, we have a signal!"
   ]
  },
  {
   "cell_type": "markdown",
   "id": "f87cd778-1421-41d5-8d68-433849ca02a0",
   "metadata": {},
   "source": [
    "#### FPFS "
   ]
  },
  {
   "cell_type": "code",
   "execution_count": null,
   "id": "87edd826-8f1a-4554-a281-596172260aea",
   "metadata": {},
   "outputs": [],
   "source": [
    "# first, setup a coordinates for a flat-sky in x and y\n",
    "# create a WCS and use the corresponding method to transform sky to px coords\n",
    "\n",
    "# load wcs from astropy\n",
    "from astropy.wcs import WCS\n",
    "from astropy.wcs.utils import skycoord_to_pixel\n",
    "\n",
    "# also load skycoord for the conversion\n",
    "from astropy.coordinates import SkyCoord\n",
    "\n",
    "# build wcs centered on BCG\n",
    "flat_wcs = WCS(naxis=2)\n",
    "crval_sky = [ra_bcg*u.deg,dec_bcg*u.deg]\n",
    "flat_wcs.wcs.crval = [ra_bcg,dec_bcg]\n",
    "flat_wcs.wcs.crpix = [0,0] # assign 0,0 to the center, shouldn't matter\n",
    "flat_wcs.wcs.cdelt = [-0.2/3600,0.2/3600] # match angular resolution of LSST, 0.2\"\n",
    "flat_wcs.wcs.ctype = [\"RA---TAN\", \"DEC--TAN\"]\n",
    "flat_wcs.wcs.radesys = 'ICRS'\n",
    "flat_wcs.wcs.equinox = 2000\n",
    "flat_wcs.wcs.cd = [[-0.2/3600,0],[0,0.2/3600]]\n",
    "\n",
    "# compute coords in the flat-sky\n",
    "# coords = SkyCoord(ra=merged_cat_wl['coord_ra'][source_filt][to_use],dec=merged_cat_wl['coord_dec'][source_filt][to_use],unit='degree')\n",
    "coords = SkyCoord(ra=wl_table['coord_ra'],dec=wl_table['coord_dec'],unit='degree')\n",
    "x,y = skycoord_to_pixel(coords,wcs=flat_wcs)\n",
    "\n",
    "# scale these up to units of degrees to match mass_map spacing and make writing the aperture easier\n",
    "x = x * 0.2/3600\n",
    "y = y * 0.2/3600\n",
    "\n",
    "# for now I'll weight everything uniformly\n",
    "weights = np.ones(len(x))\n",
    "\n",
    "# Define an NxN grid centered on the cluster\n",
    "# Spans 1-deg centered at the BCG\n",
    "# scale so that its in pixel coordinates for computing\n",
    "N = 51\n",
    "\n",
    "mid_x = 0\n",
    "mid_y = 0\n",
    "x_grid_samples = np.linspace(mid_x-0.5,mid_x+0.5,N)\n",
    "y_grid_samples = np.linspace(mid_y-0.5,mid_y+0.5,N)\n",
    "y_grid,x_grid = np.meshgrid(y_grid_samples,x_grid_samples)"
   ]
  },
  {
   "cell_type": "code",
   "execution_count": null,
   "id": "549ecc94-0241-4374-9366-5166ed3a5535",
   "metadata": {},
   "outputs": [],
   "source": [
    "# Using a global R for the first try:\n",
    "\n",
    "global_R = 0.5 * (np.mean(wl_table['anacal_fpfs_R1']) + np.mean(wl_table['anacal_fpfs_R2']))\n",
    "print(global_R)\n",
    "\n",
    "weights = np.ones(len(x))\n",
    "g1 = wl_table['anacal_fpfs_e1'] / global_R\n",
    "g2 = wl_table['anacal_fpfs_e2'] / global_R"
   ]
  },
  {
   "cell_type": "code",
   "execution_count": null,
   "id": "8005f96c-6435-4845-94c3-c11f059cfef0",
   "metadata": {},
   "outputs": [],
   "source": [
    "plt.hist(wl_table['anacal_fpfs_e1'], bins=100, alpha=0.2, range=[-2, 2], label='e1')\n",
    "plt.hist(g1, bins=100, alpha=0.2, range=[-2, 2], label='g1 - calibrated')\n",
    "plt.legend()"
   ]
  },
  {
   "cell_type": "code",
   "execution_count": null,
   "id": "b21f30a5-fc26-4785-84c3-3157715a0296",
   "metadata": {},
   "outputs": [],
   "source": [
    "# this takes a minute to run\n",
    "e_ap,b_ap,v_ap = compute_mass_map(x_grid,y_grid,x,y,g1,g2,weights,schirmer_filter,filter_kwargs={'aperture_size':0.75})"
   ]
  },
  {
   "cell_type": "code",
   "execution_count": null,
   "id": "53479c08-c4e8-4e05-b089-7ad2c8c85efd",
   "metadata": {},
   "outputs": [],
   "source": [
    "sky_box = np.array([[x_grid.max(), x_grid.min()],[y_grid.min(), y_grid.max()]])"
   ]
  },
  {
   "cell_type": "code",
   "execution_count": null,
   "id": "e24fb718-a502-464d-924e-2dae3655142a",
   "metadata": {},
   "outputs": [],
   "source": [
    "test_xs = np.linspace(-5, 5, num=1001)\n",
    "standard = stats.norm(0,1)\n",
    "normal_dist = standard.pdf(test_xs)"
   ]
  },
  {
   "cell_type": "code",
   "execution_count": null,
   "id": "84faec5d-9c55-4e40-b939-1a3adac38e02",
   "metadata": {},
   "outputs": [],
   "source": [
    "plt.hist((b_ap/np.sqrt(v_ap)).flatten(), bins=51, label='B Mode', histtype='step', density=True)\n",
    "plt.hist((e_ap/np.sqrt(v_ap)).flatten(), bins=51, label='E Mode', histtype='step', density=True)\n",
    "plt.plot(test_xs, normal_dist, '--', label=\"Gaussian\")\n",
    "plt.title(\"FPFS Mass Map Component Distribution\")\n",
    "plt.legend(frameon=False);"
   ]
  },
  {
   "cell_type": "code",
   "execution_count": null,
   "id": "1dab86c9-bdfa-4267-9d8b-40eabad1203b",
   "metadata": {},
   "outputs": [],
   "source": [
    "print(np.abs(e_ap/np.sqrt(v_ap)).max(), np.abs(b_ap/np.sqrt(v_ap)).max())"
   ]
  },
  {
   "cell_type": "code",
   "execution_count": null,
   "id": "fc7bf8f7-be14-4ed9-9c9f-2185a33cb9e6",
   "metadata": {},
   "outputs": [],
   "source": [
    "fig, axs = plt.subplots(ncols=2,figsize=(10,6))\n",
    "\n",
    "ax = axs[0]\n",
    "ax.set_title('E-Mode SN')\n",
    "MapE = ax.imshow(e_ap/np.sqrt(v_ap),origin='lower',vmax=5,vmin=-2, extent=(sky_box[0,0], sky_box[0,1], sky_box[1,0], sky_box[1,1]))\n",
    "\n",
    "ax = axs[1]\n",
    "ax.set_title('B-Mode SN')\n",
    "MapB = ax.imshow(b_ap/np.sqrt(v_ap),origin='lower',vmax=5,vmin=-2, extent=(sky_box[0,0], sky_box[0,1], sky_box[1,0], sky_box[1,1]))\n",
    "\n",
    "# for xx in axs:\n",
    "#     xx.plot(ra_bcg, dec_bcg, 'rx')\n",
    "cbar = fig.colorbar(MapE, ax=axs,fraction=0.025)\n",
    "\n",
    "fig.suptitle(\"FPFS Mass Map\", y=0.85)\n",
    "fig.supxlabel(\"RA\", y=0.14)\n",
    "fig.supylabel(\"DEC\", x=0.05)\n",
    "#fig.savefig('ACO360_mass_map.png',dpi=480)\n",
    "# woohoo, we have a signal!"
   ]
  },
  {
   "cell_type": "markdown",
   "id": "b3b41e06-8cfc-49b5-951a-d952eabf27d6",
   "metadata": {},
   "source": [
    "### Weighted R"
   ]
  },
  {
   "cell_type": "code",
   "execution_count": null,
   "id": "468dd7af-d7cc-4b94-9702-8c54a9903a07",
   "metadata": {},
   "outputs": [],
   "source": [
    "def compute_mass_map_anacal(x_grid,y_grid,x,y,e1,e2, R1, R2,\n",
    "                            weights,q_filter,filter_kwargs={}):\n",
    "    '''\n",
    "    This function computes the mass aperture-statistics at each point on a specified grid. Run quality-cuts, NaN filtering, etc. before this step!\n",
    "    \n",
    "    Args:\n",
    "        x: Numpy array; an array of x-coordinates for each object\n",
    "        y: Numpy array; an array of y-coordinates for each object\n",
    "        x_grid: Numpy array; an NxM array of x-coordinates to sample the aperture-mass on\n",
    "        y_grid: Numpy array; an NxM array of y-coordinates to sample the aperture-mass on\n",
    "        g1; Numpy array; the shear g1 for each object\n",
    "        g2; Numpy array; the shear g2 for each object\n",
    "        weights: Numpy array; the weight for each object's shear\n",
    "        q_filter; function; the filter-function used to compute Map\n",
    "        kwargs; dict; kwargs passed to w_filter\n",
    "    \n",
    "    Returns:\n",
    "        Map_E: Numpy array; an NxM array containing the E-mode aperture mass evaluated at each grid-point\n",
    "        Map_B: Numpy array; an NxM array containing the B-mode aperture mass evaluated at each grid-point\n",
    "        Map_V: Numpy array; an NxM array containing the variance in the aperture mass evaluated at each grid-point\n",
    "\n",
    "    '''\n",
    "\n",
    "    y_shape = len(y_grid[:,0])\n",
    "    x_shape = len(x_grid[0,:])\n",
    "    \n",
    "    Map_E = np.zeros((y_shape,x_shape))\n",
    "    Map_B = np.zeros((y_shape,x_shape))\n",
    "    Map_V = np.zeros((y_shape,x_shape))\n",
    "    \n",
    "    if 'aperture_size' not in filter_kwargs:\n",
    "        filter_area = np.pi * (8000)**2\n",
    "    else:\n",
    "        filter_area = np.pi * filter_kwargs['aperture_size']**2\n",
    "    \n",
    "    # an extra catch for an objects assigned NaN g1/g2 just in case\n",
    "    nan_catch = np.isfinite(e1) & np.isfinite(e2)\n",
    "    x = x[nan_catch]\n",
    "    y = y[nan_catch]\n",
    "    e1 = e1[nan_catch]\n",
    "    e2 = e2[nan_catch]\n",
    "    weights = weights[nan_catch]\n",
    "    \n",
    "    for i in range(y_shape):\n",
    "        for j in range(x_shape):\n",
    "            delta_x = x_grid[j,i] - x\n",
    "            delta_y = y_grid[j,i] - y\n",
    "            radius = np.sqrt(delta_x**2 + delta_y**2)# * deg2pix_conv\n",
    "            theta = np.arctan2(delta_y,delta_x)\n",
    "\n",
    "            filter_values = q_filter(radius,**filter_kwargs)\n",
    "\n",
    "            r_weights = (radius < filter_kwargs['aperture_size']).astype(int) # Top-hat\n",
    "            # r_weights = filter_values # Schrimer weight\n",
    "\n",
    "            R1s = np.average(R1, weights=r_weights)\n",
    "            R2s = np.average(R2, weights=r_weights)\n",
    "\n",
    "            R_val = 0.5*(R1s + R2s)\n",
    "            # R_val = 0.1\n",
    "\n",
    "            g1 = e1 / R_val\n",
    "            g2 = e2 / R_val\n",
    "\n",
    "            g_T = -g1*np.cos(2*theta) - g2*np.sin(2*theta)\n",
    "            g_X =  g1*np.sin(2*theta) - g2*np.cos(2*theta)\n",
    "            g_mag = g1**2 + g2**2\n",
    "\n",
    "            weight_sum = np.sum(weights)\n",
    "            \n",
    "            Map_E[i,j] = np.sum(filter_values*g_T*weights)*filter_area/weight_sum\n",
    "            Map_B[i,j] = np.sum(filter_values*g_X*weights)*filter_area/weight_sum\n",
    "            Map_V[i,j] = np.sum( (filter_values**2)*g_mag*(weights**2) )*(filter_area**2)/(2*(weight_sum**2))\n",
    "    \n",
    "    return Map_E, Map_B, Map_V"
   ]
  },
  {
   "cell_type": "code",
   "execution_count": null,
   "id": "4a77429f-11d7-40a8-b2a4-5845e0f49b1a",
   "metadata": {},
   "outputs": [],
   "source": [
    "ra_bcg, dec_bcg = (37.86501659859067, 6.982204815599694)"
   ]
  },
  {
   "cell_type": "code",
   "execution_count": null,
   "id": "7bce2976-efd0-49e7-bf58-366bb5adbdf6",
   "metadata": {},
   "outputs": [],
   "source": [
    "# first, setup a coordinates for a flat-sky in x and y\n",
    "# create a WCS and use the corresponding method to transform sky to px coords\n",
    "\n",
    "# load wcs from astropy\n",
    "from astropy.wcs import WCS\n",
    "from astropy.wcs.utils import skycoord_to_pixel\n",
    "\n",
    "# also load skycoord for the conversion\n",
    "from astropy.coordinates import SkyCoord\n",
    "\n",
    "# build wcs centered on BCG\n",
    "flat_wcs = WCS(naxis=2)\n",
    "crval_sky = [ra_bcg*u.deg,dec_bcg*u.deg]\n",
    "flat_wcs.wcs.crval = [ra_bcg,dec_bcg]\n",
    "flat_wcs.wcs.crpix = [0,0] # assign 0,0 to the center, shouldn't matter\n",
    "flat_wcs.wcs.cdelt = [-0.2/3600,0.2/3600] # match angular resolution of LSST, 0.2\"\n",
    "flat_wcs.wcs.ctype = [\"RA---TAN\", \"DEC--TAN\"]\n",
    "flat_wcs.wcs.radesys = 'ICRS'\n",
    "flat_wcs.wcs.equinox = 2000\n",
    "flat_wcs.wcs.cd = [[-0.2/3600,0],[0,0.2/3600]]\n",
    "\n",
    "# compute coords in the flat-sky\n",
    "# coords = SkyCoord(ra=merged_cat_wl['coord_ra'][source_filt][to_use],dec=merged_cat_wl['coord_dec'][source_filt][to_use],unit='degree')\n",
    "coords = SkyCoord(ra=wl_table['coord_ra'],dec=wl_table['coord_dec'],unit='degree')\n",
    "x,y = skycoord_to_pixel(coords,wcs=flat_wcs)\n",
    "\n",
    "# scale these up to units of degrees to match mass_map spacing and make writing the aperture easier\n",
    "x = x * 0.2/3600\n",
    "y = y * 0.2/3600\n",
    "\n",
    "# for now I'll weight everything uniformly\n",
    "weights = np.ones(len(x))\n",
    "\n",
    "# Define an NxN grid centered on the cluster\n",
    "# Spans 1-deg centered at the BCG\n",
    "# scale so that its in pixel coordinates for computing\n",
    "N = 51\n",
    "\n",
    "mid_x = 0\n",
    "mid_y = 0\n",
    "x_grid_samples = np.linspace(mid_x-0.5,mid_x+0.5,N)\n",
    "y_grid_samples = np.linspace(mid_y-0.5,mid_y+0.5,N)\n",
    "y_grid,x_grid = np.meshgrid(y_grid_samples,x_grid_samples)"
   ]
  },
  {
   "cell_type": "code",
   "execution_count": null,
   "id": "bb9fa645-182f-4f92-96df-137fa1bae5c0",
   "metadata": {},
   "outputs": [],
   "source": [
    "# # object positions\n",
    "# # x = merged_cat_wl['coord_ra'][source_filt][to_use]\n",
    "# # y = merged_cat_wl['coord_dec'][source_filt][to_use]\n",
    "\n",
    "# x = wl_table['coord_ra']\n",
    "# y = wl_table['coord_dec']\n",
    "\n",
    "# # for now I'll weight everything uniformly\n",
    "# weights = np.ones(len(x))\n",
    "# # weights = weight\n",
    "\n",
    "# # Define an NxN grid centered on the cluster\n",
    "# N = 151\n",
    "\n",
    "# mid_x = ra_bcg\n",
    "# mid_y = dec_bcg\n",
    "# x_grid_samples = np.linspace(mid_x-0.5,mid_x+0.5,N)\n",
    "# y_grid_samples = np.linspace(mid_y-0.5,mid_y+0.5,N)\n",
    "# y_grid,x_grid = np.meshgrid(y_grid_samples,x_grid_samples)"
   ]
  },
  {
   "cell_type": "code",
   "execution_count": null,
   "id": "0609d64a-0676-403d-8308-828fac3b5a76",
   "metadata": {},
   "outputs": [],
   "source": [
    "e1 = wl_table['anacal_fpfs_e1']\n",
    "e2 = wl_table['anacal_fpfs_e2']\n",
    "R1 = wl_table['anacal_fpfs_R1']\n",
    "R2 = wl_table['anacal_fpfs_R2']\n",
    "weights = np.ones(len(wl_table))"
   ]
  },
  {
   "cell_type": "code",
   "execution_count": null,
   "id": "74145de5-385c-463d-9252-c8d879aafde4",
   "metadata": {},
   "outputs": [],
   "source": [
    "Rmap1 = np.zeros((N, N))\n",
    "Rmap2 = np.zeros((N, N))\n",
    "\n",
    "for i in range(N):\n",
    "    for j in range(N):\n",
    "        delta_x = x_grid[j,i] - x\n",
    "        delta_y = y_grid[j,i] - y\n",
    "        radius = np.sqrt(delta_x**2 + delta_y**2)# * deg2pix_conv\n",
    "        theta = np.arctan2(delta_y,delta_x)\n",
    "\n",
    "        filter_values = schirmer_filter(radius, aperture_size=0.4)\n",
    "        R1s = np.average(R1, weights=filter_values)\n",
    "        R2s = np.average(R2, weights=filter_values)\n",
    "        Rmap1[i,j] = 0.5*(R1s + R2s)\n",
    "\n",
    "        filter_values = (radius < 0.4).astype(int)\n",
    "        R1s = np.average(R1, weights=filter_values)\n",
    "        R2s = np.average(R2, weights=filter_values)\n",
    "        Rmap2[i,j] = 0.5*(R1s + R2s)"
   ]
  },
  {
   "cell_type": "code",
   "execution_count": null,
   "id": "e9fa5218-173c-4bbd-8a05-5c3a0008701c",
   "metadata": {},
   "outputs": [],
   "source": [
    "sky_box = np.array([[x_grid.max(), x_grid.min()],[y_grid.min(), y_grid.max()]])"
   ]
  },
  {
   "cell_type": "code",
   "execution_count": null,
   "id": "b9d45124-5d9f-49b8-8ec0-e191c986bcaf",
   "metadata": {},
   "outputs": [],
   "source": [
    "fig, ax = plt.subplots(ncols=2, figsize=(10, 5))\n",
    "\n",
    "cmap = cm.coolwarm\n",
    "\n",
    "ax[0].imshow(Rmap1, vmin=.15, vmax=.35, cmap=cmap, extent=(sky_box[0,0], sky_box[0,1], sky_box[1,0], sky_box[1,1]))\n",
    "ax[0].set_title(\"Response using Schirmer Weighting\")\n",
    "# ax[0].plot(wl_table['coord_ra'], wl_table['coord_dec'], 'x', alpha=0.02)\n",
    "\n",
    "k2 = ax[1].imshow(Rmap2, vmin=.15, vmax=.35, cmap=cmap, extent=(sky_box[0,0], sky_box[0,1], sky_box[1,0], sky_box[1,1]))\n",
    "ax[1].set_title(\"Response using Top Hat Weighting\")\n",
    "\n",
    "# for xx in ax:\n",
    "#     lon = xx.coords[0]\n",
    "#     lat = xx.coords[1]\n",
    "    \n",
    "#     lon.set_major_formatter('d.d')\n",
    "#     lat.set_major_formatter('d.d')\n",
    "#     lon.set_axislabel('')\n",
    "#     lat.set_axislabel('')\n",
    "\n",
    "fig.supxlabel('RA')\n",
    "fig.supylabel('DEC', x=0.05)\n",
    "\n",
    "fig.subplots_adjust(right=0.95)\n",
    "cbar_ax = fig.add_axes([0.97, 0.12, 0.02, 0.75])\n",
    "fig.colorbar(k2, cax=cbar_ax)"
   ]
  },
  {
   "cell_type": "markdown",
   "id": "5f02aaee-7a78-40bb-84ba-9a5824886c4f",
   "metadata": {},
   "source": [
    "Weighting is being done very lazily, just change the value of `r_weights` in `compute_mass_map_anacal`"
   ]
  },
  {
   "cell_type": "code",
   "execution_count": null,
   "id": "67cce923-4c08-4a0c-9581-63991f59a38c",
   "metadata": {},
   "outputs": [],
   "source": [
    "# this takes a minute to run\n",
    "e_ap,b_ap,v_ap = compute_mass_map_anacal(x_grid,y_grid,x,y,e1, e2, R1, R2,weights,schirmer_filter,filter_kwargs={'aperture_size':0.6})"
   ]
  },
  {
   "cell_type": "code",
   "execution_count": null,
   "id": "a447b3aa-a524-47ca-be09-4a25fd605def",
   "metadata": {},
   "outputs": [],
   "source": [
    "sky_box = np.array([[x_grid.max(), x_grid.min()],[y_grid.min(), y_grid.max()]])"
   ]
  },
  {
   "cell_type": "code",
   "execution_count": null,
   "id": "762f94a1-e8b7-4f5c-a0b1-d8c7f37be61b",
   "metadata": {},
   "outputs": [],
   "source": [
    "test_xs = np.linspace(-5, 5, num=1001)\n",
    "standard = stats.norm(0,1)\n",
    "normal_dist = standard.pdf(test_xs)"
   ]
  },
  {
   "cell_type": "code",
   "execution_count": null,
   "id": "6bfecacb-9d12-4a4f-9c52-3fccb4f34869",
   "metadata": {},
   "outputs": [],
   "source": [
    "plt.hist((b_ap/np.sqrt(v_ap)).flatten(), bins=51, label='B Mode', histtype='step', density=True)\n",
    "plt.hist((e_ap/np.sqrt(v_ap)).flatten(), bins=51, label='E Mode', histtype='step', density=True)\n",
    "plt.plot(test_xs, normal_dist, '--')\n",
    "plt.title(\"Top Hat Weighted\")\n",
    "plt.legend();"
   ]
  },
  {
   "cell_type": "code",
   "execution_count": null,
   "id": "0410339b-be9b-4058-a951-a288989adebe",
   "metadata": {},
   "outputs": [],
   "source": [
    "fig, axs = plt.subplots(ncols=2,figsize=(10,6))\n",
    "\n",
    "ax = axs[0]\n",
    "ax.set_title('E-Mode SN')\n",
    "MapE = ax.imshow(e_ap/np.sqrt(v_ap),origin='lower',vmax=5,vmin=-2, extent=(sky_box[0,0], sky_box[0,1], sky_box[1,0], sky_box[1,1]))\n",
    "\n",
    "ax = axs[1]\n",
    "ax.set_title('B-Mode SN')\n",
    "MapB = ax.imshow(b_ap/np.sqrt(v_ap),origin='lower',vmax=5,vmin=-2, extent=(sky_box[0,0], sky_box[0,1], sky_box[1,0], sky_box[1,1]))\n",
    "\n",
    "# for xx in axs:\n",
    "#     xx.plot(ra_bcg, dec_bcg, 'rx')\n",
    "cbar = fig.colorbar(MapE, ax=axs,fraction=0.025)\n",
    "\n",
    "fig.supxlabel(\"RA\", y=0.14)\n",
    "fig.supylabel(\"DEC\", x=0.05)\n",
    "fig.suptitle(\"Top Hat Weighted\", y=0.85)\n",
    "#fig.savefig('ACO360_mass_map.png',dpi=480)\n",
    "\n",
    "# woohoo, we have a signal!"
   ]
  },
  {
   "cell_type": "code",
   "execution_count": null,
   "id": "960ff219-4291-43cb-befa-fd1466313098",
   "metadata": {},
   "outputs": [],
   "source": []
  },
  {
   "cell_type": "code",
   "execution_count": null,
   "id": "95c78910-5a6a-41b7-89df-94e68bdb1119",
   "metadata": {},
   "outputs": [],
   "source": []
  }
 ],
 "metadata": {
  "kernelspec": {
   "display_name": "LSST",
   "language": "python",
   "name": "lsst"
  },
  "language_info": {
   "codemirror_mode": {
    "name": "ipython",
    "version": 3
   },
   "file_extension": ".py",
   "mimetype": "text/x-python",
   "name": "python",
   "nbconvert_exporter": "python",
   "pygments_lexer": "ipython3",
   "version": "3.12.11"
  }
 },
 "nbformat": 4,
 "nbformat_minor": 5
}
