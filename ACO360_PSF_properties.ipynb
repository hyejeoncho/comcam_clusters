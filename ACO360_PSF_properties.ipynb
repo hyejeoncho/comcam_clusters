{
 "cells": [
  {
   "cell_type": "markdown",
   "id": "a3cb3c0d-88be-4273-acd2-b97b2b0211fd",
   "metadata": {
    "execution": {
     "iopub.execute_input": "2025-03-27T08:46:58.391190Z",
     "iopub.status.busy": "2025-03-27T08:46:58.390706Z",
     "iopub.status.idle": "2025-03-27T08:46:58.396363Z",
     "shell.execute_reply": "2025-03-27T08:46:58.395897Z",
     "shell.execute_reply.started": "2025-03-27T08:46:58.391174Z"
    }
   },
   "source": [
    "# Check PSF correction in A360 field\n",
    "\n",
    "Contact author: Céline Combet; with inputs from many (Anthony, Ian, Miranda, Shenming, Anja, etc.)\\\n",
    "LSST Science Piplines version: Weekly 2025_09\\\n",
    "Container Size: large\n",
    "\n",
    "This notebook aims at check the PSF behaviour and correction in A360 field, that we use to perform the WL analysis. The main steps are\n",
    "\n",
    "- Loading the relevant stars from the object catalogs (all tracts and patches needed) using the butler\n",
    "- Checking out the size of the PSF accross the field\n",
    "- Computing the ellipticities of stars and corresponding PSF model and make the whisker plots to check out the residuals.\n",
    "- Compute the radial profile of the tangential residuals (this uses CLMM)\n",
    "\n",
    "All is done in the `i` band.\n",
    "\n",
    "NB: Check out the [PSF DP0.2 tutorial](https://github.com/lsst/tutorial-notebooks/blob/main/DP0.2/12b_PSF_Science_Demo.ipynb) for more PSF diagnostics "
   ]
  },
  {
   "cell_type": "code",
   "execution_count": null,
   "id": "ddf82e56-ef5a-4dfc-abd9-92f8fa6e65fb",
   "metadata": {},
   "outputs": [],
   "source": [
    "# general python packages\n",
    "import numpy as np\n",
    "import matplotlib.pyplot as plt\n",
    "import pandas as pd"
   ]
  },
  {
   "cell_type": "code",
   "execution_count": null,
   "id": "7e89df4c-23d3-4866-bc9d-78aecbcce935",
   "metadata": {},
   "outputs": [],
   "source": [
    "from lsst.daf.butler import Butler\n",
    "import lsst.geom as geom\n",
    "import lsst.afw.geom as afwGeom"
   ]
  },
  {
   "cell_type": "code",
   "execution_count": null,
   "id": "96e65676-d2ff-4091-8401-9d34b3034513",
   "metadata": {},
   "outputs": [],
   "source": [
    "# repo = '/repo/main'\n",
    "# collection = 'LSSTComCam/runs/DRP/DP1/w_2025_08/DM-49029'\n",
    "# collection = 'LSSTComCam/runs/DRP/DP1/w_2025_09/DM-49235'\n",
    "\n",
    "repo = '/repo/dp1'\n",
    "collection = 'LSSTComCam/runs/DRP/DP1/v29_0_0/DM-50260'\n",
    "\n",
    "butler = Butler(repo, collections=collection)\n",
    "skymap = butler.get('skyMap', skymap='lsst_cells_v1')"
   ]
  },
  {
   "cell_type": "code",
   "execution_count": null,
   "id": "b5642678-0136-4774-85d2-21cccc02960f",
   "metadata": {},
   "outputs": [],
   "source": [
    "version_str = collection.split('/')\n",
    "version = version_str[-2:][0]+'_'+version_str[-2:][1]\n",
    "version"
   ]
  },
  {
   "cell_type": "markdown",
   "id": "63482375-69a6-4201-96da-9550357844ee",
   "metadata": {},
   "source": [
    "## Load the relevant catalogs\n",
    "For PSF studies, we need to look at stars\n",
    "### Find all tracts/patches to load"
   ]
  },
  {
   "cell_type": "code",
   "execution_count": null,
   "id": "0eb48cd7-9d90-4d8c-ba45-a058f5f1bc24",
   "metadata": {},
   "outputs": [],
   "source": [
    "# Position of the BCG for A360\n",
    "ra_bcg = 37.862\n",
    "dec_bcg = 6.98\n",
    "\n",
    "# Looking for all patches in delta deg region around it\n",
    "delta = 0.5\n",
    "center = geom.SpherePoint(ra_bcg, dec_bcg, geom.degrees)\n",
    "ra_min, ra_max = ra_bcg - delta, ra_bcg + delta\n",
    "dec_min, dec_max = dec_bcg - delta, dec_bcg + delta\n",
    "\n",
    "ra_range = (ra_min, ra_max)\n",
    "dec_range = (dec_min, dec_max)\n",
    "radec = [geom.SpherePoint(ra_range[0], dec_range[0], geom.degrees),\n",
    "         geom.SpherePoint(ra_range[0], dec_range[1], geom.degrees),\n",
    "         geom.SpherePoint(ra_range[1], dec_range[0], geom.degrees),\n",
    "         geom.SpherePoint(ra_range[1], dec_range[1], geom.degrees)]\n",
    "\n",
    "tracts_and_patches = skymap.findTractPatchList(radec)\n",
    "\n",
    "tp_dict = {}\n",
    "for tract_num in np.arange(len(tracts_and_patches)):\n",
    "    tract_info = tracts_and_patches[tract_num][0]\n",
    "    tract_idx = tract_info.getId()\n",
    "    # All the patches around the cluster\n",
    "    patches = []\n",
    "    for i,patch in enumerate(tracts_and_patches[tract_num][1]):\n",
    "        patch_info = tracts_and_patches[tract_num][1][i]\n",
    "        patch_idx = patch_info.sequential_index\n",
    "        patches.append(patch_idx)\n",
    "    tp_dict.update({tract_idx:patches})\n",
    "#tp_dict"
   ]
  },
  {
   "cell_type": "markdown",
   "id": "c52c6ddd-058d-42c9-8ef3-fe7934c1dc2c",
   "metadata": {
    "execution": {
     "iopub.execute_input": "2025-03-27T09:03:59.873500Z",
     "iopub.status.busy": "2025-03-27T09:03:59.873151Z",
     "iopub.status.idle": "2025-03-27T09:03:59.876023Z",
     "shell.execute_reply": "2025-03-27T09:03:59.875529Z",
     "shell.execute_reply.started": "2025-03-27T09:03:59.873483Z"
    }
   },
   "source": [
    "### Load quantities with the cuts needed to get PSF stars, etc. "
   ]
  },
  {
   "cell_type": "code",
   "execution_count": null,
   "id": "5e5073c6-c885-4687-9065-d598a86e5b7a",
   "metadata": {},
   "outputs": [],
   "source": [
    "# Get the object catlaog of these patches\n",
    "if 'v29' in version:\n",
    "    datasetType = 'object_patch'\n",
    "else:\n",
    "    datasetType = 'objectTable'\n",
    "\n",
    "merged_cat_used = pd.DataFrame() # to store the catalog of stars used by PIFF for the PSF modeling\n",
    "merged_cat_reserved = pd.DataFrame() # to store the catalog of stars marked as \"reserved\", i.e. not used to build the PIFF PSF model \n",
    "merged_cat_all = pd.DataFrame() # to store all star-like objects, to have more locations to check the PSF model.\n",
    "\n",
    "for tract in list(tp_dict.keys()):\n",
    "    print(f'Loading objects from tract {tract}, patches:{tp_dict[tract]}')\n",
    "    for patch in tp_dict[tract]:\n",
    "#        print(patch)\n",
    "        dataId = {'tract': tract, 'patch' : patch ,'skymap':'lsst_cells_v1'}\n",
    "        obj_cat = butler.get(datasetType, dataId=dataId)\n",
    "        if datasetType == 'object_patch': # new naming convention, and obj_cat is now an astropy table. \n",
    "            obj_cat = obj_cat.to_pandas() # convert to pandas to leave the rest of the code unchanged\n",
    "\n",
    "        # Stars used for the PSF modeling\n",
    "        filt = obj_cat['detect_isPrimary'] == True\n",
    "        filt &= obj_cat['refExtendedness'] == 0.0 # keep stars only\n",
    "        filt &= obj_cat['i_calib_psf_used'] == True # that were used to build the psf model\n",
    "        filt &= obj_cat['i_pixelFlags_inexact_psfCenter'] == False # To avoid objects with discontinuous PSF (due to edges)\n",
    "        filt &= obj_cat['i_calibFlux'] > 360 # nJy, be bright\n",
    "        merged_cat_used = pd.concat([merged_cat_used, obj_cat[filt]], ignore_index=True)\n",
    "\n",
    "        # Stars \"reserved\" to check the PSF modeling\n",
    "        filt = obj_cat['detect_isPrimary'] == True\n",
    "        filt &= obj_cat['refExtendedness'] == 0.0\n",
    "        filt &= obj_cat['i_calib_psf_reserved'] == True # not used for the psf model\n",
    "        filt &= obj_cat['i_pixelFlags_inexact_psfCenter']==False\n",
    "        merged_cat_reserved = pd.concat([merged_cat_reserved, obj_cat[filt]], ignore_index=True)\n",
    "\n",
    "        # All extended objects (to have more locations where to look at the PSF size)\n",
    "        filt = obj_cat['detect_isPrimary']==True\n",
    "        filt &= obj_cat['refExtendedness'] == 1.0\n",
    "        merged_cat_all = pd.concat([merged_cat_all, obj_cat[filt]], ignore_index=True)"
   ]
  },
  {
   "cell_type": "markdown",
   "id": "c28ea1af-6e13-476d-87b6-2480ae4333df",
   "metadata": {
    "execution": {
     "iopub.execute_input": "2025-03-27T09:04:51.017874Z",
     "iopub.status.busy": "2025-03-27T09:04:51.017557Z",
     "iopub.status.idle": "2025-03-27T09:04:51.020519Z",
     "shell.execute_reply": "2025-03-27T09:04:51.020066Z",
     "shell.execute_reply.started": "2025-03-27T09:04:51.017859Z"
    }
   },
   "source": [
    "## Check out the location of the PSF stars, in (ra, dec) and (x,y) coordinates, colored by track number\n",
    "\n",
    "The BCG and 1 deg field around it are highlighted in the (ra,dec) plot"
   ]
  },
  {
   "cell_type": "code",
   "execution_count": null,
   "id": "66f4cda2-057d-414c-9b81-38ee70a1bae9",
   "metadata": {},
   "outputs": [],
   "source": [
    "from matplotlib.patches import Circle\n",
    "\n",
    "circle1 = Circle((ra_bcg, dec_bcg), 0.5, color='black', fill=False, linewidth=0.5)\n",
    "\n",
    "color = ['red', 'blue','green','magenta']\n",
    "\n",
    "fig, ax = plt.subplots(nrows=1, ncols=2, figsize=(10,5))\n",
    "for i,tract in enumerate(list(tp_dict.keys())):\n",
    "    filt = merged_cat_used['tract'] == tract\n",
    "    ax[0].scatter(merged_cat_used[filt]['coord_ra'], merged_cat_used[filt]['coord_dec'], \n",
    "                  c=color[i],  marker='.', s=2, label=f'tract = {tract}')    \n",
    "    ax[0].set_xlabel('ra [deg]')\n",
    "    ax[0].set_ylabel('dec [deg]')\n",
    "    ax[0].add_patch(circle1)\n",
    "\n",
    "for i,tract in enumerate(list(tp_dict.keys())):\n",
    "    filt = merged_cat_used['tract'] == tract\n",
    "    ax[1].scatter(merged_cat_used[filt]['i_centroid_x'], merged_cat_used[filt]['i_centroid_y'],  marker='.', s=2, c=color[i])\n",
    "ax[1].set_xlabel('i_centroid_x')\n",
    "ax[1].set_ylabel('i_centroid_y')\n",
    "fig.tight_layout()\n",
    "\n",
    "ax[0].scatter([ra_bcg], [dec_bcg], marker='+', s=100, c='black')\n",
    "ax[0].invert_xaxis() # to have ra increase to the left/east\n",
    "\n",
    "fig.legend(loc=9, markerscale=10)"
   ]
  },
  {
   "cell_type": "markdown",
   "id": "10867c00-51c1-4e39-8db1-50e89b5eac94",
   "metadata": {},
   "source": [
    "In (ra,dec), the stars cover the field and we can see which tract contribute to which area. In (x,y), we see a clear gap between the tracts as each tract has its own x, y coordinate system, (and some of these tracts do not have any visits covering some parts of them). Nontheless, looking at the patterns in the tracts, we see that the (x,y) grid is align with (ra,dec)."
   ]
  },
  {
   "cell_type": "markdown",
   "id": "28626ad9-31f0-45c1-8f0b-e626c578dcf7",
   "metadata": {
    "execution": {
     "iopub.execute_input": "2025-03-27T09:28:51.705965Z",
     "iopub.status.busy": "2025-03-27T09:28:51.705267Z",
     "iopub.status.idle": "2025-03-27T09:28:51.708029Z",
     "shell.execute_reply": "2025-03-27T09:28:51.707679Z",
     "shell.execute_reply.started": "2025-03-27T09:28:51.705949Z"
    }
   },
   "source": [
    "## PSF size variation across the field"
   ]
  },
  {
   "cell_type": "markdown",
   "id": "6e8f7f93-45db-453e-b47a-d6aa3d2f53f0",
   "metadata": {},
   "source": [
    "The `i_i{xx,xy,yy}PSF` quantities are the second moment of the PSF model for each object location in the catalog. The trace radius (PSF size) of the PSF is defined as\n",
    "$r_t = \\sqrt{(I_{xx} + I_{yy}/2)}$\n",
    "\n",
    "We look at the size of the PSF:\n",
    "- at the location of `used` stars (`merged_cat_used` catalog)\n",
    "- at the location of all extended objects (`merged_cat_all` catalog), to have a better coverage of the field and visualize PSF discontinutities, etc.\n"
   ]
  },
  {
   "cell_type": "code",
   "execution_count": null,
   "id": "92aed2aa-980f-4a44-a7f8-cbab3ff0372a",
   "metadata": {},
   "outputs": [],
   "source": [
    "size = np.sqrt((merged_cat_used['i_ixxPSF'] + merged_cat_used['i_iyyPSF']) / 2)\n",
    "size_all = np.sqrt((merged_cat_all['i_ixxPSF'] + merged_cat_all['i_iyyPSF']) / 2) # at all extended objects locations (not stars)"
   ]
  },
  {
   "cell_type": "code",
   "execution_count": null,
   "id": "3b046a41-2002-430a-98e4-588730b4e25a",
   "metadata": {},
   "outputs": [],
   "source": [
    "from matplotlib.patches import Circle\n",
    "\n",
    "ra, dec =  merged_cat_used['coord_ra'], merged_cat_used['coord_dec']\n",
    "\n",
    "fig, ax = plt.subplots(nrows=1, ncols=2, figsize=(15,5))\n",
    "\n",
    "scatter_plot1 = ax[0].scatter(ra, dec, c=size, s=4, cmap='viridis', marker='o')\n",
    "circle1 = Circle((ra_bcg, dec_bcg), 0.5, color='orange', fill=False, linewidth=1, \n",
    "                label='0.5 deg field around BCG')\n",
    "\n",
    "ax[0].scatter([ra_bcg], [dec_bcg], marker='+', s=100, c='orange')\n",
    "ax[0].invert_xaxis()\n",
    "ax[0].add_patch(circle1)\n",
    "#ax.add_patch(circle2)\n",
    "\n",
    "scatter_plot2 = ax[1].scatter(merged_cat_all['coord_ra'], merged_cat_all['coord_dec'], \n",
    "                              c=size_all, s=1, cmap='viridis', marker='o')\n",
    "ax[1].set_xlabel('ra')\n",
    "ax[1].set_ylabel('dec')\n",
    "ax[1].scatter([ra_bcg], [dec_bcg], marker='+', s=100, c='orange')\n",
    "circle2 = Circle((ra_bcg, dec_bcg), 0.5, color='orange', fill=False, linewidth=1, \n",
    "                label='0.5 deg field around BCG')\n",
    "ax[1].invert_xaxis()\n",
    "ax[1].add_patch(circle2)\n",
    "\n",
    "plt.colorbar(scatter_plot1, ax=ax[0], label='PSF size [pixels]')\n",
    "plt.colorbar(scatter_plot1, ax=ax[1], label='PSF size [pixels]')"
   ]
  },
  {
   "cell_type": "markdown",
   "id": "d00def48-38ab-4370-9a76-0781faee4a89",
   "metadata": {
    "execution": {
     "iopub.execute_input": "2025-03-27T09:52:22.493781Z",
     "iopub.status.busy": "2025-03-27T09:52:22.493460Z",
     "iopub.status.idle": "2025-03-27T09:52:22.509220Z",
     "shell.execute_reply": "2025-03-27T09:52:22.508753Z",
     "shell.execute_reply.started": "2025-03-27T09:52:22.493764Z"
    }
   },
   "source": [
    "The PSF size is varying by ~0.5 pixel across A360 field. The figure on the right showis the PSF size at more \n",
    "locations, which highlights the discontinuities in the PSF modeling when close to edges. Also allows us to see the various orientation of visits used to build the coadd."
   ]
  },
  {
   "cell_type": "markdown",
   "id": "751900b6-b121-47eb-9d12-5027e5bfa1c8",
   "metadata": {},
   "source": [
    "## Whisker plots - PSF ellipticity and PSF correction.\n",
    "\n",
    "The ellipticity components $e_1$, $e_2$ are computed from moments as:\n",
    "\n",
    "$e_1 = (I_{xx} - I_{yy}) / (I_{xx} + I_{yy})$\n",
    "\n",
    "$e_2 = 2I_{xy} / (I_{xx} + I_{yy})$\n",
    "\n",
    "The from this, the amplitude and orientation of the ellipse (angle of the ellipse major axis with respect to the (x,y) coordinate frame) are given by\n",
    "\n",
    "$e = \\sqrt{e_1^2 + e_2^2}$\n",
    "\n",
    "$\\theta = 0.5 \\times \\arctan (e_2/e_1)$"
   ]
  },
  {
   "cell_type": "code",
   "execution_count": null,
   "id": "57e3d1ab-9fe7-4049-b550-9120e23b2974",
   "metadata": {},
   "outputs": [],
   "source": [
    "def get_psf_ellip(catalog):\n",
    "    psf_mxx = catalog['i_ixxPSF']\n",
    "    psf_myy = catalog['i_iyyPSF']\n",
    "    psf_mxy = catalog['i_ixyPSF']\n",
    "    return (psf_mxx - psf_myy) / (psf_mxx + psf_myy), 2.* psf_mxy / (psf_mxx + psf_myy)\n",
    "\n",
    "\n",
    "def get_star_ellip(catalog):\n",
    "    star_mxx = catalog['i_ixx']\n",
    "    star_myy = catalog['i_iyy']\n",
    "    star_mxy = catalog['i_ixy']\n",
    "    return (star_mxx - star_myy) / (star_mxx + star_myy), 2. * star_mxy / (star_mxx + star_myy)\n",
    "\n",
    "    "
   ]
  },
  {
   "cell_type": "markdown",
   "id": "f22856ed-3ee8-4cfa-9004-ce45cf03dad2",
   "metadata": {},
   "source": [
    "## Whisker plot and residuals at the locations of `used` stars"
   ]
  },
  {
   "cell_type": "code",
   "execution_count": null,
   "id": "7e9d9e9c-d878-4b1c-a7b2-5db54bfa21b9",
   "metadata": {},
   "outputs": [],
   "source": [
    "# For the PSF model, at the location of `used` stars\n",
    "e1_psf_used, e2_psf_used = get_psf_ellip(merged_cat_used)\n",
    "e_psf_used = np.sqrt(e1_psf_used*e1_psf_used + e2_psf_used*e2_psf_used) # module of ellipticity\n",
    "theta_psf_used = 0.5 * np.arctan(e2_psf_used/e1_psf_used) # orientation\n",
    "\n",
    "cx_psf_used = e_psf_used * np.cos(theta_psf_used) # x-component of the vector for the whisker plot\n",
    "cy_psf_used = e_psf_used * np.sin(theta_psf_used) # y-component of the vector for the whisker plot"
   ]
  },
  {
   "cell_type": "code",
   "execution_count": null,
   "id": "84168bc3-762f-4590-baa4-c6d80241ca7a",
   "metadata": {},
   "outputs": [],
   "source": [
    "# Repeat for the `used` stars\n",
    "e1_star_used, e2_star_used = get_star_ellip(merged_cat_used)\n",
    "e_star_used = np.sqrt(e1_star_used*e1_star_used+e2_star_used*e2_star_used)\n",
    "theta_star_used = 0.5 * np.arctan(e2_star_used/e1_star_used)\n",
    "\n",
    "cx_star_used = e_star_used * np.cos(theta_star_used)\n",
    "cy_star_used = e_star_used * np.sin(theta_star_used)"
   ]
  },
  {
   "cell_type": "markdown",
   "id": "cac9861c-00dd-4c1c-8c69-44ed1f8f0427",
   "metadata": {
    "execution": {
     "iopub.execute_input": "2025-04-24T14:09:47.348321Z",
     "iopub.status.busy": "2025-04-24T14:09:47.348092Z",
     "iopub.status.idle": "2025-04-24T14:09:47.350960Z",
     "shell.execute_reply": "2025-04-24T14:09:47.350548Z",
     "shell.execute_reply.started": "2025-04-24T14:09:47.348304Z"
    }
   },
   "source": [
    "### in (x,y) coordinates"
   ]
  },
  {
   "cell_type": "code",
   "execution_count": null,
   "id": "d0d9444e-2e06-4439-ad09-6fef073e0cbc",
   "metadata": {},
   "outputs": [],
   "source": [
    "x_centroid, y_centroid =  merged_cat_used['i_centroid_x'], merged_cat_used['i_centroid_y']\n",
    "\n",
    "scale = 10000\n",
    "\n",
    "fig, ax = plt.subplots(nrows=1, ncols=3, figsize=(15,5))\n",
    "ax[0].quiver(x_centroid, y_centroid, scale*cx_star_used, scale*cy_star_used, angles='xy', color='black',\n",
    "           scale_units='xy', scale=1, headlength=0, headwidth=0, headaxislength=0,\n",
    "         label='Star ellipticity')\n",
    "ax[0].set_title('Star ellipticity (from i_ixx, i_ixy, i_iyy)')\n",
    "ax[0].set_xlabel('x_centroid')\n",
    "ax[0].set_ylabel('y_centroid')\n",
    "\n",
    "ax[1].quiver(x_centroid, y_centroid, scale*cx_psf_used, scale*cy_psf_used, angles='xy', color='black',\n",
    "           scale_units='xy', scale=1, headlength=0, headwidth=0, headaxislength=0,\n",
    "         label='PSF model ellipticity')\n",
    "ax[1].set_xlabel('x_centroid')\n",
    "ax[1].set_title('PSF model ellipticity (from i_ixxPSF, i_ixyPSF, i_iyyPSF)')\n",
    "\n",
    "ax[2].quiver(x_centroid, y_centroid, scale*(cx_star_used-cx_psf_used), scale*(cy_star_used-cy_psf_used), angles='xy', color='black',\n",
    "           scale_units='xy', scale=1, headlength=0, headwidth=0, headaxislength=0)\n",
    "\n",
    "ax[2].set_xlabel('x_centroid')\n",
    "ax[2].set_title('Star - PSF ellipticity residuals')\n",
    "\n",
    "ref_norm = scale*0.1  # Define reference vector norm\n",
    "ref_x, ref_y = 3000, 5000  # Position to place reference vector\n",
    "ax[0].quiver(ref_x, ref_y, ref_norm, 0, angles='xy', color='red',\n",
    "             scale_units='xy', scale=1, headlength=0, headwidth=0, headaxislength=0,\n",
    "             label=f'Ref: {ref_norm}')\n",
    "ax[1].quiver(ref_x, ref_y, ref_norm, 0, angles='xy', color='red',\n",
    "             scale_units='xy', scale=1, headlength=0, headwidth=0, headaxislength=0,\n",
    "             label=f'Ref: {ref_norm}')\n",
    "ax[2].quiver(ref_x, ref_y, ref_norm, 0, angles='xy', color='red',\n",
    "             scale_units='xy', scale=1, headlength=0, headwidth=0, headaxislength=0,\n",
    "             label=f'Ref: {ref_norm}')\n",
    "\n",
    "ax[0].text(ref_x + ref_norm / 2, ref_y + 500, f'e=0.1', color='red', ha='center')\n",
    "ax[1].text(ref_x + ref_norm / 2, ref_y + 500, f'e=0.1', color='red', ha='center')\n",
    "ax[2].text(ref_x + ref_norm / 2, ref_y + 500, f'e=0.1', color='red', ha='center')\n",
    "\n",
    "# \n",
    "fig.tight_layout()\n"
   ]
  },
  {
   "cell_type": "markdown",
   "id": "85a09019-d62c-4a69-b2bc-633ef07ac589",
   "metadata": {
    "execution": {
     "iopub.execute_input": "2025-04-24T14:10:21.948065Z",
     "iopub.status.busy": "2025-04-24T14:10:21.947688Z",
     "iopub.status.idle": "2025-04-24T14:10:21.950471Z",
     "shell.execute_reply": "2025-04-24T14:10:21.950054Z",
     "shell.execute_reply.started": "2025-04-24T14:10:21.948046Z"
    }
   },
   "source": [
    "### in (ra, dec)\n",
    "\n",
    "To be consistent with ra increasing to the left, need to switch the sign of the `cx` component for the plots."
   ]
  },
  {
   "cell_type": "code",
   "execution_count": null,
   "id": "dc9f511d-8581-457a-a274-a15dc7d8a2e7",
   "metadata": {},
   "outputs": [],
   "source": [
    "x_centroid, y_centroid =  merged_cat_used['coord_ra'], merged_cat_used['coord_dec']\n",
    "\n",
    "scale = 0.6\n",
    "\n",
    "\n",
    "circle0 = Circle((ra_bcg, dec_bcg), 0.5, color='darkviolet', fill=False, linewidth=1, \n",
    "                label='0.5 deg field around BCG')\n",
    "circle1 = Circle((ra_bcg, dec_bcg), 0.5, color='darkviolet', fill=False, linewidth=1, \n",
    "                label='0.5 deg field around BCG')\n",
    "circle2 = Circle((ra_bcg, dec_bcg), 0.5, color='darkviolet', fill=False, linewidth=1, \n",
    "                label='0.5 deg field around BCG')\n",
    "\n",
    "\n",
    "fig, ax = plt.subplots(nrows=1, ncols=3, figsize=(15,5))\n",
    "ax[0].quiver(x_centroid, y_centroid, -scale*cx_star_used, scale*cy_star_used, angles='xy', color='black',\n",
    "           scale_units='xy', scale=1, headlength=0, headwidth=0, headaxislength=0,\n",
    "         label='Star ellipticity')\n",
    "ax[0].scatter([ra_bcg], [dec_bcg], marker='+', s=100, c='darkviolet')\n",
    "ax[0].add_patch(circle0)\n",
    "\n",
    "ax[0].invert_xaxis()\n",
    "ax[0].set_title('Star ellipticity (from i_ixx, i_ixy, i_iyy)')\n",
    "ax[0].set_xlabel('ra')\n",
    "ax[0].set_ylabel('dec')\n",
    "ax[0].set_xlim([38.6, 37.2])\n",
    "ax[0].set_ylim([6.25, 7.6])\n",
    "\n",
    "ax[1].quiver(x_centroid, y_centroid, -scale*cx_psf_used, scale*cy_psf_used, angles='xy', color='black',\n",
    "           scale_units='xy', scale=1, headlength=0, headwidth=0, headaxislength=0,\n",
    "         label='PSF model ellipticity')\n",
    "ax[1].scatter([ra_bcg], [dec_bcg], marker='+', s=100, c='darkviolet')\n",
    "ax[1].add_patch(circle1)\n",
    "\n",
    "ax[1].invert_xaxis()\n",
    "ax[1].set_xlabel('ra')\n",
    "ax[1].set_title('PSF model ellipticity (from i_ixxPSF, i_ixyPSF, i_iyyPSF)')\n",
    "ax[1].set_xlim([38.6, 37.2])\n",
    "ax[1].set_ylim([6.25, 7.6])\n",
    "\n",
    "ax[2].quiver(x_centroid, y_centroid, -scale*(cx_star_used-cx_psf_used), scale*(cy_star_used-cy_psf_used), angles='xy', color='black',\n",
    "           scale_units='xy', scale=1, headlength=0, headwidth=0, headaxislength=0)\n",
    "ax[2].scatter([ra_bcg], [dec_bcg], marker='+', s=100, c='darkviolet')\n",
    "ax[2].add_patch(circle2)\n",
    "\n",
    "ax[2].invert_xaxis()\n",
    "ax[2].set_xlabel('ra')\n",
    "ax[2].set_title('Star - PSF ellipticity residuals')\n",
    "ax[2].set_xlim([38.6, 37.2])\n",
    "ax[2].set_ylim([6.25, 7.6])\n",
    "\n",
    "ref_norm = scale*0.1  # Define reference vector norm\n",
    "ref_x, ref_y = 38.4, 6.27  # Position to place reference vector\n",
    "ax[0].quiver(ref_x, ref_y, ref_norm, 0, angles='xy', color='red',\n",
    "             scale_units='xy', scale=1, headlength=0, headwidth=0, headaxislength=0,\n",
    "             label=f'Ref: {ref_norm}')\n",
    "ax[1].quiver(ref_x, ref_y, ref_norm, 0, angles='xy', color='red',\n",
    "             scale_units='xy', scale=1, headlength=0, headwidth=0, headaxislength=0,\n",
    "             label=f'Ref: {ref_norm}')\n",
    "ax[2].quiver(ref_x, ref_y, ref_norm, 0, angles='xy', color='red',\n",
    "             scale_units='xy', scale=1, headlength=0, headwidth=0, headaxislength=0,\n",
    "             label=f'Ref: {ref_norm}')\n",
    "\n",
    "ax[0].text(ref_x + ref_norm / 2, ref_y + 0.02, f'e=0.1', color='red', ha='center')\n",
    "ax[1].text(ref_x + ref_norm / 2, ref_y + 0.02, f'e=0.1', color='red', ha='center')\n",
    "ax[2].text(ref_x + ref_norm / 2, ref_y + 0.02, f'e=0.1', color='red', ha='center')\n",
    "\n",
    "\n",
    "# ax[1].scatter([ra_bcg], [dec_bcg], marker='+', s=100, c='orange')\n",
    "# ax[1].add_patch(circle1)\n",
    "# ax[2].scatter([ra_bcg], [dec_bcg], marker='+', s=100, c='orange')\n",
    "# ax[2].add_patch(circle1)\n",
    "# \n",
    "fig.tight_layout()\n"
   ]
  },
  {
   "cell_type": "markdown",
   "id": "03ef9742-9114-40ac-9670-8af373c2b2df",
   "metadata": {},
   "source": [
    "The violet circle is a 1 deg field around the BCG."
   ]
  },
  {
   "cell_type": "markdown",
   "id": "d702c980-c838-4ff7-adda-815734c23719",
   "metadata": {},
   "source": [
    "## Whisker plot and residuals at the locations of `reserved` stars (that haven't been used by PIFF)\n",
    "\n",
    "Now we repeat the same thing with the `reserved` stars, that were not used to buid the PSF model. NB: there are far less reserved stars than PSF stars."
   ]
  },
  {
   "cell_type": "code",
   "execution_count": null,
   "id": "44142dee-7aeb-48ec-bb7c-5171443a84ea",
   "metadata": {},
   "outputs": [],
   "source": [
    "x_centroid, y_centroid =  merged_cat_reserved['coord_ra'], merged_cat_reserved['coord_dec']\n",
    "\n",
    "scale = 0.6\n",
    "\n",
    "\n",
    "circle0 = Circle((ra_bcg, dec_bcg), 0.5, color='darkviolet', fill=False, linewidth=1, \n",
    "                label='0.5 deg field around BCG')\n",
    "circle1 = Circle((ra_bcg, dec_bcg), 0.5, color='darkviolet', fill=False, linewidth=1, \n",
    "                label='0.5 deg field around BCG')\n",
    "circle2 = Circle((ra_bcg, dec_bcg), 0.5, color='darkviolet', fill=False, linewidth=1, \n",
    "                label='0.5 deg field around BCG')\n",
    "\n",
    "\n",
    "fig, ax = plt.subplots(nrows=1, ncols=3, figsize=(15,5))\n",
    "ax[0].quiver(x_centroid, y_centroid, -scale*cx_star_reserved, scale*cy_star_reserved, angles='xy', color='black',\n",
    "           scale_units='xy', scale=1, headlength=0, headwidth=0, headaxislength=0,\n",
    "         label='Star ellipticity')\n",
    "ax[0].scatter([ra_bcg], [dec_bcg], marker='+', s=100, c='darkviolet', label='cluster 0.5 deg field')\n",
    "ax[0].add_patch(circle0)\n",
    "\n",
    "ax[0].invert_xaxis()\n",
    "ax[0].set_title('Star ellipticity (from i_ixx, i_ixy, i_iyy)')\n",
    "ax[0].set_xlabel('ra')\n",
    "ax[0].set_ylabel('dec')\n",
    "ax[0].set_xlim([38.6, 37.2])\n",
    "ax[0].set_ylim([6.25, 7.6])\n",
    "\n",
    "ax[1].quiver(x_centroid, y_centroid, -scale*cx_psf_reserved, scale*cy_psf_reserved, angles='xy', color='black',\n",
    "           scale_units='xy', scale=1, headlength=0, headwidth=0, headaxislength=0,\n",
    "         label='PSF model ellipticity')\n",
    "ax[1].scatter([ra_bcg], [dec_bcg], marker='+', s=100, c='darkviolet')\n",
    "ax[1].add_patch(circle1)\n",
    "\n",
    "ax[1].invert_xaxis()\n",
    "ax[1].set_xlabel('ra')\n",
    "ax[1].set_title('PSF model ellipticity (from i_ixxPSF, i_ixyPSF, i_iyyPSF)')\n",
    "ax[1].set_xlim([38.6, 37.2])\n",
    "ax[1].set_ylim([6.25, 7.6])\n",
    "\n",
    "ax[2].quiver(x_centroid, y_centroid, -scale*(cx_star_reserved-cx_psf_reserved), scale*(cy_star_reserved-cy_psf_reserved), angles='xy', color='black',\n",
    "           scale_units='xy', scale=1, headlength=0, headwidth=0, headaxislength=0)\n",
    "ax[2].scatter([ra_bcg], [dec_bcg], marker='+', s=100, c='darkviolet')\n",
    "ax[2].add_patch(circle2)\n",
    "\n",
    "ax[2].invert_xaxis()\n",
    "ax[2].set_xlabel('ra')\n",
    "ax[2].set_title('Star - PSF ellipticity residuals')\n",
    "ax[2].set_xlim([38.6, 37.2])\n",
    "ax[2].set_ylim([6.25, 7.6])\n",
    "\n",
    "ref_norm = scale*0.1  # Define reference vector norm\n",
    "ref_x, ref_y = 38.4, 6.27  # Position to place reference vector\n",
    "ax[0].quiver(ref_x, ref_y, ref_norm, 0, angles='xy', color='red',\n",
    "             scale_units='xy', scale=1, headlength=0, headwidth=0, headaxislength=0,\n",
    "             label=f'Ref: {ref_norm}')\n",
    "ax[1].quiver(ref_x, ref_y, ref_norm, 0, angles='xy', color='red',\n",
    "             scale_units='xy', scale=1, headlength=0, headwidth=0, headaxislength=0,\n",
    "             label=f'Ref: {ref_norm}')\n",
    "ax[2].quiver(ref_x, ref_y, ref_norm, 0, angles='xy', color='red',\n",
    "             scale_units='xy', scale=1, headlength=0, headwidth=0, headaxislength=0,\n",
    "             label=f'Ref: {ref_norm}')\n",
    "\n",
    "ax[0].text(ref_x + ref_norm / 2, ref_y + 0.02, f'e=0.1', color='red', ha='center')\n",
    "ax[1].text(ref_x + ref_norm / 2, ref_y + 0.02, f'e=0.1', color='red', ha='center')\n",
    "ax[2].text(ref_x + ref_norm / 2, ref_y + 0.02, f'e=0.1', color='red', ha='center')\n",
    "\n",
    "# ax[1].scatter([ra_bcg], [dec_bcg], marker='+', s=100, c='orange')\n",
    "# ax[1].add_patch(circle1)\n",
    "# ax[2].scatter([ra_bcg], [dec_bcg], marker='+', s=100, c='orange')\n",
    "# ax[2].add_patch(circle1)\n",
    "# \n",
    "fig.tight_layout()\n"
   ]
  },
  {
   "cell_type": "markdown",
   "id": "c677e21a-bb39-4d5d-b800-cc1a88eff36c",
   "metadata": {},
   "source": [
    "## Histogram of the e1, e2 residuals in A360 field, for `used` and `reserved` stars"
   ]
  },
  {
   "cell_type": "code",
   "execution_count": null,
   "id": "286d8079-6843-45c2-bee4-8ad77cbf8c4f",
   "metadata": {},
   "outputs": [],
   "source": [
    "fig, ax = plt.subplots(nrows=1, ncols=2, figsize=(10,5))\n",
    "\n",
    "ax[0].hist((e1_star_used-e1_psf_used), bins=30, range=[-0.04, 0.04], density=True, alpha=0.2, label='used');\n",
    "ax[0].hist((e1_star_reserved-e1_psf_reserved), bins=30, range=[-0.04, 0.04], density=True, alpha=0.2, label='reserved')\n",
    "ax[0].set_xlabel('Image e1 - PSF e1')\n",
    "ax[0].set_xlabel(r'$\\delta e_1 = $ Star e1 - PSF e1')\n",
    "ax[0].legend()\n",
    "\n",
    "ax[1].hist((e2_star_used-e2_psf_used), bins=30, range=[-0.04, 0.04], density=True, alpha=0.2, label='used');\n",
    "ax[1].hist((e2_star_reserved-e2_psf_reserved), bins=30, range=[-0.04, 0.04], density=True, alpha=0.2, label='reserved')\n",
    "ax[1].set_xlabel(r'$\\delta e_2 = $ Star e2 - PSF e2')\n",
    "ax[1].legend()"
   ]
  },
  {
   "cell_type": "markdown",
   "id": "bf43615a-520e-4e53-8bf0-1816cee4b732",
   "metadata": {
    "execution": {
     "iopub.execute_input": "2025-04-24T18:04:42.777134Z",
     "iopub.status.busy": "2025-04-24T18:04:42.776927Z",
     "iopub.status.idle": "2025-04-24T18:04:42.780054Z",
     "shell.execute_reply": "2025-04-24T18:04:42.779671Z",
     "shell.execute_reply.started": "2025-04-24T18:04:42.777119Z"
    }
   },
   "source": [
    "## Radial profile of the tangential residuals (uses CLMM)\n",
    "\n",
    "Another diagnostic test of the PSF correction consists in computing the tangential residuals from $\\delta e_1$ and $\\delta e_2$, and plot the corresponding radial profiles from the cluster BCG, for both `used` and `reserved` stars."
   ]
  },
  {
   "cell_type": "code",
   "execution_count": null,
   "id": "716ab942-6700-4b56-b567-26fd2d704253",
   "metadata": {},
   "outputs": [],
   "source": [
    "import clmm\n",
    "from clmm import GalaxyCluster, GCData, Cosmology\n",
    "from clmm import Cosmology, utils"
   ]
  },
  {
   "cell_type": "code",
   "execution_count": null,
   "id": "247d54f9-5969-45d2-8e86-6b180ba1abc3",
   "metadata": {},
   "outputs": [],
   "source": [
    "cosmo = clmm.Cosmology(H0=70.0, Omega_dm0=0.3 - 0.045, Omega_b0=0.045, Omega_k0=0.0)"
   ]
  },
  {
   "cell_type": "markdown",
   "id": "e97f70f6-f8d1-49d6-9a6e-09e93f499f08",
   "metadata": {},
   "source": [
    "### `used` stars without and with the PSF correction"
   ]
  },
  {
   "cell_type": "code",
   "execution_count": null,
   "id": "6601c349-5552-4c70-a09a-56c7c16f841e",
   "metadata": {},
   "outputs": [],
   "source": [
    "galcat = GCData()\n",
    "galcat['ra'] = merged_cat_used['coord_ra']\n",
    "galcat['dec'] = merged_cat_used['coord_dec']\n",
    "galcat['e1'] = e1_star_used - e1_psf_used\n",
    "galcat['e2'] = e2_star_used - e2_psf_used\n",
    "#galcat['e_err'] = e_err[to_use]/2.  # factor 2 to account for conversion between e and g\n",
    "\n",
    "galcat['z'] = np.zeros(len(galcat['ra'])) # CLMM needs a redshift column for the source, even if not used\n",
    "\n",
    "cluster_id = \"Abell 360\"\n",
    "gc_object1 = clmm.GalaxyCluster(cluster_id, ra_bcg, dec_bcg, 0.22, galcat, \n",
    "                                coordinate_system='euclidean')\n",
    "\n",
    "\n",
    "gc_object1.compute_tangential_and_cross_components(add=True);\n",
    "\n",
    "#print(len(gc_object1.galcat))\n",
    "\n",
    "bins_mpc = clmm.make_bins(0.4,7,nbins=7, method='evenlog10width')\n",
    "gc_object1.make_radial_profile(bins=bins_mpc, bin_units='Mpc', add=True, cosmo=cosmo, overwrite=True, \n",
    "                               use_weights=False, error_model='ste');\n",
    "\n",
    "#print(gc_object1.profile)\n",
    "\n",
    "galcat = GCData()\n",
    "galcat['ra'] = merged_cat_used['coord_ra']\n",
    "galcat['dec'] = merged_cat_used['coord_dec']\n",
    "galcat['e1'] = e1_star_used# - e1_psf_used\n",
    "galcat['e2'] = e2_star_used# - e2_psf_used\n",
    "#galcat['e_err'] = e_err[to_use]/2.  # factor 2 to account for conversion between e and g\n",
    "galcat['z'] = np.zeros(len(galcat['ra'])) # CLMM needs a redshift column for the source, even if not used\n",
    "\n",
    "gc_object2 = clmm.GalaxyCluster(cluster_id, ra_bcg, dec_bcg, 0.22, galcat, \n",
    "                                coordinate_system='euclidean')\n",
    "\n",
    "\n",
    "gc_object2.compute_tangential_and_cross_components(add=True);\n",
    "\n",
    "#print(len(gc_object2.galcat))\n",
    "\n",
    "bins_mpc = clmm.make_bins(0.4,7,nbins=7, method='evenlog10width')\n",
    "gc_object2.make_radial_profile(bins=bins_mpc, bin_units='Mpc', add=True, cosmo=cosmo, overwrite=True, \n",
    "                               use_weights=False, error_model='ste');\n",
    "\n",
    "#print(gc_object2.profile)\n",
    "\n",
    "\n",
    "plt.errorbar(gc_object2.profile['radius']*1.02, gc_object2.profile['gt'], gc_object2.profile['gt_err'], \n",
    "             ls='', marker='.', label=r\"'used' stars - $e_t$, no PSF correction\")\n",
    "plt.errorbar(gc_object1.profile['radius'], gc_object1.profile['gt'], gc_object1.profile['gt_err'], \n",
    "             ls='', marker='.', label=r'residuals, $\\delta e_t$')\n",
    "\n",
    "plt.xscale('log')\n",
    "plt.axhline(0.0, color='k', ls=':')\n",
    "#plt.ylim([-0.01,0.01])\n",
    "plt.ylim([-0.06,0.05])\n",
    "plt.xlim([0.3,7])\n",
    "#plt.yscale('log')\n",
    "plt.xlabel('R [Mpc]')\n",
    "plt.ylabel('tangential component')\n",
    "plt.legend(loc=1)\n",
    "plt.savefig(f\"profile_{version}.png\")"
   ]
  },
  {
   "cell_type": "markdown",
   "id": "af0d5f65-970f-4294-9988-c502d6ee00a7",
   "metadata": {},
   "source": [
    "The PSF model appears to nicely correct the tangential profile. The level of the residuals is typically an order of magnitude lower than the lensing signal of the cluster."
   ]
  },
  {
   "cell_type": "markdown",
   "id": "bb8cec20-e4d1-4a7e-8755-6ff17ce51a89",
   "metadata": {},
   "source": [
    "### Radial profile of the tangential residuals, for `used` and `reserved` stars\n",
    "\n",
    "Now, we check the residuals on `reserved` stars, that have not been used to build the PSF model. There are ~10 times less `reserved` stars than `used` stars. For this reason, the first bins of the `reserved` star tangential residual profile may be empty."
   ]
  },
  {
   "cell_type": "code",
   "execution_count": null,
   "id": "fea721c1-bf2a-4d7e-9e82-847278e0ed91",
   "metadata": {},
   "outputs": [],
   "source": [
    "################ Reserved stars #############\n",
    "galcat = GCData()\n",
    "galcat['ra'] = merged_cat_reserved['coord_ra']\n",
    "galcat['dec'] = merged_cat_reserved['coord_dec']\n",
    "galcat['e1'] = e1_star_reserved - e1_psf_reserved # delta e1\n",
    "galcat['e2'] = e2_star_reserved - e2_psf_reserved # delta e1\n",
    "\n",
    "galcat['z'] = np.zeros(len(galcat['ra'])) # CLMM needs a redshift column for the source, even if not used\n",
    "\n",
    "cluster_id = \"Abell 360\"\n",
    "gc_object1 = clmm.GalaxyCluster(cluster_id, ra_bcg, dec_bcg, 0.22, galcat, \n",
    "                                coordinate_system='euclidean')\n",
    "\n",
    "gc_object1.compute_tangential_and_cross_components(add=True);\n",
    "\n",
    "#print(len(gc_object1.galcat))\n",
    "\n",
    "bins_mpc = clmm.make_bins(0.4,7,nbins=7, method='evenlog10width')\n",
    "gc_object1.make_radial_profile(bins=bins_mpc, bin_units='Mpc', add=True, cosmo=cosmo, overwrite=True, \n",
    "                               use_weights=False, error_model='ste');\n",
    "\n",
    "#print(gc_object1.profile)\n",
    "\n",
    "################ Used stars #############\n",
    "\n",
    "galcat = GCData()\n",
    "galcat['ra'] = merged_cat_used['coord_ra']\n",
    "galcat['dec'] = merged_cat_used['coord_dec']\n",
    "galcat['e1'] = e1_star_used - e1_psf_used\n",
    "galcat['e2'] = e2_star_used - e2_psf_used\n",
    "#galcat['e_err'] = e_err[to_use]/2.  # factor 2 to account for conversion between e and g\n",
    "galcat['z'] = np.zeros(len(galcat['ra'])) # CLMM needs a redshift column for the source, even if not used\n",
    "\n",
    "gc_object2 = clmm.GalaxyCluster(cluster_id, ra_bcg, dec_bcg, 0.22, galcat, \n",
    "                                coordinate_system='euclidean')\n",
    "\n",
    "\n",
    "gc_object2.compute_tangential_and_cross_components(add=True);\n",
    "\n",
    "#print(len(gc_object2.galcat))\n",
    "\n",
    "gc_object2.make_radial_profile(bins=bins_mpc, bin_units='Mpc', add=True, cosmo=cosmo, overwrite=True, \n",
    "                               use_weights=False, error_model='ste');\n",
    "\n",
    "#print(gc_object2.profile)\n",
    "\n",
    "print(f'Number of used stars = {len(gc_object2.galcat)}')\n",
    "print(f'Number of reserved stars = {len(gc_object1.galcat)}')\n",
    "\n",
    "plt.errorbar(gc_object1.profile['radius'], gc_object1.profile['gt'], gc_object1.profile['gt_err'], \n",
    "             ls='', marker='.', label=\"'reserved' stars - residuals\")\n",
    "plt.errorbar(gc_object2.profile['radius'], gc_object2.profile['gt'], gc_object2.profile['gt_err'], \n",
    "             ls='', marker='.', label=\"'used' stars - residuals\")\n",
    "\n",
    "plt.xscale('log')\n",
    "plt.axhline(0.0, color='k', ls=':')\n",
    "plt.ylim([-0.007,0.007])\n",
    "#plt.ylim([-0.06,0.05])\n",
    "plt.xlim([0.3,7])\n",
    "#plt.yscale('log')\n",
    "plt.xlabel('R [Mpc]')\n",
    "plt.ylabel('e_t')\n",
    "plt.legend(loc=1)\n",
    "plt.savefig(f\"profile_{version}.png\")"
   ]
  }
 ],
 "metadata": {
  "kernelspec": {
   "display_name": "LSST",
   "language": "python",
   "name": "lsst"
  },
  "language_info": {
   "codemirror_mode": {
    "name": "ipython",
    "version": 3
   },
   "file_extension": ".py",
   "mimetype": "text/x-python",
   "name": "python",
   "nbconvert_exporter": "python",
   "pygments_lexer": "ipython3",
   "version": "3.12.9"
  }
 },
 "nbformat": 4,
 "nbformat_minor": 5
}
