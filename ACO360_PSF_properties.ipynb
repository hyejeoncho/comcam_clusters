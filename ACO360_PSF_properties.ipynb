{
 "cells": [
  {
   "cell_type": "markdown",
   "id": "a3cb3c0d-88be-4273-acd2-b97b2b0211fd",
   "metadata": {
    "execution": {
     "iopub.execute_input": "2025-03-27T08:46:58.391190Z",
     "iopub.status.busy": "2025-03-27T08:46:58.390706Z",
     "iopub.status.idle": "2025-03-27T08:46:58.396363Z",
     "shell.execute_reply": "2025-03-27T08:46:58.395897Z",
     "shell.execute_reply.started": "2025-03-27T08:46:58.391174Z"
    }
   },
   "source": [
    "# Check PSF correction in A360 field\n",
    "\n",
    "Contact author: Céline Combet; with inputs of many during March 26 telecon (Anthony, Ian, Miranda, Shenming,...)\\\n",
    "LSST Science Piplines version: Weekly 2025_09\\\n",
    "Container Size: large\n",
    "\n",
    "This notebook aims at check the PSF behaviour and correction in A360 field, that we use to perform the WL analysis. The main steps are\n",
    "\n",
    "- Loading the relevant stars from the object catalogs (all tracts and patches needed) using the butler\n",
    "- Checking out the size of the PSF accross the field\n",
    "- Computing the ellipticities of stars and corresponding PSF model and make the whisker plots to check out the residuals. \n",
    "\n",
    "NB: All is done in x-y coordinates. We were puzzled how the radec selection of the stars in the fields translated into x-y (see 'Check location of PSF stars section below')\n",
    "\n",
    "NB: Check out the [PSF DP0.2 tutorial](https://github.com/lsst/tutorial-notebooks/blob/main/DP0.2/12b_PSF_Science_Demo.ipynb) for more PSF diagnostics "
   ]
  },
  {
   "cell_type": "code",
   "execution_count": null,
   "id": "ddf82e56-ef5a-4dfc-abd9-92f8fa6e65fb",
   "metadata": {},
   "outputs": [],
   "source": [
    "# general python packages\n",
    "import numpy as np\n",
    "import matplotlib.pyplot as plt\n",
    "import pandas as pd"
   ]
  },
  {
   "cell_type": "code",
   "execution_count": null,
   "id": "7e89df4c-23d3-4866-bc9d-78aecbcce935",
   "metadata": {},
   "outputs": [],
   "source": [
    "from lsst.daf.butler import Butler\n",
    "import lsst.geom as geom\n",
    "import lsst.afw.geom as afwGeom"
   ]
  },
  {
   "cell_type": "code",
   "execution_count": null,
   "id": "96e65676-d2ff-4091-8401-9d34b3034513",
   "metadata": {},
   "outputs": [],
   "source": [
    "repo = '/repo/main'\n",
    "#collection = 'LSSTComCam/runs/DRP/DP1/w_2025_08/DM-49029'\n",
    "collection = 'LSSTComCam/runs/DRP/DP1/w_2025_09/DM-49235'\n",
    "butler = Butler(repo, collections=collection)\n",
    "skymap = butler.get('skyMap', skymap='lsst_cells_v1')"
   ]
  },
  {
   "cell_type": "markdown",
   "id": "63482375-69a6-4201-96da-9550357844ee",
   "metadata": {},
   "source": [
    "## Load the relevant catalogs\n",
    "For PSF studies, we need to look at stars\n",
    "### Find all tracts/patches to load"
   ]
  },
  {
   "cell_type": "code",
   "execution_count": null,
   "id": "0eb48cd7-9d90-4d8c-ba45-a058f5f1bc24",
   "metadata": {},
   "outputs": [],
   "source": [
    "# Position of the BCG for A360\n",
    "ra_bcg = 37.862\n",
    "dec_bcg = 6.98\n",
    "\n",
    "# Looking for all patches in delta deg region around it\n",
    "delta = 0.5\n",
    "center = geom.SpherePoint(ra_bcg, dec_bcg, geom.degrees)\n",
    "ra_min, ra_max = ra_bcg - delta, ra_bcg + delta\n",
    "dec_min, dec_max = dec_bcg - delta, dec_bcg + delta\n",
    "\n",
    "ra_range = (ra_min, ra_max)\n",
    "dec_range = (dec_min, dec_max)\n",
    "radec = [geom.SpherePoint(ra_range[0], dec_range[0], geom.degrees),\n",
    "         geom.SpherePoint(ra_range[0], dec_range[1], geom.degrees),\n",
    "         geom.SpherePoint(ra_range[1], dec_range[0], geom.degrees),\n",
    "         geom.SpherePoint(ra_range[1], dec_range[1], geom.degrees)]\n",
    "\n",
    "tracts_and_patches = skymap.findTractPatchList(radec)\n",
    "\n",
    "tp_dict = {}\n",
    "for tract_num in np.arange(len(tracts_and_patches)):\n",
    "    tract_info = tracts_and_patches[tract_num][0]\n",
    "    tract_idx = tract_info.getId()\n",
    "    # All the patches around the cluster\n",
    "    patches = []\n",
    "    for i,patch in enumerate(tracts_and_patches[tract_num][1]):\n",
    "        patch_info = tracts_and_patches[tract_num][1][i]\n",
    "        patch_idx = patch_info.sequential_index\n",
    "        patches.append(patch_idx)\n",
    "    tp_dict.update({tract_idx:patches})\n",
    "#tp_dict"
   ]
  },
  {
   "cell_type": "markdown",
   "id": "c52c6ddd-058d-42c9-8ef3-fe7934c1dc2c",
   "metadata": {
    "execution": {
     "iopub.execute_input": "2025-03-27T09:03:59.873500Z",
     "iopub.status.busy": "2025-03-27T09:03:59.873151Z",
     "iopub.status.idle": "2025-03-27T09:03:59.876023Z",
     "shell.execute_reply": "2025-03-27T09:03:59.875529Z",
     "shell.execute_reply.started": "2025-03-27T09:03:59.873483Z"
    }
   },
   "source": [
    "### Load quantities with the cuts needed to get PSF stars, etc. "
   ]
  },
  {
   "cell_type": "code",
   "execution_count": null,
   "id": "5e5073c6-c885-4687-9065-d598a86e5b7a",
   "metadata": {},
   "outputs": [],
   "source": [
    "# Get the object catlaog of these patches\n",
    "datasetType = 'objectTable'\n",
    "\n",
    "merged_cat_used = pd.DataFrame() # to store the catalog of stars used by PIFF for the PSF modeling\n",
    "merged_cat_reserved = pd.DataFrame() # to store the catalog of stars marked as \"reserved\", i.e. not used to build the PIFF PSF model \n",
    "merged_cat_all = pd.DataFrame() # to store all star-like objects, to have more locations to check the PSF model.\n",
    "\n",
    "for tract in list(tp_dict.keys()):\n",
    "    print(f'Loading objects from tract {tract}, patches:{tp_dict[tract]}')\n",
    "    for patch in tp_dict[tract]:\n",
    "#        print(patch)\n",
    "        dataId = {'tract': tract, 'patch' : patch ,'skymap':'lsst_cells_v1'}\n",
    "        obj_cat = butler.get(datasetType, dataId=dataId)\n",
    "\n",
    "        # Stars used for the PSF modeling\n",
    "        filt = obj_cat['detect_isPrimary'] == True\n",
    "        filt &= obj_cat['refExtendedness'] == 0.0 # keep stars only\n",
    "        filt &= obj_cat['i_calib_psf_used'] == True # that were used to build the psf model\n",
    "        filt &= obj_cat['i_pixelFlags_inexact_psfCenter'] == False # To avoid objects with discontinuous PSF (due to edges)\n",
    "        filt &= obj_cat['i_calibFlux'] > 360 # nJy, be bright\n",
    "        merged_cat_used = pd.concat([merged_cat_used, obj_cat[filt]], ignore_index=True)\n",
    "\n",
    "        # Stars \"reserved\" to check the PSF modeling\n",
    "        filt = obj_cat['detect_isPrimary'] == True\n",
    "        filt &= obj_cat['refExtendedness'] == 0.0\n",
    "        filt &= obj_cat['i_calib_psf_reserved'] == True # not used for the psf model\n",
    "        filt &= obj_cat['i_pixelFlags_inexact_psfCenter']==False\n",
    "        merged_cat_reserved = pd.concat([merged_cat_reserved, obj_cat[filt]], ignore_index=True)\n",
    "\n",
    "        # All extended objects (to have more locations where to look at the PSF model)\n",
    "        filt = obj_cat['detect_isPrimary']==True\n",
    "        filt &= obj_cat['refExtendedness'] == 1.0\n",
    "        merged_cat_all = pd.concat([merged_cat_all, obj_cat[filt]], ignore_index=True)"
   ]
  },
  {
   "cell_type": "markdown",
   "id": "c28ea1af-6e13-476d-87b6-2480ae4333df",
   "metadata": {
    "execution": {
     "iopub.execute_input": "2025-03-27T09:04:51.017874Z",
     "iopub.status.busy": "2025-03-27T09:04:51.017557Z",
     "iopub.status.idle": "2025-03-27T09:04:51.020519Z",
     "shell.execute_reply": "2025-03-27T09:04:51.020066Z",
     "shell.execute_reply.started": "2025-03-27T09:04:51.017859Z"
    }
   },
   "source": [
    "### Check out the location of the PSF stars, in (ra, dec) and (x,y) coordinates, colored by track number - Reason for the pattern/gap in (x,y)?\n",
    "\n",
    "The BCG and 0.5 deg field are highlighted in the (ra,dec) plot"
   ]
  },
  {
   "cell_type": "code",
   "execution_count": null,
   "id": "66f4cda2-057d-414c-9b81-38ee70a1bae9",
   "metadata": {},
   "outputs": [],
   "source": [
    "from matplotlib.patches import Circle\n",
    "\n",
    "circle1 = Circle((ra_bcg, dec_bcg), 0.5, color='black', fill=False, linewidth=0.5)\n",
    "\n",
    "color = ['red', 'blue','green','magenta']\n",
    "\n",
    "fig, ax = plt.subplots(nrows=1, ncols=2, figsize=(10,5))\n",
    "for i,tract in enumerate(list(tp_dict.keys())):\n",
    "    filt = merged_cat_used['tract'] == tract\n",
    "    ax[0].scatter(merged_cat_used[filt]['coord_ra'], merged_cat_used[filt]['coord_dec'], \n",
    "                  c=color[i],  marker='.', s=2, label=f'tract = {tract}')\n",
    "    \n",
    "    ax[0].set_xlabel('ra [deg]')\n",
    "    ax[0].set_ylabel('dec [deg]')\n",
    "    ax[0].add_patch(circle1)\n",
    "\n",
    "for i,tract in enumerate(list(tp_dict.keys())):\n",
    "    filt = merged_cat_used['tract'] == tract\n",
    "    ax[1].scatter(merged_cat_used[filt]['i_centroid_x'], merged_cat_used[filt]['i_centroid_y'],  marker='.', s=2, c=color[i])\n",
    "ax[1].set_xlabel('i_centroid_x')\n",
    "ax[1].set_ylabel('i_centroid_y')\n",
    "fig.tight_layout()\n",
    "\n",
    "ax[0].scatter([ra_bcg], [dec_bcg], marker='+', s=100, c='black')\n",
    "\n",
    "fig.legend(loc=9, markerscale=10)"
   ]
  },
  {
   "cell_type": "markdown",
   "id": "10867c00-51c1-4e39-8db1-50e89b5eac94",
   "metadata": {},
   "source": [
    "In (ra,dec), the stars cover the field and we can see which tract contribute to which area. In (x,y), we see a clear gap between the tracts. We do not understand where this is coming from (need to ask DM folks), but we can nontheless move on with the PSF charracterisation in the field."
   ]
  },
  {
   "cell_type": "markdown",
   "id": "28626ad9-31f0-45c1-8f0b-e626c578dcf7",
   "metadata": {
    "execution": {
     "iopub.execute_input": "2025-03-27T09:28:51.705965Z",
     "iopub.status.busy": "2025-03-27T09:28:51.705267Z",
     "iopub.status.idle": "2025-03-27T09:28:51.708029Z",
     "shell.execute_reply": "2025-03-27T09:28:51.707679Z",
     "shell.execute_reply.started": "2025-03-27T09:28:51.705949Z"
    }
   },
   "source": [
    "## PSF size variation across the field"
   ]
  },
  {
   "cell_type": "markdown",
   "id": "6e8f7f93-45db-453e-b47a-d6aa3d2f53f0",
   "metadata": {},
   "source": [
    "The `i_i{xx,xy,yy}PSF` quantities are the second moment of the PSF model for each object location in the catalog. The trace radius (PSF size) of the PSF is defined as\n",
    "$r_t = \\sqrt{(I_{xx} + I_{yy}/2)}$\n",
    "\n",
    "We look at the size of the PSF:\n",
    "- at the location of `used` stars (`merged_cat_used` catalog)\n",
    "- at the location of all extended objects (`merged_cat_all` catalog), to have a better coverage of the field and visualize PSF discontinutities, etc.\n"
   ]
  },
  {
   "cell_type": "code",
   "execution_count": null,
   "id": "92aed2aa-980f-4a44-a7f8-cbab3ff0372a",
   "metadata": {},
   "outputs": [],
   "source": [
    "size = np.sqrt((merged_cat_used['i_ixxPSF'] + merged_cat_used['i_iyyPSF']) / 2)\n",
    "size_all = np.sqrt((merged_cat_all['i_ixxPSF'] + merged_cat_all['i_iyyPSF']) / 2) # at all extended objects locations"
   ]
  },
  {
   "cell_type": "code",
   "execution_count": null,
   "id": "3b046a41-2002-430a-98e4-588730b4e25a",
   "metadata": {},
   "outputs": [],
   "source": [
    "from matplotlib.patches import Circle\n",
    "\n",
    "ra, dec =  merged_cat_used['coord_ra'], merged_cat_used['coord_dec']\n",
    "\n",
    "fig, ax = plt.subplots(nrows=1, ncols=2, figsize=(15,5))\n",
    "\n",
    "scatter_plot1 = ax[0].scatter(ra, dec, c=size, s=4, cmap='viridis', marker='o')\n",
    "circle1 = Circle((ra_bcg, dec_bcg), 0.5, color='orange', fill=False, linewidth=1, \n",
    "                label='0.5 deg field around BCG')\n",
    "\n",
    "ax[0].scatter([ra_bcg], [dec_bcg], marker='+', s=100, c='orange')\n",
    "ax[0].add_patch(circle1)\n",
    "#ax.add_patch(circle2)\n",
    "\n",
    "scatter_plot2 = ax[1].scatter(merged_cat_all['coord_ra'], merged_cat_all['coord_dec'], \n",
    "                              c=size_all, s=1, cmap='viridis', marker='o')\n",
    "ax[1].set_xlabel('ra')\n",
    "ax[1].set_ylabel('dec')\n",
    "ax[1].scatter([ra_bcg], [dec_bcg], marker='+', s=100, c='orange')\n",
    "circle2 = Circle((ra_bcg, dec_bcg), 0.5, color='orange', fill=False, linewidth=1, \n",
    "                label='0.5 deg field around BCG')\n",
    "ax[1].add_patch(circle2)\n",
    "\n",
    "plt.colorbar(scatter_plot1, ax=ax[0], label='PSF size [pixels]')\n",
    "plt.colorbar(scatter_plot1, ax=ax[1], label='PSF size [pixels]')"
   ]
  },
  {
   "cell_type": "markdown",
   "id": "d00def48-38ab-4370-9a76-0781faee4a89",
   "metadata": {
    "execution": {
     "iopub.execute_input": "2025-03-27T09:52:22.493781Z",
     "iopub.status.busy": "2025-03-27T09:52:22.493460Z",
     "iopub.status.idle": "2025-03-27T09:52:22.509220Z",
     "shell.execute_reply": "2025-03-27T09:52:22.508753Z",
     "shell.execute_reply.started": "2025-03-27T09:52:22.493764Z"
    }
   },
   "source": [
    "The PSF size is varying by ~0.5 pixel across A360 field. The figure on the right, showing the PSF size at more \n",
    "locations that highlight the discontinuities in the PSF modeling when close to edges. Also allows us to see the various orientation of visits used to build the coadd."
   ]
  },
  {
   "cell_type": "markdown",
   "id": "751900b6-b121-47eb-9d12-5027e5bfa1c8",
   "metadata": {},
   "source": [
    "## Whisker plots - PSF ellipticity and PSF correction.\n",
    "\n",
    "The ellipticity components $e_1$, $e_2$ are computed from moments as:\n",
    "\n",
    "$e_1 = (I_{xx} - I_{yy}) / (I_{xx} + I_{yy})$\n",
    "\n",
    "$e_2 = 2I_{xy} / (I_{xx} + I_{yy})$\n",
    "\n",
    "The from this, the amplitude and orientation of the ellipse (angle of the ellipse major axis with respect to the (x,y) coordinate frame) are given by\n",
    "\n",
    "$e = \\sqrt{e_1^2 + e_2^2}$\n",
    "\n",
    "$\\theta = 0.5 \\times \\arctan (e_2/e_1)$"
   ]
  },
  {
   "cell_type": "code",
   "execution_count": null,
   "id": "57e3d1ab-9fe7-4049-b550-9120e23b2974",
   "metadata": {},
   "outputs": [],
   "source": [
    "def get_psf_ellip(catalog):\n",
    "    psf_mxx = catalog['i_ixxPSF']\n",
    "    psf_myy = catalog['i_iyyPSF']\n",
    "    psf_mxy = catalog['i_ixyPSF']\n",
    "    return (psf_mxx - psf_myy) / (psf_mxx + psf_myy), 2.* psf_mxy / (psf_mxx + psf_myy)\n",
    "\n",
    "\n",
    "def get_star_ellip(catalog):\n",
    "    star_mxx = catalog['i_ixx']\n",
    "    star_myy = catalog['i_iyy']\n",
    "    star_mxy = catalog['i_ixy']\n",
    "    return (star_mxx - star_myy) / (star_mxx + star_myy), 2. * star_mxy / (star_mxx + star_myy)\n",
    "\n",
    "    "
   ]
  },
  {
   "cell_type": "markdown",
   "id": "f22856ed-3ee8-4cfa-9004-ce45cf03dad2",
   "metadata": {},
   "source": [
    "### Whisker plot and residuals at the locations of `used` stars"
   ]
  },
  {
   "cell_type": "code",
   "execution_count": null,
   "id": "7e9d9e9c-d878-4b1c-a7b2-5db54bfa21b9",
   "metadata": {},
   "outputs": [],
   "source": [
    "# For the PSF model, at the location of `used` stars\n",
    "e1_psf_used, e2_psf_used = get_psf_ellip(merged_cat_used)\n",
    "e_psf_used = np.sqrt(e1_psf_used*e1_psf_used + e2_psf_used*e2_psf_used) # module of ellipticity\n",
    "theta_psf_used = 0.5 * np.arctan(e2_psf_used/e1_psf_used) # orientation\n",
    "\n",
    "cx_psf_used = e_psf_used * np.cos(theta_psf_used) # x-component of the vector for the whisker plot\n",
    "cy_psf_used = e_psf_used * np.sin(theta_psf_used) # y-component of the vector for the whisker plot"
   ]
  },
  {
   "cell_type": "code",
   "execution_count": null,
   "id": "84168bc3-762f-4590-baa4-c6d80241ca7a",
   "metadata": {},
   "outputs": [],
   "source": [
    "# Repeat for the `used` stars\n",
    "e1_star_used, e2_star_used = get_star_ellip(merged_cat_used)\n",
    "e_star_used = np.sqrt(e1_star_used*e1_star_used+e2_star_used*e2_star_used)\n",
    "theta_star_used = 0.5 * np.arctan(e2_star_used/e1_star_used)\n",
    "\n",
    "cx_star_used = e_star_used * np.cos(theta_star_used)\n",
    "cy_star_used = e_star_used * np.sin(theta_star_used)"
   ]
  },
  {
   "cell_type": "code",
   "execution_count": null,
   "id": "d0d9444e-2e06-4439-ad09-6fef073e0cbc",
   "metadata": {},
   "outputs": [],
   "source": [
    "x_centroid, y_centroid =  merged_cat_used['i_centroid_x'], merged_cat_used['i_centroid_y']\n",
    "\n",
    "scale = 10000\n",
    "\n",
    "fig, ax = plt.subplots(nrows=1, ncols=3, figsize=(15,5))\n",
    "ax[0].quiver(x_centroid, y_centroid, scale*cx_star_used, scale*cy_star_used, angles='xy', color='black',\n",
    "           scale_units='xy', scale=1, headlength=0, headwidth=0, headaxislength=0,\n",
    "         label='Star ellipticity')\n",
    "ax[0].set_title('Star ellipticity (from i_ixx, i_ixy, i_iyy)')\n",
    "ax[0].set_xlabel('x_centroid')\n",
    "ax[0].set_ylabel('y_centroid')\n",
    "\n",
    "ax[1].quiver(x_centroid, y_centroid, scale*cx_psf_used, scale*cy_psf_used, angles='xy', color='black',\n",
    "           scale_units='xy', scale=1, headlength=0, headwidth=0, headaxislength=0,\n",
    "         label='PSF model ellipticity')\n",
    "ax[1].set_xlabel('x_centroid')\n",
    "ax[1].set_title('PSF model ellipticity (from i_ixxPSF, i_ixyPSF, i_iyyPSF)')\n",
    "\n",
    "ax[2].quiver(x_centroid, y_centroid, scale*(cx_star_used-cx_psf_used), scale*(cy_star_used-cy_psf_used), angles='xy', color='black',\n",
    "           scale_units='xy', scale=1, headlength=0, headwidth=0, headaxislength=0)\n",
    "\n",
    "ax[2].set_xlabel('x_centroid')\n",
    "ax[2].set_title('Star - PSF ellipticity residuals')\n",
    "fig.tight_layout()\n"
   ]
  },
  {
   "cell_type": "markdown",
   "id": "d702c980-c838-4ff7-adda-815734c23719",
   "metadata": {},
   "source": [
    "### Whisker plot and residuals at the locations of `reserved` stars (that haven't been used by PIFF)\n",
    "\n",
    "Now we repeat the same thing with the `reserved` stars, that were not used to buid the PSF model. NB: there are far less reserved stars than PSF stars."
   ]
  },
  {
   "cell_type": "code",
   "execution_count": null,
   "id": "178b7d7e-594e-4cd5-822b-41fd790d3250",
   "metadata": {},
   "outputs": [],
   "source": [
    "e1_psf_reserved, e2_psf_reserved = get_psf_ellip(merged_cat_reserved)\n",
    "e_psf_reserved = np.sqrt(e1_psf_reserved*e1_psf_reserved+e2_psf_reserved*e2_psf_reserved)\n",
    "theta_psf_reserved = 0.5 * np.arctan(e2_psf_reserved/e1_psf_reserved)\n",
    "cx_psf_reserved = e_psf_reserved * np.cos(theta_psf_reserved) # x-component of the vector for the whisker plot\n",
    "cy_psf_reserved = e_psf_reserved * np.sin(theta_psf_reserved) # y-component of the vector for the whisker plot\n",
    "\n",
    "\n",
    "\n",
    "e1_star_reserved, e2_star_reserved = get_star_ellip(merged_cat_reserved)\n",
    "e_star_reserved = np.sqrt(e1_star_reserved*e1_star_reserved+e2_star_reserved*e2_star_reserved)\n",
    "theta_star_reserved = 0.5 * np.arctan(e2_star_reserved/e1_star_reserved)\n",
    "cx_star_reserved = e_star_reserved * np.cos(theta_star_reserved) # x-component of the vector for the whisker plot\n",
    "cy_star_reserved = e_star_reserved * np.sin(theta_star_reserved) # y-component of the vector for the whisker plot\n",
    "\n",
    "x_centroid, y_centroid =  merged_cat_reserved['i_centroid_x'], merged_cat_reserved['i_centroid_y']\n",
    "\n",
    "scale = 10000\n",
    "\n",
    "fig, ax = plt.subplots(nrows=1, ncols=3, figsize=(15,5))\n",
    "ax[0].quiver(x_centroid, y_centroid, scale*cx_star_reserved, scale*cy_star_reserved, angles='xy', color='black',\n",
    "           scale_units='xy', scale=1, headlength=0, headwidth=0, headaxislength=0,\n",
    "         label='PSF ellipticity')\n",
    "ax[0].set_title('Star ellipticity (from i_ixx, i_ixy, i_iyy)')\n",
    "\n",
    "ax[1].quiver(x_centroid, y_centroid, scale*cx_psf_reserved, scale*cy_psf_reserved, angles='xy', color='black',\n",
    "           scale_units='xy', scale=1, headlength=0, headwidth=0, headaxislength=0,\n",
    "         label='PSF ellipticity')\n",
    "ax[1].set_title('PSF model ellipticity (from i_ixxPSF, i_ixyPSF, i_iyyPSF)')\n",
    "\n",
    "ax[2].quiver(x_centroid, y_centroid, scale*(cx_star_reserved-cx_psf_reserved), scale*(cy_star_reserved-cy_psf_reserved), angles='xy', color='black',\n",
    "           scale_units='xy', scale=1, headlength=0, headwidth=0, headaxislength=0)\n",
    "\n",
    "ax[2].set_title('Star - PSF ellipticity residuals')\n"
   ]
  },
  {
   "cell_type": "markdown",
   "id": "c677e21a-bb39-4d5d-b800-cc1a88eff36c",
   "metadata": {},
   "source": [
    "## Histogram of the e1, e2 residuals in A360 field, for `used` and `reserved` stars"
   ]
  },
  {
   "cell_type": "code",
   "execution_count": null,
   "id": "286d8079-6843-45c2-bee4-8ad77cbf8c4f",
   "metadata": {},
   "outputs": [],
   "source": [
    "fig, ax = plt.subplots(nrows=1, ncols=2, figsize=(10,5))\n",
    "\n",
    "ax[0].hist((e1_star_used-e1_psf_used), bins=30, range=[-0.04, 0.04], density=True, alpha=0.2, label='used');\n",
    "ax[0].hist((e1_star_reserved-e1_psf_reserved), bins=30, range=[-0.04, 0.04], density=True, alpha=0.2, label='reserved')\n",
    "ax[0].set_xlabel('Image e1 - PSF e1')\n",
    "ax[0].set_xlabel(r'$\\delta e_1 = $ Image e1 - PSF e1')\n",
    "ax[0].legend()\n",
    "\n",
    "ax[1].hist((e2_star_used-e2_psf_used), bins=30, range=[-0.04, 0.04], density=True, alpha=0.2, label='used');\n",
    "ax[1].hist((e2_star_reserved-e2_psf_reserved), bins=30, range=[-0.04, 0.04], density=True, alpha=0.2, label='reserved')\n",
    "ax[1].set_xlabel(r'$\\delta e_2 = $ Image e2 - PSF e2')\n",
    "ax[1].legend()"
   ]
  },
  {
   "cell_type": "code",
   "execution_count": null,
   "id": "6f7c3335-37d4-4e70-a458-238010a4e29d",
   "metadata": {},
   "outputs": [],
   "source": []
  }
 ],
 "metadata": {
  "kernelspec": {
   "display_name": "LSST",
   "language": "python",
   "name": "lsst"
  },
  "language_info": {
   "codemirror_mode": {
    "name": "ipython",
    "version": 3
   },
   "file_extension": ".py",
   "mimetype": "text/x-python",
   "name": "python",
   "nbconvert_exporter": "python",
   "pygments_lexer": "ipython3",
   "version": "3.12.9"
  }
 },
 "nbformat": 4,
 "nbformat_minor": 5
}
