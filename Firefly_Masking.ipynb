{
 "cells": [
  {
   "cell_type": "markdown",
   "id": "8e39ee9b-3b4c-450d-b097-8bb1d880468e",
   "metadata": {},
   "source": [
    "# Region Hand-Masking with Firefly\n",
    "\n",
    "**Contact Author:** Ben Levine\n",
    "\\\n",
    "**Last verified to run:** 2025-07-18\n",
    "\\\n",
    "**LSST Science Piplines version:** Weekly 2025_17\n",
    "\\\n",
    "**Container Size:** small\n",
    "\n",
    "In this notebook we will use the Firefly image viewer to hand-mask regions of sky, saving these masked regions to a file."
   ]
  },
  {
   "cell_type": "code",
   "execution_count": null,
   "id": "8a15ae21-7909-4b71-b29f-63b20738dfa5",
   "metadata": {},
   "outputs": [],
   "source": [
    "import lsst.daf.butler as dafButler\n",
    "import lsst.afw.display as afwDisplay\n",
    "import numpy as np\n",
    "import lsst.geom\n",
    "import astropy.units as u"
   ]
  },
  {
   "cell_type": "code",
   "execution_count": null,
   "id": "14f4d257-2722-42c6-9f21-5e7e9dc0b595",
   "metadata": {},
   "outputs": [],
   "source": [
    "afwDisplay.setDefaultBackend('firefly')\n",
    "afw_display = afwDisplay.Display(frame=1)"
   ]
  },
  {
   "cell_type": "code",
   "execution_count": null,
   "id": "3814c74b-ce36-4992-a6c1-30c1b4790a53",
   "metadata": {},
   "outputs": [],
   "source": [
    "skymap_name =  'lsst_cells_v1'\n",
    "repo = 'dp1' #'/repo/main'\n",
    "collection = 'LSSTComCam/runs/DRP/DP1/v29_0_0/DM-50260'\n",
    "instrument = \"LSSTComCam\"\n",
    "\n",
    "butler = dafButler.Butler(repo, collections=collection, skymap=skymap_name, \n",
    "                                     instrument=instrument)"
   ]
  },
  {
   "cell_type": "markdown",
   "id": "3068ad60-f8bb-4ae3-8310-ea8d25f2c6c9",
   "metadata": {},
   "source": [
    "## There are two ways to select the viewing area:\n",
    "\n",
    "1. **Select from Coordinates**: insert the target RA and Dec into the *RA_DEG* and *DEC_DEG* fields below. The cell will automatically identify the image tract and patch to query.\n",
    "2. **Select from Tract/Patch**: insert the tract and patch id numbers into the *TRACT* and *PATCH* fields below."
   ]
  },
  {
   "cell_type": "code",
   "execution_count": null,
   "id": "3a7769c5-981a-43a2-a32a-64386a411a76",
   "metadata": {},
   "outputs": [],
   "source": [
    "SELECT_COORDINATES = False # Should we query based on the given coordinates? (Or based on a given tract and patch?)\n",
    "\n",
    "RA_DEG, DEC_DEG = 37.86501659859067, 6.982204815599694\n",
    "TRACT, PATCH = 10463, 81\n",
    "BAND = 'r' # <-- You can change the band here if you'd like.\n",
    "\n",
    "# -----------------------\n",
    "\n",
    "if SELECT_COORDINATES:\n",
    "    my_spherePoint = lsst.geom.SpherePoint(RA_DEG*lsst.geom.degrees,\n",
    "                                           DEC_DEG*lsst.geom.degrees)\n",
    "    skymap = butler.get('skyMap')\n",
    "    tract = skymap.findTract(my_spherePoint)\n",
    "    patch = tract.findPatch(my_spherePoint)\n",
    "    TRACT = tract.tract_id\n",
    "    PATCH = patch.getSequentialIndex()\n",
    "    \n",
    "print('tract id: ', TRACT)\n",
    "print('patch id: ', PATCH)\n",
    "coadd = butler.get(\"deep_coadd\", tract=TRACT, patch=PATCH, band=BAND) \n",
    "\n",
    "afw_display.mtv(coadd)"
   ]
  },
  {
   "cell_type": "markdown",
   "id": "c63ace63-beaf-42d0-a973-c4a0cb7d7153",
   "metadata": {},
   "source": [
    "## Instructions for Masking:\n",
    "\n",
    "At this point, you should have a second tab opened with the Firefly window showing. Adding a region marker is simple:\n",
    "\n",
    "1. Click the tool icon on the toolbar (upper right, has a picture of a hammer and wrench).\n",
    "2. In the dropdown menu, under the \"Layers\" row, click the rightmost icon (\"Overlay Markers and Instrument Footprints\"; shaped like a circle).\n",
    "3. In the new dropdown menu, click \"Add Marker.\"\n",
    "\n",
    "The marker can be moved an resized just as in DS9. You can add as many markers to the image as you like. \n",
    "\n",
    "Once finished, the region file can be saved as follows:\n",
    "\n",
    "1. Click the tool icon on the toolbar (upper right, has a picture of a hammer and wrench).\n",
    "2. In the dropdown menu, under the \"Save/Restore/Info\" row, click the leftmost icon (save).\n",
    "3. Select \"region file\" for the file type. Then click save.\n",
    "4. Send the completed region file to Ben Levine!\n",
    "\n",
    "**Extra tip:** The image overlays can be very distracting. You can turn them off in the \"Layers\" tab in the toolbar (upper right, has a picture of two squares kind of stacked on top of one another). "
   ]
  },
  {
   "cell_type": "markdown",
   "id": "66586748-3421-4278-afc2-3c14f443ea71",
   "metadata": {},
   "source": [
    "### Catalog overlay"
   ]
  },
  {
   "cell_type": "code",
   "execution_count": null,
   "id": "2d0739e3-0d9a-4100-a7a3-4a857f4ed5d5",
   "metadata": {},
   "outputs": [],
   "source": [
    "# Might need to update some of these flag names\n",
    "\n",
    "obj_cols = [f'{BAND}_centroid_x', f'{BAND}_centroid_y', f'{BAND}_cModelFlux', f'{BAND}_gaap1p0Flux',\n",
    "            'detect_isPrimary', 'detect_isTractInner', 'merge_peak_sky', 'detect_isDeblendedSource', #this row might need to be removed\n",
    "            f'{BAND}_centroid_flag', f'{BAND}_cModel_flag', f'{BAND}_gaapFlux_flag',\n",
    "            f'{BAND}_extendedness', 'refExtendedness']"
   ]
  },
  {
   "cell_type": "code",
   "execution_count": null,
   "id": "4d6c8dcb-bd4f-4e38-8ee1-e5248d53050a",
   "metadata": {},
   "outputs": [],
   "source": [
    "obj = butler.get(\"object_patch\", tract=TRACT, patch=PATCH, band=BAND,\n",
    "                     skymap='lsst_cells_v1', parameters={\"columns\":obj_cols})"
   ]
  },
  {
   "cell_type": "code",
   "execution_count": null,
   "id": "8a8e4204-a8d7-4a5d-a4aa-a679c8d8e82e",
   "metadata": {},
   "outputs": [],
   "source": [
    "band_mag = u.nJy.to(u.ABmag, obj[f'{BAND}_gaap1p0Flux'])\n",
    "# band_mag = u.nJy.to(u.ABmag, obj[f'{BAND}_cModelFlux'])"
   ]
  },
  {
   "cell_type": "code",
   "execution_count": null,
   "id": "9362b928-b949-4a51-af4a-be40355a89f7",
   "metadata": {},
   "outputs": [],
   "source": [
    "# Combine multiple filters with .reduce\n",
    "good_obj = np.logical_and.reduce((~obj['merge_peak_sky'], ~obj[f'{BAND}_gaapFlux_flag'],\n",
    "                                  obj['detect_isDeblendedSource'], band_mag<=27, obj['refExtendedness']==1))\n",
    "primary_obj = obj[good_obj]"
   ]
  },
  {
   "cell_type": "code",
   "execution_count": null,
   "id": "762152bc-4d2b-4b99-a56a-db161d243773",
   "metadata": {},
   "outputs": [],
   "source": [
    "afw_display.erase()"
   ]
  },
  {
   "cell_type": "code",
   "execution_count": null,
   "id": "3f71af28-4c00-4c78-99a3-71b85b4158b9",
   "metadata": {},
   "outputs": [],
   "source": [
    "rx = primary_obj['r_centroid_x'].astype(int)\n",
    "ry = primary_obj['r_centroid_y'].astype(int)\n",
    "\n",
    "with afw_display.Buffering():\n",
    "    for i in range(len(rx)):\n",
    "        afw_display.dot('o', rx[i], ry[i], size=5, ctype='red')"
   ]
  },
  {
   "cell_type": "code",
   "execution_count": null,
   "id": "c03128cc-305a-449a-8cb2-43b15e6e26d0",
   "metadata": {},
   "outputs": [],
   "source": []
  },
  {
   "cell_type": "code",
   "execution_count": null,
   "id": "cdd7cfc7-5e55-4bdf-b2f5-3d2014296d48",
   "metadata": {},
   "outputs": [],
   "source": []
  }
 ],
 "metadata": {
  "kernelspec": {
   "display_name": "LSST",
   "language": "python",
   "name": "lsst"
  },
  "language_info": {
   "codemirror_mode": {
    "name": "ipython",
    "version": 3
   },
   "file_extension": ".py",
   "mimetype": "text/x-python",
   "name": "python",
   "nbconvert_exporter": "python",
   "pygments_lexer": "ipython3",
   "version": "3.12.11"
  }
 },
 "nbformat": 4,
 "nbformat_minor": 5
}
