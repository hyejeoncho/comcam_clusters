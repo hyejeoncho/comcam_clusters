{
 "cells": [
  {
   "cell_type": "markdown",
   "id": "8e39ee9b-3b4c-450d-b097-8bb1d880468e",
   "metadata": {},
   "source": [
    "# Region Hand-Masking with Firefly\n",
    "\n",
    "**Contact Author:** Ben Levine\n",
    "\\\n",
    "**Last verified to run:** 2025-07-18\n",
    "\\\n",
    "**LSST Science Piplines version:** Weekly 2025_17\n",
    "\\\n",
    "**Container Size:** small\n",
    "\n",
    "In this notebook we will use the Firefly image viewer to hand-mask regions of sky, saving these masked regions to a file."
   ]
  },
  {
   "cell_type": "code",
   "execution_count": 1,
   "id": "8a15ae21-7909-4b71-b29f-63b20738dfa5",
   "metadata": {
    "execution": {
     "iopub.execute_input": "2025-06-18T02:13:07.579149Z",
     "iopub.status.busy": "2025-06-18T02:13:07.578809Z",
     "iopub.status.idle": "2025-06-18T02:13:08.990496Z",
     "shell.execute_reply": "2025-06-18T02:13:08.989729Z",
     "shell.execute_reply.started": "2025-06-18T02:13:07.579131Z"
    }
   },
   "outputs": [],
   "source": [
    "import lsst.daf.butler as dafButler\n",
    "import lsst.afw.display as afwDisplay\n",
    "import numpy as np\n",
    "import lsst.geom"
   ]
  },
  {
   "cell_type": "code",
   "execution_count": 2,
   "id": "14f4d257-2722-42c6-9f21-5e7e9dc0b595",
   "metadata": {
    "execution": {
     "iopub.execute_input": "2025-06-18T02:13:08.992211Z",
     "iopub.status.busy": "2025-06-18T02:13:08.991681Z",
     "iopub.status.idle": "2025-06-18T02:13:09.098645Z",
     "shell.execute_reply": "2025-06-18T02:13:09.098138Z",
     "shell.execute_reply.started": "2025-06-18T02:13:08.992194Z"
    }
   },
   "outputs": [],
   "source": [
    "afwDisplay.setDefaultBackend('firefly')\n",
    "afw_display = afwDisplay.Display(frame=1)"
   ]
  },
  {
   "cell_type": "code",
   "execution_count": 3,
   "id": "3814c74b-ce36-4992-a6c1-30c1b4790a53",
   "metadata": {
    "execution": {
     "iopub.execute_input": "2025-06-18T02:13:09.099583Z",
     "iopub.status.busy": "2025-06-18T02:13:09.099177Z",
     "iopub.status.idle": "2025-06-18T02:13:09.397458Z",
     "shell.execute_reply": "2025-06-18T02:13:09.396967Z",
     "shell.execute_reply.started": "2025-06-18T02:13:09.099565Z"
    }
   },
   "outputs": [],
   "source": [
    "skymap_name =  'lsst_cells_v1'\n",
    "repo = 'dp1' #'/repo/main'\n",
    "collection = 'LSSTComCam/runs/DRP/DP1/v29_0_0/DM-50260'\n",
    "instrument = \"LSSTComCam\"\n",
    "\n",
    "butler = dafButler.Butler(repo, collections=collection, skymap=skymap_name, \n",
    "                                     instrument=instrument)"
   ]
  },
  {
   "cell_type": "markdown",
   "id": "3068ad60-f8bb-4ae3-8310-ea8d25f2c6c9",
   "metadata": {},
   "source": [
    "## There are two ways to select the viewing area:\n",
    "\n",
    "1. **Select from Coordinates**: insert the target RA and Dec into the *RA_DEG* and *DEC_DEG* fields below. The cell will automatically identify the image tract and patch to query.\n",
    "2. **Select from Tract/Patch**: insert the tract and patch id numbers into the *TRACT* and *PATCH* fields below."
   ]
  },
  {
   "cell_type": "code",
   "execution_count": 4,
   "id": "3a7769c5-981a-43a2-a32a-64386a411a76",
   "metadata": {
    "execution": {
     "iopub.execute_input": "2025-06-18T02:13:12.427096Z",
     "iopub.status.busy": "2025-06-18T02:13:12.426664Z",
     "iopub.status.idle": "2025-06-18T02:13:16.130415Z",
     "shell.execute_reply": "2025-06-18T02:13:16.129923Z",
     "shell.execute_reply.started": "2025-06-18T02:13:12.427077Z"
    }
   },
   "outputs": [
    {
     "name": "stdout",
     "output_type": "stream",
     "text": [
      "tract id:  10463\n",
      "patch id:  61\n"
     ]
    }
   ],
   "source": [
    "SELECT_COORDINATES = True # Should we query based on the given coordinates? (Or based on a given tract and patch?)\n",
    "\n",
    "RA_DEG, DEC_DEG = 37.86501659859067, 6.982204815599694\n",
    "TRACT, PATCH = 10463, 61\n",
    "\n",
    "# -----------------------\n",
    "\n",
    "if SELECT_COORDINATES:\n",
    "    my_spherePoint = lsst.geom.SpherePoint(RA_DEG*lsst.geom.degrees,\n",
    "                                           DEC_DEG*lsst.geom.degrees)\n",
    "    skymap = butler.get('skyMap')\n",
    "    tract = skymap.findTract(my_spherePoint)\n",
    "    patch = tract.findPatch(my_spherePoint)\n",
    "    TRACT = tract.tract_id\n",
    "    PATCH = patch.getSequentialIndex()\n",
    "    \n",
    "print('tract id: ', TRACT)\n",
    "print('patch id: ', PATCH)\n",
    "coadd = butler.get(\"deep_coadd\", tract=TRACT, patch=PATCH, band='r') # <-- You can change the band here if you'd like.\n",
    "afw_display.mtv(coadd)"
   ]
  },
  {
   "cell_type": "markdown",
   "id": "c63ace63-beaf-42d0-a973-c4a0cb7d7153",
   "metadata": {},
   "source": [
    "## Instructions for Masking:\n",
    "\n",
    "At this point, you should have a second tab opened with the Firefly window showing. Adding a region marker is simple:\n",
    "\n",
    "1. Click the tool icon on the toolbar (upper right, has a picture of a hammer and wrench).\n",
    "2. In the dropdown menu, under the \"Layers\" row, click the rightmost icon (\"Overlay Markers and Instrument Footprints\"; shaped like a circle).\n",
    "3. In the new dropdown menu, click \"Add Marker.\"\n",
    "\n",
    "The marker can be moved an resized just as in DS9. You can add as many markers to the image as you like. \n",
    "\n",
    "Once finished, the region file can be saved as follows:\n",
    "\n",
    "1. Click the tool icon on the toolbar (upper right, has a picture of a hammer and wrench).\n",
    "2. In the dropdown menu, under the \"Save/Restore/Info\" row, click the leftmost icon (save).\n",
    "3. Select \"region file\" for the file type. Then click save.\n",
    "4. Send the completed region file to Ben Levine!\n",
    "\n",
    "**Extra tip:** The image overlays can be very distracting. You can turn them off in the \"Layers\" tab in the toolbar (upper right, has a picture of two squares kind of stacked on top of one another). "
   ]
  },
  {
   "cell_type": "code",
   "execution_count": null,
   "id": "6235a6c9-e3f8-42cc-95a5-7f2e6e54e61c",
   "metadata": {},
   "outputs": [],
   "source": []
  }
 ],
 "metadata": {
  "kernelspec": {
   "display_name": "LSST",
   "language": "python",
   "name": "lsst"
  },
  "language_info": {
   "codemirror_mode": {
    "name": "ipython",
    "version": 3
   },
   "file_extension": ".py",
   "mimetype": "text/x-python",
   "name": "python",
   "nbconvert_exporter": "python",
   "pygments_lexer": "ipython3",
   "version": "3.12.10"
  }
 },
 "nbformat": 4,
 "nbformat_minor": 5
}
